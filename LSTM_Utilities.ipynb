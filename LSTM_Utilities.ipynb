{
 "cells": [
  {
   "cell_type": "code",
   "execution_count": 1,
   "id": "971deb34-dd4d-451f-bded-9002057c910c",
   "metadata": {},
   "outputs": [],
   "source": [
    "import pandas as pd\n",
    "import numpy as np\n",
    "from keras.models import Sequential\n",
    "from keras.layers import Dense\n",
    "from keras.layers import LSTM\n",
    "from keras.layers import Dropout\n",
    "from sklearn.preprocessing import MinMaxScaler\n",
    "from sklearn.model_selection import train_test_split\n",
    "from sklearn.metrics import mean_absolute_error, mean_squared_error\n",
    "import matplotlib.pyplot as plt\n",
    "import datetime\n",
    "from sklearn.metrics import mean_absolute_error, mean_squared_error, r2_score"
   ]
  },
  {
   "cell_type": "code",
   "execution_count": 2,
   "id": "85b5468b-bb08-4696-99b9-d8b4c5122db4",
   "metadata": {},
   "outputs": [],
   "source": [
    "df = pd.read_excel(\"Retail_data_final.xlsx\")"
   ]
  },
  {
   "cell_type": "code",
   "execution_count": 3,
   "id": "e4a10dd5-91d6-436e-80fc-d4730d8f9a38",
   "metadata": {},
   "outputs": [
    {
     "data": {
      "text/html": [
       "<div>\n",
       "<style scoped>\n",
       "    .dataframe tbody tr th:only-of-type {\n",
       "        vertical-align: middle;\n",
       "    }\n",
       "\n",
       "    .dataframe tbody tr th {\n",
       "        vertical-align: top;\n",
       "    }\n",
       "\n",
       "    .dataframe thead th {\n",
       "        text-align: right;\n",
       "    }\n",
       "</style>\n",
       "<table border=\"1\" class=\"dataframe\">\n",
       "  <thead>\n",
       "    <tr style=\"text-align: right;\">\n",
       "      <th></th>\n",
       "      <th>Date</th>\n",
       "      <th>utility_Michigan</th>\n",
       "      <th>Utility_Texas</th>\n",
       "      <th>Gasoloine_Michigan</th>\n",
       "      <th>Gasoline_Texas</th>\n",
       "      <th>Electricity_michigan</th>\n",
       "      <th>Electricity_texas</th>\n",
       "    </tr>\n",
       "  </thead>\n",
       "  <tbody>\n",
       "    <tr>\n",
       "      <th>0</th>\n",
       "      <td>2000-01-01</td>\n",
       "      <td>0.520</td>\n",
       "      <td>0.571</td>\n",
       "      <td>1.374</td>\n",
       "      <td>1.296</td>\n",
       "      <td>0.097</td>\n",
       "      <td>0.071</td>\n",
       "    </tr>\n",
       "    <tr>\n",
       "      <th>1</th>\n",
       "      <td>2000-02-01</td>\n",
       "      <td>0.520</td>\n",
       "      <td>0.571</td>\n",
       "      <td>1.453</td>\n",
       "      <td>1.363</td>\n",
       "      <td>0.097</td>\n",
       "      <td>0.071</td>\n",
       "    </tr>\n",
       "    <tr>\n",
       "      <th>2</th>\n",
       "      <td>2000-03-01</td>\n",
       "      <td>0.521</td>\n",
       "      <td>0.604</td>\n",
       "      <td>1.592</td>\n",
       "      <td>1.524</td>\n",
       "      <td>0.097</td>\n",
       "      <td>0.071</td>\n",
       "    </tr>\n",
       "    <tr>\n",
       "      <th>3</th>\n",
       "      <td>2000-04-01</td>\n",
       "      <td>0.521</td>\n",
       "      <td>0.604</td>\n",
       "      <td>1.429</td>\n",
       "      <td>1.507</td>\n",
       "      <td>0.097</td>\n",
       "      <td>0.071</td>\n",
       "    </tr>\n",
       "    <tr>\n",
       "      <th>4</th>\n",
       "      <td>2000-05-01</td>\n",
       "      <td>0.520</td>\n",
       "      <td>0.604</td>\n",
       "      <td>1.492</td>\n",
       "      <td>1.488</td>\n",
       "      <td>0.097</td>\n",
       "      <td>0.087</td>\n",
       "    </tr>\n",
       "    <tr>\n",
       "      <th>...</th>\n",
       "      <td>...</td>\n",
       "      <td>...</td>\n",
       "      <td>...</td>\n",
       "      <td>...</td>\n",
       "      <td>...</td>\n",
       "      <td>...</td>\n",
       "      <td>...</td>\n",
       "    </tr>\n",
       "    <tr>\n",
       "      <th>283</th>\n",
       "      <td>2023-08-01</td>\n",
       "      <td>1.121</td>\n",
       "      <td>1.060</td>\n",
       "      <td>3.869</td>\n",
       "      <td>3.477</td>\n",
       "      <td>0.204</td>\n",
       "      <td>0.182</td>\n",
       "    </tr>\n",
       "    <tr>\n",
       "      <th>284</th>\n",
       "      <td>2023-09-01</td>\n",
       "      <td>1.144</td>\n",
       "      <td>1.060</td>\n",
       "      <td>3.804</td>\n",
       "      <td>3.396</td>\n",
       "      <td>0.202</td>\n",
       "      <td>0.177</td>\n",
       "    </tr>\n",
       "    <tr>\n",
       "      <th>285</th>\n",
       "      <td>2023-10-01</td>\n",
       "      <td>1.159</td>\n",
       "      <td>1.060</td>\n",
       "      <td>3.563</td>\n",
       "      <td>3.170</td>\n",
       "      <td>0.195</td>\n",
       "      <td>0.179</td>\n",
       "    </tr>\n",
       "    <tr>\n",
       "      <th>286</th>\n",
       "      <td>2023-11-01</td>\n",
       "      <td>1.169</td>\n",
       "      <td>1.060</td>\n",
       "      <td>3.403</td>\n",
       "      <td>2.888</td>\n",
       "      <td>0.143</td>\n",
       "      <td>0.178</td>\n",
       "    </tr>\n",
       "    <tr>\n",
       "      <th>287</th>\n",
       "      <td>2023-12-01</td>\n",
       "      <td>1.166</td>\n",
       "      <td>1.060</td>\n",
       "      <td>3.131</td>\n",
       "      <td>2.708</td>\n",
       "      <td>0.143</td>\n",
       "      <td>0.178</td>\n",
       "    </tr>\n",
       "  </tbody>\n",
       "</table>\n",
       "<p>288 rows × 7 columns</p>\n",
       "</div>"
      ],
      "text/plain": [
       "          Date  utility_Michigan  Utility_Texas  Gasoloine_Michigan  \\\n",
       "0   2000-01-01             0.520          0.571               1.374   \n",
       "1   2000-02-01             0.520          0.571               1.453   \n",
       "2   2000-03-01             0.521          0.604               1.592   \n",
       "3   2000-04-01             0.521          0.604               1.429   \n",
       "4   2000-05-01             0.520          0.604               1.492   \n",
       "..         ...               ...            ...                 ...   \n",
       "283 2023-08-01             1.121          1.060               3.869   \n",
       "284 2023-09-01             1.144          1.060               3.804   \n",
       "285 2023-10-01             1.159          1.060               3.563   \n",
       "286 2023-11-01             1.169          1.060               3.403   \n",
       "287 2023-12-01             1.166          1.060               3.131   \n",
       "\n",
       "     Gasoline_Texas  Electricity_michigan  Electricity_texas  \n",
       "0             1.296                 0.097              0.071  \n",
       "1             1.363                 0.097              0.071  \n",
       "2             1.524                 0.097              0.071  \n",
       "3             1.507                 0.097              0.071  \n",
       "4             1.488                 0.097              0.087  \n",
       "..              ...                   ...                ...  \n",
       "283           3.477                 0.204              0.182  \n",
       "284           3.396                 0.202              0.177  \n",
       "285           3.170                 0.195              0.179  \n",
       "286           2.888                 0.143              0.178  \n",
       "287           2.708                 0.143              0.178  \n",
       "\n",
       "[288 rows x 7 columns]"
      ]
     },
     "execution_count": 3,
     "metadata": {},
     "output_type": "execute_result"
    }
   ],
   "source": [
    "df"
   ]
  },
  {
   "cell_type": "code",
   "execution_count": 4,
   "id": "7a1296eb-6c8e-49e8-a5ec-a547e405792e",
   "metadata": {},
   "outputs": [
    {
     "name": "stdout",
     "output_type": "stream",
     "text": [
      "<class 'pandas.core.frame.DataFrame'>\n",
      "RangeIndex: 288 entries, 0 to 287\n",
      "Data columns (total 7 columns):\n",
      " #   Column                Non-Null Count  Dtype         \n",
      "---  ------                --------------  -----         \n",
      " 0   Date                  288 non-null    datetime64[ns]\n",
      " 1   utility_Michigan      288 non-null    float64       \n",
      " 2   Utility_Texas         288 non-null    float64       \n",
      " 3   Gasoloine_Michigan    288 non-null    float64       \n",
      " 4   Gasoline_Texas        288 non-null    float64       \n",
      " 5   Electricity_michigan  288 non-null    float64       \n",
      " 6   Electricity_texas     288 non-null    float64       \n",
      "dtypes: datetime64[ns](1), float64(6)\n",
      "memory usage: 15.9 KB\n"
     ]
    }
   ],
   "source": [
    "df.info()"
   ]
  },
  {
   "cell_type": "markdown",
   "id": "d21048c0-7eb7-431b-80b8-44c2f0a4de55",
   "metadata": {},
   "source": [
    "# Utility"
   ]
  },
  {
   "cell_type": "markdown",
   "id": "985e7174-fbde-40da-86ce-a0c8c7f19773",
   "metadata": {},
   "source": [
    "### Michigan"
   ]
  },
  {
   "cell_type": "code",
   "execution_count": 5,
   "id": "3788ba43-72a7-4f12-babd-95108c306916",
   "metadata": {},
   "outputs": [],
   "source": [
    "# Select the target column (utility_Michigan in this case)\n",
    "target_column = 'utility_Michigan'\n",
    "\n",
    "# Normalize the data\n",
    "scaler = MinMaxScaler()\n",
    "scaled_data = scaler.fit_transform(df[[target_column]])\n",
    "\n",
    "# Split data into training and testing sets\n",
    "train_size = int(len(scaled_data) * 0.8)\n",
    "train_data, test_data = scaled_data[:train_size], scaled_data[train_size:]\n",
    "\n",
    "# Prepare the data for LSTM\n",
    "def create_dataset(data, time_steps=1):\n",
    "    X, y = [], []\n",
    "    for i in range(len(data) - time_steps):\n",
    "        X.append(data[i:(i + time_steps)])\n",
    "        y.append(data[i + time_steps])\n",
    "    return np.array(X), np.array(y)\n",
    "\n",
    "time_steps = 12  # You can adjust the time steps as needed\n",
    "X_train, y_train = create_dataset(train_data, time_steps)\n",
    "X_test, y_test = create_dataset(test_data, time_steps)\n",
    "\n",
    "# Reshape data for LSTM\n",
    "X_train = np.reshape(X_train, (X_train.shape[0], X_train.shape[1], 1))\n",
    "X_test = np.reshape(X_test, (X_test.shape[0], X_test.shape[1], 1))"
   ]
  },
  {
   "cell_type": "code",
   "execution_count": 6,
   "id": "74ad3d33-0ef9-48f8-928a-882c60e89147",
   "metadata": {},
   "outputs": [
    {
     "name": "stdout",
     "output_type": "stream",
     "text": [
      "Epoch 1/100\n",
      "7/7 [==============================] - 3s 10ms/step - loss: 0.1917\n",
      "Epoch 2/100\n",
      "7/7 [==============================] - 0s 9ms/step - loss: 0.0308\n",
      "Epoch 3/100\n",
      "7/7 [==============================] - 0s 15ms/step - loss: 0.0208\n",
      "Epoch 4/100\n",
      "7/7 [==============================] - 0s 18ms/step - loss: 0.0098\n",
      "Epoch 5/100\n",
      "7/7 [==============================] - 0s 18ms/step - loss: 0.0114\n",
      "Epoch 6/100\n",
      "7/7 [==============================] - 0s 16ms/step - loss: 0.0079\n",
      "Epoch 7/100\n",
      "7/7 [==============================] - 0s 16ms/step - loss: 0.0077\n",
      "Epoch 8/100\n",
      "7/7 [==============================] - 0s 16ms/step - loss: 0.0070\n",
      "Epoch 9/100\n",
      "7/7 [==============================] - 0s 16ms/step - loss: 0.0068\n",
      "Epoch 10/100\n",
      "7/7 [==============================] - 0s 13ms/step - loss: 0.0064\n",
      "Epoch 11/100\n",
      "7/7 [==============================] - 0s 16ms/step - loss: 0.0063\n",
      "Epoch 12/100\n",
      "7/7 [==============================] - 0s 17ms/step - loss: 0.0062\n",
      "Epoch 13/100\n",
      "7/7 [==============================] - 0s 16ms/step - loss: 0.0061\n",
      "Epoch 14/100\n",
      "7/7 [==============================] - 0s 18ms/step - loss: 0.0061\n",
      "Epoch 15/100\n",
      "7/7 [==============================] - 0s 16ms/step - loss: 0.0060\n",
      "Epoch 16/100\n",
      "7/7 [==============================] - 0s 16ms/step - loss: 0.0059\n",
      "Epoch 17/100\n",
      "7/7 [==============================] - 0s 16ms/step - loss: 0.0059\n",
      "Epoch 18/100\n",
      "7/7 [==============================] - 0s 16ms/step - loss: 0.0059\n",
      "Epoch 19/100\n",
      "7/7 [==============================] - 0s 16ms/step - loss: 0.0058\n",
      "Epoch 20/100\n",
      "7/7 [==============================] - 0s 16ms/step - loss: 0.0057\n",
      "Epoch 21/100\n",
      "7/7 [==============================] - 0s 18ms/step - loss: 0.0058\n",
      "Epoch 22/100\n",
      "7/7 [==============================] - 0s 16ms/step - loss: 0.0057\n",
      "Epoch 23/100\n",
      "7/7 [==============================] - 0s 19ms/step - loss: 0.0055\n",
      "Epoch 24/100\n",
      "7/7 [==============================] - 0s 16ms/step - loss: 0.0056\n",
      "Epoch 25/100\n",
      "7/7 [==============================] - 0s 16ms/step - loss: 0.0055\n",
      "Epoch 26/100\n",
      "7/7 [==============================] - 0s 16ms/step - loss: 0.0054\n",
      "Epoch 27/100\n",
      "7/7 [==============================] - 0s 17ms/step - loss: 0.0054\n",
      "Epoch 28/100\n",
      "7/7 [==============================] - 0s 9ms/step - loss: 0.0053\n",
      "Epoch 29/100\n",
      "7/7 [==============================] - 0s 10ms/step - loss: 0.0052\n",
      "Epoch 30/100\n",
      "7/7 [==============================] - 0s 10ms/step - loss: 0.0051\n",
      "Epoch 31/100\n",
      "7/7 [==============================] - 0s 11ms/step - loss: 0.0050\n",
      "Epoch 32/100\n",
      "7/7 [==============================] - 0s 14ms/step - loss: 0.0050\n",
      "Epoch 33/100\n",
      "7/7 [==============================] - 0s 11ms/step - loss: 0.0049\n",
      "Epoch 34/100\n",
      "7/7 [==============================] - 0s 10ms/step - loss: 0.0049\n",
      "Epoch 35/100\n",
      "7/7 [==============================] - 0s 13ms/step - loss: 0.0048\n",
      "Epoch 36/100\n",
      "7/7 [==============================] - 0s 13ms/step - loss: 0.0047\n",
      "Epoch 37/100\n",
      "7/7 [==============================] - 0s 12ms/step - loss: 0.0046\n",
      "Epoch 38/100\n",
      "7/7 [==============================] - 0s 10ms/step - loss: 0.0045\n",
      "Epoch 39/100\n",
      "7/7 [==============================] - 0s 8ms/step - loss: 0.0043\n",
      "Epoch 40/100\n",
      "7/7 [==============================] - 0s 10ms/step - loss: 0.0044\n",
      "Epoch 41/100\n",
      "7/7 [==============================] - 0s 9ms/step - loss: 0.0042\n",
      "Epoch 42/100\n",
      "7/7 [==============================] - 0s 9ms/step - loss: 0.0042\n",
      "Epoch 43/100\n",
      "7/7 [==============================] - 0s 8ms/step - loss: 0.0039\n",
      "Epoch 44/100\n",
      "7/7 [==============================] - 0s 12ms/step - loss: 0.0039\n",
      "Epoch 45/100\n",
      "7/7 [==============================] - 0s 10ms/step - loss: 0.0041\n",
      "Epoch 46/100\n",
      "7/7 [==============================] - 0s 10ms/step - loss: 0.0044\n",
      "Epoch 47/100\n",
      "7/7 [==============================] - 0s 7ms/step - loss: 0.0037\n",
      "Epoch 48/100\n",
      "7/7 [==============================] - 0s 11ms/step - loss: 0.0036\n",
      "Epoch 49/100\n",
      "7/7 [==============================] - 0s 8ms/step - loss: 0.0036\n",
      "Epoch 50/100\n",
      "7/7 [==============================] - 0s 13ms/step - loss: 0.0035\n",
      "Epoch 51/100\n",
      "7/7 [==============================] - 0s 13ms/step - loss: 0.0037\n",
      "Epoch 52/100\n",
      "7/7 [==============================] - 0s 14ms/step - loss: 0.0036\n",
      "Epoch 53/100\n",
      "7/7 [==============================] - 0s 9ms/step - loss: 0.0038\n",
      "Epoch 54/100\n",
      "7/7 [==============================] - 0s 11ms/step - loss: 0.0035\n",
      "Epoch 55/100\n",
      "7/7 [==============================] - 0s 12ms/step - loss: 0.0036\n",
      "Epoch 56/100\n",
      "7/7 [==============================] - 0s 13ms/step - loss: 0.0036\n",
      "Epoch 57/100\n",
      "7/7 [==============================] - 0s 12ms/step - loss: 0.0038\n",
      "Epoch 58/100\n",
      "7/7 [==============================] - 0s 11ms/step - loss: 0.0034\n",
      "Epoch 59/100\n",
      "7/7 [==============================] - 0s 13ms/step - loss: 0.0032\n",
      "Epoch 60/100\n",
      "7/7 [==============================] - 0s 7ms/step - loss: 0.0032\n",
      "Epoch 61/100\n",
      "7/7 [==============================] - 0s 13ms/step - loss: 0.0036\n",
      "Epoch 62/100\n",
      "7/7 [==============================] - 0s 13ms/step - loss: 0.0034\n",
      "Epoch 63/100\n",
      "7/7 [==============================] - 0s 11ms/step - loss: 0.0031\n",
      "Epoch 64/100\n",
      "7/7 [==============================] - 0s 12ms/step - loss: 0.0031\n",
      "Epoch 65/100\n",
      "7/7 [==============================] - 0s 13ms/step - loss: 0.0032\n",
      "Epoch 66/100\n",
      "7/7 [==============================] - 0s 13ms/step - loss: 0.0031\n",
      "Epoch 67/100\n",
      "7/7 [==============================] - 0s 16ms/step - loss: 0.0029\n",
      "Epoch 68/100\n",
      "7/7 [==============================] - 0s 13ms/step - loss: 0.0029\n",
      "Epoch 69/100\n",
      "7/7 [==============================] - 0s 13ms/step - loss: 0.0028\n",
      "Epoch 70/100\n",
      "7/7 [==============================] - 0s 16ms/step - loss: 0.0027\n",
      "Epoch 71/100\n",
      "7/7 [==============================] - 0s 16ms/step - loss: 0.0027\n",
      "Epoch 72/100\n",
      "7/7 [==============================] - 0s 16ms/step - loss: 0.0027\n",
      "Epoch 73/100\n",
      "7/7 [==============================] - 0s 18ms/step - loss: 0.0026\n",
      "Epoch 74/100\n",
      "7/7 [==============================] - 0s 16ms/step - loss: 0.0026\n",
      "Epoch 75/100\n",
      "7/7 [==============================] - 0s 16ms/step - loss: 0.0025\n",
      "Epoch 76/100\n",
      "7/7 [==============================] - 0s 16ms/step - loss: 0.0024\n",
      "Epoch 77/100\n",
      "7/7 [==============================] - 0s 14ms/step - loss: 0.0025\n",
      "Epoch 78/100\n",
      "7/7 [==============================] - 0s 19ms/step - loss: 0.0027\n",
      "Epoch 79/100\n",
      "7/7 [==============================] - 0s 16ms/step - loss: 0.0023\n",
      "Epoch 80/100\n",
      "7/7 [==============================] - 0s 16ms/step - loss: 0.0024\n",
      "Epoch 81/100\n",
      "7/7 [==============================] - 0s 18ms/step - loss: 0.0024\n",
      "Epoch 82/100\n",
      "7/7 [==============================] - 0s 16ms/step - loss: 0.0023\n",
      "Epoch 83/100\n",
      "7/7 [==============================] - 0s 16ms/step - loss: 0.0022\n",
      "Epoch 84/100\n",
      "7/7 [==============================] - 0s 16ms/step - loss: 0.0023\n",
      "Epoch 85/100\n",
      "7/7 [==============================] - 0s 16ms/step - loss: 0.0022\n",
      "Epoch 86/100\n",
      "7/7 [==============================] - 0s 18ms/step - loss: 0.0022\n",
      "Epoch 87/100\n",
      "7/7 [==============================] - 0s 16ms/step - loss: 0.0021\n",
      "Epoch 88/100\n",
      "7/7 [==============================] - 0s 16ms/step - loss: 0.0022\n",
      "Epoch 89/100\n",
      "7/7 [==============================] - 0s 16ms/step - loss: 0.0022\n",
      "Epoch 90/100\n",
      "7/7 [==============================] - 0s 16ms/step - loss: 0.0019\n",
      "Epoch 91/100\n",
      "7/7 [==============================] - 0s 16ms/step - loss: 0.0020\n",
      "Epoch 92/100\n",
      "7/7 [==============================] - 0s 16ms/step - loss: 0.0022\n",
      "Epoch 93/100\n",
      "7/7 [==============================] - 0s 16ms/step - loss: 0.0021\n",
      "Epoch 94/100\n",
      "7/7 [==============================] - 0s 18ms/step - loss: 0.0021\n",
      "Epoch 95/100\n",
      "7/7 [==============================] - 0s 16ms/step - loss: 0.0019\n",
      "Epoch 96/100\n",
      "7/7 [==============================] - 0s 16ms/step - loss: 0.0019\n",
      "Epoch 97/100\n",
      "7/7 [==============================] - 0s 16ms/step - loss: 0.0019\n",
      "Epoch 98/100\n",
      "7/7 [==============================] - 0s 16ms/step - loss: 0.0019\n",
      "Epoch 99/100\n",
      "7/7 [==============================] - 0s 16ms/step - loss: 0.0019\n",
      "Epoch 100/100\n",
      "7/7 [==============================] - 0s 16ms/step - loss: 0.0020\n",
      "7/7 [==============================] - 1s 8ms/step\n",
      "2/2 [==============================] - 0s 0s/step\n"
     ]
    }
   ],
   "source": [
    "# Define the LSTM model\n",
    "model = Sequential()\n",
    "model.add(LSTM(units=50, return_sequences=True, input_shape=(X_train.shape[1], 1)))\n",
    "model.add(LSTM(units=50))\n",
    "model.add(Dense(units=1))\n",
    "model.compile(optimizer='adam', loss='mean_squared_error')\n",
    "\n",
    "# Train the model\n",
    "model.fit(X_train, y_train, epochs=100, batch_size=32)\n",
    "\n",
    "# Make predictions\n",
    "train_predictions = model.predict(X_train)\n",
    "test_predictions = model.predict(X_test)"
   ]
  },
  {
   "cell_type": "code",
   "execution_count": 7,
   "id": "2849e274-b10a-409d-bbe0-35c4b754b8ce",
   "metadata": {},
   "outputs": [
    {
     "name": "stdout",
     "output_type": "stream",
     "text": [
      "Train RMSE: 0.04964298615711865\n",
      "Test RMSE: 0.14234921343764037\n",
      "Train MAE: 0.03409729342723111\n",
      "Test MAE: 0.10093720050480053\n"
     ]
    }
   ],
   "source": [
    "# Inverse transform the predictions\n",
    "train_predictions = scaler.inverse_transform(train_predictions)\n",
    "test_predictions = scaler.inverse_transform(test_predictions)\n",
    "y_train = scaler.inverse_transform(y_train)\n",
    "y_test = scaler.inverse_transform(y_test)\n",
    "\n",
    "# Calculate accuracy metrics\n",
    "train_rmse = np.sqrt(mean_squared_error(y_train, train_predictions))\n",
    "test_rmse = np.sqrt(mean_squared_error(y_test, test_predictions))\n",
    "train_mae = mean_absolute_error(y_train, train_predictions)\n",
    "test_mae = mean_absolute_error(y_test, test_predictions)\n",
    "\n",
    "print(\"Train RMSE:\", train_rmse)\n",
    "print(\"Test RMSE:\", test_rmse)\n",
    "print(\"Train MAE:\", train_mae)\n",
    "print(\"Test MAE:\", test_mae)"
   ]
  },
  {
   "cell_type": "code",
   "execution_count": 8,
   "id": "3a2bf869-f1f6-4a04-8bfe-bbadc6eb8cc9",
   "metadata": {},
   "outputs": [
    {
     "data": {
      "image/png": "[encoded data removed]",
      "text/plain": [
       "<Figure size 1008x432 with 1 Axes>"
      ]
     },
     "metadata": {
      "needs_background": "light"
     },
     "output_type": "display_data"
    }
   ],
   "source": [
    "plt.figure(figsize=(14, 6))\n",
    "plt.plot(df.index[:-time_steps], df[target_column].values[:-time_steps], label='Actual', color='blue')\n",
    "plt.plot(df.index[time_steps:train_size], train_predictions, label='Train Predictions', color='green')\n",
    "plt.plot(df.index[train_size + time_steps:], test_predictions, label='Test Predictions', color='red')\n",
    "plt.title('LSTM Model Prediction vs Actual')\n",
    "plt.xlabel('Date')\n",
    "plt.ylabel(target_column)\n",
    "plt.legend()\n",
    "plt.show()\n"
   ]
  },
  {
   "cell_type": "code",
   "execution_count": 9,
   "id": "d212cec5-cde1-49e6-9ee9-7951261d67f6",
   "metadata": {},
   "outputs": [
    {
     "name": "stdout",
     "output_type": "stream",
     "text": [
      "Index(['Date', 'utility_Michigan', 'Utility_Texas', 'Gasoloine_Michigan',\n",
      "       'Gasoline_Texas', 'Electricity_michigan', 'Electricity_texas'],\n",
      "      dtype='object')\n"
     ]
    }
   ],
   "source": [
    "print(df.columns)\n"
   ]
  },
  {
   "cell_type": "code",
   "execution_count": null,
   "id": "011a3558-3f7d-444e-9666-5b40fe103d33",
   "metadata": {},
   "outputs": [],
   "source": []
  },
  {
   "cell_type": "code",
   "execution_count": null,
   "id": "71fd549a-5b77-4e8b-ba58-bd2abb2c1a41",
   "metadata": {},
   "outputs": [],
   "source": []
  },
  {
   "cell_type": "code",
   "execution_count": 10,
   "id": "50ad727c-14a2-457b-9bc9-0a97adfba324",
   "metadata": {},
   "outputs": [
    {
     "name": "stdout",
     "output_type": "stream",
     "text": [
      "1/1 [==============================] - 0s 26ms/step\n",
      "Predicted values for the next time period:\n",
      "[[1.116079]]\n"
     ]
    },
    {
     "name": "stderr",
     "output_type": "stream",
     "text": [
      "C:\\Users\\riyab\\anaconda3\\anaconda\\lib\\site-packages\\sklearn\\base.py:493: UserWarning: X does not have valid feature names, but MinMaxScaler was fitted with feature names\n",
      "  warnings.warn(\n"
     ]
    }
   ],
   "source": [
    "# Prepare the features for the next time period\n",
    "X_next_period = df[target_column].iloc[-time_steps:].values.reshape(1, time_steps, 1)\n",
    "\n",
    "# Reshape the features for scaling\n",
    "X_next_period_reshaped = X_next_period.reshape(-1, 1)\n",
    "\n",
    "# Scale the features for the next time period\n",
    "X_next_period_scaled = scaler.transform(X_next_period_reshaped)\n",
    "\n",
    "# Reshape the scaled features for LSTM input\n",
    "X_next_period_scaled_reshaped = X_next_period_scaled.reshape(1, time_steps, 1)\n",
    "\n",
    "try:\n",
    "    # Use the trained LSTM model to predict the target variable for the next time period\n",
    "    predicted_values = model.predict(X_next_period_scaled_reshaped)\n",
    "    \n",
    "    # Inverse transform the predicted values to get the actual values\n",
    "    predicted_values_actual = scaler.inverse_transform(predicted_values)\n",
    "    \n",
    "    print(\"Predicted values for the next time period:\")\n",
    "    print(predicted_values_actual)\n",
    "except Exception as e:\n",
    "    print(\"Error occurred during prediction:\", e)\n"
   ]
  },
  {
   "cell_type": "code",
   "execution_count": 11,
   "id": "c86d1fec-c634-45b5-9483-e31ff4dca51b",
   "metadata": {},
   "outputs": [
    {
     "name": "stdout",
     "output_type": "stream",
     "text": [
      "1/1 [==============================] - 0s 32ms/step\n",
      "1/1 [==============================] - 0s 21ms/step\n",
      "1/1 [==============================] - 0s 32ms/step\n"
     ]
    },
    {
     "name": "stderr",
     "output_type": "stream",
     "text": [
      "C:\\Users\\riyab\\AppData\\Local\\Temp\\ipykernel_6436\\392193166.py:36: FutureWarning: The frame.append method is deprecated and will be removed from pandas in a future version. Use pandas.concat instead.\n",
      "  df = df.append(pd.Series(predicted_values_actual[0][0], index=df.columns), ignore_index=True)\n",
      "C:\\Users\\riyab\\AppData\\Local\\Temp\\ipykernel_6436\\392193166.py:36: FutureWarning: The frame.append method is deprecated and will be removed from pandas in a future version. Use pandas.concat instead.\n",
      "  df = df.append(pd.Series(predicted_values_actual[0][0], index=df.columns), ignore_index=True)\n",
      "C:\\Users\\riyab\\AppData\\Local\\Temp\\ipykernel_6436\\392193166.py:36: FutureWarning: The frame.append method is deprecated and will be removed from pandas in a future version. Use pandas.concat instead.\n",
      "  df = df.append(pd.Series(predicted_values_actual[0][0], index=df.columns), ignore_index=True)\n"
     ]
    },
    {
     "name": "stdout",
     "output_type": "stream",
     "text": [
      "1/1 [==============================] - 0s 31ms/step\n",
      "1/1 [==============================] - 0s 16ms/step\n",
      "1/1 [==============================] - 0s 16ms/step\n"
     ]
    },
    {
     "name": "stderr",
     "output_type": "stream",
     "text": [
      "C:\\Users\\riyab\\AppData\\Local\\Temp\\ipykernel_6436\\392193166.py:36: FutureWarning: The frame.append method is deprecated and will be removed from pandas in a future version. Use pandas.concat instead.\n",
      "  df = df.append(pd.Series(predicted_values_actual[0][0], index=df.columns), ignore_index=True)\n",
      "C:\\Users\\riyab\\AppData\\Local\\Temp\\ipykernel_6436\\392193166.py:36: FutureWarning: The frame.append method is deprecated and will be removed from pandas in a future version. Use pandas.concat instead.\n",
      "  df = df.append(pd.Series(predicted_values_actual[0][0], index=df.columns), ignore_index=True)\n",
      "C:\\Users\\riyab\\AppData\\Local\\Temp\\ipykernel_6436\\392193166.py:36: FutureWarning: The frame.append method is deprecated and will be removed from pandas in a future version. Use pandas.concat instead.\n",
      "  df = df.append(pd.Series(predicted_values_actual[0][0], index=df.columns), ignore_index=True)\n"
     ]
    },
    {
     "name": "stdout",
     "output_type": "stream",
     "text": [
      "1/1 [==============================] - 0s 22ms/step\n",
      "1/1 [==============================] - 0s 23ms/step\n",
      "1/1 [==============================] - 0s 32ms/step\n"
     ]
    },
    {
     "name": "stderr",
     "output_type": "stream",
     "text": [
      "C:\\Users\\riyab\\AppData\\Local\\Temp\\ipykernel_6436\\392193166.py:36: FutureWarning: The frame.append method is deprecated and will be removed from pandas in a future version. Use pandas.concat instead.\n",
      "  df = df.append(pd.Series(predicted_values_actual[0][0], index=df.columns), ignore_index=True)\n",
      "C:\\Users\\riyab\\AppData\\Local\\Temp\\ipykernel_6436\\392193166.py:36: FutureWarning: The frame.append method is deprecated and will be removed from pandas in a future version. Use pandas.concat instead.\n",
      "  df = df.append(pd.Series(predicted_values_actual[0][0], index=df.columns), ignore_index=True)\n",
      "C:\\Users\\riyab\\AppData\\Local\\Temp\\ipykernel_6436\\392193166.py:36: FutureWarning: The frame.append method is deprecated and will be removed from pandas in a future version. Use pandas.concat instead.\n",
      "  df = df.append(pd.Series(predicted_values_actual[0][0], index=df.columns), ignore_index=True)\n"
     ]
    },
    {
     "name": "stdout",
     "output_type": "stream",
     "text": [
      "1/1 [==============================] - 0s 16ms/step\n",
      "1/1 [==============================] - 0s 17ms/step\n",
      "1/1 [==============================] - 0s 33ms/step\n"
     ]
    },
    {
     "name": "stderr",
     "output_type": "stream",
     "text": [
      "C:\\Users\\riyab\\AppData\\Local\\Temp\\ipykernel_6436\\392193166.py:36: FutureWarning: The frame.append method is deprecated and will be removed from pandas in a future version. Use pandas.concat instead.\n",
      "  df = df.append(pd.Series(predicted_values_actual[0][0], index=df.columns), ignore_index=True)\n",
      "C:\\Users\\riyab\\AppData\\Local\\Temp\\ipykernel_6436\\392193166.py:36: FutureWarning: The frame.append method is deprecated and will be removed from pandas in a future version. Use pandas.concat instead.\n",
      "  df = df.append(pd.Series(predicted_values_actual[0][0], index=df.columns), ignore_index=True)\n"
     ]
    },
    {
     "name": "stdout",
     "output_type": "stream",
     "text": [
      "1/1 [==============================] - 0s 33ms/step\n"
     ]
    },
    {
     "name": "stderr",
     "output_type": "stream",
     "text": [
      "C:\\Users\\riyab\\AppData\\Local\\Temp\\ipykernel_6436\\392193166.py:36: FutureWarning: The frame.append method is deprecated and will be removed from pandas in a future version. Use pandas.concat instead.\n",
      "  df = df.append(pd.Series(predicted_values_actual[0][0], index=df.columns), ignore_index=True)\n",
      "C:\\Users\\riyab\\AppData\\Local\\Temp\\ipykernel_6436\\392193166.py:36: FutureWarning: The frame.append method is deprecated and will be removed from pandas in a future version. Use pandas.concat instead.\n",
      "  df = df.append(pd.Series(predicted_values_actual[0][0], index=df.columns), ignore_index=True)\n"
     ]
    },
    {
     "name": "stdout",
     "output_type": "stream",
     "text": [
      "1/1 [==============================] - 0s 31ms/step\n",
      "1/1 [==============================] - 0s 19ms/step\n",
      "1/1 [==============================] - 0s 32ms/step\n"
     ]
    },
    {
     "name": "stderr",
     "output_type": "stream",
     "text": [
      "C:\\Users\\riyab\\AppData\\Local\\Temp\\ipykernel_6436\\392193166.py:36: FutureWarning: The frame.append method is deprecated and will be removed from pandas in a future version. Use pandas.concat instead.\n",
      "  df = df.append(pd.Series(predicted_values_actual[0][0], index=df.columns), ignore_index=True)\n",
      "C:\\Users\\riyab\\AppData\\Local\\Temp\\ipykernel_6436\\392193166.py:36: FutureWarning: The frame.append method is deprecated and will be removed from pandas in a future version. Use pandas.concat instead.\n",
      "  df = df.append(pd.Series(predicted_values_actual[0][0], index=df.columns), ignore_index=True)\n",
      "C:\\Users\\riyab\\AppData\\Local\\Temp\\ipykernel_6436\\392193166.py:36: FutureWarning: The frame.append method is deprecated and will be removed from pandas in a future version. Use pandas.concat instead.\n",
      "  df = df.append(pd.Series(predicted_values_actual[0][0], index=df.columns), ignore_index=True)\n"
     ]
    },
    {
     "name": "stdout",
     "output_type": "stream",
     "text": [
      "1/1 [==============================] - 0s 23ms/step\n",
      "1/1 [==============================] - 0s 21ms/step\n",
      "1/1 [==============================] - 0s 16ms/step\n"
     ]
    },
    {
     "name": "stderr",
     "output_type": "stream",
     "text": [
      "C:\\Users\\riyab\\AppData\\Local\\Temp\\ipykernel_6436\\392193166.py:36: FutureWarning: The frame.append method is deprecated and will be removed from pandas in a future version. Use pandas.concat instead.\n",
      "  df = df.append(pd.Series(predicted_values_actual[0][0], index=df.columns), ignore_index=True)\n",
      "C:\\Users\\riyab\\AppData\\Local\\Temp\\ipykernel_6436\\392193166.py:36: FutureWarning: The frame.append method is deprecated and will be removed from pandas in a future version. Use pandas.concat instead.\n",
      "  df = df.append(pd.Series(predicted_values_actual[0][0], index=df.columns), ignore_index=True)\n",
      "C:\\Users\\riyab\\AppData\\Local\\Temp\\ipykernel_6436\\392193166.py:36: FutureWarning: The frame.append method is deprecated and will be removed from pandas in a future version. Use pandas.concat instead.\n",
      "  df = df.append(pd.Series(predicted_values_actual[0][0], index=df.columns), ignore_index=True)\n"
     ]
    },
    {
     "name": "stdout",
     "output_type": "stream",
     "text": [
      "1/1 [==============================] - 0s 26ms/step\n",
      "1/1 [==============================] - 0s 15ms/step\n",
      "1/1 [==============================] - 0s 16ms/step\n"
     ]
    },
    {
     "name": "stderr",
     "output_type": "stream",
     "text": [
      "C:\\Users\\riyab\\AppData\\Local\\Temp\\ipykernel_6436\\392193166.py:36: FutureWarning: The frame.append method is deprecated and will be removed from pandas in a future version. Use pandas.concat instead.\n",
      "  df = df.append(pd.Series(predicted_values_actual[0][0], index=df.columns), ignore_index=True)\n",
      "C:\\Users\\riyab\\AppData\\Local\\Temp\\ipykernel_6436\\392193166.py:36: FutureWarning: The frame.append method is deprecated and will be removed from pandas in a future version. Use pandas.concat instead.\n",
      "  df = df.append(pd.Series(predicted_values_actual[0][0], index=df.columns), ignore_index=True)\n",
      "C:\\Users\\riyab\\AppData\\Local\\Temp\\ipykernel_6436\\392193166.py:36: FutureWarning: The frame.append method is deprecated and will be removed from pandas in a future version. Use pandas.concat instead.\n",
      "  df = df.append(pd.Series(predicted_values_actual[0][0], index=df.columns), ignore_index=True)\n"
     ]
    },
    {
     "name": "stdout",
     "output_type": "stream",
     "text": [
      "1/1 [==============================] - 0s 47ms/step\n",
      "1/1 [==============================] - 0s 28ms/step\n",
      "1/1 [==============================] - 0s 34ms/step\n"
     ]
    },
    {
     "name": "stderr",
     "output_type": "stream",
     "text": [
      "C:\\Users\\riyab\\AppData\\Local\\Temp\\ipykernel_6436\\392193166.py:36: FutureWarning: The frame.append method is deprecated and will be removed from pandas in a future version. Use pandas.concat instead.\n",
      "  df = df.append(pd.Series(predicted_values_actual[0][0], index=df.columns), ignore_index=True)\n",
      "C:\\Users\\riyab\\AppData\\Local\\Temp\\ipykernel_6436\\392193166.py:36: FutureWarning: The frame.append method is deprecated and will be removed from pandas in a future version. Use pandas.concat instead.\n",
      "  df = df.append(pd.Series(predicted_values_actual[0][0], index=df.columns), ignore_index=True)\n"
     ]
    },
    {
     "name": "stdout",
     "output_type": "stream",
     "text": [
      "1/1 [==============================] - 0s 19ms/step\n",
      "1/1 [==============================] - 0s 32ms/step\n"
     ]
    },
    {
     "name": "stderr",
     "output_type": "stream",
     "text": [
      "C:\\Users\\riyab\\AppData\\Local\\Temp\\ipykernel_6436\\392193166.py:36: FutureWarning: The frame.append method is deprecated and will be removed from pandas in a future version. Use pandas.concat instead.\n",
      "  df = df.append(pd.Series(predicted_values_actual[0][0], index=df.columns), ignore_index=True)\n",
      "C:\\Users\\riyab\\AppData\\Local\\Temp\\ipykernel_6436\\392193166.py:36: FutureWarning: The frame.append method is deprecated and will be removed from pandas in a future version. Use pandas.concat instead.\n",
      "  df = df.append(pd.Series(predicted_values_actual[0][0], index=df.columns), ignore_index=True)\n",
      "C:\\Users\\riyab\\AppData\\Local\\Temp\\ipykernel_6436\\392193166.py:36: FutureWarning: The frame.append method is deprecated and will be removed from pandas in a future version. Use pandas.concat instead.\n",
      "  df = df.append(pd.Series(predicted_values_actual[0][0], index=df.columns), ignore_index=True)\n"
     ]
    },
    {
     "name": "stdout",
     "output_type": "stream",
     "text": [
      "1/1 [==============================] - 0s 20ms/step\n",
      "1/1 [==============================] - 0s 19ms/step\n",
      "1/1 [==============================] - 0s 27ms/step\n"
     ]
    },
    {
     "name": "stderr",
     "output_type": "stream",
     "text": [
      "C:\\Users\\riyab\\AppData\\Local\\Temp\\ipykernel_6436\\392193166.py:36: FutureWarning: The frame.append method is deprecated and will be removed from pandas in a future version. Use pandas.concat instead.\n",
      "  df = df.append(pd.Series(predicted_values_actual[0][0], index=df.columns), ignore_index=True)\n",
      "C:\\Users\\riyab\\AppData\\Local\\Temp\\ipykernel_6436\\392193166.py:36: FutureWarning: The frame.append method is deprecated and will be removed from pandas in a future version. Use pandas.concat instead.\n",
      "  df = df.append(pd.Series(predicted_values_actual[0][0], index=df.columns), ignore_index=True)\n"
     ]
    },
    {
     "name": "stdout",
     "output_type": "stream",
     "text": [
      "1/1 [==============================] - 0s 28ms/step\n",
      "1/1 [==============================] - 0s 19ms/step\n"
     ]
    },
    {
     "name": "stderr",
     "output_type": "stream",
     "text": [
      "C:\\Users\\riyab\\AppData\\Local\\Temp\\ipykernel_6436\\392193166.py:36: FutureWarning: The frame.append method is deprecated and will be removed from pandas in a future version. Use pandas.concat instead.\n",
      "  df = df.append(pd.Series(predicted_values_actual[0][0], index=df.columns), ignore_index=True)\n",
      "C:\\Users\\riyab\\AppData\\Local\\Temp\\ipykernel_6436\\392193166.py:36: FutureWarning: The frame.append method is deprecated and will be removed from pandas in a future version. Use pandas.concat instead.\n",
      "  df = df.append(pd.Series(predicted_values_actual[0][0], index=df.columns), ignore_index=True)\n",
      "C:\\Users\\riyab\\AppData\\Local\\Temp\\ipykernel_6436\\392193166.py:36: FutureWarning: The frame.append method is deprecated and will be removed from pandas in a future version. Use pandas.concat instead.\n",
      "  df = df.append(pd.Series(predicted_values_actual[0][0], index=df.columns), ignore_index=True)\n"
     ]
    },
    {
     "name": "stdout",
     "output_type": "stream",
     "text": [
      "1/1 [==============================] - 0s 22ms/step\n",
      "1/1 [==============================] - 0s 48ms/step\n",
      "1/1 [==============================] - ETA: 0s"
     ]
    },
    {
     "name": "stderr",
     "output_type": "stream",
     "text": [
      "C:\\Users\\riyab\\AppData\\Local\\Temp\\ipykernel_6436\\392193166.py:36: FutureWarning: The frame.append method is deprecated and will be removed from pandas in a future version. Use pandas.concat instead.\n",
      "  df = df.append(pd.Series(predicted_values_actual[0][0], index=df.columns), ignore_index=True)\n",
      "C:\\Users\\riyab\\AppData\\Local\\Temp\\ipykernel_6436\\392193166.py:36: FutureWarning: The frame.append method is deprecated and will be removed from pandas in a future version. Use pandas.concat instead.\n",
      "  df = df.append(pd.Series(predicted_values_actual[0][0], index=df.columns), ignore_index=True)\n"
     ]
    },
    {
     "name": "stdout",
     "output_type": "stream",
     "text": [
      "1/1 [==============================] - 0s 48ms/step\n",
      "1/1 [==============================] - 0s 23ms/step\n",
      "1/1 [==============================] - 0s 16ms/step\n"
     ]
    },
    {
     "name": "stderr",
     "output_type": "stream",
     "text": [
      "C:\\Users\\riyab\\AppData\\Local\\Temp\\ipykernel_6436\\392193166.py:36: FutureWarning: The frame.append method is deprecated and will be removed from pandas in a future version. Use pandas.concat instead.\n",
      "  df = df.append(pd.Series(predicted_values_actual[0][0], index=df.columns), ignore_index=True)\n",
      "C:\\Users\\riyab\\AppData\\Local\\Temp\\ipykernel_6436\\392193166.py:36: FutureWarning: The frame.append method is deprecated and will be removed from pandas in a future version. Use pandas.concat instead.\n",
      "  df = df.append(pd.Series(predicted_values_actual[0][0], index=df.columns), ignore_index=True)\n",
      "C:\\Users\\riyab\\AppData\\Local\\Temp\\ipykernel_6436\\392193166.py:36: FutureWarning: The frame.append method is deprecated and will be removed from pandas in a future version. Use pandas.concat instead.\n",
      "  df = df.append(pd.Series(predicted_values_actual[0][0], index=df.columns), ignore_index=True)\n"
     ]
    },
    {
     "name": "stdout",
     "output_type": "stream",
     "text": [
      "1/1 [==============================] - 0s 32ms/step\n",
      "1/1 [==============================] - 0s 31ms/step\n",
      "1/1 [==============================] - ETA: 0s"
     ]
    },
    {
     "name": "stderr",
     "output_type": "stream",
     "text": [
      "C:\\Users\\riyab\\AppData\\Local\\Temp\\ipykernel_6436\\392193166.py:36: FutureWarning: The frame.append method is deprecated and will be removed from pandas in a future version. Use pandas.concat instead.\n",
      "  df = df.append(pd.Series(predicted_values_actual[0][0], index=df.columns), ignore_index=True)\n",
      "C:\\Users\\riyab\\AppData\\Local\\Temp\\ipykernel_6436\\392193166.py:36: FutureWarning: The frame.append method is deprecated and will be removed from pandas in a future version. Use pandas.concat instead.\n",
      "  df = df.append(pd.Series(predicted_values_actual[0][0], index=df.columns), ignore_index=True)\n"
     ]
    },
    {
     "name": "stdout",
     "output_type": "stream",
     "text": [
      "1/1 [==============================] - 0s 31ms/step\n",
      "1/1 [==============================] - 0s 16ms/step\n",
      "1/1 [==============================] - 0s 16ms/step\n"
     ]
    },
    {
     "name": "stderr",
     "output_type": "stream",
     "text": [
      "C:\\Users\\riyab\\AppData\\Local\\Temp\\ipykernel_6436\\392193166.py:36: FutureWarning: The frame.append method is deprecated and will be removed from pandas in a future version. Use pandas.concat instead.\n",
      "  df = df.append(pd.Series(predicted_values_actual[0][0], index=df.columns), ignore_index=True)\n",
      "C:\\Users\\riyab\\AppData\\Local\\Temp\\ipykernel_6436\\392193166.py:36: FutureWarning: The frame.append method is deprecated and will be removed from pandas in a future version. Use pandas.concat instead.\n",
      "  df = df.append(pd.Series(predicted_values_actual[0][0], index=df.columns), ignore_index=True)\n",
      "C:\\Users\\riyab\\AppData\\Local\\Temp\\ipykernel_6436\\392193166.py:36: FutureWarning: The frame.append method is deprecated and will be removed from pandas in a future version. Use pandas.concat instead.\n",
      "  df = df.append(pd.Series(predicted_values_actual[0][0], index=df.columns), ignore_index=True)\n"
     ]
    },
    {
     "name": "stdout",
     "output_type": "stream",
     "text": [
      "1/1 [==============================] - 0s 32ms/step\n",
      "1/1 [==============================] - 0s 16ms/step\n",
      "1/1 [==============================] - 0s 16ms/step\n"
     ]
    },
    {
     "name": "stderr",
     "output_type": "stream",
     "text": [
      "C:\\Users\\riyab\\AppData\\Local\\Temp\\ipykernel_6436\\392193166.py:36: FutureWarning: The frame.append method is deprecated and will be removed from pandas in a future version. Use pandas.concat instead.\n",
      "  df = df.append(pd.Series(predicted_values_actual[0][0], index=df.columns), ignore_index=True)\n",
      "C:\\Users\\riyab\\AppData\\Local\\Temp\\ipykernel_6436\\392193166.py:36: FutureWarning: The frame.append method is deprecated and will be removed from pandas in a future version. Use pandas.concat instead.\n",
      "  df = df.append(pd.Series(predicted_values_actual[0][0], index=df.columns), ignore_index=True)\n"
     ]
    },
    {
     "name": "stdout",
     "output_type": "stream",
     "text": [
      "1/1 [==============================] - 0s 31ms/step\n",
      "1/1 [==============================] - 0s 31ms/step\n"
     ]
    },
    {
     "name": "stderr",
     "output_type": "stream",
     "text": [
      "C:\\Users\\riyab\\AppData\\Local\\Temp\\ipykernel_6436\\392193166.py:36: FutureWarning: The frame.append method is deprecated and will be removed from pandas in a future version. Use pandas.concat instead.\n",
      "  df = df.append(pd.Series(predicted_values_actual[0][0], index=df.columns), ignore_index=True)\n",
      "C:\\Users\\riyab\\AppData\\Local\\Temp\\ipykernel_6436\\392193166.py:36: FutureWarning: The frame.append method is deprecated and will be removed from pandas in a future version. Use pandas.concat instead.\n",
      "  df = df.append(pd.Series(predicted_values_actual[0][0], index=df.columns), ignore_index=True)\n"
     ]
    },
    {
     "name": "stdout",
     "output_type": "stream",
     "text": [
      "1/1 [==============================] - 0s 21ms/step\n",
      "Predicted values for the next 48 time periods:\n",
      "[1.116079, 1.0919559, 1.0744896, 1.0391196, 1.0069662, 0.9788721, 0.9552813, 0.9356372, 0.92025787, 0.90687436, 0.89494085, 0.88369495, 0.8728351, 0.8633778, 0.85425955, 0.84531724, 0.8370303, 0.82934296, 0.8222346, 0.8156902, 0.8096941, 0.80420727, 0.7992025, 0.7946457, 0.79050446, 0.78674746, 0.7833334, 0.7802315, 0.7774143, 0.77485377, 0.77252436, 0.77040297, 0.7684688, 0.7667027, 0.76508796, 0.76360923, 0.76225305, 0.76100737, 0.75986123, 0.7588051, 0.75783056, 0.75692976, 0.7560961, 0.7553234, 0.7546064, 0.75394017, 0.75332034, 0.7527431]\n"
     ]
    },
    {
     "name": "stderr",
     "output_type": "stream",
     "text": [
      "C:\\Users\\riyab\\AppData\\Local\\Temp\\ipykernel_6436\\392193166.py:36: FutureWarning: The frame.append method is deprecated and will be removed from pandas in a future version. Use pandas.concat instead.\n",
      "  df = df.append(pd.Series(predicted_values_actual[0][0], index=df.columns), ignore_index=True)\n",
      "C:\\Users\\riyab\\AppData\\Local\\Temp\\ipykernel_6436\\392193166.py:36: FutureWarning: The frame.append method is deprecated and will be removed from pandas in a future version. Use pandas.concat instead.\n",
      "  df = df.append(pd.Series(predicted_values_actual[0][0], index=df.columns), ignore_index=True)\n"
     ]
    }
   ],
   "source": [
    "# Assuming you have already trained your LSTM model and defined 'model' variable\n",
    "\n",
    "import warnings\n",
    "warnings.filterwarnings(\"ignore\", message=\"X does not have valid feature names, but MinMaxScaler was fitted with feature names\")\n",
    "\n",
    "# Define the number of future time periods to predict\n",
    "num_periods = 48  # Adjust this according to your requirement\n",
    "\n",
    "# Initialize a list to store the predicted values for each future time period\n",
    "predicted_values_all = []\n",
    "\n",
    "# Loop over the number of future time periods to predict\n",
    "for _ in range(num_periods):\n",
    "    # Prepare the features for the next time period\n",
    "    X_next_period = df[target_column].values[-time_steps:].reshape(1, -1)\n",
    "    \n",
    "    # Reshape the features for scaling\n",
    "    X_next_period_reshaped = X_next_period.reshape(-1, 1)\n",
    "    \n",
    "    # Scale the features for the next time period\n",
    "    X_next_period_scaled = scaler.transform(X_next_period_reshaped)\n",
    "    \n",
    "    # Reshape the scaled features for LSTM input\n",
    "    X_next_period_scaled_reshaped = X_next_period_scaled.reshape(1, time_steps, 1)\n",
    "    \n",
    "    # Use the trained LSTM model to predict the target variable for the next time period\n",
    "    predicted_values = model.predict(X_next_period_scaled_reshaped)\n",
    "    \n",
    "    # Inverse transform the predicted values to get the actual values\n",
    "    predicted_values_actual = scaler.inverse_transform(predicted_values)\n",
    "    \n",
    "    # Append the predicted value to the list\n",
    "    predicted_values_all.append(predicted_values_actual[0][0])\n",
    "    \n",
    "    # Update the input data for the next iteration (shift the time steps by 1)\n",
    "    df = df.append(pd.Series(predicted_values_actual[0][0], index=df.columns), ignore_index=True)\n",
    "\n",
    "print(\"Predicted values for the next\", num_periods, \"time periods:\")\n",
    "print(predicted_values_all)\n",
    "\n",
    "\n",
    "\n"
   ]
  },
  {
   "cell_type": "code",
   "execution_count": 12,
   "id": "039a0437-9d55-4b86-a927-5facee66a9d4",
   "metadata": {},
   "outputs": [
    {
     "data": {
      "image/png": "[encoded data removed]",
      "text/plain": [
       "<Figure size 864x432 with 1 Axes>"
      ]
     },
     "metadata": {
      "needs_background": "light"
     },
     "output_type": "display_data"
    }
   ],
   "source": [
    "import matplotlib.pyplot as plt\n",
    "\n",
    "# Extracting the historical data and dates\n",
    "historical_dates = df.index.tolist()\n",
    "historical_values = df[target_column].values.tolist()\n",
    "\n",
    "# Plotting the historical and predicted values\n",
    "plt.figure(figsize=(12, 6))\n",
    "plt.plot(historical_dates, historical_values, label='Historical', color='blue')\n",
    "plt.plot(historical_dates[-len(predicted_values_all):], predicted_values_all, label='Predicted', color='red', linestyle='--', marker='o')\n",
    "plt.title('Historical vs Predicted Values')\n",
    "plt.xlabel('Date')\n",
    "plt.ylabel(target_column)\n",
    "plt.legend()\n",
    "plt.grid(True)\n",
    "plt.show()\n"
   ]
  },
  {
   "cell_type": "code",
   "execution_count": 13,
   "id": "85fb3bdb-fe40-49cb-8949-12da15c068cb",
   "metadata": {},
   "outputs": [
    {
     "data": {
      "text/html": [
       "<div>\n",
       "<style scoped>\n",
       "    .dataframe tbody tr th:only-of-type {\n",
       "        vertical-align: middle;\n",
       "    }\n",
       "\n",
       "    .dataframe tbody tr th {\n",
       "        vertical-align: top;\n",
       "    }\n",
       "\n",
       "    .dataframe thead th {\n",
       "        text-align: right;\n",
       "    }\n",
       "</style>\n",
       "<table border=\"1\" class=\"dataframe\">\n",
       "  <thead>\n",
       "    <tr style=\"text-align: right;\">\n",
       "      <th></th>\n",
       "      <th>Date</th>\n",
       "      <th>utility_Michigan</th>\n",
       "      <th>Utility_Texas</th>\n",
       "      <th>Gasoloine_Michigan</th>\n",
       "      <th>Gasoline_Texas</th>\n",
       "      <th>Electricity_michigan</th>\n",
       "      <th>Electricity_texas</th>\n",
       "    </tr>\n",
       "  </thead>\n",
       "  <tbody>\n",
       "    <tr>\n",
       "      <th>0</th>\n",
       "      <td>2000-01-01 00:00:00</td>\n",
       "      <td>0.520</td>\n",
       "      <td>0.571</td>\n",
       "      <td>1.374</td>\n",
       "      <td>1.296</td>\n",
       "      <td>0.097</td>\n",
       "      <td>0.071</td>\n",
       "    </tr>\n",
       "    <tr>\n",
       "      <th>1</th>\n",
       "      <td>2000-02-01 00:00:00</td>\n",
       "      <td>0.520</td>\n",
       "      <td>0.571</td>\n",
       "      <td>1.453</td>\n",
       "      <td>1.363</td>\n",
       "      <td>0.097</td>\n",
       "      <td>0.071</td>\n",
       "    </tr>\n",
       "    <tr>\n",
       "      <th>2</th>\n",
       "      <td>2000-03-01 00:00:00</td>\n",
       "      <td>0.521</td>\n",
       "      <td>0.604</td>\n",
       "      <td>1.592</td>\n",
       "      <td>1.524</td>\n",
       "      <td>0.097</td>\n",
       "      <td>0.071</td>\n",
       "    </tr>\n",
       "    <tr>\n",
       "      <th>3</th>\n",
       "      <td>2000-04-01 00:00:00</td>\n",
       "      <td>0.521</td>\n",
       "      <td>0.604</td>\n",
       "      <td>1.429</td>\n",
       "      <td>1.507</td>\n",
       "      <td>0.097</td>\n",
       "      <td>0.071</td>\n",
       "    </tr>\n",
       "    <tr>\n",
       "      <th>4</th>\n",
       "      <td>2000-05-01 00:00:00</td>\n",
       "      <td>0.520</td>\n",
       "      <td>0.604</td>\n",
       "      <td>1.492</td>\n",
       "      <td>1.488</td>\n",
       "      <td>0.097</td>\n",
       "      <td>0.087</td>\n",
       "    </tr>\n",
       "  </tbody>\n",
       "</table>\n",
       "</div>"
      ],
      "text/plain": [
       "                  Date  utility_Michigan  Utility_Texas  Gasoloine_Michigan  \\\n",
       "0  2000-01-01 00:00:00             0.520          0.571               1.374   \n",
       "1  2000-02-01 00:00:00             0.520          0.571               1.453   \n",
       "2  2000-03-01 00:00:00             0.521          0.604               1.592   \n",
       "3  2000-04-01 00:00:00             0.521          0.604               1.429   \n",
       "4  2000-05-01 00:00:00             0.520          0.604               1.492   \n",
       "\n",
       "   Gasoline_Texas  Electricity_michigan  Electricity_texas  \n",
       "0           1.296                 0.097              0.071  \n",
       "1           1.363                 0.097              0.071  \n",
       "2           1.524                 0.097              0.071  \n",
       "3           1.507                 0.097              0.071  \n",
       "4           1.488                 0.097              0.087  "
      ]
     },
     "execution_count": 13,
     "metadata": {},
     "output_type": "execute_result"
    }
   ],
   "source": [
    "df.head()"
   ]
  },
  {
   "cell_type": "markdown",
   "id": "f834266e-02b0-496d-9b6c-dbfe22b90d9b",
   "metadata": {},
   "source": [
    "### Texas"
   ]
  },
  {
   "cell_type": "code",
   "execution_count": 14,
   "id": "cfd90ad2-54a5-4fb5-aef1-6b892b7273d3",
   "metadata": {},
   "outputs": [],
   "source": [
    "df = pd.read_excel(\"Retail_data_final.xlsx\")"
   ]
  },
  {
   "cell_type": "code",
   "execution_count": 15,
   "id": "f2abd7b8-c20c-4a98-99a8-019b2571467d",
   "metadata": {},
   "outputs": [],
   "source": [
    "# Select the target column (utility_Michigan in this case)\n",
    "target_column = 'Utility_Texas'\n",
    "\n",
    "# Normalize the data\n",
    "scaler = MinMaxScaler()\n",
    "scaled_data = scaler.fit_transform(df[[target_column]])\n",
    "\n",
    "# Split data into training and testing sets\n",
    "train_size = int(len(scaled_data) * 0.8)\n",
    "train_data, test_data = scaled_data[:train_size], scaled_data[train_size:]\n",
    "\n",
    "# Prepare the data for LSTM\n",
    "def create_dataset(data, time_steps=1):\n",
    "    X, y = [], []\n",
    "    for i in range(len(data) - time_steps):\n",
    "        X.append(data[i:(i + time_steps)])\n",
    "        y.append(data[i + time_steps])\n",
    "    return np.array(X), np.array(y)\n",
    "\n",
    "time_steps = 12  # You can adjust the time steps as needed\n",
    "X_train, y_train = create_dataset(train_data, time_steps)\n",
    "X_test, y_test = create_dataset(test_data, time_steps)\n",
    "\n",
    "# Reshape data for LSTM\n",
    "X_train = np.reshape(X_train, (X_train.shape[0], X_train.shape[1], 1))\n",
    "X_test = np.reshape(X_test, (X_test.shape[0], X_test.shape[1], 1))"
   ]
  },
  {
   "cell_type": "code",
   "execution_count": 16,
   "id": "e840fb7c-43f3-4d85-af57-a1bd4e2fdeab",
   "metadata": {},
   "outputs": [
    {
     "name": "stdout",
     "output_type": "stream",
     "text": [
      "Epoch 1/100\n",
      "7/7 [==============================] - 3s 12ms/step - loss: 0.0551\n",
      "Epoch 2/100\n",
      "7/7 [==============================] - 0s 8ms/step - loss: 0.0196\n",
      "Epoch 3/100\n",
      "7/7 [==============================] - 0s 8ms/step - loss: 0.0113\n",
      "Epoch 4/100\n",
      "7/7 [==============================] - 0s 6ms/step - loss: 0.0118\n",
      "Epoch 5/100\n",
      "7/7 [==============================] - 0s 8ms/step - loss: 0.0089\n",
      "Epoch 6/100\n",
      "7/7 [==============================] - 0s 11ms/step - loss: 0.0094\n",
      "Epoch 7/100\n",
      "7/7 [==============================] - 0s 11ms/step - loss: 0.0088\n",
      "Epoch 8/100\n",
      "7/7 [==============================] - 0s 8ms/step - loss: 0.0089\n",
      "Epoch 9/100\n",
      "7/7 [==============================] - 0s 11ms/step - loss: 0.0087\n",
      "Epoch 10/100\n",
      "7/7 [==============================] - 0s 11ms/step - loss: 0.0087\n",
      "Epoch 11/100\n",
      "7/7 [==============================] - 0s 6ms/step - loss: 0.0085\n",
      "Epoch 12/100\n",
      "7/7 [==============================] - 0s 7ms/step - loss: 0.0084\n",
      "Epoch 13/100\n",
      "7/7 [==============================] - 0s 12ms/step - loss: 0.0083\n",
      "Epoch 14/100\n",
      "7/7 [==============================] - 0s 9ms/step - loss: 0.0082\n",
      "Epoch 15/100\n",
      "7/7 [==============================] - 0s 9ms/step - loss: 0.0081\n",
      "Epoch 16/100\n",
      "7/7 [==============================] - 0s 10ms/step - loss: 0.0079\n",
      "Epoch 17/100\n",
      "7/7 [==============================] - 0s 9ms/step - loss: 0.0078\n",
      "Epoch 18/100\n",
      "7/7 [==============================] - 0s 8ms/step - loss: 0.0078\n",
      "Epoch 19/100\n",
      "7/7 [==============================] - 0s 8ms/step - loss: 0.0077\n",
      "Epoch 20/100\n",
      "7/7 [==============================] - 0s 8ms/step - loss: 0.0074\n",
      "Epoch 21/100\n",
      "7/7 [==============================] - 0s 11ms/step - loss: 0.0074\n",
      "Epoch 22/100\n",
      "7/7 [==============================] - 0s 11ms/step - loss: 0.0072\n",
      "Epoch 23/100\n",
      "7/7 [==============================] - 0s 8ms/step - loss: 0.0071\n",
      "Epoch 24/100\n",
      "7/7 [==============================] - 0s 8ms/step - loss: 0.0070\n",
      "Epoch 25/100\n",
      "7/7 [==============================] - 0s 8ms/step - loss: 0.0069\n",
      "Epoch 26/100\n",
      "7/7 [==============================] - 0s 8ms/step - loss: 0.0068\n",
      "Epoch 27/100\n",
      "7/7 [==============================] - 0s 10ms/step - loss: 0.0065\n",
      "Epoch 28/100\n",
      "7/7 [==============================] - 0s 11ms/step - loss: 0.0065\n",
      "Epoch 29/100\n",
      "7/7 [==============================] - 0s 10ms/step - loss: 0.0062\n",
      "Epoch 30/100\n",
      "7/7 [==============================] - 0s 8ms/step - loss: 0.0064\n",
      "Epoch 31/100\n",
      "7/7 [==============================] - 0s 8ms/step - loss: 0.0062\n",
      "Epoch 32/100\n",
      "7/7 [==============================] - 0s 8ms/step - loss: 0.0066\n",
      "Epoch 33/100\n",
      "7/7 [==============================] - 0s 9ms/step - loss: 0.0063\n",
      "Epoch 34/100\n",
      "7/7 [==============================] - 0s 9ms/step - loss: 0.0060\n",
      "Epoch 35/100\n",
      "7/7 [==============================] - 0s 12ms/step - loss: 0.0059\n",
      "Epoch 36/100\n",
      "7/7 [==============================] - 0s 10ms/step - loss: 0.0061\n",
      "Epoch 37/100\n",
      "7/7 [==============================] - 0s 10ms/step - loss: 0.0059\n",
      "Epoch 38/100\n",
      "7/7 [==============================] - 0s 9ms/step - loss: 0.0061\n",
      "Epoch 39/100\n",
      "7/7 [==============================] - 0s 10ms/step - loss: 0.0059\n",
      "Epoch 40/100\n",
      "7/7 [==============================] - 0s 9ms/step - loss: 0.0059\n",
      "Epoch 41/100\n",
      "7/7 [==============================] - 0s 8ms/step - loss: 0.0054\n",
      "Epoch 42/100\n",
      "7/7 [==============================] - 0s 11ms/step - loss: 0.0054\n",
      "Epoch 43/100\n",
      "7/7 [==============================] - 0s 11ms/step - loss: 0.0053\n",
      "Epoch 44/100\n",
      "7/7 [==============================] - 0s 13ms/step - loss: 0.0053\n",
      "Epoch 45/100\n",
      "7/7 [==============================] - 0s 8ms/step - loss: 0.0052\n",
      "Epoch 46/100\n",
      "7/7 [==============================] - 0s 10ms/step - loss: 0.0051\n",
      "Epoch 47/100\n",
      "7/7 [==============================] - 0s 8ms/step - loss: 0.0052\n",
      "Epoch 48/100\n",
      "7/7 [==============================] - 0s 13ms/step - loss: 0.0052\n",
      "Epoch 49/100\n",
      "7/7 [==============================] - 0s 14ms/step - loss: 0.0049\n",
      "Epoch 50/100\n",
      "7/7 [==============================] - 0s 15ms/step - loss: 0.0049\n",
      "Epoch 51/100\n",
      "7/7 [==============================] - 0s 15ms/step - loss: 0.0048\n",
      "Epoch 52/100\n",
      "7/7 [==============================] - 0s 11ms/step - loss: 0.0051\n",
      "Epoch 53/100\n",
      "7/7 [==============================] - 0s 9ms/step - loss: 0.0047\n",
      "Epoch 54/100\n",
      "7/7 [==============================] - 0s 10ms/step - loss: 0.0048\n",
      "Epoch 55/100\n",
      "7/7 [==============================] - 0s 14ms/step - loss: 0.0045\n",
      "Epoch 56/100\n",
      "7/7 [==============================] - 0s 13ms/step - loss: 0.0044\n",
      "Epoch 57/100\n",
      "7/7 [==============================] - 0s 15ms/step - loss: 0.0044\n",
      "Epoch 58/100\n",
      "7/7 [==============================] - 0s 15ms/step - loss: 0.0042\n",
      "Epoch 59/100\n",
      "7/7 [==============================] - 0s 15ms/step - loss: 0.0043\n",
      "Epoch 60/100\n",
      "7/7 [==============================] - 0s 14ms/step - loss: 0.0042\n",
      "Epoch 61/100\n",
      "7/7 [==============================] - 0s 8ms/step - loss: 0.0041\n",
      "Epoch 62/100\n",
      "7/7 [==============================] - 0s 13ms/step - loss: 0.0039\n",
      "Epoch 63/100\n",
      "7/7 [==============================] - 0s 14ms/step - loss: 0.0039\n",
      "Epoch 64/100\n",
      "7/7 [==============================] - 0s 14ms/step - loss: 0.0037\n",
      "Epoch 65/100\n",
      "7/7 [==============================] - 0s 14ms/step - loss: 0.0037\n",
      "Epoch 66/100\n",
      "7/7 [==============================] - 0s 15ms/step - loss: 0.0038\n",
      "Epoch 67/100\n",
      "7/7 [==============================] - 0s 15ms/step - loss: 0.0042\n",
      "Epoch 68/100\n",
      "7/7 [==============================] - 0s 14ms/step - loss: 0.0036\n",
      "Epoch 69/100\n",
      "7/7 [==============================] - 0s 11ms/step - loss: 0.0034\n",
      "Epoch 70/100\n",
      "7/7 [==============================] - 0s 11ms/step - loss: 0.0038\n",
      "Epoch 71/100\n",
      "7/7 [==============================] - 0s 7ms/step - loss: 0.0036\n",
      "Epoch 72/100\n",
      "7/7 [==============================] - 0s 11ms/step - loss: 0.0032\n",
      "Epoch 73/100\n",
      "7/7 [==============================] - 0s 11ms/step - loss: 0.0032\n",
      "Epoch 74/100\n",
      "7/7 [==============================] - 0s 11ms/step - loss: 0.0032\n",
      "Epoch 75/100\n",
      "7/7 [==============================] - 0s 11ms/step - loss: 0.0032\n",
      "Epoch 76/100\n",
      "7/7 [==============================] - 0s 14ms/step - loss: 0.0032\n",
      "Epoch 77/100\n",
      "7/7 [==============================] - 0s 13ms/step - loss: 0.0030\n",
      "Epoch 78/100\n",
      "7/7 [==============================] - 0s 10ms/step - loss: 0.0031\n",
      "Epoch 79/100\n",
      "7/7 [==============================] - 0s 11ms/step - loss: 0.0031\n",
      "Epoch 80/100\n",
      "7/7 [==============================] - 0s 14ms/step - loss: 0.0029\n",
      "Epoch 81/100\n",
      "7/7 [==============================] - 0s 14ms/step - loss: 0.0030\n",
      "Epoch 82/100\n",
      "7/7 [==============================] - 0s 11ms/step - loss: 0.0029\n",
      "Epoch 83/100\n",
      "7/7 [==============================] - 0s 14ms/step - loss: 0.0028\n",
      "Epoch 84/100\n",
      "7/7 [==============================] - 0s 10ms/step - loss: 0.0041\n",
      "Epoch 85/100\n",
      "7/7 [==============================] - 0s 8ms/step - loss: 0.0032\n",
      "Epoch 86/100\n",
      "7/7 [==============================] - 0s 14ms/step - loss: 0.0029\n",
      "Epoch 87/100\n",
      "7/7 [==============================] - 0s 14ms/step - loss: 0.0029\n",
      "Epoch 88/100\n",
      "7/7 [==============================] - 0s 11ms/step - loss: 0.0029\n",
      "Epoch 89/100\n",
      "7/7 [==============================] - 0s 11ms/step - loss: 0.0032\n",
      "Epoch 90/100\n",
      "7/7 [==============================] - 0s 14ms/step - loss: 0.0031\n",
      "Epoch 91/100\n",
      "7/7 [==============================] - 0s 14ms/step - loss: 0.0029\n",
      "Epoch 92/100\n",
      "7/7 [==============================] - 0s 14ms/step - loss: 0.0029\n",
      "Epoch 93/100\n",
      "7/7 [==============================] - 0s 10ms/step - loss: 0.0032\n",
      "Epoch 94/100\n",
      "7/7 [==============================] - 0s 12ms/step - loss: 0.0032\n",
      "Epoch 95/100\n",
      "7/7 [==============================] - 0s 11ms/step - loss: 0.0029\n",
      "Epoch 96/100\n",
      "7/7 [==============================] - 0s 11ms/step - loss: 0.0029\n",
      "Epoch 97/100\n",
      "7/7 [==============================] - 0s 14ms/step - loss: 0.0028\n",
      "Epoch 98/100\n",
      "7/7 [==============================] - 0s 11ms/step - loss: 0.0028\n",
      "Epoch 99/100\n",
      "7/7 [==============================] - 0s 11ms/step - loss: 0.0028\n",
      "Epoch 100/100\n",
      "7/7 [==============================] - 0s 11ms/step - loss: 0.0028\n",
      "7/7 [==============================] - 1s 3ms/step\n",
      "2/2 [==============================] - 0s 0s/step\n"
     ]
    }
   ],
   "source": [
    "# Define the LSTM model\n",
    "model = Sequential()\n",
    "model.add(LSTM(units=50, return_sequences=True, input_shape=(X_train.shape[1], 1)))\n",
    "model.add(LSTM(units=50))\n",
    "model.add(Dense(units=1))\n",
    "model.compile(optimizer='adam', loss='mean_squared_error')\n",
    "\n",
    "# Train the model\n",
    "model.fit(X_train, y_train, epochs=100, batch_size=32)\n",
    "\n",
    "# Make predictions\n",
    "train_predictions = model.predict(X_train)\n",
    "test_predictions = model.predict(X_test)"
   ]
  },
  {
   "cell_type": "code",
   "execution_count": 17,
   "id": "3f4c5bac-08c3-43a5-b7a6-77ee3ccae7a4",
   "metadata": {},
   "outputs": [
    {
     "name": "stdout",
     "output_type": "stream",
     "text": [
      "Train RMSE: 0.07188258015108517\n",
      "Test RMSE: 0.177622002059169\n",
      "Train MAE: 0.041437855333363235\n",
      "Test MAE: 0.0973382824918498\n"
     ]
    }
   ],
   "source": [
    "# Inverse transform the predictions\n",
    "train_predictions = scaler.inverse_transform(train_predictions)\n",
    "test_predictions = scaler.inverse_transform(test_predictions)\n",
    "y_train = scaler.inverse_transform(y_train)\n",
    "y_test = scaler.inverse_transform(y_test)\n",
    "\n",
    "# Calculate accuracy metrics\n",
    "train_rmse = np.sqrt(mean_squared_error(y_train, train_predictions))\n",
    "test_rmse = np.sqrt(mean_squared_error(y_test, test_predictions))\n",
    "train_mae = mean_absolute_error(y_train, train_predictions)\n",
    "test_mae = mean_absolute_error(y_test, test_predictions)\n",
    "\n",
    "print(\"Train RMSE:\", train_rmse)\n",
    "print(\"Test RMSE:\", test_rmse)\n",
    "print(\"Train MAE:\", train_mae)\n",
    "print(\"Test MAE:\", test_mae)"
   ]
  },
  {
   "cell_type": "code",
   "execution_count": 18,
   "id": "008e303a-9115-4e50-a972-36a787e7373d",
   "metadata": {},
   "outputs": [
    {
     "data": {
      "image/png": "[encoded data removed]",
      "text/plain": [
       "<Figure size 1008x432 with 1 Axes>"
      ]
     },
     "metadata": {
      "needs_background": "light"
     },
     "output_type": "display_data"
    }
   ],
   "source": [
    "plt.figure(figsize=(14, 6))\n",
    "plt.plot(df.index[:-time_steps], df[target_column].values[:-time_steps], label='Actual', color='blue')\n",
    "plt.plot(df.index[time_steps:train_size], train_predictions, label='Train Predictions', color='green')\n",
    "plt.plot(df.index[train_size + time_steps:], test_predictions, label='Test Predictions', color='red')\n",
    "plt.title('LSTM Model Prediction vs Actual')\n",
    "plt.xlabel('Date')\n",
    "plt.ylabel(target_column)\n",
    "plt.legend()\n",
    "plt.show()\n"
   ]
  },
  {
   "cell_type": "code",
   "execution_count": 19,
   "id": "de8139e2-6964-4346-9c71-3b8b12a7fff3",
   "metadata": {},
   "outputs": [
    {
     "name": "stdout",
     "output_type": "stream",
     "text": [
      "1/1 [==============================] - 0s 16ms/step\n",
      "Predicted values for the next time period:\n",
      "[[1.0417094]]\n"
     ]
    }
   ],
   "source": [
    "# Prepare the features for the next time period\n",
    "X_next_period = df[target_column].iloc[-time_steps:].values.reshape(1, time_steps, 1)\n",
    "\n",
    "# Reshape the features for scaling\n",
    "X_next_period_reshaped = X_next_period.reshape(-1, 1)\n",
    "\n",
    "# Scale the features for the next time period\n",
    "X_next_period_scaled = scaler.transform(X_next_period_reshaped)\n",
    "\n",
    "# Reshape the scaled features for LSTM input\n",
    "X_next_period_scaled_reshaped = X_next_period_scaled.reshape(1, time_steps, 1)\n",
    "\n",
    "try:\n",
    "    # Use the trained LSTM model to predict the target variable for the next time period\n",
    "    predicted_values = model.predict(X_next_period_scaled_reshaped)\n",
    "    \n",
    "    # Inverse transform the predicted values to get the actual values\n",
    "    predicted_values_actual = scaler.inverse_transform(predicted_values)\n",
    "    \n",
    "    print(\"Predicted values for the next time period:\")\n",
    "    print(predicted_values_actual)\n",
    "except Exception as e:\n",
    "    print(\"Error occurred during prediction:\", e)\n"
   ]
  },
  {
   "cell_type": "code",
   "execution_count": 20,
   "id": "14473a88-5ee2-4071-b801-444e321f41cc",
   "metadata": {},
   "outputs": [
    {
     "name": "stdout",
     "output_type": "stream",
     "text": [
      "1/1 [==============================] - 0s 50ms/step\n",
      "1/1 [==============================] - 0s 17ms/step\n",
      "1/1 [==============================] - 0s 20ms/step\n"
     ]
    },
    {
     "name": "stderr",
     "output_type": "stream",
     "text": [
      "C:\\Users\\riyab\\AppData\\Local\\Temp\\ipykernel_6436\\392193166.py:36: FutureWarning: The frame.append method is deprecated and will be removed from pandas in a future version. Use pandas.concat instead.\n",
      "  df = df.append(pd.Series(predicted_values_actual[0][0], index=df.columns), ignore_index=True)\n",
      "C:\\Users\\riyab\\AppData\\Local\\Temp\\ipykernel_6436\\392193166.py:36: FutureWarning: The frame.append method is deprecated and will be removed from pandas in a future version. Use pandas.concat instead.\n",
      "  df = df.append(pd.Series(predicted_values_actual[0][0], index=df.columns), ignore_index=True)\n",
      "C:\\Users\\riyab\\AppData\\Local\\Temp\\ipykernel_6436\\392193166.py:36: FutureWarning: The frame.append method is deprecated and will be removed from pandas in a future version. Use pandas.concat instead.\n",
      "  df = df.append(pd.Series(predicted_values_actual[0][0], index=df.columns), ignore_index=True)\n"
     ]
    },
    {
     "name": "stdout",
     "output_type": "stream",
     "text": [
      "1/1 [==============================] - 0s 32ms/step\n",
      "1/1 [==============================] - 0s 49ms/step\n"
     ]
    },
    {
     "name": "stderr",
     "output_type": "stream",
     "text": [
      "C:\\Users\\riyab\\AppData\\Local\\Temp\\ipykernel_6436\\392193166.py:36: FutureWarning: The frame.append method is deprecated and will be removed from pandas in a future version. Use pandas.concat instead.\n",
      "  df = df.append(pd.Series(predicted_values_actual[0][0], index=df.columns), ignore_index=True)\n",
      "C:\\Users\\riyab\\AppData\\Local\\Temp\\ipykernel_6436\\392193166.py:36: FutureWarning: The frame.append method is deprecated and will be removed from pandas in a future version. Use pandas.concat instead.\n",
      "  df = df.append(pd.Series(predicted_values_actual[0][0], index=df.columns), ignore_index=True)\n"
     ]
    },
    {
     "name": "stdout",
     "output_type": "stream",
     "text": [
      "1/1 [==============================] - 0s 33ms/step\n",
      "1/1 [==============================] - 0s 33ms/step\n",
      "1/1 [==============================] - 0s 34ms/step\n"
     ]
    },
    {
     "name": "stderr",
     "output_type": "stream",
     "text": [
      "C:\\Users\\riyab\\AppData\\Local\\Temp\\ipykernel_6436\\392193166.py:36: FutureWarning: The frame.append method is deprecated and will be removed from pandas in a future version. Use pandas.concat instead.\n",
      "  df = df.append(pd.Series(predicted_values_actual[0][0], index=df.columns), ignore_index=True)\n",
      "C:\\Users\\riyab\\AppData\\Local\\Temp\\ipykernel_6436\\392193166.py:36: FutureWarning: The frame.append method is deprecated and will be removed from pandas in a future version. Use pandas.concat instead.\n",
      "  df = df.append(pd.Series(predicted_values_actual[0][0], index=df.columns), ignore_index=True)\n",
      "C:\\Users\\riyab\\AppData\\Local\\Temp\\ipykernel_6436\\392193166.py:36: FutureWarning: The frame.append method is deprecated and will be removed from pandas in a future version. Use pandas.concat instead.\n",
      "  df = df.append(pd.Series(predicted_values_actual[0][0], index=df.columns), ignore_index=True)\n"
     ]
    },
    {
     "name": "stdout",
     "output_type": "stream",
     "text": [
      "1/1 [==============================] - 0s 17ms/step\n",
      "1/1 [==============================] - 0s 16ms/step\n",
      "1/1 [==============================] - 0s 20ms/step\n"
     ]
    },
    {
     "name": "stderr",
     "output_type": "stream",
     "text": [
      "C:\\Users\\riyab\\AppData\\Local\\Temp\\ipykernel_6436\\392193166.py:36: FutureWarning: The frame.append method is deprecated and will be removed from pandas in a future version. Use pandas.concat instead.\n",
      "  df = df.append(pd.Series(predicted_values_actual[0][0], index=df.columns), ignore_index=True)\n",
      "C:\\Users\\riyab\\AppData\\Local\\Temp\\ipykernel_6436\\392193166.py:36: FutureWarning: The frame.append method is deprecated and will be removed from pandas in a future version. Use pandas.concat instead.\n",
      "  df = df.append(pd.Series(predicted_values_actual[0][0], index=df.columns), ignore_index=True)\n",
      "C:\\Users\\riyab\\AppData\\Local\\Temp\\ipykernel_6436\\392193166.py:36: FutureWarning: The frame.append method is deprecated and will be removed from pandas in a future version. Use pandas.concat instead.\n",
      "  df = df.append(pd.Series(predicted_values_actual[0][0], index=df.columns), ignore_index=True)\n"
     ]
    },
    {
     "name": "stdout",
     "output_type": "stream",
     "text": [
      "1/1 [==============================] - 0s 18ms/step\n",
      "1/1 [==============================] - 0s 33ms/step\n",
      "1/1 [==============================] - 0s 18ms/step\n"
     ]
    },
    {
     "name": "stderr",
     "output_type": "stream",
     "text": [
      "C:\\Users\\riyab\\AppData\\Local\\Temp\\ipykernel_6436\\392193166.py:36: FutureWarning: The frame.append method is deprecated and will be removed from pandas in a future version. Use pandas.concat instead.\n",
      "  df = df.append(pd.Series(predicted_values_actual[0][0], index=df.columns), ignore_index=True)\n",
      "C:\\Users\\riyab\\AppData\\Local\\Temp\\ipykernel_6436\\392193166.py:36: FutureWarning: The frame.append method is deprecated and will be removed from pandas in a future version. Use pandas.concat instead.\n",
      "  df = df.append(pd.Series(predicted_values_actual[0][0], index=df.columns), ignore_index=True)\n",
      "C:\\Users\\riyab\\AppData\\Local\\Temp\\ipykernel_6436\\392193166.py:36: FutureWarning: The frame.append method is deprecated and will be removed from pandas in a future version. Use pandas.concat instead.\n",
      "  df = df.append(pd.Series(predicted_values_actual[0][0], index=df.columns), ignore_index=True)\n"
     ]
    },
    {
     "name": "stdout",
     "output_type": "stream",
     "text": [
      "1/1 [==============================] - 0s 18ms/step\n",
      "1/1 [==============================] - 0s 19ms/step\n",
      "1/1 [==============================] - 0s 32ms/step\n"
     ]
    },
    {
     "name": "stderr",
     "output_type": "stream",
     "text": [
      "C:\\Users\\riyab\\AppData\\Local\\Temp\\ipykernel_6436\\392193166.py:36: FutureWarning: The frame.append method is deprecated and will be removed from pandas in a future version. Use pandas.concat instead.\n",
      "  df = df.append(pd.Series(predicted_values_actual[0][0], index=df.columns), ignore_index=True)\n",
      "C:\\Users\\riyab\\AppData\\Local\\Temp\\ipykernel_6436\\392193166.py:36: FutureWarning: The frame.append method is deprecated and will be removed from pandas in a future version. Use pandas.concat instead.\n",
      "  df = df.append(pd.Series(predicted_values_actual[0][0], index=df.columns), ignore_index=True)\n",
      "C:\\Users\\riyab\\AppData\\Local\\Temp\\ipykernel_6436\\392193166.py:36: FutureWarning: The frame.append method is deprecated and will be removed from pandas in a future version. Use pandas.concat instead.\n",
      "  df = df.append(pd.Series(predicted_values_actual[0][0], index=df.columns), ignore_index=True)\n"
     ]
    },
    {
     "name": "stdout",
     "output_type": "stream",
     "text": [
      "1/1 [==============================] - 0s 17ms/step\n",
      "1/1 [==============================] - 0s 33ms/step\n",
      "1/1 [==============================] - ETA: 0s"
     ]
    },
    {
     "name": "stderr",
     "output_type": "stream",
     "text": [
      "C:\\Users\\riyab\\AppData\\Local\\Temp\\ipykernel_6436\\392193166.py:36: FutureWarning: The frame.append method is deprecated and will be removed from pandas in a future version. Use pandas.concat instead.\n",
      "  df = df.append(pd.Series(predicted_values_actual[0][0], index=df.columns), ignore_index=True)\n",
      "C:\\Users\\riyab\\AppData\\Local\\Temp\\ipykernel_6436\\392193166.py:36: FutureWarning: The frame.append method is deprecated and will be removed from pandas in a future version. Use pandas.concat instead.\n",
      "  df = df.append(pd.Series(predicted_values_actual[0][0], index=df.columns), ignore_index=True)\n"
     ]
    },
    {
     "name": "stdout",
     "output_type": "stream",
     "text": [
      "1/1 [==============================] - 0s 32ms/step\n",
      "1/1 [==============================] - 0s 17ms/step\n",
      "1/1 [==============================] - ETA: 0s"
     ]
    },
    {
     "name": "stderr",
     "output_type": "stream",
     "text": [
      "C:\\Users\\riyab\\AppData\\Local\\Temp\\ipykernel_6436\\392193166.py:36: FutureWarning: The frame.append method is deprecated and will be removed from pandas in a future version. Use pandas.concat instead.\n",
      "  df = df.append(pd.Series(predicted_values_actual[0][0], index=df.columns), ignore_index=True)\n",
      "C:\\Users\\riyab\\AppData\\Local\\Temp\\ipykernel_6436\\392193166.py:36: FutureWarning: The frame.append method is deprecated and will be removed from pandas in a future version. Use pandas.concat instead.\n",
      "  df = df.append(pd.Series(predicted_values_actual[0][0], index=df.columns), ignore_index=True)\n"
     ]
    },
    {
     "name": "stdout",
     "output_type": "stream",
     "text": [
      "1/1 [==============================] - 0s 33ms/step\n",
      "1/1 [==============================] - 0s 16ms/step\n",
      "1/1 [==============================] - 0s 17ms/step\n"
     ]
    },
    {
     "name": "stderr",
     "output_type": "stream",
     "text": [
      "C:\\Users\\riyab\\AppData\\Local\\Temp\\ipykernel_6436\\392193166.py:36: FutureWarning: The frame.append method is deprecated and will be removed from pandas in a future version. Use pandas.concat instead.\n",
      "  df = df.append(pd.Series(predicted_values_actual[0][0], index=df.columns), ignore_index=True)\n",
      "C:\\Users\\riyab\\AppData\\Local\\Temp\\ipykernel_6436\\392193166.py:36: FutureWarning: The frame.append method is deprecated and will be removed from pandas in a future version. Use pandas.concat instead.\n",
      "  df = df.append(pd.Series(predicted_values_actual[0][0], index=df.columns), ignore_index=True)\n",
      "C:\\Users\\riyab\\AppData\\Local\\Temp\\ipykernel_6436\\392193166.py:36: FutureWarning: The frame.append method is deprecated and will be removed from pandas in a future version. Use pandas.concat instead.\n",
      "  df = df.append(pd.Series(predicted_values_actual[0][0], index=df.columns), ignore_index=True)\n"
     ]
    },
    {
     "name": "stdout",
     "output_type": "stream",
     "text": [
      "1/1 [==============================] - 0s 17ms/step\n",
      "1/1 [==============================] - 0s 17ms/step\n",
      "1/1 [==============================] - 0s 32ms/step\n"
     ]
    },
    {
     "name": "stderr",
     "output_type": "stream",
     "text": [
      "C:\\Users\\riyab\\AppData\\Local\\Temp\\ipykernel_6436\\392193166.py:36: FutureWarning: The frame.append method is deprecated and will be removed from pandas in a future version. Use pandas.concat instead.\n",
      "  df = df.append(pd.Series(predicted_values_actual[0][0], index=df.columns), ignore_index=True)\n",
      "C:\\Users\\riyab\\AppData\\Local\\Temp\\ipykernel_6436\\392193166.py:36: FutureWarning: The frame.append method is deprecated and will be removed from pandas in a future version. Use pandas.concat instead.\n",
      "  df = df.append(pd.Series(predicted_values_actual[0][0], index=df.columns), ignore_index=True)\n"
     ]
    },
    {
     "name": "stdout",
     "output_type": "stream",
     "text": [
      "1/1 [==============================] - 0s 27ms/step\n",
      "1/1 [==============================] - 0s 16ms/step\n"
     ]
    },
    {
     "name": "stderr",
     "output_type": "stream",
     "text": [
      "C:\\Users\\riyab\\AppData\\Local\\Temp\\ipykernel_6436\\392193166.py:36: FutureWarning: The frame.append method is deprecated and will be removed from pandas in a future version. Use pandas.concat instead.\n",
      "  df = df.append(pd.Series(predicted_values_actual[0][0], index=df.columns), ignore_index=True)\n",
      "C:\\Users\\riyab\\AppData\\Local\\Temp\\ipykernel_6436\\392193166.py:36: FutureWarning: The frame.append method is deprecated and will be removed from pandas in a future version. Use pandas.concat instead.\n",
      "  df = df.append(pd.Series(predicted_values_actual[0][0], index=df.columns), ignore_index=True)\n",
      "C:\\Users\\riyab\\AppData\\Local\\Temp\\ipykernel_6436\\392193166.py:36: FutureWarning: The frame.append method is deprecated and will be removed from pandas in a future version. Use pandas.concat instead.\n",
      "  df = df.append(pd.Series(predicted_values_actual[0][0], index=df.columns), ignore_index=True)\n"
     ]
    },
    {
     "name": "stdout",
     "output_type": "stream",
     "text": [
      "1/1 [==============================] - 0s 34ms/step\n",
      "1/1 [==============================] - 0s 16ms/step\n",
      "1/1 [==============================] - 0s 34ms/step\n"
     ]
    },
    {
     "name": "stderr",
     "output_type": "stream",
     "text": [
      "C:\\Users\\riyab\\AppData\\Local\\Temp\\ipykernel_6436\\392193166.py:36: FutureWarning: The frame.append method is deprecated and will be removed from pandas in a future version. Use pandas.concat instead.\n",
      "  df = df.append(pd.Series(predicted_values_actual[0][0], index=df.columns), ignore_index=True)\n",
      "C:\\Users\\riyab\\AppData\\Local\\Temp\\ipykernel_6436\\392193166.py:36: FutureWarning: The frame.append method is deprecated and will be removed from pandas in a future version. Use pandas.concat instead.\n",
      "  df = df.append(pd.Series(predicted_values_actual[0][0], index=df.columns), ignore_index=True)\n",
      "C:\\Users\\riyab\\AppData\\Local\\Temp\\ipykernel_6436\\392193166.py:36: FutureWarning: The frame.append method is deprecated and will be removed from pandas in a future version. Use pandas.concat instead.\n",
      "  df = df.append(pd.Series(predicted_values_actual[0][0], index=df.columns), ignore_index=True)\n"
     ]
    },
    {
     "name": "stdout",
     "output_type": "stream",
     "text": [
      "1/1 [==============================] - 0s 33ms/step\n",
      "1/1 [==============================] - 0s 16ms/step\n",
      "1/1 [==============================] - 0s 8ms/step\n"
     ]
    },
    {
     "name": "stderr",
     "output_type": "stream",
     "text": [
      "C:\\Users\\riyab\\AppData\\Local\\Temp\\ipykernel_6436\\392193166.py:36: FutureWarning: The frame.append method is deprecated and will be removed from pandas in a future version. Use pandas.concat instead.\n",
      "  df = df.append(pd.Series(predicted_values_actual[0][0], index=df.columns), ignore_index=True)\n",
      "C:\\Users\\riyab\\AppData\\Local\\Temp\\ipykernel_6436\\392193166.py:36: FutureWarning: The frame.append method is deprecated and will be removed from pandas in a future version. Use pandas.concat instead.\n",
      "  df = df.append(pd.Series(predicted_values_actual[0][0], index=df.columns), ignore_index=True)\n",
      "C:\\Users\\riyab\\AppData\\Local\\Temp\\ipykernel_6436\\392193166.py:36: FutureWarning: The frame.append method is deprecated and will be removed from pandas in a future version. Use pandas.concat instead.\n",
      "  df = df.append(pd.Series(predicted_values_actual[0][0], index=df.columns), ignore_index=True)\n"
     ]
    },
    {
     "name": "stdout",
     "output_type": "stream",
     "text": [
      "1/1 [==============================] - 0s 32ms/step\n",
      "1/1 [==============================] - 0s 33ms/step\n"
     ]
    },
    {
     "name": "stderr",
     "output_type": "stream",
     "text": [
      "C:\\Users\\riyab\\AppData\\Local\\Temp\\ipykernel_6436\\392193166.py:36: FutureWarning: The frame.append method is deprecated and will be removed from pandas in a future version. Use pandas.concat instead.\n",
      "  df = df.append(pd.Series(predicted_values_actual[0][0], index=df.columns), ignore_index=True)\n",
      "C:\\Users\\riyab\\AppData\\Local\\Temp\\ipykernel_6436\\392193166.py:36: FutureWarning: The frame.append method is deprecated and will be removed from pandas in a future version. Use pandas.concat instead.\n",
      "  df = df.append(pd.Series(predicted_values_actual[0][0], index=df.columns), ignore_index=True)\n"
     ]
    },
    {
     "name": "stdout",
     "output_type": "stream",
     "text": [
      "1/1 [==============================] - 0s 34ms/step\n",
      "1/1 [==============================] - 0s 33ms/step\n",
      "1/1 [==============================] - 0s 33ms/step\n"
     ]
    },
    {
     "name": "stderr",
     "output_type": "stream",
     "text": [
      "C:\\Users\\riyab\\AppData\\Local\\Temp\\ipykernel_6436\\392193166.py:36: FutureWarning: The frame.append method is deprecated and will be removed from pandas in a future version. Use pandas.concat instead.\n",
      "  df = df.append(pd.Series(predicted_values_actual[0][0], index=df.columns), ignore_index=True)\n",
      "C:\\Users\\riyab\\AppData\\Local\\Temp\\ipykernel_6436\\392193166.py:36: FutureWarning: The frame.append method is deprecated and will be removed from pandas in a future version. Use pandas.concat instead.\n",
      "  df = df.append(pd.Series(predicted_values_actual[0][0], index=df.columns), ignore_index=True)\n",
      "C:\\Users\\riyab\\AppData\\Local\\Temp\\ipykernel_6436\\392193166.py:36: FutureWarning: The frame.append method is deprecated and will be removed from pandas in a future version. Use pandas.concat instead.\n",
      "  df = df.append(pd.Series(predicted_values_actual[0][0], index=df.columns), ignore_index=True)\n"
     ]
    },
    {
     "name": "stdout",
     "output_type": "stream",
     "text": [
      "1/1 [==============================] - 0s 17ms/step\n",
      "1/1 [==============================] - 0s 24ms/step\n",
      "1/1 [==============================] - 0s 34ms/step\n"
     ]
    },
    {
     "name": "stderr",
     "output_type": "stream",
     "text": [
      "C:\\Users\\riyab\\AppData\\Local\\Temp\\ipykernel_6436\\392193166.py:36: FutureWarning: The frame.append method is deprecated and will be removed from pandas in a future version. Use pandas.concat instead.\n",
      "  df = df.append(pd.Series(predicted_values_actual[0][0], index=df.columns), ignore_index=True)\n",
      "C:\\Users\\riyab\\AppData\\Local\\Temp\\ipykernel_6436\\392193166.py:36: FutureWarning: The frame.append method is deprecated and will be removed from pandas in a future version. Use pandas.concat instead.\n",
      "  df = df.append(pd.Series(predicted_values_actual[0][0], index=df.columns), ignore_index=True)\n",
      "C:\\Users\\riyab\\AppData\\Local\\Temp\\ipykernel_6436\\392193166.py:36: FutureWarning: The frame.append method is deprecated and will be removed from pandas in a future version. Use pandas.concat instead.\n",
      "  df = df.append(pd.Series(predicted_values_actual[0][0], index=df.columns), ignore_index=True)\n"
     ]
    },
    {
     "name": "stdout",
     "output_type": "stream",
     "text": [
      "1/1 [==============================] - 0s 33ms/step\n",
      "1/1 [==============================] - 0s 18ms/step\n",
      "1/1 [==============================] - 0s 33ms/step\n"
     ]
    },
    {
     "name": "stderr",
     "output_type": "stream",
     "text": [
      "C:\\Users\\riyab\\AppData\\Local\\Temp\\ipykernel_6436\\392193166.py:36: FutureWarning: The frame.append method is deprecated and will be removed from pandas in a future version. Use pandas.concat instead.\n",
      "  df = df.append(pd.Series(predicted_values_actual[0][0], index=df.columns), ignore_index=True)\n",
      "C:\\Users\\riyab\\AppData\\Local\\Temp\\ipykernel_6436\\392193166.py:36: FutureWarning: The frame.append method is deprecated and will be removed from pandas in a future version. Use pandas.concat instead.\n",
      "  df = df.append(pd.Series(predicted_values_actual[0][0], index=df.columns), ignore_index=True)\n"
     ]
    },
    {
     "name": "stdout",
     "output_type": "stream",
     "text": [
      "1/1 [==============================] - 0s 17ms/step\n"
     ]
    },
    {
     "name": "stderr",
     "output_type": "stream",
     "text": [
      "C:\\Users\\riyab\\AppData\\Local\\Temp\\ipykernel_6436\\392193166.py:36: FutureWarning: The frame.append method is deprecated and will be removed from pandas in a future version. Use pandas.concat instead.\n",
      "  df = df.append(pd.Series(predicted_values_actual[0][0], index=df.columns), ignore_index=True)\n",
      "C:\\Users\\riyab\\AppData\\Local\\Temp\\ipykernel_6436\\392193166.py:36: FutureWarning: The frame.append method is deprecated and will be removed from pandas in a future version. Use pandas.concat instead.\n",
      "  df = df.append(pd.Series(predicted_values_actual[0][0], index=df.columns), ignore_index=True)\n"
     ]
    },
    {
     "name": "stdout",
     "output_type": "stream",
     "text": [
      "1/1 [==============================] - 0s 49ms/step\n",
      "Predicted values for the next 48 time periods:\n",
      "[1.0417094, 1.0233362, 1.0065958, 0.99393034, 0.98587817, 0.9792604, 0.9740067, 0.96935564, 0.9649086, 0.96051174, 0.9561823, 0.95202833, 0.9481799, 0.9446565, 0.9414577, 0.93855226, 0.9359019, 0.9334746, 0.93124044, 0.9291777, 0.92727095, 0.9255079, 0.92387885, 0.9223742, 0.9209853, 0.91970336, 0.9185202, 0.9174281, 0.9164197, 0.91548836, 0.91462797, 0.91383326, 0.9130987, 0.9124202, 0.9117932, 0.91121364, 0.91067815, 0.9101832, 0.90972584, 0.90930295, 0.9089121, 0.9085508, 0.90821683, 0.9079081, 0.90762264, 0.9073587, 0.9071148, 0.9068893]\n"
     ]
    },
    {
     "name": "stderr",
     "output_type": "stream",
     "text": [
      "C:\\Users\\riyab\\AppData\\Local\\Temp\\ipykernel_6436\\392193166.py:36: FutureWarning: The frame.append method is deprecated and will be removed from pandas in a future version. Use pandas.concat instead.\n",
      "  df = df.append(pd.Series(predicted_values_actual[0][0], index=df.columns), ignore_index=True)\n"
     ]
    }
   ],
   "source": [
    "# Assuming you have already trained your LSTM model and defined 'model' variable\n",
    "\n",
    "import warnings\n",
    "warnings.filterwarnings(\"ignore\", message=\"X does not have valid feature names, but MinMaxScaler was fitted with feature names\")\n",
    "\n",
    "# Define the number of future time periods to predict\n",
    "num_periods = 48  # Adjust this according to your requirement\n",
    "\n",
    "# Initialize a list to store the predicted values for each future time period\n",
    "predicted_values_all = []\n",
    "\n",
    "# Loop over the number of future time periods to predict\n",
    "for _ in range(num_periods):\n",
    "    # Prepare the features for the next time period\n",
    "    X_next_period = df[target_column].values[-time_steps:].reshape(1, -1)\n",
    "    \n",
    "    # Reshape the features for scaling\n",
    "    X_next_period_reshaped = X_next_period.reshape(-1, 1)\n",
    "    \n",
    "    # Scale the features for the next time period\n",
    "    X_next_period_scaled = scaler.transform(X_next_period_reshaped)\n",
    "    \n",
    "    # Reshape the scaled features for LSTM input\n",
    "    X_next_period_scaled_reshaped = X_next_period_scaled.reshape(1, time_steps, 1)\n",
    "    \n",
    "    # Use the trained LSTM model to predict the target variable for the next time period\n",
    "    predicted_values = model.predict(X_next_period_scaled_reshaped)\n",
    "    \n",
    "    # Inverse transform the predicted values to get the actual values\n",
    "    predicted_values_actual = scaler.inverse_transform(predicted_values)\n",
    "    \n",
    "    # Append the predicted value to the list\n",
    "    predicted_values_all.append(predicted_values_actual[0][0])\n",
    "    \n",
    "    # Update the input data for the next iteration (shift the time steps by 1)\n",
    "    df = df.append(pd.Series(predicted_values_actual[0][0], index=df.columns), ignore_index=True)\n",
    "\n",
    "print(\"Predicted values for the next\", num_periods, \"time periods:\")\n",
    "print(predicted_values_all)\n",
    "\n",
    "\n",
    "\n"
   ]
  },
  {
   "cell_type": "code",
   "execution_count": 21,
   "id": "a6947955-0db5-4e87-a9c7-ab430ed49e27",
   "metadata": {},
   "outputs": [
    {
     "data": {
      "image/png": "[encoded data removed]",
      "text/plain": [
       "<Figure size 864x432 with 1 Axes>"
      ]
     },
     "metadata": {
      "needs_background": "light"
     },
     "output_type": "display_data"
    }
   ],
   "source": [
    "import matplotlib.pyplot as plt\n",
    "\n",
    "# Extracting the historical data and dates\n",
    "historical_dates = df.index.tolist()\n",
    "historical_values = df[target_column].values.tolist()\n",
    "\n",
    "# Plotting the historical and predicted values\n",
    "plt.figure(figsize=(12, 6))\n",
    "plt.plot(historical_dates, historical_values, label='Historical', color='blue')\n",
    "plt.plot(historical_dates[-len(predicted_values_all):], predicted_values_all, label='Predicted', color='red', linestyle='--', marker='o')\n",
    "plt.title('Historical vs Predicted Values')\n",
    "plt.xlabel('Date')\n",
    "plt.ylabel(target_column)\n",
    "plt.legend()\n",
    "plt.grid(True)\n",
    "plt.show()\n"
   ]
  },
  {
   "cell_type": "markdown",
   "id": "10b8ec2f-b2e9-4a87-8c64-b0cfc223c7e0",
   "metadata": {},
   "source": [
    "# Gasoloine"
   ]
  },
  {
   "cell_type": "markdown",
   "id": "5d7a4ea8-e24e-48f4-8c2a-15e115bd9baf",
   "metadata": {},
   "source": [
    "### Michigan"
   ]
  },
  {
   "cell_type": "code",
   "execution_count": 22,
   "id": "1eeb816c-d898-4fae-8065-89ecb694db47",
   "metadata": {},
   "outputs": [],
   "source": [
    "df = pd.read_excel(\"Retail_data_final.xlsx\")"
   ]
  },
  {
   "cell_type": "code",
   "execution_count": 23,
   "id": "e0c699d1-8edb-43ff-897d-3a367b69b072",
   "metadata": {},
   "outputs": [],
   "source": [
    "# Select the target column (utility_Michigan in this case)\n",
    "target_column = 'Gasoloine_Michigan'\n",
    "\n",
    "# Normalize the data\n",
    "scaler = MinMaxScaler()\n",
    "scaled_data = scaler.fit_transform(df[[target_column]])\n",
    "\n",
    "# Split data into training and testing sets\n",
    "train_size = int(len(scaled_data) * 0.8)\n",
    "train_data, test_data = scaled_data[:train_size], scaled_data[train_size:]\n",
    "\n",
    "# Prepare the data for LSTM\n",
    "def create_dataset(data, time_steps=1):\n",
    "    X, y = [], []\n",
    "    for i in range(len(data) - time_steps):\n",
    "        X.append(data[i:(i + time_steps)])\n",
    "        y.append(data[i + time_steps])\n",
    "    return np.array(X), np.array(y)\n",
    "\n",
    "time_steps = 12  # You can adjust the time steps as needed\n",
    "X_train, y_train = create_dataset(train_data, time_steps)\n",
    "X_test, y_test = create_dataset(test_data, time_steps)\n",
    "\n",
    "# Reshape data for LSTM\n",
    "X_train = np.reshape(X_train, (X_train.shape[0], X_train.shape[1], 1))\n",
    "X_test = np.reshape(X_test, (X_test.shape[0], X_test.shape[1], 1))"
   ]
  },
  {
   "cell_type": "code",
   "execution_count": 24,
   "id": "d787484f-b45d-45f5-81ea-47d1151b7dfa",
   "metadata": {},
   "outputs": [
    {
     "name": "stdout",
     "output_type": "stream",
     "text": [
      "Epoch 1/100\n",
      "7/7 [==============================] - 4s 12ms/step - loss: 0.1017\n",
      "Epoch 2/100\n",
      "7/7 [==============================] - 0s 15ms/step - loss: 0.0219\n",
      "Epoch 3/100\n",
      "7/7 [==============================] - 0s 15ms/step - loss: 0.0156\n",
      "Epoch 4/100\n",
      "7/7 [==============================] - 0s 12ms/step - loss: 0.0160\n",
      "Epoch 5/100\n",
      "7/7 [==============================] - 0s 12ms/step - loss: 0.0133\n",
      "Epoch 6/100\n",
      "7/7 [==============================] - 0s 11ms/step - loss: 0.0131\n",
      "Epoch 7/100\n",
      "7/7 [==============================] - 0s 13ms/step - loss: 0.0115\n",
      "Epoch 8/100\n",
      "7/7 [==============================] - 0s 15ms/step - loss: 0.0117\n",
      "Epoch 9/100\n",
      "7/7 [==============================] - 0s 15ms/step - loss: 0.0112\n",
      "Epoch 10/100\n",
      "7/7 [==============================] - 0s 14ms/step - loss: 0.0112\n",
      "Epoch 11/100\n",
      "7/7 [==============================] - 0s 14ms/step - loss: 0.0111\n",
      "Epoch 12/100\n",
      "7/7 [==============================] - 0s 15ms/step - loss: 0.0109\n",
      "Epoch 13/100\n",
      "7/7 [==============================] - 0s 14ms/step - loss: 0.0108\n",
      "Epoch 14/100\n",
      "7/7 [==============================] - 0s 14ms/step - loss: 0.0107\n",
      "Epoch 15/100\n",
      "7/7 [==============================] - 0s 14ms/step - loss: 0.0109\n",
      "Epoch 16/100\n",
      "7/7 [==============================] - 0s 11ms/step - loss: 0.0106\n",
      "Epoch 17/100\n",
      "7/7 [==============================] - 0s 15ms/step - loss: 0.0109\n",
      "Epoch 18/100\n",
      "7/7 [==============================] - 0s 14ms/step - loss: 0.0108\n",
      "Epoch 19/100\n",
      "7/7 [==============================] - 0s 16ms/step - loss: 0.0103\n",
      "Epoch 20/100\n",
      "7/7 [==============================] - 0s 13ms/step - loss: 0.0105\n",
      "Epoch 21/100\n",
      "7/7 [==============================] - 0s 12ms/step - loss: 0.0104\n",
      "Epoch 22/100\n",
      "7/7 [==============================] - 0s 14ms/step - loss: 0.0105\n",
      "Epoch 23/100\n",
      "7/7 [==============================] - 0s 11ms/step - loss: 0.0104\n",
      "Epoch 24/100\n",
      "7/7 [==============================] - 0s 14ms/step - loss: 0.0100\n",
      "Epoch 25/100\n",
      "7/7 [==============================] - 0s 14ms/step - loss: 0.0101\n",
      "Epoch 26/100\n",
      "7/7 [==============================] - 0s 14ms/step - loss: 0.0100\n",
      "Epoch 27/100\n",
      "7/7 [==============================] - 0s 14ms/step - loss: 0.0102\n",
      "Epoch 28/100\n",
      "7/7 [==============================] - 0s 14ms/step - loss: 0.0098\n",
      "Epoch 29/100\n",
      "7/7 [==============================] - 0s 14ms/step - loss: 0.0098\n",
      "Epoch 30/100\n",
      "7/7 [==============================] - 0s 14ms/step - loss: 0.0097\n",
      "Epoch 31/100\n",
      "7/7 [==============================] - 0s 11ms/step - loss: 0.0097\n",
      "Epoch 32/100\n",
      "7/7 [==============================] - 0s 14ms/step - loss: 0.0096\n",
      "Epoch 33/100\n",
      "7/7 [==============================] - 0s 11ms/step - loss: 0.0093\n",
      "Epoch 34/100\n",
      "7/7 [==============================] - 0s 14ms/step - loss: 0.0094\n",
      "Epoch 35/100\n",
      "7/7 [==============================] - 0s 8ms/step - loss: 0.0092\n",
      "Epoch 36/100\n",
      "7/7 [==============================] - 0s 10ms/step - loss: 0.0094\n",
      "Epoch 37/100\n",
      "7/7 [==============================] - 0s 11ms/step - loss: 0.0094\n",
      "Epoch 38/100\n",
      "7/7 [==============================] - 0s 11ms/step - loss: 0.0088\n",
      "Epoch 39/100\n",
      "7/7 [==============================] - 0s 8ms/step - loss: 0.0090\n",
      "Epoch 40/100\n",
      "7/7 [==============================] - 0s 14ms/step - loss: 0.0091\n",
      "Epoch 41/100\n",
      "7/7 [==============================] - 0s 14ms/step - loss: 0.0085\n",
      "Epoch 42/100\n",
      "7/7 [==============================] - 0s 14ms/step - loss: 0.0084\n",
      "Epoch 43/100\n",
      "7/7 [==============================] - 0s 11ms/step - loss: 0.0083\n",
      "Epoch 44/100\n",
      "7/7 [==============================] - 0s 14ms/step - loss: 0.0082\n",
      "Epoch 45/100\n",
      "7/7 [==============================] - 0s 14ms/step - loss: 0.0079\n",
      "Epoch 46/100\n",
      "7/7 [==============================] - 0s 14ms/step - loss: 0.0078\n",
      "Epoch 47/100\n",
      "7/7 [==============================] - 0s 13ms/step - loss: 0.0076\n",
      "Epoch 48/100\n",
      "7/7 [==============================] - 0s 11ms/step - loss: 0.0078\n",
      "Epoch 49/100\n",
      "7/7 [==============================] - 0s 12ms/step - loss: 0.0075\n",
      "Epoch 50/100\n",
      "7/7 [==============================] - 0s 11ms/step - loss: 0.0076\n",
      "Epoch 51/100\n",
      "7/7 [==============================] - 0s 15ms/step - loss: 0.0074\n",
      "Epoch 52/100\n",
      "7/7 [==============================] - 0s 13ms/step - loss: 0.0074\n",
      "Epoch 53/100\n",
      "7/7 [==============================] - 0s 12ms/step - loss: 0.0068\n",
      "Epoch 54/100\n",
      "7/7 [==============================] - 0s 13ms/step - loss: 0.0067\n",
      "Epoch 55/100\n",
      "7/7 [==============================] - 0s 13ms/step - loss: 0.0061\n",
      "Epoch 56/100\n",
      "7/7 [==============================] - 0s 14ms/step - loss: 0.0059\n",
      "Epoch 57/100\n",
      "7/7 [==============================] - 0s 14ms/step - loss: 0.0056\n",
      "Epoch 58/100\n",
      "7/7 [==============================] - 0s 15ms/step - loss: 0.0053\n",
      "Epoch 59/100\n",
      "7/7 [==============================] - 0s 12ms/step - loss: 0.0048\n",
      "Epoch 60/100\n",
      "7/7 [==============================] - 0s 11ms/step - loss: 0.0053\n",
      "Epoch 61/100\n",
      "7/7 [==============================] - 0s 11ms/step - loss: 0.0044\n",
      "Epoch 62/100\n",
      "7/7 [==============================] - 0s 14ms/step - loss: 0.0043\n",
      "Epoch 63/100\n",
      "7/7 [==============================] - 0s 14ms/step - loss: 0.0042\n",
      "Epoch 64/100\n",
      "7/7 [==============================] - 0s 15ms/step - loss: 0.0046\n",
      "Epoch 65/100\n",
      "7/7 [==============================] - 0s 13ms/step - loss: 0.0038\n",
      "Epoch 66/100\n",
      "7/7 [==============================] - 0s 14ms/step - loss: 0.0046\n",
      "Epoch 67/100\n",
      "7/7 [==============================] - 0s 16ms/step - loss: 0.0040\n",
      "Epoch 68/100\n",
      "7/7 [==============================] - 0s 15ms/step - loss: 0.0041\n",
      "Epoch 69/100\n",
      "7/7 [==============================] - 0s 10ms/step - loss: 0.0035\n",
      "Epoch 70/100\n",
      "7/7 [==============================] - 0s 14ms/step - loss: 0.0037\n",
      "Epoch 71/100\n",
      "7/7 [==============================] - 0s 11ms/step - loss: 0.0037\n",
      "Epoch 72/100\n",
      "7/7 [==============================] - 0s 14ms/step - loss: 0.0035\n",
      "Epoch 73/100\n",
      "7/7 [==============================] - 0s 17ms/step - loss: 0.0035\n",
      "Epoch 74/100\n",
      "7/7 [==============================] - 0s 13ms/step - loss: 0.0036\n",
      "Epoch 75/100\n",
      "7/7 [==============================] - 0s 14ms/step - loss: 0.0035\n",
      "Epoch 76/100\n",
      "7/7 [==============================] - 0s 15ms/step - loss: 0.0036\n",
      "Epoch 77/100\n",
      "7/7 [==============================] - 0s 14ms/step - loss: 0.0033\n",
      "Epoch 78/100\n",
      "7/7 [==============================] - 0s 16ms/step - loss: 0.0034\n",
      "Epoch 79/100\n",
      "7/7 [==============================] - 0s 14ms/step - loss: 0.0033\n",
      "Epoch 80/100\n",
      "7/7 [==============================] - 0s 14ms/step - loss: 0.0033\n",
      "Epoch 81/100\n",
      "7/7 [==============================] - 0s 11ms/step - loss: 0.0033\n",
      "Epoch 82/100\n",
      "7/7 [==============================] - 0s 15ms/step - loss: 0.0034\n",
      "Epoch 83/100\n",
      "7/7 [==============================] - 0s 16ms/step - loss: 0.0031\n",
      "Epoch 84/100\n",
      "7/7 [==============================] - 0s 14ms/step - loss: 0.0031\n",
      "Epoch 85/100\n",
      "7/7 [==============================] - 0s 11ms/step - loss: 0.0035\n",
      "Epoch 86/100\n",
      "7/7 [==============================] - 0s 14ms/step - loss: 0.0036\n",
      "Epoch 87/100\n",
      "7/7 [==============================] - 0s 14ms/step - loss: 0.0040\n",
      "Epoch 88/100\n",
      "7/7 [==============================] - 0s 14ms/step - loss: 0.0034\n",
      "Epoch 89/100\n",
      "7/7 [==============================] - 0s 12ms/step - loss: 0.0031\n",
      "Epoch 90/100\n",
      "7/7 [==============================] - 0s 12ms/step - loss: 0.0033\n",
      "Epoch 91/100\n",
      "7/7 [==============================] - 0s 11ms/step - loss: 0.0031\n",
      "Epoch 92/100\n",
      "7/7 [==============================] - 0s 13ms/step - loss: 0.0030\n",
      "Epoch 93/100\n",
      "7/7 [==============================] - 0s 13ms/step - loss: 0.0029\n",
      "Epoch 94/100\n",
      "7/7 [==============================] - 0s 14ms/step - loss: 0.0030\n",
      "Epoch 95/100\n",
      "7/7 [==============================] - 0s 12ms/step - loss: 0.0029\n",
      "Epoch 96/100\n",
      "7/7 [==============================] - 0s 11ms/step - loss: 0.0029\n",
      "Epoch 97/100\n",
      "7/7 [==============================] - 0s 14ms/step - loss: 0.0031\n",
      "Epoch 98/100\n",
      "7/7 [==============================] - 0s 14ms/step - loss: 0.0030\n",
      "Epoch 99/100\n",
      "7/7 [==============================] - 0s 14ms/step - loss: 0.0027\n",
      "Epoch 100/100\n",
      "7/7 [==============================] - 0s 14ms/step - loss: 0.0028\n",
      "7/7 [==============================] - 1s 6ms/step\n",
      "2/2 [==============================] - 0s 5ms/step\n"
     ]
    }
   ],
   "source": [
    "# Define the LSTM model\n",
    "model = Sequential()\n",
    "model.add(LSTM(units=50, return_sequences=True, input_shape=(X_train.shape[1], 1)))\n",
    "model.add(LSTM(units=50))\n",
    "model.add(Dense(units=1))\n",
    "model.compile(optimizer='adam', loss='mean_squared_error')\n",
    "\n",
    "# Train the model\n",
    "model.fit(X_train, y_train, epochs=100, batch_size=32)\n",
    "\n",
    "# Make predictions\n",
    "train_predictions = model.predict(X_train)\n",
    "test_predictions = model.predict(X_test)"
   ]
  },
  {
   "cell_type": "code",
   "execution_count": 25,
   "id": "e119d1a0-2467-470a-84be-12d471c4593e",
   "metadata": {},
   "outputs": [
    {
     "name": "stdout",
     "output_type": "stream",
     "text": [
      "Train RMSE: 0.22450171570041766\n",
      "Test RMSE: 0.37204304610444977\n",
      "Train MAE: 0.17254682712379943\n",
      "Test MAE: 0.29115497916677713\n"
     ]
    }
   ],
   "source": [
    "# Inverse transform the predictions\n",
    "train_predictions = scaler.inverse_transform(train_predictions)\n",
    "test_predictions = scaler.inverse_transform(test_predictions)\n",
    "y_train = scaler.inverse_transform(y_train)\n",
    "y_test = scaler.inverse_transform(y_test)\n",
    "\n",
    "# Calculate accuracy metrics\n",
    "train_rmse = np.sqrt(mean_squared_error(y_train, train_predictions))\n",
    "test_rmse = np.sqrt(mean_squared_error(y_test, test_predictions))\n",
    "train_mae = mean_absolute_error(y_train, train_predictions)\n",
    "test_mae = mean_absolute_error(y_test, test_predictions)\n",
    "\n",
    "print(\"Train RMSE:\", train_rmse)\n",
    "print(\"Test RMSE:\", test_rmse)\n",
    "print(\"Train MAE:\", train_mae)\n",
    "print(\"Test MAE:\", test_mae)"
   ]
  },
  {
   "cell_type": "code",
   "execution_count": 26,
   "id": "75ee19f0-5427-420e-b26d-e6ffaa1edf40",
   "metadata": {},
   "outputs": [
    {
     "data": {
      "image/png": "[encoded data removed]",
      "text/plain": [
       "<Figure size 1008x432 with 1 Axes>"
      ]
     },
     "metadata": {
      "needs_background": "light"
     },
     "output_type": "display_data"
    }
   ],
   "source": [
    "plt.figure(figsize=(14, 6))\n",
    "plt.plot(df.index[:-time_steps], df[target_column].values[:-time_steps], label='Actual', color='blue')\n",
    "plt.plot(df.index[time_steps:train_size], train_predictions, label='Train Predictions', color='green')\n",
    "plt.plot(df.index[train_size + time_steps:], test_predictions, label='Test Predictions', color='red')\n",
    "plt.title('LSTM Model Prediction vs Actual')\n",
    "plt.xlabel('Date')\n",
    "plt.ylabel(target_column)\n",
    "plt.legend()\n",
    "plt.show()\n"
   ]
  },
  {
   "cell_type": "code",
   "execution_count": 27,
   "id": "8672cc59-545a-4f04-85c9-82deab64585d",
   "metadata": {},
   "outputs": [
    {
     "name": "stdout",
     "output_type": "stream",
     "text": [
      "1/1 [==============================] - 0s 20ms/step\n",
      "Predicted values for the next time period:\n",
      "[[2.9272342]]\n"
     ]
    }
   ],
   "source": [
    "# Prepare the features for the next time period\n",
    "X_next_period = df[target_column].iloc[-time_steps:].values.reshape(1, time_steps, 1)\n",
    "\n",
    "# Reshape the features for scaling\n",
    "X_next_period_reshaped = X_next_period.reshape(-1, 1)\n",
    "\n",
    "# Scale the features for the next time period\n",
    "X_next_period_scaled = scaler.transform(X_next_period_reshaped)\n",
    "\n",
    "# Reshape the scaled features for LSTM input\n",
    "X_next_period_scaled_reshaped = X_next_period_scaled.reshape(1, time_steps, 1)\n",
    "\n",
    "try:\n",
    "    # Use the trained LSTM model to predict the target variable for the next time period\n",
    "    predicted_values = model.predict(X_next_period_scaled_reshaped)\n",
    "    \n",
    "    # Inverse transform the predicted values to get the actual values\n",
    "    predicted_values_actual = scaler.inverse_transform(predicted_values)\n",
    "    \n",
    "    print(\"Predicted values for the next time period:\")\n",
    "    print(predicted_values_actual)\n",
    "except Exception as e:\n",
    "    print(\"Error occurred during prediction:\", e)\n"
   ]
  },
  {
   "cell_type": "code",
   "execution_count": 28,
   "id": "cb2f241a-878e-423a-b397-a1bd187e89ea",
   "metadata": {},
   "outputs": [
    {
     "name": "stdout",
     "output_type": "stream",
     "text": [
      "1/1 [==============================] - 0s 21ms/step\n",
      "1/1 [==============================] - 0s 29ms/step\n",
      "1/1 [==============================] - 0s 20ms/step\n"
     ]
    },
    {
     "name": "stderr",
     "output_type": "stream",
     "text": [
      "C:\\Users\\riyab\\AppData\\Local\\Temp\\ipykernel_6436\\392193166.py:36: FutureWarning: The frame.append method is deprecated and will be removed from pandas in a future version. Use pandas.concat instead.\n",
      "  df = df.append(pd.Series(predicted_values_actual[0][0], index=df.columns), ignore_index=True)\n",
      "C:\\Users\\riyab\\AppData\\Local\\Temp\\ipykernel_6436\\392193166.py:36: FutureWarning: The frame.append method is deprecated and will be removed from pandas in a future version. Use pandas.concat instead.\n",
      "  df = df.append(pd.Series(predicted_values_actual[0][0], index=df.columns), ignore_index=True)\n",
      "C:\\Users\\riyab\\AppData\\Local\\Temp\\ipykernel_6436\\392193166.py:36: FutureWarning: The frame.append method is deprecated and will be removed from pandas in a future version. Use pandas.concat instead.\n",
      "  df = df.append(pd.Series(predicted_values_actual[0][0], index=df.columns), ignore_index=True)\n"
     ]
    },
    {
     "name": "stdout",
     "output_type": "stream",
     "text": [
      "1/1 [==============================] - 0s 19ms/step\n",
      "1/1 [==============================] - 0s 21ms/step\n",
      "1/1 [==============================] - 0s 21ms/step\n"
     ]
    },
    {
     "name": "stderr",
     "output_type": "stream",
     "text": [
      "C:\\Users\\riyab\\AppData\\Local\\Temp\\ipykernel_6436\\392193166.py:36: FutureWarning: The frame.append method is deprecated and will be removed from pandas in a future version. Use pandas.concat instead.\n",
      "  df = df.append(pd.Series(predicted_values_actual[0][0], index=df.columns), ignore_index=True)\n",
      "C:\\Users\\riyab\\AppData\\Local\\Temp\\ipykernel_6436\\392193166.py:36: FutureWarning: The frame.append method is deprecated and will be removed from pandas in a future version. Use pandas.concat instead.\n",
      "  df = df.append(pd.Series(predicted_values_actual[0][0], index=df.columns), ignore_index=True)\n",
      "C:\\Users\\riyab\\AppData\\Local\\Temp\\ipykernel_6436\\392193166.py:36: FutureWarning: The frame.append method is deprecated and will be removed from pandas in a future version. Use pandas.concat instead.\n",
      "  df = df.append(pd.Series(predicted_values_actual[0][0], index=df.columns), ignore_index=True)\n"
     ]
    },
    {
     "name": "stdout",
     "output_type": "stream",
     "text": [
      "1/1 [==============================] - 0s 23ms/step\n",
      "1/1 [==============================] - 0s 10ms/step\n",
      "1/1 [==============================] - 0s 29ms/step\n"
     ]
    },
    {
     "name": "stderr",
     "output_type": "stream",
     "text": [
      "C:\\Users\\riyab\\AppData\\Local\\Temp\\ipykernel_6436\\392193166.py:36: FutureWarning: The frame.append method is deprecated and will be removed from pandas in a future version. Use pandas.concat instead.\n",
      "  df = df.append(pd.Series(predicted_values_actual[0][0], index=df.columns), ignore_index=True)\n",
      "C:\\Users\\riyab\\AppData\\Local\\Temp\\ipykernel_6436\\392193166.py:36: FutureWarning: The frame.append method is deprecated and will be removed from pandas in a future version. Use pandas.concat instead.\n",
      "  df = df.append(pd.Series(predicted_values_actual[0][0], index=df.columns), ignore_index=True)\n",
      "C:\\Users\\riyab\\AppData\\Local\\Temp\\ipykernel_6436\\392193166.py:36: FutureWarning: The frame.append method is deprecated and will be removed from pandas in a future version. Use pandas.concat instead.\n",
      "  df = df.append(pd.Series(predicted_values_actual[0][0], index=df.columns), ignore_index=True)\n"
     ]
    },
    {
     "name": "stdout",
     "output_type": "stream",
     "text": [
      "1/1 [==============================] - 0s 33ms/step\n",
      "1/1 [==============================] - 0s 24ms/step\n",
      "1/1 [==============================] - 0s 20ms/step\n"
     ]
    },
    {
     "name": "stderr",
     "output_type": "stream",
     "text": [
      "C:\\Users\\riyab\\AppData\\Local\\Temp\\ipykernel_6436\\392193166.py:36: FutureWarning: The frame.append method is deprecated and will be removed from pandas in a future version. Use pandas.concat instead.\n",
      "  df = df.append(pd.Series(predicted_values_actual[0][0], index=df.columns), ignore_index=True)\n",
      "C:\\Users\\riyab\\AppData\\Local\\Temp\\ipykernel_6436\\392193166.py:36: FutureWarning: The frame.append method is deprecated and will be removed from pandas in a future version. Use pandas.concat instead.\n",
      "  df = df.append(pd.Series(predicted_values_actual[0][0], index=df.columns), ignore_index=True)\n",
      "C:\\Users\\riyab\\AppData\\Local\\Temp\\ipykernel_6436\\392193166.py:36: FutureWarning: The frame.append method is deprecated and will be removed from pandas in a future version. Use pandas.concat instead.\n",
      "  df = df.append(pd.Series(predicted_values_actual[0][0], index=df.columns), ignore_index=True)\n"
     ]
    },
    {
     "name": "stdout",
     "output_type": "stream",
     "text": [
      "1/1 [==============================] - 0s 34ms/step\n",
      "1/1 [==============================] - 0s 19ms/step\n",
      "1/1 [==============================] - 0s 12ms/step\n"
     ]
    },
    {
     "name": "stderr",
     "output_type": "stream",
     "text": [
      "C:\\Users\\riyab\\AppData\\Local\\Temp\\ipykernel_6436\\392193166.py:36: FutureWarning: The frame.append method is deprecated and will be removed from pandas in a future version. Use pandas.concat instead.\n",
      "  df = df.append(pd.Series(predicted_values_actual[0][0], index=df.columns), ignore_index=True)\n",
      "C:\\Users\\riyab\\AppData\\Local\\Temp\\ipykernel_6436\\392193166.py:36: FutureWarning: The frame.append method is deprecated and will be removed from pandas in a future version. Use pandas.concat instead.\n",
      "  df = df.append(pd.Series(predicted_values_actual[0][0], index=df.columns), ignore_index=True)\n",
      "C:\\Users\\riyab\\AppData\\Local\\Temp\\ipykernel_6436\\392193166.py:36: FutureWarning: The frame.append method is deprecated and will be removed from pandas in a future version. Use pandas.concat instead.\n",
      "  df = df.append(pd.Series(predicted_values_actual[0][0], index=df.columns), ignore_index=True)\n"
     ]
    },
    {
     "name": "stdout",
     "output_type": "stream",
     "text": [
      "1/1 [==============================] - 0s 13ms/step\n",
      "1/1 [==============================] - 0s 23ms/step\n",
      "1/1 [==============================] - 0s 33ms/step\n"
     ]
    },
    {
     "name": "stderr",
     "output_type": "stream",
     "text": [
      "C:\\Users\\riyab\\AppData\\Local\\Temp\\ipykernel_6436\\392193166.py:36: FutureWarning: The frame.append method is deprecated and will be removed from pandas in a future version. Use pandas.concat instead.\n",
      "  df = df.append(pd.Series(predicted_values_actual[0][0], index=df.columns), ignore_index=True)\n",
      "C:\\Users\\riyab\\AppData\\Local\\Temp\\ipykernel_6436\\392193166.py:36: FutureWarning: The frame.append method is deprecated and will be removed from pandas in a future version. Use pandas.concat instead.\n",
      "  df = df.append(pd.Series(predicted_values_actual[0][0], index=df.columns), ignore_index=True)\n",
      "C:\\Users\\riyab\\AppData\\Local\\Temp\\ipykernel_6436\\392193166.py:36: FutureWarning: The frame.append method is deprecated and will be removed from pandas in a future version. Use pandas.concat instead.\n",
      "  df = df.append(pd.Series(predicted_values_actual[0][0], index=df.columns), ignore_index=True)\n"
     ]
    },
    {
     "name": "stdout",
     "output_type": "stream",
     "text": [
      "1/1 [==============================] - 0s 33ms/step\n",
      "1/1 [==============================] - 0s 33ms/step\n"
     ]
    },
    {
     "name": "stderr",
     "output_type": "stream",
     "text": [
      "C:\\Users\\riyab\\AppData\\Local\\Temp\\ipykernel_6436\\392193166.py:36: FutureWarning: The frame.append method is deprecated and will be removed from pandas in a future version. Use pandas.concat instead.\n",
      "  df = df.append(pd.Series(predicted_values_actual[0][0], index=df.columns), ignore_index=True)\n",
      "C:\\Users\\riyab\\AppData\\Local\\Temp\\ipykernel_6436\\392193166.py:36: FutureWarning: The frame.append method is deprecated and will be removed from pandas in a future version. Use pandas.concat instead.\n",
      "  df = df.append(pd.Series(predicted_values_actual[0][0], index=df.columns), ignore_index=True)\n"
     ]
    },
    {
     "name": "stdout",
     "output_type": "stream",
     "text": [
      "1/1 [==============================] - 0s 33ms/step\n",
      "1/1 [==============================] - 0s 33ms/step\n"
     ]
    },
    {
     "name": "stderr",
     "output_type": "stream",
     "text": [
      "C:\\Users\\riyab\\AppData\\Local\\Temp\\ipykernel_6436\\392193166.py:36: FutureWarning: The frame.append method is deprecated and will be removed from pandas in a future version. Use pandas.concat instead.\n",
      "  df = df.append(pd.Series(predicted_values_actual[0][0], index=df.columns), ignore_index=True)\n",
      "C:\\Users\\riyab\\AppData\\Local\\Temp\\ipykernel_6436\\392193166.py:36: FutureWarning: The frame.append method is deprecated and will be removed from pandas in a future version. Use pandas.concat instead.\n",
      "  df = df.append(pd.Series(predicted_values_actual[0][0], index=df.columns), ignore_index=True)\n"
     ]
    },
    {
     "name": "stdout",
     "output_type": "stream",
     "text": [
      "1/1 [==============================] - 0s 33ms/step\n",
      "1/1 [==============================] - 0s 18ms/step\n",
      "1/1 [==============================] - 0s 33ms/step\n"
     ]
    },
    {
     "name": "stderr",
     "output_type": "stream",
     "text": [
      "C:\\Users\\riyab\\AppData\\Local\\Temp\\ipykernel_6436\\392193166.py:36: FutureWarning: The frame.append method is deprecated and will be removed from pandas in a future version. Use pandas.concat instead.\n",
      "  df = df.append(pd.Series(predicted_values_actual[0][0], index=df.columns), ignore_index=True)\n",
      "C:\\Users\\riyab\\AppData\\Local\\Temp\\ipykernel_6436\\392193166.py:36: FutureWarning: The frame.append method is deprecated and will be removed from pandas in a future version. Use pandas.concat instead.\n",
      "  df = df.append(pd.Series(predicted_values_actual[0][0], index=df.columns), ignore_index=True)\n",
      "C:\\Users\\riyab\\AppData\\Local\\Temp\\ipykernel_6436\\392193166.py:36: FutureWarning: The frame.append method is deprecated and will be removed from pandas in a future version. Use pandas.concat instead.\n",
      "  df = df.append(pd.Series(predicted_values_actual[0][0], index=df.columns), ignore_index=True)\n"
     ]
    },
    {
     "name": "stdout",
     "output_type": "stream",
     "text": [
      "1/1 [==============================] - 0s 34ms/step\n",
      "1/1 [==============================] - 0s 33ms/step\n",
      "1/1 [==============================] - ETA: 0s"
     ]
    },
    {
     "name": "stderr",
     "output_type": "stream",
     "text": [
      "C:\\Users\\riyab\\AppData\\Local\\Temp\\ipykernel_6436\\392193166.py:36: FutureWarning: The frame.append method is deprecated and will be removed from pandas in a future version. Use pandas.concat instead.\n",
      "  df = df.append(pd.Series(predicted_values_actual[0][0], index=df.columns), ignore_index=True)\n",
      "C:\\Users\\riyab\\AppData\\Local\\Temp\\ipykernel_6436\\392193166.py:36: FutureWarning: The frame.append method is deprecated and will be removed from pandas in a future version. Use pandas.concat instead.\n",
      "  df = df.append(pd.Series(predicted_values_actual[0][0], index=df.columns), ignore_index=True)\n"
     ]
    },
    {
     "name": "stdout",
     "output_type": "stream",
     "text": [
      "1/1 [==============================] - 0s 34ms/step\n",
      "1/1 [==============================] - 0s 20ms/step\n",
      "1/1 [==============================] - 0s 27ms/step\n"
     ]
    },
    {
     "name": "stderr",
     "output_type": "stream",
     "text": [
      "C:\\Users\\riyab\\AppData\\Local\\Temp\\ipykernel_6436\\392193166.py:36: FutureWarning: The frame.append method is deprecated and will be removed from pandas in a future version. Use pandas.concat instead.\n",
      "  df = df.append(pd.Series(predicted_values_actual[0][0], index=df.columns), ignore_index=True)\n",
      "C:\\Users\\riyab\\AppData\\Local\\Temp\\ipykernel_6436\\392193166.py:36: FutureWarning: The frame.append method is deprecated and will be removed from pandas in a future version. Use pandas.concat instead.\n",
      "  df = df.append(pd.Series(predicted_values_actual[0][0], index=df.columns), ignore_index=True)\n",
      "C:\\Users\\riyab\\AppData\\Local\\Temp\\ipykernel_6436\\392193166.py:36: FutureWarning: The frame.append method is deprecated and will be removed from pandas in a future version. Use pandas.concat instead.\n",
      "  df = df.append(pd.Series(predicted_values_actual[0][0], index=df.columns), ignore_index=True)\n"
     ]
    },
    {
     "name": "stdout",
     "output_type": "stream",
     "text": [
      "1/1 [==============================] - 0s 30ms/step\n",
      "1/1 [==============================] - 0s 29ms/step\n",
      "1/1 [==============================] - 0s 19ms/step\n",
      "1/1 [==============================] - ETA: 0s"
     ]
    },
    {
     "name": "stderr",
     "output_type": "stream",
     "text": [
      "C:\\Users\\riyab\\AppData\\Local\\Temp\\ipykernel_6436\\392193166.py:36: FutureWarning: The frame.append method is deprecated and will be removed from pandas in a future version. Use pandas.concat instead.\n",
      "  df = df.append(pd.Series(predicted_values_actual[0][0], index=df.columns), ignore_index=True)\n",
      "C:\\Users\\riyab\\AppData\\Local\\Temp\\ipykernel_6436\\392193166.py:36: FutureWarning: The frame.append method is deprecated and will be removed from pandas in a future version. Use pandas.concat instead.\n",
      "  df = df.append(pd.Series(predicted_values_actual[0][0], index=df.columns), ignore_index=True)\n",
      "C:\\Users\\riyab\\AppData\\Local\\Temp\\ipykernel_6436\\392193166.py:36: FutureWarning: The frame.append method is deprecated and will be removed from pandas in a future version. Use pandas.concat instead.\n",
      "  df = df.append(pd.Series(predicted_values_actual[0][0], index=df.columns), ignore_index=True)\n"
     ]
    },
    {
     "name": "stdout",
     "output_type": "stream",
     "text": [
      "1/1 [==============================] - 0s 21ms/step\n",
      "1/1 [==============================] - 0s 21ms/step\n",
      "1/1 [==============================] - ETA: 0s"
     ]
    },
    {
     "name": "stderr",
     "output_type": "stream",
     "text": [
      "C:\\Users\\riyab\\AppData\\Local\\Temp\\ipykernel_6436\\392193166.py:36: FutureWarning: The frame.append method is deprecated and will be removed from pandas in a future version. Use pandas.concat instead.\n",
      "  df = df.append(pd.Series(predicted_values_actual[0][0], index=df.columns), ignore_index=True)\n",
      "C:\\Users\\riyab\\AppData\\Local\\Temp\\ipykernel_6436\\392193166.py:36: FutureWarning: The frame.append method is deprecated and will be removed from pandas in a future version. Use pandas.concat instead.\n",
      "  df = df.append(pd.Series(predicted_values_actual[0][0], index=df.columns), ignore_index=True)\n"
     ]
    },
    {
     "name": "stdout",
     "output_type": "stream",
     "text": [
      "1/1 [==============================] - 0s 26ms/step\n",
      "1/1 [==============================] - 0s 32ms/step\n",
      "1/1 [==============================] - 0s 16ms/step\n"
     ]
    },
    {
     "name": "stderr",
     "output_type": "stream",
     "text": [
      "C:\\Users\\riyab\\AppData\\Local\\Temp\\ipykernel_6436\\392193166.py:36: FutureWarning: The frame.append method is deprecated and will be removed from pandas in a future version. Use pandas.concat instead.\n",
      "  df = df.append(pd.Series(predicted_values_actual[0][0], index=df.columns), ignore_index=True)\n",
      "C:\\Users\\riyab\\AppData\\Local\\Temp\\ipykernel_6436\\392193166.py:36: FutureWarning: The frame.append method is deprecated and will be removed from pandas in a future version. Use pandas.concat instead.\n",
      "  df = df.append(pd.Series(predicted_values_actual[0][0], index=df.columns), ignore_index=True)\n"
     ]
    },
    {
     "name": "stdout",
     "output_type": "stream",
     "text": [
      "1/1 [==============================] - 0s 21ms/step\n",
      "1/1 [==============================] - 0s 16ms/step\n"
     ]
    },
    {
     "name": "stderr",
     "output_type": "stream",
     "text": [
      "C:\\Users\\riyab\\AppData\\Local\\Temp\\ipykernel_6436\\392193166.py:36: FutureWarning: The frame.append method is deprecated and will be removed from pandas in a future version. Use pandas.concat instead.\n",
      "  df = df.append(pd.Series(predicted_values_actual[0][0], index=df.columns), ignore_index=True)\n",
      "C:\\Users\\riyab\\AppData\\Local\\Temp\\ipykernel_6436\\392193166.py:36: FutureWarning: The frame.append method is deprecated and will be removed from pandas in a future version. Use pandas.concat instead.\n",
      "  df = df.append(pd.Series(predicted_values_actual[0][0], index=df.columns), ignore_index=True)\n",
      "C:\\Users\\riyab\\AppData\\Local\\Temp\\ipykernel_6436\\392193166.py:36: FutureWarning: The frame.append method is deprecated and will be removed from pandas in a future version. Use pandas.concat instead.\n",
      "  df = df.append(pd.Series(predicted_values_actual[0][0], index=df.columns), ignore_index=True)\n"
     ]
    },
    {
     "name": "stdout",
     "output_type": "stream",
     "text": [
      "1/1 [==============================] - 0s 15ms/step\n",
      "1/1 [==============================] - 0s 23ms/step\n",
      "1/1 [==============================] - ETA: 0s"
     ]
    },
    {
     "name": "stderr",
     "output_type": "stream",
     "text": [
      "C:\\Users\\riyab\\AppData\\Local\\Temp\\ipykernel_6436\\392193166.py:36: FutureWarning: The frame.append method is deprecated and will be removed from pandas in a future version. Use pandas.concat instead.\n",
      "  df = df.append(pd.Series(predicted_values_actual[0][0], index=df.columns), ignore_index=True)\n",
      "C:\\Users\\riyab\\AppData\\Local\\Temp\\ipykernel_6436\\392193166.py:36: FutureWarning: The frame.append method is deprecated and will be removed from pandas in a future version. Use pandas.concat instead.\n",
      "  df = df.append(pd.Series(predicted_values_actual[0][0], index=df.columns), ignore_index=True)\n"
     ]
    },
    {
     "name": "stdout",
     "output_type": "stream",
     "text": [
      "1/1 [==============================] - 0s 35ms/step\n",
      "1/1 [==============================] - 0s 19ms/step\n",
      "1/1 [==============================] - 0s 20ms/step\n",
      "1/1 [==============================] - ETA: 0s"
     ]
    },
    {
     "name": "stderr",
     "output_type": "stream",
     "text": [
      "C:\\Users\\riyab\\AppData\\Local\\Temp\\ipykernel_6436\\392193166.py:36: FutureWarning: The frame.append method is deprecated and will be removed from pandas in a future version. Use pandas.concat instead.\n",
      "  df = df.append(pd.Series(predicted_values_actual[0][0], index=df.columns), ignore_index=True)\n",
      "C:\\Users\\riyab\\AppData\\Local\\Temp\\ipykernel_6436\\392193166.py:36: FutureWarning: The frame.append method is deprecated and will be removed from pandas in a future version. Use pandas.concat instead.\n",
      "  df = df.append(pd.Series(predicted_values_actual[0][0], index=df.columns), ignore_index=True)\n",
      "C:\\Users\\riyab\\AppData\\Local\\Temp\\ipykernel_6436\\392193166.py:36: FutureWarning: The frame.append method is deprecated and will be removed from pandas in a future version. Use pandas.concat instead.\n",
      "  df = df.append(pd.Series(predicted_values_actual[0][0], index=df.columns), ignore_index=True)\n"
     ]
    },
    {
     "name": "stdout",
     "output_type": "stream",
     "text": [
      "1/1 [==============================] - 0s 8ms/step\n",
      "1/1 [==============================] - 0s 19ms/step\n",
      "1/1 [==============================] - 0s 25ms/step\n",
      "Predicted values for the next 48 time periods:\n",
      "[2.9272342, 2.7728407, 2.699178, 2.6980243, 2.7497294, 2.8333533, 2.923115, 3.000567, 3.0444849, 3.0474296, 3.0107603, 2.9394865, 2.8491056, 2.7558918, 2.6762104, 2.6211095, 2.5944107, 2.5931675, 2.6099293, 2.635489, 2.66093, 2.6792598, 2.6861541, 2.6802022, 2.6627414, 2.6371005, 2.6077216, 2.5791051, 2.5548854, 2.5372083, 2.5265498, 2.5219562, 2.5215425, 2.5230756, 2.5244813, 2.5242038, 2.521385, 2.5158718, 2.5080998, 2.4988842, 2.4891884, 2.4799054, 2.4716947, 2.4649036, 2.4595644, 2.4554558, 2.4522011, 2.4493759]\n"
     ]
    },
    {
     "name": "stderr",
     "output_type": "stream",
     "text": [
      "C:\\Users\\riyab\\AppData\\Local\\Temp\\ipykernel_6436\\392193166.py:36: FutureWarning: The frame.append method is deprecated and will be removed from pandas in a future version. Use pandas.concat instead.\n",
      "  df = df.append(pd.Series(predicted_values_actual[0][0], index=df.columns), ignore_index=True)\n",
      "C:\\Users\\riyab\\AppData\\Local\\Temp\\ipykernel_6436\\392193166.py:36: FutureWarning: The frame.append method is deprecated and will be removed from pandas in a future version. Use pandas.concat instead.\n",
      "  df = df.append(pd.Series(predicted_values_actual[0][0], index=df.columns), ignore_index=True)\n",
      "C:\\Users\\riyab\\AppData\\Local\\Temp\\ipykernel_6436\\392193166.py:36: FutureWarning: The frame.append method is deprecated and will be removed from pandas in a future version. Use pandas.concat instead.\n",
      "  df = df.append(pd.Series(predicted_values_actual[0][0], index=df.columns), ignore_index=True)\n"
     ]
    }
   ],
   "source": [
    "# Assuming you have already trained your LSTM model and defined 'model' variable\n",
    "\n",
    "import warnings\n",
    "warnings.filterwarnings(\"ignore\", message=\"X does not have valid feature names, but MinMaxScaler was fitted with feature names\")\n",
    "\n",
    "# Define the number of future time periods to predict\n",
    "num_periods = 48  # Adjust this according to your requirement\n",
    "\n",
    "# Initialize a list to store the predicted values for each future time period\n",
    "predicted_values_all = []\n",
    "\n",
    "# Loop over the number of future time periods to predict\n",
    "for _ in range(num_periods):\n",
    "    # Prepare the features for the next time period\n",
    "    X_next_period = df[target_column].values[-time_steps:].reshape(1, -1)\n",
    "    \n",
    "    # Reshape the features for scaling\n",
    "    X_next_period_reshaped = X_next_period.reshape(-1, 1)\n",
    "    \n",
    "    # Scale the features for the next time period\n",
    "    X_next_period_scaled = scaler.transform(X_next_period_reshaped)\n",
    "    \n",
    "    # Reshape the scaled features for LSTM input\n",
    "    X_next_period_scaled_reshaped = X_next_period_scaled.reshape(1, time_steps, 1)\n",
    "    \n",
    "    # Use the trained LSTM model to predict the target variable for the next time period\n",
    "    predicted_values = model.predict(X_next_period_scaled_reshaped)\n",
    "    \n",
    "    # Inverse transform the predicted values to get the actual values\n",
    "    predicted_values_actual = scaler.inverse_transform(predicted_values)\n",
    "    \n",
    "    # Append the predicted value to the list\n",
    "    predicted_values_all.append(predicted_values_actual[0][0])\n",
    "    \n",
    "    # Update the input data for the next iteration (shift the time steps by 1)\n",
    "    df = df.append(pd.Series(predicted_values_actual[0][0], index=df.columns), ignore_index=True)\n",
    "\n",
    "print(\"Predicted values for the next\", num_periods, \"time periods:\")\n",
    "print(predicted_values_all)\n",
    "\n",
    "\n",
    "\n"
   ]
  },
  {
   "cell_type": "code",
   "execution_count": 29,
   "id": "adb8d94f-239d-4811-803d-549d41a49bac",
   "metadata": {},
   "outputs": [
    {
     "data": {
      "image/png": "[encoded data removed]",
      "text/plain": [
       "<Figure size 864x432 with 1 Axes>"
      ]
     },
     "metadata": {
      "needs_background": "light"
     },
     "output_type": "display_data"
    }
   ],
   "source": [
    "import matplotlib.pyplot as plt\n",
    "\n",
    "# Extracting the historical data and dates\n",
    "historical_dates = df.index.tolist()\n",
    "historical_values = df[target_column].values.tolist()\n",
    "\n",
    "# Plotting the historical and predicted values\n",
    "plt.figure(figsize=(12, 6))\n",
    "plt.plot(historical_dates, historical_values, label='Historical', color='blue')\n",
    "plt.plot(historical_dates[-len(predicted_values_all):], predicted_values_all, label='Predicted', color='red', linestyle='--', marker='o')\n",
    "plt.title('Historical vs Predicted Values')\n",
    "plt.xlabel('Date')\n",
    "plt.ylabel(target_column)\n",
    "plt.legend()\n",
    "plt.grid(True)\n",
    "plt.show()\n"
   ]
  },
  {
   "cell_type": "markdown",
   "id": "4b5e26fd-f8c1-4c30-80d6-18c32044f520",
   "metadata": {},
   "source": [
    "### Texas"
   ]
  },
  {
   "cell_type": "code",
   "execution_count": 30,
   "id": "8e2063fd-245d-4846-a470-472e3d6c5d6f",
   "metadata": {},
   "outputs": [],
   "source": [
    "df = pd.read_excel(\"Retail_data_final.xlsx\")"
   ]
  },
  {
   "cell_type": "code",
   "execution_count": 31,
   "id": "5a8a1576-3641-450a-82ab-b21b6a1328d9",
   "metadata": {},
   "outputs": [],
   "source": [
    "# Select the target column (utility_Michigan in this case)\n",
    "target_column = 'Gasoline_Texas'\n",
    "\n",
    "# Normalize the data\n",
    "scaler = MinMaxScaler()\n",
    "scaled_data = scaler.fit_transform(df[[target_column]])\n",
    "\n",
    "# Split data into training and testing sets\n",
    "train_size = int(len(scaled_data) * 0.8)\n",
    "train_data, test_data = scaled_data[:train_size], scaled_data[train_size:]\n",
    "\n",
    "# Prepare the data for LSTM\n",
    "def create_dataset(data, time_steps=1):\n",
    "    X, y = [], []\n",
    "    for i in range(len(data) - time_steps):\n",
    "        X.append(data[i:(i + time_steps)])\n",
    "        y.append(data[i + time_steps])\n",
    "    return np.array(X), np.array(y)\n",
    "\n",
    "time_steps = 12  # You can adjust the time steps as needed\n",
    "X_train, y_train = create_dataset(train_data, time_steps)\n",
    "X_test, y_test = create_dataset(test_data, time_steps)\n",
    "\n",
    "# Reshape data for LSTM\n",
    "X_train = np.reshape(X_train, (X_train.shape[0], X_train.shape[1], 1))\n",
    "X_test = np.reshape(X_test, (X_test.shape[0], X_test.shape[1], 1))"
   ]
  },
  {
   "cell_type": "code",
   "execution_count": 32,
   "id": "1f7c6ea5-c0b7-474c-8b94-a988e38cb24e",
   "metadata": {},
   "outputs": [
    {
     "name": "stdout",
     "output_type": "stream",
     "text": [
      "Epoch 1/100\n",
      "7/7 [==============================] - 3s 11ms/step - loss: 0.1201\n",
      "Epoch 2/100\n",
      "7/7 [==============================] - 0s 8ms/step - loss: 0.0245\n",
      "Epoch 3/100\n",
      "7/7 [==============================] - 0s 8ms/step - loss: 0.0192\n",
      "Epoch 4/100\n",
      "7/7 [==============================] - 0s 12ms/step - loss: 0.0180\n",
      "Epoch 5/100\n",
      "7/7 [==============================] - 0s 14ms/step - loss: 0.0152\n",
      "Epoch 6/100\n",
      "7/7 [==============================] - 0s 14ms/step - loss: 0.0148\n",
      "Epoch 7/100\n",
      "7/7 [==============================] - 0s 15ms/step - loss: 0.0134\n",
      "Epoch 8/100\n",
      "7/7 [==============================] - 0s 13ms/step - loss: 0.0137\n",
      "Epoch 9/100\n",
      "7/7 [==============================] - 0s 14ms/step - loss: 0.0133\n",
      "Epoch 10/100\n",
      "7/7 [==============================] - 0s 14ms/step - loss: 0.0130\n",
      "Epoch 11/100\n",
      "7/7 [==============================] - 0s 13ms/step - loss: 0.0130\n",
      "Epoch 12/100\n",
      "7/7 [==============================] - 0s 16ms/step - loss: 0.0125\n",
      "Epoch 13/100\n",
      "7/7 [==============================] - 0s 13ms/step - loss: 0.0127\n",
      "Epoch 14/100\n",
      "7/7 [==============================] - 0s 14ms/step - loss: 0.0126\n",
      "Epoch 15/100\n",
      "7/7 [==============================] - 0s 13ms/step - loss: 0.0122\n",
      "Epoch 16/100\n",
      "7/7 [==============================] - 0s 14ms/step - loss: 0.0124\n",
      "Epoch 17/100\n",
      "7/7 [==============================] - 0s 17ms/step - loss: 0.0121\n",
      "Epoch 18/100\n",
      "7/7 [==============================] - 0s 17ms/step - loss: 0.0121\n",
      "Epoch 19/100\n",
      "7/7 [==============================] - 0s 14ms/step - loss: 0.0122\n",
      "Epoch 20/100\n",
      "7/7 [==============================] - 0s 11ms/step - loss: 0.0117\n",
      "Epoch 21/100\n",
      "7/7 [==============================] - 0s 13ms/step - loss: 0.0116\n",
      "Epoch 22/100\n",
      "7/7 [==============================] - 0s 13ms/step - loss: 0.0117\n",
      "Epoch 23/100\n",
      "7/7 [==============================] - 0s 10ms/step - loss: 0.0113\n",
      "Epoch 24/100\n",
      "7/7 [==============================] - 0s 11ms/step - loss: 0.0113\n",
      "Epoch 25/100\n",
      "7/7 [==============================] - 0s 11ms/step - loss: 0.0111\n",
      "Epoch 26/100\n",
      "7/7 [==============================] - 0s 12ms/step - loss: 0.0110\n",
      "Epoch 27/100\n",
      "7/7 [==============================] - 0s 13ms/step - loss: 0.0110\n",
      "Epoch 28/100\n",
      "7/7 [==============================] - 0s 13ms/step - loss: 0.0106\n",
      "Epoch 29/100\n",
      "7/7 [==============================] - 0s 13ms/step - loss: 0.0106\n",
      "Epoch 30/100\n",
      "7/7 [==============================] - 0s 16ms/step - loss: 0.0103\n",
      "Epoch 31/100\n",
      "7/7 [==============================] - 0s 14ms/step - loss: 0.0101\n",
      "Epoch 32/100\n",
      "7/7 [==============================] - 0s 10ms/step - loss: 0.0100\n",
      "Epoch 33/100\n",
      "7/7 [==============================] - 0s 12ms/step - loss: 0.0099\n",
      "Epoch 34/100\n",
      "7/7 [==============================] - 0s 14ms/step - loss: 0.0096\n",
      "Epoch 35/100\n",
      "7/7 [==============================] - 0s 14ms/step - loss: 0.0096\n",
      "Epoch 36/100\n",
      "7/7 [==============================] - 0s 14ms/step - loss: 0.0096\n",
      "Epoch 37/100\n",
      "7/7 [==============================] - 0s 14ms/step - loss: 0.0092\n",
      "Epoch 38/100\n",
      "7/7 [==============================] - 0s 12ms/step - loss: 0.0089\n",
      "Epoch 39/100\n",
      "7/7 [==============================] - 0s 14ms/step - loss: 0.0088\n",
      "Epoch 40/100\n",
      "7/7 [==============================] - 0s 13ms/step - loss: 0.0086\n",
      "Epoch 41/100\n",
      "7/7 [==============================] - 0s 14ms/step - loss: 0.0090\n",
      "Epoch 42/100\n",
      "7/7 [==============================] - 0s 10ms/step - loss: 0.0088\n",
      "Epoch 43/100\n",
      "7/7 [==============================] - 0s 9ms/step - loss: 0.0082\n",
      "Epoch 44/100\n",
      "7/7 [==============================] - 0s 7ms/step - loss: 0.0081\n",
      "Epoch 45/100\n",
      "7/7 [==============================] - 0s 11ms/step - loss: 0.0077\n",
      "Epoch 46/100\n",
      "7/7 [==============================] - 0s 15ms/step - loss: 0.0074\n",
      "Epoch 47/100\n",
      "7/7 [==============================] - 0s 15ms/step - loss: 0.0072\n",
      "Epoch 48/100\n",
      "7/7 [==============================] - 0s 15ms/step - loss: 0.0067\n",
      "Epoch 49/100\n",
      "7/7 [==============================] - 0s 14ms/step - loss: 0.0065\n",
      "Epoch 50/100\n",
      "7/7 [==============================] - 0s 15ms/step - loss: 0.0062\n",
      "Epoch 51/100\n",
      "7/7 [==============================] - 0s 15ms/step - loss: 0.0060\n",
      "Epoch 52/100\n",
      "7/7 [==============================] - 0s 15ms/step - loss: 0.0057\n",
      "Epoch 53/100\n",
      "7/7 [==============================] - 0s 15ms/step - loss: 0.0053\n",
      "Epoch 54/100\n",
      "7/7 [==============================] - 0s 15ms/step - loss: 0.0055\n",
      "Epoch 55/100\n",
      "7/7 [==============================] - 0s 17ms/step - loss: 0.0049\n",
      "Epoch 56/100\n",
      "7/7 [==============================] - 0s 15ms/step - loss: 0.0048\n",
      "Epoch 57/100\n",
      "7/7 [==============================] - 0s 15ms/step - loss: 0.0060\n",
      "Epoch 58/100\n",
      "7/7 [==============================] - 0s 14ms/step - loss: 0.0053\n",
      "Epoch 59/100\n",
      "7/7 [==============================] - 0s 15ms/step - loss: 0.0045\n",
      "Epoch 60/100\n",
      "7/7 [==============================] - 0s 15ms/step - loss: 0.0044\n",
      "Epoch 61/100\n",
      "7/7 [==============================] - 0s 14ms/step - loss: 0.0043\n",
      "Epoch 62/100\n",
      "7/7 [==============================] - 0s 16ms/step - loss: 0.0042\n",
      "Epoch 63/100\n",
      "7/7 [==============================] - 0s 15ms/step - loss: 0.0041\n",
      "Epoch 64/100\n",
      "7/7 [==============================] - 0s 64ms/step - loss: 0.0041\n",
      "Epoch 65/100\n",
      "7/7 [==============================] - 0s 16ms/step - loss: 0.0042\n",
      "Epoch 66/100\n",
      "7/7 [==============================] - 0s 17ms/step - loss: 0.0043\n",
      "Epoch 67/100\n",
      "7/7 [==============================] - 0s 15ms/step - loss: 0.0042\n",
      "Epoch 68/100\n",
      "7/7 [==============================] - 0s 16ms/step - loss: 0.0043\n",
      "Epoch 69/100\n",
      "7/7 [==============================] - 0s 17ms/step - loss: 0.0050\n",
      "Epoch 70/100\n",
      "7/7 [==============================] - 0s 16ms/step - loss: 0.0042\n",
      "Epoch 71/100\n",
      "7/7 [==============================] - 0s 16ms/step - loss: 0.0041\n",
      "Epoch 72/100\n",
      "7/7 [==============================] - 0s 15ms/step - loss: 0.0038\n",
      "Epoch 73/100\n",
      "7/7 [==============================] - 0s 17ms/step - loss: 0.0037\n",
      "Epoch 74/100\n",
      "7/7 [==============================] - 0s 15ms/step - loss: 0.0036\n",
      "Epoch 75/100\n",
      "7/7 [==============================] - 0s 16ms/step - loss: 0.0037\n",
      "Epoch 76/100\n",
      "7/7 [==============================] - 0s 16ms/step - loss: 0.0036\n",
      "Epoch 77/100\n",
      "7/7 [==============================] - 0s 10ms/step - loss: 0.0038\n",
      "Epoch 78/100\n",
      "7/7 [==============================] - 0s 10ms/step - loss: 0.0034\n",
      "Epoch 79/100\n",
      "7/7 [==============================] - 0s 9ms/step - loss: 0.0039\n",
      "Epoch 80/100\n",
      "7/7 [==============================] - 0s 12ms/step - loss: 0.0035\n",
      "Epoch 81/100\n",
      "7/7 [==============================] - 0s 10ms/step - loss: 0.0035\n",
      "Epoch 82/100\n",
      "7/7 [==============================] - 0s 9ms/step - loss: 0.0033\n",
      "Epoch 83/100\n",
      "7/7 [==============================] - 0s 9ms/step - loss: 0.0035\n",
      "Epoch 84/100\n",
      "7/7 [==============================] - 0s 9ms/step - loss: 0.0036\n",
      "Epoch 85/100\n",
      "7/7 [==============================] - 0s 9ms/step - loss: 0.0037\n",
      "Epoch 86/100\n",
      "7/7 [==============================] - 0s 10ms/step - loss: 0.0033\n",
      "Epoch 87/100\n",
      "7/7 [==============================] - 0s 10ms/step - loss: 0.0036\n",
      "Epoch 88/100\n",
      "7/7 [==============================] - 0s 10ms/step - loss: 0.0031\n",
      "Epoch 89/100\n",
      "7/7 [==============================] - 0s 10ms/step - loss: 0.0031\n",
      "Epoch 90/100\n",
      "7/7 [==============================] - 0s 8ms/step - loss: 0.0030\n",
      "Epoch 91/100\n",
      "7/7 [==============================] - 0s 8ms/step - loss: 0.0031\n",
      "Epoch 92/100\n",
      "7/7 [==============================] - 0s 10ms/step - loss: 0.0032\n",
      "Epoch 93/100\n",
      "7/7 [==============================] - 0s 10ms/step - loss: 0.0031\n",
      "Epoch 94/100\n",
      "7/7 [==============================] - 0s 9ms/step - loss: 0.0030\n",
      "Epoch 95/100\n",
      "7/7 [==============================] - 0s 8ms/step - loss: 0.0035\n",
      "Epoch 96/100\n",
      "7/7 [==============================] - 0s 10ms/step - loss: 0.0036\n",
      "Epoch 97/100\n",
      "7/7 [==============================] - 0s 9ms/step - loss: 0.0036\n",
      "Epoch 98/100\n",
      "7/7 [==============================] - 0s 8ms/step - loss: 0.0037\n",
      "Epoch 99/100\n",
      "7/7 [==============================] - 0s 8ms/step - loss: 0.0034\n",
      "Epoch 100/100\n",
      "7/7 [==============================] - 0s 9ms/step - loss: 0.0030\n",
      "7/7 [==============================] - 1s 6ms/step\n",
      "2/2 [==============================] - 0s 17ms/step\n"
     ]
    }
   ],
   "source": [
    "# Define the LSTM model\n",
    "model = Sequential()\n",
    "model.add(LSTM(units=50, return_sequences=True, input_shape=(X_train.shape[1], 1)))\n",
    "model.add(LSTM(units=50))\n",
    "model.add(Dense(units=1))\n",
    "model.compile(optimizer='adam', loss='mean_squared_error')\n",
    "\n",
    "# Train the model\n",
    "model.fit(X_train, y_train, epochs=100, batch_size=32)\n",
    "\n",
    "# Make predictions\n",
    "train_predictions = model.predict(X_train)\n",
    "test_predictions = model.predict(X_test)"
   ]
  },
  {
   "cell_type": "code",
   "execution_count": 33,
   "id": "3678c0ec-cb57-4530-9d77-a725462e286c",
   "metadata": {},
   "outputs": [
    {
     "name": "stdout",
     "output_type": "stream",
     "text": [
      "Train RMSE: 0.20215586876385574\n",
      "Test RMSE: 0.29831059562867795\n",
      "Train MAE: 0.15525766812333278\n",
      "Test MAE: 0.22746104134684025\n"
     ]
    }
   ],
   "source": [
    "# Inverse transform the predictions\n",
    "train_predictions = scaler.inverse_transform(train_predictions)\n",
    "test_predictions = scaler.inverse_transform(test_predictions)\n",
    "y_train = scaler.inverse_transform(y_train)\n",
    "y_test = scaler.inverse_transform(y_test)\n",
    "\n",
    "# Calculate accuracy metrics\n",
    "train_rmse = np.sqrt(mean_squared_error(y_train, train_predictions))\n",
    "test_rmse = np.sqrt(mean_squared_error(y_test, test_predictions))\n",
    "train_mae = mean_absolute_error(y_train, train_predictions)\n",
    "test_mae = mean_absolute_error(y_test, test_predictions)\n",
    "\n",
    "print(\"Train RMSE:\", train_rmse)\n",
    "print(\"Test RMSE:\", test_rmse)\n",
    "print(\"Train MAE:\", train_mae)\n",
    "print(\"Test MAE:\", test_mae)"
   ]
  },
  {
   "cell_type": "code",
   "execution_count": 34,
   "id": "9787b22e-5e37-43c1-99d4-d9a806adcf65",
   "metadata": {},
   "outputs": [
    {
     "data": {
      "image/png": "[encoded data removed]",
      "text/plain": [
       "<Figure size 1008x432 with 1 Axes>"
      ]
     },
     "metadata": {
      "needs_background": "light"
     },
     "output_type": "display_data"
    }
   ],
   "source": [
    "plt.figure(figsize=(14, 6))\n",
    "plt.plot(df.index[:-time_steps], df[target_column].values[:-time_steps], label='Actual', color='blue')\n",
    "plt.plot(df.index[time_steps:train_size], train_predictions, label='Train Predictions', color='green')\n",
    "plt.plot(df.index[train_size + time_steps:], test_predictions, label='Test Predictions', color='red')\n",
    "plt.title('LSTM Model Prediction vs Actual')\n",
    "plt.xlabel('Date')\n",
    "plt.ylabel(target_column)\n",
    "plt.legend()\n",
    "plt.show()\n"
   ]
  },
  {
   "cell_type": "code",
   "execution_count": 35,
   "id": "d633a0d3-506a-46b7-a852-5746db3676d0",
   "metadata": {},
   "outputs": [
    {
     "name": "stdout",
     "output_type": "stream",
     "text": [
      "1/1 [==============================] - 0s 35ms/step\n",
      "Predicted values for the next time period:\n",
      "[[2.517534]]\n"
     ]
    }
   ],
   "source": [
    "# Prepare the features for the next time period\n",
    "X_next_period = df[target_column].iloc[-time_steps:].values.reshape(1, time_steps, 1)\n",
    "\n",
    "# Reshape the features for scaling\n",
    "X_next_period_reshaped = X_next_period.reshape(-1, 1)\n",
    "\n",
    "# Scale the features for the next time period\n",
    "X_next_period_scaled = scaler.transform(X_next_period_reshaped)\n",
    "\n",
    "# Reshape the scaled features for LSTM input\n",
    "X_next_period_scaled_reshaped = X_next_period_scaled.reshape(1, time_steps, 1)\n",
    "\n",
    "try:\n",
    "    # Use the trained LSTM model to predict the target variable for the next time period\n",
    "    predicted_values = model.predict(X_next_period_scaled_reshaped)\n",
    "    \n",
    "    # Inverse transform the predicted values to get the actual values\n",
    "    predicted_values_actual = scaler.inverse_transform(predicted_values)\n",
    "    \n",
    "    print(\"Predicted values for the next time period:\")\n",
    "    print(predicted_values_actual)\n",
    "except Exception as e:\n",
    "    print(\"Error occurred during prediction:\", e)\n"
   ]
  },
  {
   "cell_type": "code",
   "execution_count": 36,
   "id": "9f094281-bfc4-448e-9ba6-0d338df31b62",
   "metadata": {},
   "outputs": [
    {
     "name": "stdout",
     "output_type": "stream",
     "text": [
      "1/1 [==============================] - 0s 18ms/step\n",
      "1/1 [==============================] - 0s 33ms/step\n",
      "1/1 [==============================] - 0s 34ms/step\n"
     ]
    },
    {
     "name": "stderr",
     "output_type": "stream",
     "text": [
      "C:\\Users\\riyab\\AppData\\Local\\Temp\\ipykernel_6436\\2330509836.py:36: FutureWarning: The frame.append method is deprecated and will be removed from pandas in a future version. Use pandas.concat instead.\n",
      "  df = df.append(pd.Series(predicted_values_actual[0][0], index=df.columns), ignore_index=True)\n",
      "C:\\Users\\riyab\\AppData\\Local\\Temp\\ipykernel_6436\\2330509836.py:36: FutureWarning: The frame.append method is deprecated and will be removed from pandas in a future version. Use pandas.concat instead.\n",
      "  df = df.append(pd.Series(predicted_values_actual[0][0], index=df.columns), ignore_index=True)\n"
     ]
    },
    {
     "name": "stdout",
     "output_type": "stream",
     "text": [
      "1/1 [==============================] - 0s 30ms/step\n"
     ]
    },
    {
     "name": "stderr",
     "output_type": "stream",
     "text": [
      "C:\\Users\\riyab\\AppData\\Local\\Temp\\ipykernel_6436\\2330509836.py:36: FutureWarning: The frame.append method is deprecated and will be removed from pandas in a future version. Use pandas.concat instead.\n",
      "  df = df.append(pd.Series(predicted_values_actual[0][0], index=df.columns), ignore_index=True)\n",
      "C:\\Users\\riyab\\AppData\\Local\\Temp\\ipykernel_6436\\2330509836.py:36: FutureWarning: The frame.append method is deprecated and will be removed from pandas in a future version. Use pandas.concat instead.\n",
      "  df = df.append(pd.Series(predicted_values_actual[0][0], index=df.columns), ignore_index=True)\n"
     ]
    },
    {
     "name": "stdout",
     "output_type": "stream",
     "text": [
      "1/1 [==============================] - 0s 49ms/step\n",
      "1/1 [==============================] - 0s 37ms/step\n",
      "1/1 [==============================] - ETA: 0s"
     ]
    },
    {
     "name": "stderr",
     "output_type": "stream",
     "text": [
      "C:\\Users\\riyab\\AppData\\Local\\Temp\\ipykernel_6436\\2330509836.py:36: FutureWarning: The frame.append method is deprecated and will be removed from pandas in a future version. Use pandas.concat instead.\n",
      "  df = df.append(pd.Series(predicted_values_actual[0][0], index=df.columns), ignore_index=True)\n",
      "C:\\Users\\riyab\\AppData\\Local\\Temp\\ipykernel_6436\\2330509836.py:36: FutureWarning: The frame.append method is deprecated and will be removed from pandas in a future version. Use pandas.concat instead.\n",
      "  df = df.append(pd.Series(predicted_values_actual[0][0], index=df.columns), ignore_index=True)\n"
     ]
    },
    {
     "name": "stdout",
     "output_type": "stream",
     "text": [
      "1/1 [==============================] - 0s 32ms/step\n",
      "1/1 [==============================] - 0s 31ms/step\n",
      "1/1 [==============================] - ETA: 0s"
     ]
    },
    {
     "name": "stderr",
     "output_type": "stream",
     "text": [
      "C:\\Users\\riyab\\AppData\\Local\\Temp\\ipykernel_6436\\2330509836.py:36: FutureWarning: The frame.append method is deprecated and will be removed from pandas in a future version. Use pandas.concat instead.\n",
      "  df = df.append(pd.Series(predicted_values_actual[0][0], index=df.columns), ignore_index=True)\n",
      "C:\\Users\\riyab\\AppData\\Local\\Temp\\ipykernel_6436\\2330509836.py:36: FutureWarning: The frame.append method is deprecated and will be removed from pandas in a future version. Use pandas.concat instead.\n",
      "  df = df.append(pd.Series(predicted_values_actual[0][0], index=df.columns), ignore_index=True)\n"
     ]
    },
    {
     "name": "stdout",
     "output_type": "stream",
     "text": [
      "1/1 [==============================] - 0s 49ms/step\n",
      "1/1 [==============================] - 0s 34ms/step\n"
     ]
    },
    {
     "name": "stderr",
     "output_type": "stream",
     "text": [
      "C:\\Users\\riyab\\AppData\\Local\\Temp\\ipykernel_6436\\2330509836.py:36: FutureWarning: The frame.append method is deprecated and will be removed from pandas in a future version. Use pandas.concat instead.\n",
      "  df = df.append(pd.Series(predicted_values_actual[0][0], index=df.columns), ignore_index=True)\n",
      "C:\\Users\\riyab\\AppData\\Local\\Temp\\ipykernel_6436\\2330509836.py:36: FutureWarning: The frame.append method is deprecated and will be removed from pandas in a future version. Use pandas.concat instead.\n",
      "  df = df.append(pd.Series(predicted_values_actual[0][0], index=df.columns), ignore_index=True)\n"
     ]
    },
    {
     "name": "stdout",
     "output_type": "stream",
     "text": [
      "1/1 [==============================] - 0s 17ms/step\n",
      "1/1 [==============================] - 0s 33ms/step\n",
      "1/1 [==============================] - 0s 33ms/step\n"
     ]
    },
    {
     "name": "stderr",
     "output_type": "stream",
     "text": [
      "C:\\Users\\riyab\\AppData\\Local\\Temp\\ipykernel_6436\\2330509836.py:36: FutureWarning: The frame.append method is deprecated and will be removed from pandas in a future version. Use pandas.concat instead.\n",
      "  df = df.append(pd.Series(predicted_values_actual[0][0], index=df.columns), ignore_index=True)\n",
      "C:\\Users\\riyab\\AppData\\Local\\Temp\\ipykernel_6436\\2330509836.py:36: FutureWarning: The frame.append method is deprecated and will be removed from pandas in a future version. Use pandas.concat instead.\n",
      "  df = df.append(pd.Series(predicted_values_actual[0][0], index=df.columns), ignore_index=True)\n"
     ]
    },
    {
     "name": "stdout",
     "output_type": "stream",
     "text": [
      "1/1 [==============================] - 0s 30ms/step\n",
      "1/1 [==============================] - 0s 33ms/step\n"
     ]
    },
    {
     "name": "stderr",
     "output_type": "stream",
     "text": [
      "C:\\Users\\riyab\\AppData\\Local\\Temp\\ipykernel_6436\\2330509836.py:36: FutureWarning: The frame.append method is deprecated and will be removed from pandas in a future version. Use pandas.concat instead.\n",
      "  df = df.append(pd.Series(predicted_values_actual[0][0], index=df.columns), ignore_index=True)\n",
      "C:\\Users\\riyab\\AppData\\Local\\Temp\\ipykernel_6436\\2330509836.py:36: FutureWarning: The frame.append method is deprecated and will be removed from pandas in a future version. Use pandas.concat instead.\n",
      "  df = df.append(pd.Series(predicted_values_actual[0][0], index=df.columns), ignore_index=True)\n"
     ]
    },
    {
     "name": "stdout",
     "output_type": "stream",
     "text": [
      "1/1 [==============================] - 0s 33ms/step\n",
      "1/1 [==============================] - ETA: 0s"
     ]
    },
    {
     "name": "stderr",
     "output_type": "stream",
     "text": [
      "C:\\Users\\riyab\\AppData\\Local\\Temp\\ipykernel_6436\\2330509836.py:36: FutureWarning: The frame.append method is deprecated and will be removed from pandas in a future version. Use pandas.concat instead.\n",
      "  df = df.append(pd.Series(predicted_values_actual[0][0], index=df.columns), ignore_index=True)\n",
      "C:\\Users\\riyab\\AppData\\Local\\Temp\\ipykernel_6436\\2330509836.py:36: FutureWarning: The frame.append method is deprecated and will be removed from pandas in a future version. Use pandas.concat instead.\n",
      "  df = df.append(pd.Series(predicted_values_actual[0][0], index=df.columns), ignore_index=True)\n"
     ]
    },
    {
     "name": "stdout",
     "output_type": "stream",
     "text": [
      "1/1 [==============================] - 0s 48ms/step\n",
      "1/1 [==============================] - 0s 33ms/step\n"
     ]
    },
    {
     "name": "stderr",
     "output_type": "stream",
     "text": [
      "C:\\Users\\riyab\\AppData\\Local\\Temp\\ipykernel_6436\\2330509836.py:36: FutureWarning: The frame.append method is deprecated and will be removed from pandas in a future version. Use pandas.concat instead.\n",
      "  df = df.append(pd.Series(predicted_values_actual[0][0], index=df.columns), ignore_index=True)\n",
      "C:\\Users\\riyab\\AppData\\Local\\Temp\\ipykernel_6436\\2330509836.py:36: FutureWarning: The frame.append method is deprecated and will be removed from pandas in a future version. Use pandas.concat instead.\n",
      "  df = df.append(pd.Series(predicted_values_actual[0][0], index=df.columns), ignore_index=True)\n"
     ]
    },
    {
     "name": "stdout",
     "output_type": "stream",
     "text": [
      "1/1 [==============================] - 0s 32ms/step\n",
      "1/1 [==============================] - 0s 33ms/step\n"
     ]
    },
    {
     "name": "stderr",
     "output_type": "stream",
     "text": [
      "C:\\Users\\riyab\\AppData\\Local\\Temp\\ipykernel_6436\\2330509836.py:36: FutureWarning: The frame.append method is deprecated and will be removed from pandas in a future version. Use pandas.concat instead.\n",
      "  df = df.append(pd.Series(predicted_values_actual[0][0], index=df.columns), ignore_index=True)\n",
      "C:\\Users\\riyab\\AppData\\Local\\Temp\\ipykernel_6436\\2330509836.py:36: FutureWarning: The frame.append method is deprecated and will be removed from pandas in a future version. Use pandas.concat instead.\n",
      "  df = df.append(pd.Series(predicted_values_actual[0][0], index=df.columns), ignore_index=True)\n"
     ]
    },
    {
     "name": "stdout",
     "output_type": "stream",
     "text": [
      "1/1 [==============================] - 0s 34ms/step\n",
      "1/1 [==============================] - 0s 33ms/step\n"
     ]
    },
    {
     "name": "stderr",
     "output_type": "stream",
     "text": [
      "C:\\Users\\riyab\\AppData\\Local\\Temp\\ipykernel_6436\\2330509836.py:36: FutureWarning: The frame.append method is deprecated and will be removed from pandas in a future version. Use pandas.concat instead.\n",
      "  df = df.append(pd.Series(predicted_values_actual[0][0], index=df.columns), ignore_index=True)\n",
      "C:\\Users\\riyab\\AppData\\Local\\Temp\\ipykernel_6436\\2330509836.py:36: FutureWarning: The frame.append method is deprecated and will be removed from pandas in a future version. Use pandas.concat instead.\n",
      "  df = df.append(pd.Series(predicted_values_actual[0][0], index=df.columns), ignore_index=True)\n"
     ]
    },
    {
     "name": "stdout",
     "output_type": "stream",
     "text": [
      "1/1 [==============================] - 0s 33ms/step\n",
      "1/1 [==============================] - 0s 19ms/step\n",
      "1/1 [==============================] - 0s 33ms/step\n"
     ]
    },
    {
     "name": "stderr",
     "output_type": "stream",
     "text": [
      "C:\\Users\\riyab\\AppData\\Local\\Temp\\ipykernel_6436\\2330509836.py:36: FutureWarning: The frame.append method is deprecated and will be removed from pandas in a future version. Use pandas.concat instead.\n",
      "  df = df.append(pd.Series(predicted_values_actual[0][0], index=df.columns), ignore_index=True)\n",
      "C:\\Users\\riyab\\AppData\\Local\\Temp\\ipykernel_6436\\2330509836.py:36: FutureWarning: The frame.append method is deprecated and will be removed from pandas in a future version. Use pandas.concat instead.\n",
      "  df = df.append(pd.Series(predicted_values_actual[0][0], index=df.columns), ignore_index=True)\n",
      "C:\\Users\\riyab\\AppData\\Local\\Temp\\ipykernel_6436\\2330509836.py:36: FutureWarning: The frame.append method is deprecated and will be removed from pandas in a future version. Use pandas.concat instead.\n",
      "  df = df.append(pd.Series(predicted_values_actual[0][0], index=df.columns), ignore_index=True)\n"
     ]
    },
    {
     "name": "stdout",
     "output_type": "stream",
     "text": [
      "1/1 [==============================] - 0s 34ms/step\n",
      "1/1 [==============================] - 0s 32ms/step\n",
      "1/1 [==============================] - 0s 17ms/step\n"
     ]
    },
    {
     "name": "stderr",
     "output_type": "stream",
     "text": [
      "C:\\Users\\riyab\\AppData\\Local\\Temp\\ipykernel_6436\\2330509836.py:36: FutureWarning: The frame.append method is deprecated and will be removed from pandas in a future version. Use pandas.concat instead.\n",
      "  df = df.append(pd.Series(predicted_values_actual[0][0], index=df.columns), ignore_index=True)\n",
      "C:\\Users\\riyab\\AppData\\Local\\Temp\\ipykernel_6436\\2330509836.py:36: FutureWarning: The frame.append method is deprecated and will be removed from pandas in a future version. Use pandas.concat instead.\n",
      "  df = df.append(pd.Series(predicted_values_actual[0][0], index=df.columns), ignore_index=True)\n"
     ]
    },
    {
     "name": "stdout",
     "output_type": "stream",
     "text": [
      "1/1 [==============================] - 0s 33ms/step\n",
      "1/1 [==============================] - 0s 17ms/step\n"
     ]
    },
    {
     "name": "stderr",
     "output_type": "stream",
     "text": [
      "C:\\Users\\riyab\\AppData\\Local\\Temp\\ipykernel_6436\\2330509836.py:36: FutureWarning: The frame.append method is deprecated and will be removed from pandas in a future version. Use pandas.concat instead.\n",
      "  df = df.append(pd.Series(predicted_values_actual[0][0], index=df.columns), ignore_index=True)\n",
      "C:\\Users\\riyab\\AppData\\Local\\Temp\\ipykernel_6436\\2330509836.py:36: FutureWarning: The frame.append method is deprecated and will be removed from pandas in a future version. Use pandas.concat instead.\n",
      "  df = df.append(pd.Series(predicted_values_actual[0][0], index=df.columns), ignore_index=True)\n",
      "C:\\Users\\riyab\\AppData\\Local\\Temp\\ipykernel_6436\\2330509836.py:36: FutureWarning: The frame.append method is deprecated and will be removed from pandas in a future version. Use pandas.concat instead.\n",
      "  df = df.append(pd.Series(predicted_values_actual[0][0], index=df.columns), ignore_index=True)\n"
     ]
    },
    {
     "name": "stdout",
     "output_type": "stream",
     "text": [
      "1/1 [==============================] - 0s 36ms/step\n",
      "1/1 [==============================] - 0s 35ms/step\n",
      "1/1 [==============================] - ETA: 0s"
     ]
    },
    {
     "name": "stderr",
     "output_type": "stream",
     "text": [
      "C:\\Users\\riyab\\AppData\\Local\\Temp\\ipykernel_6436\\2330509836.py:36: FutureWarning: The frame.append method is deprecated and will be removed from pandas in a future version. Use pandas.concat instead.\n",
      "  df = df.append(pd.Series(predicted_values_actual[0][0], index=df.columns), ignore_index=True)\n",
      "C:\\Users\\riyab\\AppData\\Local\\Temp\\ipykernel_6436\\2330509836.py:36: FutureWarning: The frame.append method is deprecated and will be removed from pandas in a future version. Use pandas.concat instead.\n",
      "  df = df.append(pd.Series(predicted_values_actual[0][0], index=df.columns), ignore_index=True)\n"
     ]
    },
    {
     "name": "stdout",
     "output_type": "stream",
     "text": [
      "1/1 [==============================] - 0s 32ms/step\n",
      "1/1 [==============================] - 0s 33ms/step\n",
      "1/1 [==============================] - 0s 33ms/step\n"
     ]
    },
    {
     "name": "stderr",
     "output_type": "stream",
     "text": [
      "C:\\Users\\riyab\\AppData\\Local\\Temp\\ipykernel_6436\\2330509836.py:36: FutureWarning: The frame.append method is deprecated and will be removed from pandas in a future version. Use pandas.concat instead.\n",
      "  df = df.append(pd.Series(predicted_values_actual[0][0], index=df.columns), ignore_index=True)\n",
      "C:\\Users\\riyab\\AppData\\Local\\Temp\\ipykernel_6436\\2330509836.py:36: FutureWarning: The frame.append method is deprecated and will be removed from pandas in a future version. Use pandas.concat instead.\n",
      "  df = df.append(pd.Series(predicted_values_actual[0][0], index=df.columns), ignore_index=True)\n",
      "C:\\Users\\riyab\\AppData\\Local\\Temp\\ipykernel_6436\\2330509836.py:36: FutureWarning: The frame.append method is deprecated and will be removed from pandas in a future version. Use pandas.concat instead.\n",
      "  df = df.append(pd.Series(predicted_values_actual[0][0], index=df.columns), ignore_index=True)\n"
     ]
    },
    {
     "name": "stdout",
     "output_type": "stream",
     "text": [
      "1/1 [==============================] - 0s 34ms/step\n",
      "1/1 [==============================] - 0s 21ms/step\n",
      "1/1 [==============================] - 0s 21ms/step\n"
     ]
    },
    {
     "name": "stderr",
     "output_type": "stream",
     "text": [
      "C:\\Users\\riyab\\AppData\\Local\\Temp\\ipykernel_6436\\2330509836.py:36: FutureWarning: The frame.append method is deprecated and will be removed from pandas in a future version. Use pandas.concat instead.\n",
      "  df = df.append(pd.Series(predicted_values_actual[0][0], index=df.columns), ignore_index=True)\n",
      "C:\\Users\\riyab\\AppData\\Local\\Temp\\ipykernel_6436\\2330509836.py:36: FutureWarning: The frame.append method is deprecated and will be removed from pandas in a future version. Use pandas.concat instead.\n",
      "  df = df.append(pd.Series(predicted_values_actual[0][0], index=df.columns), ignore_index=True)\n",
      "C:\\Users\\riyab\\AppData\\Local\\Temp\\ipykernel_6436\\2330509836.py:36: FutureWarning: The frame.append method is deprecated and will be removed from pandas in a future version. Use pandas.concat instead.\n",
      "  df = df.append(pd.Series(predicted_values_actual[0][0], index=df.columns), ignore_index=True)\n"
     ]
    },
    {
     "name": "stdout",
     "output_type": "stream",
     "text": [
      "1/1 [==============================] - 0s 18ms/step\n",
      "1/1 [==============================] - 0s 18ms/step\n",
      "1/1 [==============================] - 0s 19ms/step\n"
     ]
    },
    {
     "name": "stderr",
     "output_type": "stream",
     "text": [
      "C:\\Users\\riyab\\AppData\\Local\\Temp\\ipykernel_6436\\2330509836.py:36: FutureWarning: The frame.append method is deprecated and will be removed from pandas in a future version. Use pandas.concat instead.\n",
      "  df = df.append(pd.Series(predicted_values_actual[0][0], index=df.columns), ignore_index=True)\n",
      "C:\\Users\\riyab\\AppData\\Local\\Temp\\ipykernel_6436\\2330509836.py:36: FutureWarning: The frame.append method is deprecated and will be removed from pandas in a future version. Use pandas.concat instead.\n",
      "  df = df.append(pd.Series(predicted_values_actual[0][0], index=df.columns), ignore_index=True)\n",
      "C:\\Users\\riyab\\AppData\\Local\\Temp\\ipykernel_6436\\2330509836.py:36: FutureWarning: The frame.append method is deprecated and will be removed from pandas in a future version. Use pandas.concat instead.\n",
      "  df = df.append(pd.Series(predicted_values_actual[0][0], index=df.columns), ignore_index=True)\n"
     ]
    },
    {
     "name": "stdout",
     "output_type": "stream",
     "text": [
      "1/1 [==============================] - 0s 27ms/step\n",
      "1/1 [==============================] - 0s 21ms/step\n",
      "1/1 [==============================] - 0s 16ms/step\n"
     ]
    },
    {
     "name": "stderr",
     "output_type": "stream",
     "text": [
      "C:\\Users\\riyab\\AppData\\Local\\Temp\\ipykernel_6436\\2330509836.py:36: FutureWarning: The frame.append method is deprecated and will be removed from pandas in a future version. Use pandas.concat instead.\n",
      "  df = df.append(pd.Series(predicted_values_actual[0][0], index=df.columns), ignore_index=True)\n",
      "C:\\Users\\riyab\\AppData\\Local\\Temp\\ipykernel_6436\\2330509836.py:36: FutureWarning: The frame.append method is deprecated and will be removed from pandas in a future version. Use pandas.concat instead.\n",
      "  df = df.append(pd.Series(predicted_values_actual[0][0], index=df.columns), ignore_index=True)\n"
     ]
    },
    {
     "name": "stdout",
     "output_type": "stream",
     "text": [
      "1/1 [==============================] - 0s 19ms/step\n",
      "1/1 [==============================] - 0s 19ms/step\n"
     ]
    },
    {
     "name": "stderr",
     "output_type": "stream",
     "text": [
      "C:\\Users\\riyab\\AppData\\Local\\Temp\\ipykernel_6436\\2330509836.py:36: FutureWarning: The frame.append method is deprecated and will be removed from pandas in a future version. Use pandas.concat instead.\n",
      "  df = df.append(pd.Series(predicted_values_actual[0][0], index=df.columns), ignore_index=True)\n",
      "C:\\Users\\riyab\\AppData\\Local\\Temp\\ipykernel_6436\\2330509836.py:36: FutureWarning: The frame.append method is deprecated and will be removed from pandas in a future version. Use pandas.concat instead.\n",
      "  df = df.append(pd.Series(predicted_values_actual[0][0], index=df.columns), ignore_index=True)\n",
      "C:\\Users\\riyab\\AppData\\Local\\Temp\\ipykernel_6436\\2330509836.py:36: FutureWarning: The frame.append method is deprecated and will be removed from pandas in a future version. Use pandas.concat instead.\n",
      "  df = df.append(pd.Series(predicted_values_actual[0][0], index=df.columns), ignore_index=True)\n"
     ]
    },
    {
     "name": "stdout",
     "output_type": "stream",
     "text": [
      "1/1 [==============================] - 0s 9ms/step\n",
      "1/1 [==============================] - 0s 22ms/step\n",
      "Predicted values for the next 48 time periods:\n",
      "[2.517534, 2.419628, 2.394302, 2.4211216, 2.4710224, 2.5258355, 2.568848, 2.5905921, 2.585605, 2.5577617, 2.5142035, 2.4637978, 2.4140515, 2.3720605, 2.3411531, 2.3215878, 2.3111746, 2.3065703, 2.3043227, 2.301667, 2.2968645, 2.2892592, 2.2790432, 2.266961, 2.2539952, 2.2411067, 2.2290292, 2.2181811, 2.208671, 2.2003632, 2.19298, 2.1862018, 2.1797435, 2.1734, 2.1670587, 2.1606915, 2.154329, 2.148035, 2.1418793, 2.1359193, 2.1301908, 2.1247067, 2.1194582, 2.1144254, 2.1095803, 2.1048975, 2.1003537, 2.095934]\n"
     ]
    },
    {
     "name": "stderr",
     "output_type": "stream",
     "text": [
      "C:\\Users\\riyab\\AppData\\Local\\Temp\\ipykernel_6436\\2330509836.py:36: FutureWarning: The frame.append method is deprecated and will be removed from pandas in a future version. Use pandas.concat instead.\n",
      "  df = df.append(pd.Series(predicted_values_actual[0][0], index=df.columns), ignore_index=True)\n",
      "C:\\Users\\riyab\\AppData\\Local\\Temp\\ipykernel_6436\\2330509836.py:36: FutureWarning: The frame.append method is deprecated and will be removed from pandas in a future version. Use pandas.concat instead.\n",
      "  df = df.append(pd.Series(predicted_values_actual[0][0], index=df.columns), ignore_index=True)\n"
     ]
    }
   ],
   "source": [
    "# Assuming you have already trained your LSTM model and defined 'model' variable\n",
    "\n",
    "import warnings\n",
    "warnings.filterwarnings(\"ignore\", message=\"X does not have valid feature names, but MinMaxScaler was fitted with feature names\")\n",
    "\n",
    "# Define the number of future time periods to predict\n",
    "num_periods = 48  \n",
    "\n",
    "# Initialize a list to store the predicted values for each future time period\n",
    "predicted_values_all = []\n",
    "\n",
    "# Loop over the number of future time periods to predict\n",
    "for _ in range(num_periods):\n",
    "    # Prepare the features for the next time period\n",
    "    X_next_period = df[target_column].values[-time_steps:].reshape(1, -1)\n",
    "    \n",
    "    # Reshape the features for scaling\n",
    "    X_next_period_reshaped = X_next_period.reshape(-1, 1)\n",
    "    \n",
    "    # Scale the features for the next time period\n",
    "    X_next_period_scaled = scaler.transform(X_next_period_reshaped)\n",
    "    \n",
    "    # Reshape the scaled features for LSTM input\n",
    "    X_next_period_scaled_reshaped = X_next_period_scaled.reshape(1, time_steps, 1)\n",
    "    \n",
    "    # Use the trained LSTM model to predict the target variable for the next time period\n",
    "    predicted_values = model.predict(X_next_period_scaled_reshaped)\n",
    "    \n",
    "    # Inverse transform the predicted values to get the actual values\n",
    "    predicted_values_actual = scaler.inverse_transform(predicted_values)\n",
    "    \n",
    "    # Append the predicted value to the list\n",
    "    predicted_values_all.append(predicted_values_actual[0][0])\n",
    "    \n",
    "    # Update the input data for the next iteration (shift the time steps by 1)\n",
    "    df = df.append(pd.Series(predicted_values_actual[0][0], index=df.columns), ignore_index=True)\n",
    "\n",
    "print(\"Predicted values for the next\", num_periods, \"time periods:\")\n",
    "print(predicted_values_all)\n",
    "\n",
    "\n",
    "\n"
   ]
  },
  {
   "cell_type": "code",
   "execution_count": 37,
   "id": "9622a2e8-674e-4629-96c7-a3806a215dc2",
   "metadata": {},
   "outputs": [
    {
     "data": {
      "image/png": "[encoded data removed]",
      "text/plain": [
       "<Figure size 864x432 with 1 Axes>"
      ]
     },
     "metadata": {
      "needs_background": "light"
     },
     "output_type": "display_data"
    }
   ],
   "source": [
    "import matplotlib.pyplot as plt\n",
    "\n",
    "# Extracting the historical data and dates\n",
    "historical_dates = df.index.tolist()\n",
    "historical_values = df[target_column].values.tolist()\n",
    "\n",
    "# Plotting the historical and predicted values\n",
    "plt.figure(figsize=(12, 6))\n",
    "plt.plot(historical_dates, historical_values, label='Historical', color='blue')\n",
    "plt.plot(historical_dates[-len(predicted_values_all):], predicted_values_all, label='Predicted', color='red', linestyle='--', marker='o')\n",
    "plt.title('Historical vs Predicted Values')\n",
    "plt.xlabel('Date')\n",
    "plt.ylabel(target_column)\n",
    "plt.legend()\n",
    "plt.grid(True)\n",
    "plt.show()\n"
   ]
  },
  {
   "cell_type": "markdown",
   "id": "1b26d4b6-2b34-4dd9-954a-76598bb661d1",
   "metadata": {},
   "source": [
    "# Electricity"
   ]
  },
  {
   "cell_type": "markdown",
   "id": "8a27c31d-f07a-4b3b-9354-8ab6064afe7f",
   "metadata": {},
   "source": [
    "### michigan"
   ]
  },
  {
   "cell_type": "code",
   "execution_count": 38,
   "id": "1a400382-a18a-4198-8563-a15b0193d9be",
   "metadata": {},
   "outputs": [],
   "source": [
    "df = pd.read_excel(\"Retail_data_final.xlsx\")"
   ]
  },
  {
   "cell_type": "code",
   "execution_count": 39,
   "id": "5314f801-78a9-4351-b9d1-ae15a79dde31",
   "metadata": {},
   "outputs": [],
   "source": [
    "# Select the target column (utility_Michigan in this case)\n",
    "target_column = 'Electricity_michigan'\n",
    "\n",
    "# Normalize the data\n",
    "scaler = MinMaxScaler()\n",
    "scaled_data = scaler.fit_transform(df[[target_column]])\n",
    "\n",
    "# Split data into training and testing sets\n",
    "train_size = int(len(scaled_data) * 0.8)\n",
    "train_data, test_data = scaled_data[:train_size], scaled_data[train_size:]\n",
    "\n",
    "# Prepare the data for LSTM\n",
    "def create_dataset(data, time_steps=1):\n",
    "    X, y = [], []\n",
    "    for i in range(len(data) - time_steps):\n",
    "        X.append(data[i:(i + time_steps)])\n",
    "        y.append(data[i + time_steps])\n",
    "    return np.array(X), np.array(y)\n",
    "\n",
    "time_steps = 12  # You can adjust the time steps as needed\n",
    "X_train, y_train = create_dataset(train_data, time_steps)\n",
    "X_test, y_test = create_dataset(test_data, time_steps)\n",
    "\n",
    "# Reshape data for LSTM\n",
    "X_train = np.reshape(X_train, (X_train.shape[0], X_train.shape[1], 1))\n",
    "X_test = np.reshape(X_test, (X_test.shape[0], X_test.shape[1], 1))"
   ]
  },
  {
   "cell_type": "code",
   "execution_count": 40,
   "id": "ae476bca-3655-4aca-b19f-616dae77969c",
   "metadata": {},
   "outputs": [
    {
     "name": "stdout",
     "output_type": "stream",
     "text": [
      "Epoch 1/100\n",
      "7/7 [==============================] - 4s 11ms/step - loss: 0.0816\n",
      "Epoch 2/100\n",
      "7/7 [==============================] - 0s 10ms/step - loss: 0.0157\n",
      "Epoch 3/100\n",
      "7/7 [==============================] - 0s 16ms/step - loss: 0.0076\n",
      "Epoch 4/100\n",
      "7/7 [==============================] - 0s 17ms/step - loss: 0.0074\n",
      "Epoch 5/100\n",
      "7/7 [==============================] - 0s 16ms/step - loss: 0.0036\n",
      "Epoch 6/100\n",
      "7/7 [==============================] - 0s 13ms/step - loss: 0.0035\n",
      "Epoch 7/100\n",
      "7/7 [==============================] - 0s 16ms/step - loss: 0.0033\n",
      "Epoch 8/100\n",
      "7/7 [==============================] - 0s 14ms/step - loss: 0.0030\n",
      "Epoch 9/100\n",
      "7/7 [==============================] - 0s 14ms/step - loss: 0.0030\n",
      "Epoch 10/100\n",
      "7/7 [==============================] - 0s 14ms/step - loss: 0.0030\n",
      "Epoch 11/100\n",
      "7/7 [==============================] - 0s 12ms/step - loss: 0.0028\n",
      "Epoch 12/100\n",
      "7/7 [==============================] - 0s 14ms/step - loss: 0.0028\n",
      "Epoch 13/100\n",
      "7/7 [==============================] - 0s 14ms/step - loss: 0.0028\n",
      "Epoch 14/100\n",
      "7/7 [==============================] - 0s 14ms/step - loss: 0.0027\n",
      "Epoch 15/100\n",
      "7/7 [==============================] - 0s 14ms/step - loss: 0.0027\n",
      "Epoch 16/100\n",
      "7/7 [==============================] - 0s 10ms/step - loss: 0.0027\n",
      "Epoch 17/100\n",
      "7/7 [==============================] - 0s 14ms/step - loss: 0.0027\n",
      "Epoch 18/100\n",
      "7/7 [==============================] - 0s 14ms/step - loss: 0.0027\n",
      "Epoch 19/100\n",
      "7/7 [==============================] - 0s 14ms/step - loss: 0.0027\n",
      "Epoch 20/100\n",
      "7/7 [==============================] - 0s 11ms/step - loss: 0.0027\n",
      "Epoch 21/100\n",
      "7/7 [==============================] - 0s 11ms/step - loss: 0.0027\n",
      "Epoch 22/100\n",
      "7/7 [==============================] - 0s 11ms/step - loss: 0.0027\n",
      "Epoch 23/100\n",
      "7/7 [==============================] - 0s 11ms/step - loss: 0.0027\n",
      "Epoch 24/100\n",
      "7/7 [==============================] - 0s 14ms/step - loss: 0.0026\n",
      "Epoch 25/100\n",
      "7/7 [==============================] - 0s 14ms/step - loss: 0.0026\n",
      "Epoch 26/100\n",
      "7/7 [==============================] - 0s 11ms/step - loss: 0.0026\n",
      "Epoch 27/100\n",
      "7/7 [==============================] - 0s 14ms/step - loss: 0.0025\n",
      "Epoch 28/100\n",
      "7/7 [==============================] - 0s 14ms/step - loss: 0.0025\n",
      "Epoch 29/100\n",
      "7/7 [==============================] - 0s 11ms/step - loss: 0.0025\n",
      "Epoch 30/100\n",
      "7/7 [==============================] - 0s 17ms/step - loss: 0.0025\n",
      "Epoch 31/100\n",
      "7/7 [==============================] - 0s 14ms/step - loss: 0.0025\n",
      "Epoch 32/100\n",
      "7/7 [==============================] - 0s 15ms/step - loss: 0.0025\n",
      "Epoch 33/100\n",
      "7/7 [==============================] - 0s 10ms/step - loss: 0.0026\n",
      "Epoch 34/100\n",
      "7/7 [==============================] - 0s 12ms/step - loss: 0.0026\n",
      "Epoch 35/100\n",
      "7/7 [==============================] - 0s 11ms/step - loss: 0.0025\n",
      "Epoch 36/100\n",
      "7/7 [==============================] - 0s 10ms/step - loss: 0.0024\n",
      "Epoch 37/100\n",
      "7/7 [==============================] - 0s 13ms/step - loss: 0.0025\n",
      "Epoch 38/100\n",
      "7/7 [==============================] - 0s 12ms/step - loss: 0.0025\n",
      "Epoch 39/100\n",
      "7/7 [==============================] - 0s 11ms/step - loss: 0.0024\n",
      "Epoch 40/100\n",
      "7/7 [==============================] - 0s 12ms/step - loss: 0.0024\n",
      "Epoch 41/100\n",
      "7/7 [==============================] - 0s 7ms/step - loss: 0.0024\n",
      "Epoch 42/100\n",
      "7/7 [==============================] - 0s 11ms/step - loss: 0.0024\n",
      "Epoch 43/100\n",
      "7/7 [==============================] - 0s 11ms/step - loss: 0.0024\n",
      "Epoch 44/100\n",
      "7/7 [==============================] - 0s 9ms/step - loss: 0.0024\n",
      "Epoch 45/100\n",
      "7/7 [==============================] - 0s 9ms/step - loss: 0.0024\n",
      "Epoch 46/100\n",
      "7/7 [==============================] - 0s 9ms/step - loss: 0.0023\n",
      "Epoch 47/100\n",
      "7/7 [==============================] - 0s 8ms/step - loss: 0.0024\n",
      "Epoch 48/100\n",
      "7/7 [==============================] - 0s 8ms/step - loss: 0.0023\n",
      "Epoch 49/100\n",
      "7/7 [==============================] - 0s 11ms/step - loss: 0.0024\n",
      "Epoch 50/100\n",
      "7/7 [==============================] - 0s 12ms/step - loss: 0.0023\n",
      "Epoch 51/100\n",
      "7/7 [==============================] - 0s 10ms/step - loss: 0.0023\n",
      "Epoch 52/100\n",
      "7/7 [==============================] - 0s 10ms/step - loss: 0.0023\n",
      "Epoch 53/100\n",
      "7/7 [==============================] - 0s 11ms/step - loss: 0.0023\n",
      "Epoch 54/100\n",
      "7/7 [==============================] - 0s 9ms/step - loss: 0.0023\n",
      "Epoch 55/100\n",
      "7/7 [==============================] - 0s 12ms/step - loss: 0.0023\n",
      "Epoch 56/100\n",
      "7/7 [==============================] - 0s 9ms/step - loss: 0.0023\n",
      "Epoch 57/100\n",
      "7/7 [==============================] - 0s 8ms/step - loss: 0.0024\n",
      "Epoch 58/100\n",
      "7/7 [==============================] - 0s 10ms/step - loss: 0.0023\n",
      "Epoch 59/100\n",
      "7/7 [==============================] - 0s 9ms/step - loss: 0.0024\n",
      "Epoch 60/100\n",
      "7/7 [==============================] - 0s 9ms/step - loss: 0.0023\n",
      "Epoch 61/100\n",
      "7/7 [==============================] - 0s 8ms/step - loss: 0.0023\n",
      "Epoch 62/100\n",
      "7/7 [==============================] - 0s 8ms/step - loss: 0.0022\n",
      "Epoch 63/100\n",
      "7/7 [==============================] - 0s 10ms/step - loss: 0.0022\n",
      "Epoch 64/100\n",
      "7/7 [==============================] - 0s 9ms/step - loss: 0.0023\n",
      "Epoch 65/100\n",
      "7/7 [==============================] - 0s 10ms/step - loss: 0.0022\n",
      "Epoch 66/100\n",
      "7/7 [==============================] - 0s 8ms/step - loss: 0.0023\n",
      "Epoch 67/100\n",
      "7/7 [==============================] - 0s 8ms/step - loss: 0.0024\n",
      "Epoch 68/100\n",
      "7/7 [==============================] - 0s 10ms/step - loss: 0.0024\n",
      "Epoch 69/100\n",
      "7/7 [==============================] - 0s 9ms/step - loss: 0.0024\n",
      "Epoch 70/100\n",
      "7/7 [==============================] - 0s 8ms/step - loss: 0.0025\n",
      "Epoch 71/100\n",
      "7/7 [==============================] - 0s 9ms/step - loss: 0.0024\n",
      "Epoch 72/100\n",
      "7/7 [==============================] - 0s 8ms/step - loss: 0.0023\n",
      "Epoch 73/100\n",
      "7/7 [==============================] - 0s 8ms/step - loss: 0.0024\n",
      "Epoch 74/100\n",
      "7/7 [==============================] - 0s 8ms/step - loss: 0.0022\n",
      "Epoch 75/100\n",
      "7/7 [==============================] - 0s 8ms/step - loss: 0.0022\n",
      "Epoch 76/100\n",
      "7/7 [==============================] - 0s 11ms/step - loss: 0.0023\n",
      "Epoch 77/100\n",
      "7/7 [==============================] - 0s 12ms/step - loss: 0.0021\n",
      "Epoch 78/100\n",
      "7/7 [==============================] - 0s 8ms/step - loss: 0.0021\n",
      "Epoch 79/100\n",
      "7/7 [==============================] - 0s 9ms/step - loss: 0.0021\n",
      "Epoch 80/100\n",
      "7/7 [==============================] - 0s 8ms/step - loss: 0.0021\n",
      "Epoch 81/100\n",
      "7/7 [==============================] - 0s 8ms/step - loss: 0.0022\n",
      "Epoch 82/100\n",
      "7/7 [==============================] - 0s 8ms/step - loss: 0.0022\n",
      "Epoch 83/100\n",
      "7/7 [==============================] - 0s 9ms/step - loss: 0.0023\n",
      "Epoch 84/100\n",
      "7/7 [==============================] - 0s 8ms/step - loss: 0.0024\n",
      "Epoch 85/100\n",
      "7/7 [==============================] - 0s 9ms/step - loss: 0.0023\n",
      "Epoch 86/100\n",
      "7/7 [==============================] - 0s 8ms/step - loss: 0.0021\n",
      "Epoch 87/100\n",
      "7/7 [==============================] - 0s 9ms/step - loss: 0.0021\n",
      "Epoch 88/100\n",
      "7/7 [==============================] - 0s 11ms/step - loss: 0.0022\n",
      "Epoch 89/100\n",
      "7/7 [==============================] - 0s 11ms/step - loss: 0.0023\n",
      "Epoch 90/100\n",
      "7/7 [==============================] - 0s 11ms/step - loss: 0.0022\n",
      "Epoch 91/100\n",
      "7/7 [==============================] - 0s 11ms/step - loss: 0.0022\n",
      "Epoch 92/100\n",
      "7/7 [==============================] - 0s 8ms/step - loss: 0.0022\n",
      "Epoch 93/100\n",
      "7/7 [==============================] - 0s 9ms/step - loss: 0.0022\n",
      "Epoch 94/100\n",
      "7/7 [==============================] - 0s 8ms/step - loss: 0.0021\n",
      "Epoch 95/100\n",
      "7/7 [==============================] - 0s 10ms/step - loss: 0.0020\n",
      "Epoch 96/100\n",
      "7/7 [==============================] - 0s 8ms/step - loss: 0.0021\n",
      "Epoch 97/100\n",
      "7/7 [==============================] - 0s 10ms/step - loss: 0.0020\n",
      "Epoch 98/100\n",
      "7/7 [==============================] - 0s 11ms/step - loss: 0.0021\n",
      "Epoch 99/100\n",
      "7/7 [==============================] - 0s 10ms/step - loss: 0.0021\n",
      "Epoch 100/100\n",
      "7/7 [==============================] - 0s 11ms/step - loss: 0.0020\n",
      "7/7 [==============================] - 1s 5ms/step\n",
      "2/2 [==============================] - 0s 6ms/step\n"
     ]
    }
   ],
   "source": [
    "# Define the LSTM model\n",
    "model = Sequential()\n",
    "model.add(LSTM(units=50, return_sequences=True, input_shape=(X_train.shape[1], 1)))\n",
    "model.add(LSTM(units=50))\n",
    "model.add(Dense(units=1))\n",
    "model.compile(optimizer='adam', loss='mean_squared_error')\n",
    "\n",
    "# Train the model\n",
    "model.fit(X_train, y_train, epochs=100, batch_size=32)\n",
    "\n",
    "# Make predictions\n",
    "train_predictions = model.predict(X_train)\n",
    "test_predictions = model.predict(X_test)"
   ]
  },
  {
   "cell_type": "code",
   "execution_count": 41,
   "id": "dffc892f-331c-421c-bfbd-9754a8f4194b",
   "metadata": {},
   "outputs": [
    {
     "name": "stdout",
     "output_type": "stream",
     "text": [
      "Train RMSE: 0.005186554430083715\n",
      "Test RMSE: 0.014527783574136881\n",
      "Train MAE: 0.0038569746077607545\n",
      "Test MAE: 0.0122830999130788\n"
     ]
    }
   ],
   "source": [
    "# Inverse transform the predictions\n",
    "train_predictions = scaler.inverse_transform(train_predictions)\n",
    "test_predictions = scaler.inverse_transform(test_predictions)\n",
    "y_train = scaler.inverse_transform(y_train)\n",
    "y_test = scaler.inverse_transform(y_test)\n",
    "\n",
    "# Calculate accuracy metrics\n",
    "train_rmse = np.sqrt(mean_squared_error(y_train, train_predictions))\n",
    "test_rmse = np.sqrt(mean_squared_error(y_test, test_predictions))\n",
    "train_mae = mean_absolute_error(y_train, train_predictions)\n",
    "test_mae = mean_absolute_error(y_test, test_predictions)\n",
    "\n",
    "print(\"Train RMSE:\", train_rmse)\n",
    "print(\"Test RMSE:\", test_rmse)\n",
    "print(\"Train MAE:\", train_mae)\n",
    "print(\"Test MAE:\", test_mae)"
   ]
  },
  {
   "cell_type": "code",
   "execution_count": 42,
   "id": "d43701de-cb6d-4176-8a9b-e308018937b4",
   "metadata": {},
   "outputs": [
    {
     "data": {
      "image/png": "[encoded data removed]",
      "text/plain": [
       "<Figure size 1008x432 with 1 Axes>"
      ]
     },
     "metadata": {
      "needs_background": "light"
     },
     "output_type": "display_data"
    }
   ],
   "source": [
    "plt.figure(figsize=(14, 6))\n",
    "plt.plot(df.index[:-time_steps], df[target_column].values[:-time_steps], label='Actual', color='blue')\n",
    "plt.plot(df.index[time_steps:train_size], train_predictions, label='Train Predictions', color='green')\n",
    "plt.plot(df.index[train_size + time_steps:], test_predictions, label='Test Predictions', color='red')\n",
    "plt.title('LSTM Model Prediction vs Actual')\n",
    "plt.xlabel('Date')\n",
    "plt.ylabel(target_column)\n",
    "plt.legend()\n",
    "plt.show()\n"
   ]
  },
  {
   "cell_type": "code",
   "execution_count": 43,
   "id": "321ce6be-6ceb-4cd4-8b19-35ee5c8d539f",
   "metadata": {},
   "outputs": [
    {
     "name": "stdout",
     "output_type": "stream",
     "text": [
      "1/1 [==============================] - 0s 32ms/step\n",
      "Predicted values for the next time period:\n",
      "[[0.16913453]]\n"
     ]
    }
   ],
   "source": [
    "# Prepare the features for the next time period\n",
    "X_next_period = df[target_column].iloc[-time_steps:].values.reshape(1, time_steps, 1)\n",
    "\n",
    "# Reshape the features for scaling\n",
    "X_next_period_reshaped = X_next_period.reshape(-1, 1)\n",
    "\n",
    "# Scale the features for the next time period\n",
    "X_next_period_scaled = scaler.transform(X_next_period_reshaped)\n",
    "\n",
    "# Reshape the scaled features for LSTM input\n",
    "X_next_period_scaled_reshaped = X_next_period_scaled.reshape(1, time_steps, 1)\n",
    "\n",
    "try:\n",
    "    # Use the trained LSTM model to predict the target variable for the next time period\n",
    "    predicted_values = model.predict(X_next_period_scaled_reshaped)\n",
    "    \n",
    "    # Inverse transform the predicted values to get the actual values\n",
    "    predicted_values_actual = scaler.inverse_transform(predicted_values)\n",
    "    \n",
    "    print(\"Predicted values for the next time period:\")\n",
    "    print(predicted_values_actual)\n",
    "except Exception as e:\n",
    "    print(\"Error occurred during prediction:\", e)\n"
   ]
  },
  {
   "cell_type": "code",
   "execution_count": 44,
   "id": "14a4bcd0-05be-424b-917b-ce9384f813b9",
   "metadata": {},
   "outputs": [
    {
     "name": "stdout",
     "output_type": "stream",
     "text": [
      "1/1 [==============================] - 0s 14ms/step\n",
      "1/1 [==============================] - 0s 35ms/step\n",
      "1/1 [==============================] - ETA: 0s"
     ]
    },
    {
     "name": "stderr",
     "output_type": "stream",
     "text": [
      "C:\\Users\\riyab\\AppData\\Local\\Temp\\ipykernel_6436\\392193166.py:36: FutureWarning: The frame.append method is deprecated and will be removed from pandas in a future version. Use pandas.concat instead.\n",
      "  df = df.append(pd.Series(predicted_values_actual[0][0], index=df.columns), ignore_index=True)\n",
      "C:\\Users\\riyab\\AppData\\Local\\Temp\\ipykernel_6436\\392193166.py:36: FutureWarning: The frame.append method is deprecated and will be removed from pandas in a future version. Use pandas.concat instead.\n",
      "  df = df.append(pd.Series(predicted_values_actual[0][0], index=df.columns), ignore_index=True)\n"
     ]
    },
    {
     "name": "stdout",
     "output_type": "stream",
     "text": [
      "1/1 [==============================] - 0s 34ms/step\n",
      "1/1 [==============================] - 0s 17ms/step\n",
      "1/1 [==============================] - 0s 17ms/step\n"
     ]
    },
    {
     "name": "stderr",
     "output_type": "stream",
     "text": [
      "C:\\Users\\riyab\\AppData\\Local\\Temp\\ipykernel_6436\\392193166.py:36: FutureWarning: The frame.append method is deprecated and will be removed from pandas in a future version. Use pandas.concat instead.\n",
      "  df = df.append(pd.Series(predicted_values_actual[0][0], index=df.columns), ignore_index=True)\n",
      "C:\\Users\\riyab\\AppData\\Local\\Temp\\ipykernel_6436\\392193166.py:36: FutureWarning: The frame.append method is deprecated and will be removed from pandas in a future version. Use pandas.concat instead.\n",
      "  df = df.append(pd.Series(predicted_values_actual[0][0], index=df.columns), ignore_index=True)\n"
     ]
    },
    {
     "name": "stdout",
     "output_type": "stream",
     "text": [
      "1/1 [==============================] - 0s 33ms/step\n",
      "1/1 [==============================] - 0s 17ms/step\n"
     ]
    },
    {
     "name": "stderr",
     "output_type": "stream",
     "text": [
      "C:\\Users\\riyab\\AppData\\Local\\Temp\\ipykernel_6436\\392193166.py:36: FutureWarning: The frame.append method is deprecated and will be removed from pandas in a future version. Use pandas.concat instead.\n",
      "  df = df.append(pd.Series(predicted_values_actual[0][0], index=df.columns), ignore_index=True)\n",
      "C:\\Users\\riyab\\AppData\\Local\\Temp\\ipykernel_6436\\392193166.py:36: FutureWarning: The frame.append method is deprecated and will be removed from pandas in a future version. Use pandas.concat instead.\n",
      "  df = df.append(pd.Series(predicted_values_actual[0][0], index=df.columns), ignore_index=True)\n",
      "C:\\Users\\riyab\\AppData\\Local\\Temp\\ipykernel_6436\\392193166.py:36: FutureWarning: The frame.append method is deprecated and will be removed from pandas in a future version. Use pandas.concat instead.\n",
      "  df = df.append(pd.Series(predicted_values_actual[0][0], index=df.columns), ignore_index=True)\n"
     ]
    },
    {
     "name": "stdout",
     "output_type": "stream",
     "text": [
      "1/1 [==============================] - 0s 21ms/step\n",
      "1/1 [==============================] - 0s 33ms/step\n",
      "1/1 [==============================] - 0s 17ms/step\n"
     ]
    },
    {
     "name": "stderr",
     "output_type": "stream",
     "text": [
      "C:\\Users\\riyab\\AppData\\Local\\Temp\\ipykernel_6436\\392193166.py:36: FutureWarning: The frame.append method is deprecated and will be removed from pandas in a future version. Use pandas.concat instead.\n",
      "  df = df.append(pd.Series(predicted_values_actual[0][0], index=df.columns), ignore_index=True)\n",
      "C:\\Users\\riyab\\AppData\\Local\\Temp\\ipykernel_6436\\392193166.py:36: FutureWarning: The frame.append method is deprecated and will be removed from pandas in a future version. Use pandas.concat instead.\n",
      "  df = df.append(pd.Series(predicted_values_actual[0][0], index=df.columns), ignore_index=True)\n",
      "C:\\Users\\riyab\\AppData\\Local\\Temp\\ipykernel_6436\\392193166.py:36: FutureWarning: The frame.append method is deprecated and will be removed from pandas in a future version. Use pandas.concat instead.\n",
      "  df = df.append(pd.Series(predicted_values_actual[0][0], index=df.columns), ignore_index=True)\n"
     ]
    },
    {
     "name": "stdout",
     "output_type": "stream",
     "text": [
      "1/1 [==============================] - 0s 17ms/step\n",
      "1/1 [==============================] - 0s 17ms/step\n",
      "1/1 [==============================] - ETA: 0s"
     ]
    },
    {
     "name": "stderr",
     "output_type": "stream",
     "text": [
      "C:\\Users\\riyab\\AppData\\Local\\Temp\\ipykernel_6436\\392193166.py:36: FutureWarning: The frame.append method is deprecated and will be removed from pandas in a future version. Use pandas.concat instead.\n",
      "  df = df.append(pd.Series(predicted_values_actual[0][0], index=df.columns), ignore_index=True)\n",
      "C:\\Users\\riyab\\AppData\\Local\\Temp\\ipykernel_6436\\392193166.py:36: FutureWarning: The frame.append method is deprecated and will be removed from pandas in a future version. Use pandas.concat instead.\n",
      "  df = df.append(pd.Series(predicted_values_actual[0][0], index=df.columns), ignore_index=True)\n"
     ]
    },
    {
     "name": "stdout",
     "output_type": "stream",
     "text": [
      "1/1 [==============================] - 0s 35ms/step\n",
      "1/1 [==============================] - 0s 33ms/step\n"
     ]
    },
    {
     "name": "stderr",
     "output_type": "stream",
     "text": [
      "C:\\Users\\riyab\\AppData\\Local\\Temp\\ipykernel_6436\\392193166.py:36: FutureWarning: The frame.append method is deprecated and will be removed from pandas in a future version. Use pandas.concat instead.\n",
      "  df = df.append(pd.Series(predicted_values_actual[0][0], index=df.columns), ignore_index=True)\n",
      "C:\\Users\\riyab\\AppData\\Local\\Temp\\ipykernel_6436\\392193166.py:36: FutureWarning: The frame.append method is deprecated and will be removed from pandas in a future version. Use pandas.concat instead.\n",
      "  df = df.append(pd.Series(predicted_values_actual[0][0], index=df.columns), ignore_index=True)\n"
     ]
    },
    {
     "name": "stdout",
     "output_type": "stream",
     "text": [
      "1/1 [==============================] - 0s 34ms/step\n",
      "1/1 [==============================] - 0s 16ms/step\n",
      "1/1 [==============================] - 0s 33ms/step\n"
     ]
    },
    {
     "name": "stderr",
     "output_type": "stream",
     "text": [
      "C:\\Users\\riyab\\AppData\\Local\\Temp\\ipykernel_6436\\392193166.py:36: FutureWarning: The frame.append method is deprecated and will be removed from pandas in a future version. Use pandas.concat instead.\n",
      "  df = df.append(pd.Series(predicted_values_actual[0][0], index=df.columns), ignore_index=True)\n",
      "C:\\Users\\riyab\\AppData\\Local\\Temp\\ipykernel_6436\\392193166.py:36: FutureWarning: The frame.append method is deprecated and will be removed from pandas in a future version. Use pandas.concat instead.\n",
      "  df = df.append(pd.Series(predicted_values_actual[0][0], index=df.columns), ignore_index=True)\n",
      "C:\\Users\\riyab\\AppData\\Local\\Temp\\ipykernel_6436\\392193166.py:36: FutureWarning: The frame.append method is deprecated and will be removed from pandas in a future version. Use pandas.concat instead.\n",
      "  df = df.append(pd.Series(predicted_values_actual[0][0], index=df.columns), ignore_index=True)\n"
     ]
    },
    {
     "name": "stdout",
     "output_type": "stream",
     "text": [
      "1/1 [==============================] - 0s 20ms/step\n",
      "1/1 [==============================] - 0s 32ms/step\n"
     ]
    },
    {
     "name": "stderr",
     "output_type": "stream",
     "text": [
      "C:\\Users\\riyab\\AppData\\Local\\Temp\\ipykernel_6436\\392193166.py:36: FutureWarning: The frame.append method is deprecated and will be removed from pandas in a future version. Use pandas.concat instead.\n",
      "  df = df.append(pd.Series(predicted_values_actual[0][0], index=df.columns), ignore_index=True)\n",
      "C:\\Users\\riyab\\AppData\\Local\\Temp\\ipykernel_6436\\392193166.py:36: FutureWarning: The frame.append method is deprecated and will be removed from pandas in a future version. Use pandas.concat instead.\n",
      "  df = df.append(pd.Series(predicted_values_actual[0][0], index=df.columns), ignore_index=True)\n"
     ]
    },
    {
     "name": "stdout",
     "output_type": "stream",
     "text": [
      "1/1 [==============================] - 0s 33ms/step\n",
      "1/1 [==============================] - 0s 33ms/step\n"
     ]
    },
    {
     "name": "stderr",
     "output_type": "stream",
     "text": [
      "C:\\Users\\riyab\\AppData\\Local\\Temp\\ipykernel_6436\\392193166.py:36: FutureWarning: The frame.append method is deprecated and will be removed from pandas in a future version. Use pandas.concat instead.\n",
      "  df = df.append(pd.Series(predicted_values_actual[0][0], index=df.columns), ignore_index=True)\n",
      "C:\\Users\\riyab\\AppData\\Local\\Temp\\ipykernel_6436\\392193166.py:36: FutureWarning: The frame.append method is deprecated and will be removed from pandas in a future version. Use pandas.concat instead.\n",
      "  df = df.append(pd.Series(predicted_values_actual[0][0], index=df.columns), ignore_index=True)\n"
     ]
    },
    {
     "name": "stdout",
     "output_type": "stream",
     "text": [
      "1/1 [==============================] - 0s 20ms/step\n",
      "1/1 [==============================] - 0s 33ms/step\n",
      "1/1 [==============================] - ETA: 0s"
     ]
    },
    {
     "name": "stderr",
     "output_type": "stream",
     "text": [
      "C:\\Users\\riyab\\AppData\\Local\\Temp\\ipykernel_6436\\392193166.py:36: FutureWarning: The frame.append method is deprecated and will be removed from pandas in a future version. Use pandas.concat instead.\n",
      "  df = df.append(pd.Series(predicted_values_actual[0][0], index=df.columns), ignore_index=True)\n",
      "C:\\Users\\riyab\\AppData\\Local\\Temp\\ipykernel_6436\\392193166.py:36: FutureWarning: The frame.append method is deprecated and will be removed from pandas in a future version. Use pandas.concat instead.\n",
      "  df = df.append(pd.Series(predicted_values_actual[0][0], index=df.columns), ignore_index=True)\n"
     ]
    },
    {
     "name": "stdout",
     "output_type": "stream",
     "text": [
      "1/1 [==============================] - 0s 17ms/step\n",
      "1/1 [==============================] - 0s 17ms/step\n",
      "1/1 [==============================] - 0s 18ms/step\n"
     ]
    },
    {
     "name": "stderr",
     "output_type": "stream",
     "text": [
      "C:\\Users\\riyab\\AppData\\Local\\Temp\\ipykernel_6436\\392193166.py:36: FutureWarning: The frame.append method is deprecated and will be removed from pandas in a future version. Use pandas.concat instead.\n",
      "  df = df.append(pd.Series(predicted_values_actual[0][0], index=df.columns), ignore_index=True)\n",
      "C:\\Users\\riyab\\AppData\\Local\\Temp\\ipykernel_6436\\392193166.py:36: FutureWarning: The frame.append method is deprecated and will be removed from pandas in a future version. Use pandas.concat instead.\n",
      "  df = df.append(pd.Series(predicted_values_actual[0][0], index=df.columns), ignore_index=True)\n"
     ]
    },
    {
     "name": "stdout",
     "output_type": "stream",
     "text": [
      "1/1 [==============================] - 0s 33ms/step\n",
      "1/1 [==============================] - 0s 34ms/step\n"
     ]
    },
    {
     "name": "stderr",
     "output_type": "stream",
     "text": [
      "C:\\Users\\riyab\\AppData\\Local\\Temp\\ipykernel_6436\\392193166.py:36: FutureWarning: The frame.append method is deprecated and will be removed from pandas in a future version. Use pandas.concat instead.\n",
      "  df = df.append(pd.Series(predicted_values_actual[0][0], index=df.columns), ignore_index=True)\n",
      "C:\\Users\\riyab\\AppData\\Local\\Temp\\ipykernel_6436\\392193166.py:36: FutureWarning: The frame.append method is deprecated and will be removed from pandas in a future version. Use pandas.concat instead.\n",
      "  df = df.append(pd.Series(predicted_values_actual[0][0], index=df.columns), ignore_index=True)\n"
     ]
    },
    {
     "name": "stdout",
     "output_type": "stream",
     "text": [
      "1/1 [==============================] - 0s 33ms/step\n",
      "1/1 [==============================] - ETA: 0s"
     ]
    },
    {
     "name": "stderr",
     "output_type": "stream",
     "text": [
      "C:\\Users\\riyab\\AppData\\Local\\Temp\\ipykernel_6436\\392193166.py:36: FutureWarning: The frame.append method is deprecated and will be removed from pandas in a future version. Use pandas.concat instead.\n",
      "  df = df.append(pd.Series(predicted_values_actual[0][0], index=df.columns), ignore_index=True)\n",
      "C:\\Users\\riyab\\AppData\\Local\\Temp\\ipykernel_6436\\392193166.py:36: FutureWarning: The frame.append method is deprecated and will be removed from pandas in a future version. Use pandas.concat instead.\n",
      "  df = df.append(pd.Series(predicted_values_actual[0][0], index=df.columns), ignore_index=True)\n"
     ]
    },
    {
     "name": "stdout",
     "output_type": "stream",
     "text": [
      "1/1 [==============================] - 0s 33ms/step\n",
      "1/1 [==============================] - 0s 14ms/step\n",
      "1/1 [==============================] - 0s 30ms/step\n"
     ]
    },
    {
     "name": "stderr",
     "output_type": "stream",
     "text": [
      "C:\\Users\\riyab\\AppData\\Local\\Temp\\ipykernel_6436\\392193166.py:36: FutureWarning: The frame.append method is deprecated and will be removed from pandas in a future version. Use pandas.concat instead.\n",
      "  df = df.append(pd.Series(predicted_values_actual[0][0], index=df.columns), ignore_index=True)\n",
      "C:\\Users\\riyab\\AppData\\Local\\Temp\\ipykernel_6436\\392193166.py:36: FutureWarning: The frame.append method is deprecated and will be removed from pandas in a future version. Use pandas.concat instead.\n",
      "  df = df.append(pd.Series(predicted_values_actual[0][0], index=df.columns), ignore_index=True)\n",
      "C:\\Users\\riyab\\AppData\\Local\\Temp\\ipykernel_6436\\392193166.py:36: FutureWarning: The frame.append method is deprecated and will be removed from pandas in a future version. Use pandas.concat instead.\n",
      "  df = df.append(pd.Series(predicted_values_actual[0][0], index=df.columns), ignore_index=True)\n"
     ]
    },
    {
     "name": "stdout",
     "output_type": "stream",
     "text": [
      "1/1 [==============================] - 0s 16ms/step\n",
      "1/1 [==============================] - 0s 13ms/step\n"
     ]
    },
    {
     "name": "stderr",
     "output_type": "stream",
     "text": [
      "C:\\Users\\riyab\\AppData\\Local\\Temp\\ipykernel_6436\\392193166.py:36: FutureWarning: The frame.append method is deprecated and will be removed from pandas in a future version. Use pandas.concat instead.\n",
      "  df = df.append(pd.Series(predicted_values_actual[0][0], index=df.columns), ignore_index=True)\n",
      "C:\\Users\\riyab\\AppData\\Local\\Temp\\ipykernel_6436\\392193166.py:36: FutureWarning: The frame.append method is deprecated and will be removed from pandas in a future version. Use pandas.concat instead.\n",
      "  df = df.append(pd.Series(predicted_values_actual[0][0], index=df.columns), ignore_index=True)\n"
     ]
    },
    {
     "name": "stdout",
     "output_type": "stream",
     "text": [
      "1/1 [==============================] - 0s 27ms/step\n",
      "1/1 [==============================] - 0s 20ms/step\n",
      "1/1 [==============================] - 0s 21ms/step\n"
     ]
    },
    {
     "name": "stderr",
     "output_type": "stream",
     "text": [
      "C:\\Users\\riyab\\AppData\\Local\\Temp\\ipykernel_6436\\392193166.py:36: FutureWarning: The frame.append method is deprecated and will be removed from pandas in a future version. Use pandas.concat instead.\n",
      "  df = df.append(pd.Series(predicted_values_actual[0][0], index=df.columns), ignore_index=True)\n",
      "C:\\Users\\riyab\\AppData\\Local\\Temp\\ipykernel_6436\\392193166.py:36: FutureWarning: The frame.append method is deprecated and will be removed from pandas in a future version. Use pandas.concat instead.\n",
      "  df = df.append(pd.Series(predicted_values_actual[0][0], index=df.columns), ignore_index=True)\n",
      "C:\\Users\\riyab\\AppData\\Local\\Temp\\ipykernel_6436\\392193166.py:36: FutureWarning: The frame.append method is deprecated and will be removed from pandas in a future version. Use pandas.concat instead.\n",
      "  df = df.append(pd.Series(predicted_values_actual[0][0], index=df.columns), ignore_index=True)\n"
     ]
    },
    {
     "name": "stdout",
     "output_type": "stream",
     "text": [
      "1/1 [==============================] - 0s 12ms/step\n",
      "1/1 [==============================] - 0s 16ms/step\n",
      "1/1 [==============================] - 0s 16ms/step\n",
      "1/1 [==============================] - ETA: 0s"
     ]
    },
    {
     "name": "stderr",
     "output_type": "stream",
     "text": [
      "C:\\Users\\riyab\\AppData\\Local\\Temp\\ipykernel_6436\\392193166.py:36: FutureWarning: The frame.append method is deprecated and will be removed from pandas in a future version. Use pandas.concat instead.\n",
      "  df = df.append(pd.Series(predicted_values_actual[0][0], index=df.columns), ignore_index=True)\n",
      "C:\\Users\\riyab\\AppData\\Local\\Temp\\ipykernel_6436\\392193166.py:36: FutureWarning: The frame.append method is deprecated and will be removed from pandas in a future version. Use pandas.concat instead.\n",
      "  df = df.append(pd.Series(predicted_values_actual[0][0], index=df.columns), ignore_index=True)\n",
      "C:\\Users\\riyab\\AppData\\Local\\Temp\\ipykernel_6436\\392193166.py:36: FutureWarning: The frame.append method is deprecated and will be removed from pandas in a future version. Use pandas.concat instead.\n",
      "  df = df.append(pd.Series(predicted_values_actual[0][0], index=df.columns), ignore_index=True)\n"
     ]
    },
    {
     "name": "stdout",
     "output_type": "stream",
     "text": [
      "1/1 [==============================] - 0s 16ms/step\n",
      "1/1 [==============================] - 0s 32ms/step\n",
      "1/1 [==============================] - 0s 16ms/step\n"
     ]
    },
    {
     "name": "stderr",
     "output_type": "stream",
     "text": [
      "C:\\Users\\riyab\\AppData\\Local\\Temp\\ipykernel_6436\\392193166.py:36: FutureWarning: The frame.append method is deprecated and will be removed from pandas in a future version. Use pandas.concat instead.\n",
      "  df = df.append(pd.Series(predicted_values_actual[0][0], index=df.columns), ignore_index=True)\n",
      "C:\\Users\\riyab\\AppData\\Local\\Temp\\ipykernel_6436\\392193166.py:36: FutureWarning: The frame.append method is deprecated and will be removed from pandas in a future version. Use pandas.concat instead.\n",
      "  df = df.append(pd.Series(predicted_values_actual[0][0], index=df.columns), ignore_index=True)\n",
      "C:\\Users\\riyab\\AppData\\Local\\Temp\\ipykernel_6436\\392193166.py:36: FutureWarning: The frame.append method is deprecated and will be removed from pandas in a future version. Use pandas.concat instead.\n",
      "  df = df.append(pd.Series(predicted_values_actual[0][0], index=df.columns), ignore_index=True)\n"
     ]
    },
    {
     "name": "stdout",
     "output_type": "stream",
     "text": [
      "1/1 [==============================] - 0s 10ms/step\n",
      "1/1 [==============================] - 0s 15ms/step\n",
      "1/1 [==============================] - ETA: 0s"
     ]
    },
    {
     "name": "stderr",
     "output_type": "stream",
     "text": [
      "C:\\Users\\riyab\\AppData\\Local\\Temp\\ipykernel_6436\\392193166.py:36: FutureWarning: The frame.append method is deprecated and will be removed from pandas in a future version. Use pandas.concat instead.\n",
      "  df = df.append(pd.Series(predicted_values_actual[0][0], index=df.columns), ignore_index=True)\n",
      "C:\\Users\\riyab\\AppData\\Local\\Temp\\ipykernel_6436\\392193166.py:36: FutureWarning: The frame.append method is deprecated and will be removed from pandas in a future version. Use pandas.concat instead.\n",
      "  df = df.append(pd.Series(predicted_values_actual[0][0], index=df.columns), ignore_index=True)\n"
     ]
    },
    {
     "name": "stdout",
     "output_type": "stream",
     "text": [
      "1/1 [==============================] - 0s 25ms/step\n",
      "1/1 [==============================] - 0s 34ms/step\n"
     ]
    },
    {
     "name": "stderr",
     "output_type": "stream",
     "text": [
      "C:\\Users\\riyab\\AppData\\Local\\Temp\\ipykernel_6436\\392193166.py:36: FutureWarning: The frame.append method is deprecated and will be removed from pandas in a future version. Use pandas.concat instead.\n",
      "  df = df.append(pd.Series(predicted_values_actual[0][0], index=df.columns), ignore_index=True)\n",
      "C:\\Users\\riyab\\AppData\\Local\\Temp\\ipykernel_6436\\392193166.py:36: FutureWarning: The frame.append method is deprecated and will be removed from pandas in a future version. Use pandas.concat instead.\n",
      "  df = df.append(pd.Series(predicted_values_actual[0][0], index=df.columns), ignore_index=True)\n"
     ]
    },
    {
     "name": "stdout",
     "output_type": "stream",
     "text": [
      "1/1 [==============================] - 0s 50ms/step\n",
      "Predicted values for the next 48 time periods:\n",
      "[0.16913453, 0.16544111, 0.16303979, 0.16137278, 0.16014323, 0.1592272, 0.15849437, 0.157892, 0.15738665, 0.15694176, 0.15652831, 0.15604573, 0.15556845, 0.15516661, 0.1547936, 0.15444465, 0.15411687, 0.1538084, 0.15351792, 0.15324433, 0.15298662, 0.15274388, 0.1525152, 0.15229969, 0.1520964, 0.15190448, 0.15172318, 0.15155186, 0.15138988, 0.1512367, 0.15109178, 0.15095463, 0.15082479, 0.15070179, 0.15058528, 0.15047488, 0.15037021, 0.15027097, 0.15017684, 0.15008757, 0.15000287, 0.14992246, 0.14984615, 0.14977372, 0.14970492, 0.14963958, 0.14957753, 0.14951858]\n"
     ]
    },
    {
     "name": "stderr",
     "output_type": "stream",
     "text": [
      "C:\\Users\\riyab\\AppData\\Local\\Temp\\ipykernel_6436\\392193166.py:36: FutureWarning: The frame.append method is deprecated and will be removed from pandas in a future version. Use pandas.concat instead.\n",
      "  df = df.append(pd.Series(predicted_values_actual[0][0], index=df.columns), ignore_index=True)\n"
     ]
    }
   ],
   "source": [
    "# Assuming you have already trained your LSTM model and defined 'model' variable\n",
    "\n",
    "import warnings\n",
    "warnings.filterwarnings(\"ignore\", message=\"X does not have valid feature names, but MinMaxScaler was fitted with feature names\")\n",
    "\n",
    "# Define the number of future time periods to predict\n",
    "num_periods = 48  # Adjust this according to your requirement\n",
    "\n",
    "# Initialize a list to store the predicted values for each future time period\n",
    "predicted_values_all = []\n",
    "\n",
    "# Loop over the number of future time periods to predict\n",
    "for _ in range(num_periods):\n",
    "    # Prepare the features for the next time period\n",
    "    X_next_period = df[target_column].values[-time_steps:].reshape(1, -1)\n",
    "    \n",
    "    # Reshape the features for scaling\n",
    "    X_next_period_reshaped = X_next_period.reshape(-1, 1)\n",
    "    \n",
    "    # Scale the features for the next time period\n",
    "    X_next_period_scaled = scaler.transform(X_next_period_reshaped)\n",
    "    \n",
    "    # Reshape the scaled features for LSTM input\n",
    "    X_next_period_scaled_reshaped = X_next_period_scaled.reshape(1, time_steps, 1)\n",
    "    \n",
    "    # Use the trained LSTM model to predict the target variable for the next time period\n",
    "    predicted_values = model.predict(X_next_period_scaled_reshaped)\n",
    "    \n",
    "    # Inverse transform the predicted values to get the actual values\n",
    "    predicted_values_actual = scaler.inverse_transform(predicted_values)\n",
    "    \n",
    "    # Append the predicted value to the list\n",
    "    predicted_values_all.append(predicted_values_actual[0][0])\n",
    "    \n",
    "    # Update the input data for the next iteration (shift the time steps by 1)\n",
    "    df = df.append(pd.Series(predicted_values_actual[0][0], index=df.columns), ignore_index=True)\n",
    "\n",
    "print(\"Predicted values for the next\", num_periods, \"time periods:\")\n",
    "print(predicted_values_all)\n",
    "\n",
    "\n",
    "\n"
   ]
  },
  {
   "cell_type": "code",
   "execution_count": 45,
   "id": "2713432c-011f-44d4-8653-8cb880f6a476",
   "metadata": {},
   "outputs": [
    {
     "data": {
      "image/png": "[encoded data removed]",
      "text/plain": [
       "<Figure size 864x432 with 1 Axes>"
      ]
     },
     "metadata": {
      "needs_background": "light"
     },
     "output_type": "display_data"
    }
   ],
   "source": [
    "import matplotlib.pyplot as plt\n",
    "\n",
    "# Extracting the historical data and dates\n",
    "historical_dates = df.index.tolist()\n",
    "historical_values = df[target_column].values.tolist()\n",
    "\n",
    "# Plotting the historical and predicted values\n",
    "plt.figure(figsize=(12, 6))\n",
    "plt.plot(historical_dates, historical_values, label='Historical', color='blue')\n",
    "plt.plot(historical_dates[-len(predicted_values_all):], predicted_values_all, label='Predicted', color='red', linestyle='--', marker='o')\n",
    "plt.title('Historical vs Predicted Values')\n",
    "plt.xlabel('Date')\n",
    "plt.ylabel(target_column)\n",
    "plt.legend()\n",
    "plt.grid(True)\n",
    "plt.show()\n"
   ]
  },
  {
   "cell_type": "markdown",
   "id": "344f11c3-7c80-4a31-b2e7-1cbe223758f4",
   "metadata": {},
   "source": [
    "### Texas"
   ]
  },
  {
   "cell_type": "code",
   "execution_count": 46,
   "id": "6e46bbb3-5891-41da-9de6-499ff8e2cf9f",
   "metadata": {},
   "outputs": [],
   "source": [
    "df = pd.read_excel(\"Retail_data_final.xlsx\")"
   ]
  },
  {
   "cell_type": "code",
   "execution_count": 47,
   "id": "340d139b-7703-43c0-bd0d-390c282dd176",
   "metadata": {},
   "outputs": [],
   "source": [
    "# Select the target column (utility_Michigan in this case)\n",
    "target_column = 'Electricity_texas'\n",
    "\n",
    "# Normalize the data\n",
    "scaler = MinMaxScaler()\n",
    "scaled_data = scaler.fit_transform(df[[target_column]])\n",
    "\n",
    "# Split data into training and testing sets\n",
    "train_size = int(len(scaled_data) * 0.8)\n",
    "train_data, test_data = scaled_data[:train_size], scaled_data[train_size:]\n",
    "\n",
    "# Prepare the data for LSTM\n",
    "def create_dataset(data, time_steps=1):\n",
    "    X, y = [], []\n",
    "    for i in range(len(data) - time_steps):\n",
    "        X.append(data[i:(i + time_steps)])\n",
    "        y.append(data[i + time_steps])\n",
    "    return np.array(X), np.array(y)\n",
    "\n",
    "time_steps = 12  # You can adjust the time steps as needed\n",
    "X_train, y_train = create_dataset(train_data, time_steps)\n",
    "X_test, y_test = create_dataset(test_data, time_steps)\n",
    "\n",
    "# Reshape data for LSTM\n",
    "X_train = np.reshape(X_train, (X_train.shape[0], X_train.shape[1], 1))\n",
    "X_test = np.reshape(X_test, (X_test.shape[0], X_test.shape[1], 1))"
   ]
  },
  {
   "cell_type": "code",
   "execution_count": 48,
   "id": "5d992785-95cc-4c72-8dfa-1577d7702ecb",
   "metadata": {},
   "outputs": [
    {
     "name": "stdout",
     "output_type": "stream",
     "text": [
      "Epoch 1/100\n",
      "7/7 [==============================] - 3s 14ms/step - loss: 0.0487\n",
      "Epoch 2/100\n",
      "7/7 [==============================] - 0s 9ms/step - loss: 0.0118\n",
      "Epoch 3/100\n",
      "7/7 [==============================] - 0s 12ms/step - loss: 0.0062\n",
      "Epoch 4/100\n",
      "7/7 [==============================] - 0s 16ms/step - loss: 0.0076\n",
      "Epoch 5/100\n",
      "7/7 [==============================] - 0s 16ms/step - loss: 0.0053\n",
      "Epoch 6/100\n",
      "7/7 [==============================] - 0s 16ms/step - loss: 0.0056\n",
      "Epoch 7/100\n",
      "7/7 [==============================] - 0s 17ms/step - loss: 0.0050\n",
      "Epoch 8/100\n",
      "7/7 [==============================] - 0s 16ms/step - loss: 0.0050\n",
      "Epoch 9/100\n",
      "7/7 [==============================] - 0s 17ms/step - loss: 0.0048\n",
      "Epoch 10/100\n",
      "7/7 [==============================] - 0s 16ms/step - loss: 0.0046\n",
      "Epoch 11/100\n",
      "7/7 [==============================] - 0s 15ms/step - loss: 0.0047\n",
      "Epoch 12/100\n",
      "7/7 [==============================] - 0s 12ms/step - loss: 0.0047\n",
      "Epoch 13/100\n",
      "7/7 [==============================] - 0s 15ms/step - loss: 0.0045\n",
      "Epoch 14/100\n",
      "7/7 [==============================] - 0s 16ms/step - loss: 0.0045\n",
      "Epoch 15/100\n",
      "7/7 [==============================] - 0s 9ms/step - loss: 0.0045\n",
      "Epoch 16/100\n",
      "7/7 [==============================] - 0s 8ms/step - loss: 0.0044\n",
      "Epoch 17/100\n",
      "7/7 [==============================] - 0s 11ms/step - loss: 0.0045\n",
      "Epoch 18/100\n",
      "7/7 [==============================] - 0s 8ms/step - loss: 0.0044\n",
      "Epoch 19/100\n",
      "7/7 [==============================] - 0s 10ms/step - loss: 0.0044\n",
      "Epoch 20/100\n",
      "7/7 [==============================] - 0s 8ms/step - loss: 0.0043\n",
      "Epoch 21/100\n",
      "7/7 [==============================] - 0s 8ms/step - loss: 0.0044\n",
      "Epoch 22/100\n",
      "7/7 [==============================] - 0s 8ms/step - loss: 0.0043\n",
      "Epoch 23/100\n",
      "7/7 [==============================] - 0s 8ms/step - loss: 0.0043\n",
      "Epoch 24/100\n",
      "7/7 [==============================] - 0s 9ms/step - loss: 0.0042\n",
      "Epoch 25/100\n",
      "7/7 [==============================] - 0s 8ms/step - loss: 0.0041\n",
      "Epoch 26/100\n",
      "7/7 [==============================] - 0s 8ms/step - loss: 0.0040\n",
      "Epoch 27/100\n",
      "7/7 [==============================] - 0s 9ms/step - loss: 0.0041\n",
      "Epoch 28/100\n",
      "7/7 [==============================] - 0s 8ms/step - loss: 0.0040\n",
      "Epoch 29/100\n",
      "7/7 [==============================] - 0s 8ms/step - loss: 0.0039\n",
      "Epoch 30/100\n",
      "7/7 [==============================] - 0s 8ms/step - loss: 0.0039\n",
      "Epoch 31/100\n",
      "7/7 [==============================] - 0s 8ms/step - loss: 0.0040\n",
      "Epoch 32/100\n",
      "7/7 [==============================] - 0s 9ms/step - loss: 0.0039\n",
      "Epoch 33/100\n",
      "7/7 [==============================] - 0s 10ms/step - loss: 0.0038\n",
      "Epoch 34/100\n",
      "7/7 [==============================] - 0s 9ms/step - loss: 0.0037\n",
      "Epoch 35/100\n",
      "7/7 [==============================] - 0s 8ms/step - loss: 0.0037\n",
      "Epoch 36/100\n",
      "7/7 [==============================] - 0s 9ms/step - loss: 0.0037\n",
      "Epoch 37/100\n",
      "7/7 [==============================] - 0s 8ms/step - loss: 0.0037\n",
      "Epoch 38/100\n",
      "7/7 [==============================] - 0s 9ms/step - loss: 0.0036\n",
      "Epoch 39/100\n",
      "7/7 [==============================] - 0s 9ms/step - loss: 0.0037\n",
      "Epoch 40/100\n",
      "7/7 [==============================] - 0s 9ms/step - loss: 0.0036\n",
      "Epoch 41/100\n",
      "7/7 [==============================] - 0s 11ms/step - loss: 0.0038\n",
      "Epoch 42/100\n",
      "7/7 [==============================] - 0s 8ms/step - loss: 0.0035\n",
      "Epoch 43/100\n",
      "7/7 [==============================] - 0s 9ms/step - loss: 0.0034\n",
      "Epoch 44/100\n",
      "7/7 [==============================] - 0s 8ms/step - loss: 0.0033\n",
      "Epoch 45/100\n",
      "7/7 [==============================] - 0s 8ms/step - loss: 0.0033\n",
      "Epoch 46/100\n",
      "7/7 [==============================] - 0s 8ms/step - loss: 0.0032\n",
      "Epoch 47/100\n",
      "7/7 [==============================] - 0s 8ms/step - loss: 0.0033\n",
      "Epoch 48/100\n",
      "7/7 [==============================] - 0s 12ms/step - loss: 0.0032\n",
      "Epoch 49/100\n",
      "7/7 [==============================] - 0s 9ms/step - loss: 0.0031\n",
      "Epoch 50/100\n",
      "7/7 [==============================] - 0s 9ms/step - loss: 0.0033\n",
      "Epoch 51/100\n",
      "7/7 [==============================] - 0s 8ms/step - loss: 0.0032\n",
      "Epoch 52/100\n",
      "7/7 [==============================] - 0s 10ms/step - loss: 0.0033\n",
      "Epoch 53/100\n",
      "7/7 [==============================] - 0s 9ms/step - loss: 0.0034\n",
      "Epoch 54/100\n",
      "7/7 [==============================] - 0s 8ms/step - loss: 0.0031\n",
      "Epoch 55/100\n",
      "7/7 [==============================] - 0s 9ms/step - loss: 0.0029\n",
      "Epoch 56/100\n",
      "7/7 [==============================] - 0s 9ms/step - loss: 0.0029\n",
      "Epoch 57/100\n",
      "7/7 [==============================] - 0s 8ms/step - loss: 0.0029\n",
      "Epoch 58/100\n",
      "7/7 [==============================] - 0s 8ms/step - loss: 0.0029\n",
      "Epoch 59/100\n",
      "7/7 [==============================] - 0s 9ms/step - loss: 0.0028\n",
      "Epoch 60/100\n",
      "7/7 [==============================] - 0s 9ms/step - loss: 0.0029\n",
      "Epoch 61/100\n",
      "7/7 [==============================] - 0s 9ms/step - loss: 0.0027\n",
      "Epoch 62/100\n",
      "7/7 [==============================] - 0s 10ms/step - loss: 0.0027\n",
      "Epoch 63/100\n",
      "7/7 [==============================] - 0s 8ms/step - loss: 0.0026\n",
      "Epoch 64/100\n",
      "7/7 [==============================] - 0s 8ms/step - loss: 0.0027\n",
      "Epoch 65/100\n",
      "7/7 [==============================] - 0s 9ms/step - loss: 0.0026\n",
      "Epoch 66/100\n",
      "7/7 [==============================] - 0s 9ms/step - loss: 0.0026\n",
      "Epoch 67/100\n",
      "7/7 [==============================] - 0s 9ms/step - loss: 0.0028\n",
      "Epoch 68/100\n",
      "7/7 [==============================] - 0s 8ms/step - loss: 0.0027\n",
      "Epoch 69/100\n",
      "7/7 [==============================] - 0s 8ms/step - loss: 0.0025\n",
      "Epoch 70/100\n",
      "7/7 [==============================] - 0s 8ms/step - loss: 0.0026\n",
      "Epoch 71/100\n",
      "7/7 [==============================] - 0s 9ms/step - loss: 0.0024\n",
      "Epoch 72/100\n",
      "7/7 [==============================] - 0s 11ms/step - loss: 0.0024\n",
      "Epoch 73/100\n",
      "7/7 [==============================] - 0s 12ms/step - loss: 0.0024\n",
      "Epoch 74/100\n",
      "7/7 [==============================] - 0s 8ms/step - loss: 0.0023\n",
      "Epoch 75/100\n",
      "7/7 [==============================] - 0s 8ms/step - loss: 0.0023\n",
      "Epoch 76/100\n",
      "7/7 [==============================] - 0s 8ms/step - loss: 0.0022\n",
      "Epoch 77/100\n",
      "7/7 [==============================] - 0s 15ms/step - loss: 0.0023\n",
      "Epoch 78/100\n",
      "7/7 [==============================] - 0s 14ms/step - loss: 0.0023\n",
      "Epoch 79/100\n",
      "7/7 [==============================] - 0s 17ms/step - loss: 0.0022\n",
      "Epoch 80/100\n",
      "7/7 [==============================] - 0s 16ms/step - loss: 0.0022\n",
      "Epoch 81/100\n",
      "7/7 [==============================] - 0s 11ms/step - loss: 0.0022\n",
      "Epoch 82/100\n",
      "7/7 [==============================] - 0s 14ms/step - loss: 0.0022\n",
      "Epoch 83/100\n",
      "7/7 [==============================] - 0s 17ms/step - loss: 0.0022\n",
      "Epoch 84/100\n",
      "7/7 [==============================] - 0s 14ms/step - loss: 0.0021\n",
      "Epoch 85/100\n",
      "7/7 [==============================] - 0s 14ms/step - loss: 0.0019\n",
      "Epoch 86/100\n",
      "7/7 [==============================] - 0s 12ms/step - loss: 0.0020\n",
      "Epoch 87/100\n",
      "7/7 [==============================] - 0s 8ms/step - loss: 0.0021\n",
      "Epoch 88/100\n",
      "7/7 [==============================] - 0s 9ms/step - loss: 0.0019\n",
      "Epoch 89/100\n",
      "7/7 [==============================] - 0s 10ms/step - loss: 0.0020\n",
      "Epoch 90/100\n",
      "7/7 [==============================] - 0s 9ms/step - loss: 0.0023\n",
      "Epoch 91/100\n",
      "7/7 [==============================] - 0s 11ms/step - loss: 0.0021\n",
      "Epoch 92/100\n",
      "7/7 [==============================] - 0s 9ms/step - loss: 0.0021\n",
      "Epoch 93/100\n",
      "7/7 [==============================] - 0s 8ms/step - loss: 0.0019\n",
      "Epoch 94/100\n",
      "7/7 [==============================] - 0s 14ms/step - loss: 0.0018\n",
      "Epoch 95/100\n",
      "7/7 [==============================] - 0s 14ms/step - loss: 0.0019\n",
      "Epoch 96/100\n",
      "7/7 [==============================] - 0s 14ms/step - loss: 0.0019\n",
      "Epoch 97/100\n",
      "7/7 [==============================] - 0s 14ms/step - loss: 0.0018\n",
      "Epoch 98/100\n",
      "7/7 [==============================] - 0s 15ms/step - loss: 0.0017\n",
      "Epoch 99/100\n",
      "7/7 [==============================] - 0s 15ms/step - loss: 0.0018\n",
      "Epoch 100/100\n",
      "7/7 [==============================] - 0s 15ms/step - loss: 0.0017\n",
      "7/7 [==============================] - 1s 8ms/step\n",
      "2/2 [==============================] - 0s 0s/step\n"
     ]
    }
   ],
   "source": [
    "# Define the LSTM model\n",
    "model = Sequential()\n",
    "model.add(LSTM(units=50, return_sequences=True, input_shape=(X_train.shape[1], 1)))\n",
    "model.add(LSTM(units=50))\n",
    "model.add(Dense(units=1))\n",
    "model.compile(optimizer='adam', loss='mean_squared_error')\n",
    "\n",
    "# Train the model\n",
    "model.fit(X_train, y_train, epochs=100, batch_size=32)\n",
    "\n",
    "# Make predictions\n",
    "train_predictions = model.predict(X_train)\n",
    "test_predictions = model.predict(X_test)"
   ]
  },
  {
   "cell_type": "code",
   "execution_count": 49,
   "id": "e11bdd6f-9363-43b6-893c-a9421d2f8902",
   "metadata": {},
   "outputs": [
    {
     "name": "stdout",
     "output_type": "stream",
     "text": [
      "Train RMSE: 0.007647907180828787\n",
      "Test RMSE: 0.02466913586059487\n",
      "Train MAE: 0.00528881277157626\n",
      "Test MAE: 0.014861096896555112\n"
     ]
    }
   ],
   "source": [
    "# Inverse transform the predictions\n",
    "train_predictions = scaler.inverse_transform(train_predictions)\n",
    "test_predictions = scaler.inverse_transform(test_predictions)\n",
    "y_train = scaler.inverse_transform(y_train)\n",
    "y_test = scaler.inverse_transform(y_test)\n",
    "\n",
    "# Calculate accuracy metrics\n",
    "train_rmse = np.sqrt(mean_squared_error(y_train, train_predictions))\n",
    "test_rmse = np.sqrt(mean_squared_error(y_test, test_predictions))\n",
    "train_mae = mean_absolute_error(y_train, train_predictions)\n",
    "test_mae = mean_absolute_error(y_test, test_predictions)\n",
    "\n",
    "print(\"Train RMSE:\", train_rmse)\n",
    "print(\"Test RMSE:\", test_rmse)\n",
    "print(\"Train MAE:\", train_mae)\n",
    "print(\"Test MAE:\", test_mae)"
   ]
  },
  {
   "cell_type": "code",
   "execution_count": 50,
   "id": "0daf5588-bfdc-4e0e-b2d8-2acb71a2b23a",
   "metadata": {},
   "outputs": [
    {
     "data": {
      "image/png": "[encoded data removed]",
      "text/plain": [
       "<Figure size 1008x432 with 1 Axes>"
      ]
     },
     "metadata": {
      "needs_background": "light"
     },
     "output_type": "display_data"
    }
   ],
   "source": [
    "plt.figure(figsize=(14, 6))\n",
    "plt.plot(df.index[:-time_steps], df[target_column].values[:-time_steps], label='Actual', color='blue')\n",
    "plt.plot(df.index[time_steps:train_size], train_predictions, label='Train Predictions', color='green')\n",
    "plt.plot(df.index[train_size + time_steps:], test_predictions, label='Test Predictions', color='red')\n",
    "plt.title('LSTM Model Prediction vs Actual')\n",
    "plt.xlabel('Date')\n",
    "plt.ylabel(target_column)\n",
    "plt.legend()\n",
    "plt.show()\n"
   ]
  },
  {
   "cell_type": "code",
   "execution_count": 51,
   "id": "dc56de99-44e4-4c7d-b700-73d3b569a3d7",
   "metadata": {},
   "outputs": [
    {
     "name": "stdout",
     "output_type": "stream",
     "text": [
      "1/1 [==============================] - 0s 30ms/step\n",
      "Predicted values for the next time period:\n",
      "[[0.17419197]]\n"
     ]
    }
   ],
   "source": [
    "# Prepare the features for the next time period\n",
    "X_next_period = df[target_column].iloc[-time_steps:].values.reshape(1, time_steps, 1)\n",
    "\n",
    "# Reshape the features for scaling\n",
    "X_next_period_reshaped = X_next_period.reshape(-1, 1)\n",
    "\n",
    "# Scale the features for the next time period\n",
    "X_next_period_scaled = scaler.transform(X_next_period_reshaped)\n",
    "\n",
    "# Reshape the scaled features for LSTM input\n",
    "X_next_period_scaled_reshaped = X_next_period_scaled.reshape(1, time_steps, 1)\n",
    "\n",
    "try:\n",
    "    # Use the trained LSTM model to predict the target variable for the next time period\n",
    "    predicted_values = model.predict(X_next_period_scaled_reshaped)\n",
    "    \n",
    "    # Inverse transform the predicted values to get the actual values\n",
    "    predicted_values_actual = scaler.inverse_transform(predicted_values)\n",
    "    \n",
    "    print(\"Predicted values for the next time period:\")\n",
    "    print(predicted_values_actual)\n",
    "except Exception as e:\n",
    "    print(\"Error occurred during prediction:\", e)\n"
   ]
  },
  {
   "cell_type": "code",
   "execution_count": 52,
   "id": "61c58460-50b4-4712-9923-d8dc842a4c90",
   "metadata": {},
   "outputs": [
    {
     "name": "stdout",
     "output_type": "stream",
     "text": [
      "1/1 [==============================] - 0s 20ms/step\n",
      "1/1 [==============================] - 0s 21ms/step\n",
      "1/1 [==============================] - 0s 28ms/step\n"
     ]
    },
    {
     "name": "stderr",
     "output_type": "stream",
     "text": [
      "C:\\Users\\riyab\\AppData\\Local\\Temp\\ipykernel_6436\\392193166.py:36: FutureWarning: The frame.append method is deprecated and will be removed from pandas in a future version. Use pandas.concat instead.\n",
      "  df = df.append(pd.Series(predicted_values_actual[0][0], index=df.columns), ignore_index=True)\n",
      "C:\\Users\\riyab\\AppData\\Local\\Temp\\ipykernel_6436\\392193166.py:36: FutureWarning: The frame.append method is deprecated and will be removed from pandas in a future version. Use pandas.concat instead.\n",
      "  df = df.append(pd.Series(predicted_values_actual[0][0], index=df.columns), ignore_index=True)\n",
      "C:\\Users\\riyab\\AppData\\Local\\Temp\\ipykernel_6436\\392193166.py:36: FutureWarning: The frame.append method is deprecated and will be removed from pandas in a future version. Use pandas.concat instead.\n",
      "  df = df.append(pd.Series(predicted_values_actual[0][0], index=df.columns), ignore_index=True)\n"
     ]
    },
    {
     "name": "stdout",
     "output_type": "stream",
     "text": [
      "1/1 [==============================] - 0s 22ms/step\n",
      "1/1 [==============================] - 0s 33ms/step\n",
      "1/1 [==============================] - 0s 16ms/step\n"
     ]
    },
    {
     "name": "stderr",
     "output_type": "stream",
     "text": [
      "C:\\Users\\riyab\\AppData\\Local\\Temp\\ipykernel_6436\\392193166.py:36: FutureWarning: The frame.append method is deprecated and will be removed from pandas in a future version. Use pandas.concat instead.\n",
      "  df = df.append(pd.Series(predicted_values_actual[0][0], index=df.columns), ignore_index=True)\n",
      "C:\\Users\\riyab\\AppData\\Local\\Temp\\ipykernel_6436\\392193166.py:36: FutureWarning: The frame.append method is deprecated and will be removed from pandas in a future version. Use pandas.concat instead.\n",
      "  df = df.append(pd.Series(predicted_values_actual[0][0], index=df.columns), ignore_index=True)\n",
      "C:\\Users\\riyab\\AppData\\Local\\Temp\\ipykernel_6436\\392193166.py:36: FutureWarning: The frame.append method is deprecated and will be removed from pandas in a future version. Use pandas.concat instead.\n",
      "  df = df.append(pd.Series(predicted_values_actual[0][0], index=df.columns), ignore_index=True)\n"
     ]
    },
    {
     "name": "stdout",
     "output_type": "stream",
     "text": [
      "1/1 [==============================] - 0s 18ms/step\n",
      "1/1 [==============================] - 0s 20ms/step\n",
      "1/1 [==============================] - 0s 6ms/step\n"
     ]
    },
    {
     "name": "stderr",
     "output_type": "stream",
     "text": [
      "C:\\Users\\riyab\\AppData\\Local\\Temp\\ipykernel_6436\\392193166.py:36: FutureWarning: The frame.append method is deprecated and will be removed from pandas in a future version. Use pandas.concat instead.\n",
      "  df = df.append(pd.Series(predicted_values_actual[0][0], index=df.columns), ignore_index=True)\n",
      "C:\\Users\\riyab\\AppData\\Local\\Temp\\ipykernel_6436\\392193166.py:36: FutureWarning: The frame.append method is deprecated and will be removed from pandas in a future version. Use pandas.concat instead.\n",
      "  df = df.append(pd.Series(predicted_values_actual[0][0], index=df.columns), ignore_index=True)\n",
      "C:\\Users\\riyab\\AppData\\Local\\Temp\\ipykernel_6436\\392193166.py:36: FutureWarning: The frame.append method is deprecated and will be removed from pandas in a future version. Use pandas.concat instead.\n",
      "  df = df.append(pd.Series(predicted_values_actual[0][0], index=df.columns), ignore_index=True)\n"
     ]
    },
    {
     "name": "stdout",
     "output_type": "stream",
     "text": [
      "1/1 [==============================] - 0s 23ms/step\n",
      "1/1 [==============================] - 0s 18ms/step\n",
      "1/1 [==============================] - 0s 21ms/step\n"
     ]
    },
    {
     "name": "stderr",
     "output_type": "stream",
     "text": [
      "C:\\Users\\riyab\\AppData\\Local\\Temp\\ipykernel_6436\\392193166.py:36: FutureWarning: The frame.append method is deprecated and will be removed from pandas in a future version. Use pandas.concat instead.\n",
      "  df = df.append(pd.Series(predicted_values_actual[0][0], index=df.columns), ignore_index=True)\n",
      "C:\\Users\\riyab\\AppData\\Local\\Temp\\ipykernel_6436\\392193166.py:36: FutureWarning: The frame.append method is deprecated and will be removed from pandas in a future version. Use pandas.concat instead.\n",
      "  df = df.append(pd.Series(predicted_values_actual[0][0], index=df.columns), ignore_index=True)\n",
      "C:\\Users\\riyab\\AppData\\Local\\Temp\\ipykernel_6436\\392193166.py:36: FutureWarning: The frame.append method is deprecated and will be removed from pandas in a future version. Use pandas.concat instead.\n",
      "  df = df.append(pd.Series(predicted_values_actual[0][0], index=df.columns), ignore_index=True)\n"
     ]
    },
    {
     "name": "stdout",
     "output_type": "stream",
     "text": [
      "1/1 [==============================] - 0s 33ms/step\n",
      "1/1 [==============================] - 0s 30ms/step\n",
      "1/1 [==============================] - 0s 16ms/step\n"
     ]
    },
    {
     "name": "stderr",
     "output_type": "stream",
     "text": [
      "C:\\Users\\riyab\\AppData\\Local\\Temp\\ipykernel_6436\\392193166.py:36: FutureWarning: The frame.append method is deprecated and will be removed from pandas in a future version. Use pandas.concat instead.\n",
      "  df = df.append(pd.Series(predicted_values_actual[0][0], index=df.columns), ignore_index=True)\n",
      "C:\\Users\\riyab\\AppData\\Local\\Temp\\ipykernel_6436\\392193166.py:36: FutureWarning: The frame.append method is deprecated and will be removed from pandas in a future version. Use pandas.concat instead.\n",
      "  df = df.append(pd.Series(predicted_values_actual[0][0], index=df.columns), ignore_index=True)\n",
      "C:\\Users\\riyab\\AppData\\Local\\Temp\\ipykernel_6436\\392193166.py:36: FutureWarning: The frame.append method is deprecated and will be removed from pandas in a future version. Use pandas.concat instead.\n",
      "  df = df.append(pd.Series(predicted_values_actual[0][0], index=df.columns), ignore_index=True)\n"
     ]
    },
    {
     "name": "stdout",
     "output_type": "stream",
     "text": [
      "1/1 [==============================] - 0s 20ms/step\n",
      "1/1 [==============================] - 0s 34ms/step\n",
      "1/1 [==============================] - 0s 15ms/step\n"
     ]
    },
    {
     "name": "stderr",
     "output_type": "stream",
     "text": [
      "C:\\Users\\riyab\\AppData\\Local\\Temp\\ipykernel_6436\\392193166.py:36: FutureWarning: The frame.append method is deprecated and will be removed from pandas in a future version. Use pandas.concat instead.\n",
      "  df = df.append(pd.Series(predicted_values_actual[0][0], index=df.columns), ignore_index=True)\n",
      "C:\\Users\\riyab\\AppData\\Local\\Temp\\ipykernel_6436\\392193166.py:36: FutureWarning: The frame.append method is deprecated and will be removed from pandas in a future version. Use pandas.concat instead.\n",
      "  df = df.append(pd.Series(predicted_values_actual[0][0], index=df.columns), ignore_index=True)\n",
      "C:\\Users\\riyab\\AppData\\Local\\Temp\\ipykernel_6436\\392193166.py:36: FutureWarning: The frame.append method is deprecated and will be removed from pandas in a future version. Use pandas.concat instead.\n",
      "  df = df.append(pd.Series(predicted_values_actual[0][0], index=df.columns), ignore_index=True)\n"
     ]
    },
    {
     "name": "stdout",
     "output_type": "stream",
     "text": [
      "1/1 [==============================] - 0s 21ms/step\n",
      "1/1 [==============================] - 0s 23ms/step\n",
      "1/1 [==============================] - 0s 16ms/step\n"
     ]
    },
    {
     "name": "stderr",
     "output_type": "stream",
     "text": [
      "C:\\Users\\riyab\\AppData\\Local\\Temp\\ipykernel_6436\\392193166.py:36: FutureWarning: The frame.append method is deprecated and will be removed from pandas in a future version. Use pandas.concat instead.\n",
      "  df = df.append(pd.Series(predicted_values_actual[0][0], index=df.columns), ignore_index=True)\n",
      "C:\\Users\\riyab\\AppData\\Local\\Temp\\ipykernel_6436\\392193166.py:36: FutureWarning: The frame.append method is deprecated and will be removed from pandas in a future version. Use pandas.concat instead.\n",
      "  df = df.append(pd.Series(predicted_values_actual[0][0], index=df.columns), ignore_index=True)\n",
      "C:\\Users\\riyab\\AppData\\Local\\Temp\\ipykernel_6436\\392193166.py:36: FutureWarning: The frame.append method is deprecated and will be removed from pandas in a future version. Use pandas.concat instead.\n",
      "  df = df.append(pd.Series(predicted_values_actual[0][0], index=df.columns), ignore_index=True)\n"
     ]
    },
    {
     "name": "stdout",
     "output_type": "stream",
     "text": [
      "1/1 [==============================] - 0s 20ms/step\n",
      "1/1 [==============================] - 0s 31ms/step\n",
      "1/1 [==============================] - ETA: 0s"
     ]
    },
    {
     "name": "stderr",
     "output_type": "stream",
     "text": [
      "C:\\Users\\riyab\\AppData\\Local\\Temp\\ipykernel_6436\\392193166.py:36: FutureWarning: The frame.append method is deprecated and will be removed from pandas in a future version. Use pandas.concat instead.\n",
      "  df = df.append(pd.Series(predicted_values_actual[0][0], index=df.columns), ignore_index=True)\n",
      "C:\\Users\\riyab\\AppData\\Local\\Temp\\ipykernel_6436\\392193166.py:36: FutureWarning: The frame.append method is deprecated and will be removed from pandas in a future version. Use pandas.concat instead.\n",
      "  df = df.append(pd.Series(predicted_values_actual[0][0], index=df.columns), ignore_index=True)\n"
     ]
    },
    {
     "name": "stdout",
     "output_type": "stream",
     "text": [
      "1/1 [==============================] - 0s 34ms/step\n",
      "1/1 [==============================] - 0s 19ms/step\n",
      "1/1 [==============================] - 0s 17ms/step\n"
     ]
    },
    {
     "name": "stderr",
     "output_type": "stream",
     "text": [
      "C:\\Users\\riyab\\AppData\\Local\\Temp\\ipykernel_6436\\392193166.py:36: FutureWarning: The frame.append method is deprecated and will be removed from pandas in a future version. Use pandas.concat instead.\n",
      "  df = df.append(pd.Series(predicted_values_actual[0][0], index=df.columns), ignore_index=True)\n",
      "C:\\Users\\riyab\\AppData\\Local\\Temp\\ipykernel_6436\\392193166.py:36: FutureWarning: The frame.append method is deprecated and will be removed from pandas in a future version. Use pandas.concat instead.\n",
      "  df = df.append(pd.Series(predicted_values_actual[0][0], index=df.columns), ignore_index=True)\n",
      "C:\\Users\\riyab\\AppData\\Local\\Temp\\ipykernel_6436\\392193166.py:36: FutureWarning: The frame.append method is deprecated and will be removed from pandas in a future version. Use pandas.concat instead.\n",
      "  df = df.append(pd.Series(predicted_values_actual[0][0], index=df.columns), ignore_index=True)\n"
     ]
    },
    {
     "name": "stdout",
     "output_type": "stream",
     "text": [
      "1/1 [==============================] - 0s 33ms/step\n",
      "1/1 [==============================] - 0s 33ms/step\n",
      "1/1 [==============================] - 0s 15ms/step\n"
     ]
    },
    {
     "name": "stderr",
     "output_type": "stream",
     "text": [
      "C:\\Users\\riyab\\AppData\\Local\\Temp\\ipykernel_6436\\392193166.py:36: FutureWarning: The frame.append method is deprecated and will be removed from pandas in a future version. Use pandas.concat instead.\n",
      "  df = df.append(pd.Series(predicted_values_actual[0][0], index=df.columns), ignore_index=True)\n",
      "C:\\Users\\riyab\\AppData\\Local\\Temp\\ipykernel_6436\\392193166.py:36: FutureWarning: The frame.append method is deprecated and will be removed from pandas in a future version. Use pandas.concat instead.\n",
      "  df = df.append(pd.Series(predicted_values_actual[0][0], index=df.columns), ignore_index=True)\n",
      "C:\\Users\\riyab\\AppData\\Local\\Temp\\ipykernel_6436\\392193166.py:36: FutureWarning: The frame.append method is deprecated and will be removed from pandas in a future version. Use pandas.concat instead.\n",
      "  df = df.append(pd.Series(predicted_values_actual[0][0], index=df.columns), ignore_index=True)\n"
     ]
    },
    {
     "name": "stdout",
     "output_type": "stream",
     "text": [
      "1/1 [==============================] - 0s 33ms/step\n",
      "1/1 [==============================] - 0s 34ms/step\n"
     ]
    },
    {
     "name": "stderr",
     "output_type": "stream",
     "text": [
      "C:\\Users\\riyab\\AppData\\Local\\Temp\\ipykernel_6436\\392193166.py:36: FutureWarning: The frame.append method is deprecated and will be removed from pandas in a future version. Use pandas.concat instead.\n",
      "  df = df.append(pd.Series(predicted_values_actual[0][0], index=df.columns), ignore_index=True)\n",
      "C:\\Users\\riyab\\AppData\\Local\\Temp\\ipykernel_6436\\392193166.py:36: FutureWarning: The frame.append method is deprecated and will be removed from pandas in a future version. Use pandas.concat instead.\n",
      "  df = df.append(pd.Series(predicted_values_actual[0][0], index=df.columns), ignore_index=True)\n"
     ]
    },
    {
     "name": "stdout",
     "output_type": "stream",
     "text": [
      "1/1 [==============================] - 0s 17ms/step\n",
      "1/1 [==============================] - 0s 36ms/step\n",
      "1/1 [==============================] - 0s 17ms/step\n"
     ]
    },
    {
     "name": "stderr",
     "output_type": "stream",
     "text": [
      "C:\\Users\\riyab\\AppData\\Local\\Temp\\ipykernel_6436\\392193166.py:36: FutureWarning: The frame.append method is deprecated and will be removed from pandas in a future version. Use pandas.concat instead.\n",
      "  df = df.append(pd.Series(predicted_values_actual[0][0], index=df.columns), ignore_index=True)\n",
      "C:\\Users\\riyab\\AppData\\Local\\Temp\\ipykernel_6436\\392193166.py:36: FutureWarning: The frame.append method is deprecated and will be removed from pandas in a future version. Use pandas.concat instead.\n",
      "  df = df.append(pd.Series(predicted_values_actual[0][0], index=df.columns), ignore_index=True)\n",
      "C:\\Users\\riyab\\AppData\\Local\\Temp\\ipykernel_6436\\392193166.py:36: FutureWarning: The frame.append method is deprecated and will be removed from pandas in a future version. Use pandas.concat instead.\n",
      "  df = df.append(pd.Series(predicted_values_actual[0][0], index=df.columns), ignore_index=True)\n"
     ]
    },
    {
     "name": "stdout",
     "output_type": "stream",
     "text": [
      "1/1 [==============================] - 0s 36ms/step\n",
      "1/1 [==============================] - 0s 39ms/step\n"
     ]
    },
    {
     "name": "stderr",
     "output_type": "stream",
     "text": [
      "C:\\Users\\riyab\\AppData\\Local\\Temp\\ipykernel_6436\\392193166.py:36: FutureWarning: The frame.append method is deprecated and will be removed from pandas in a future version. Use pandas.concat instead.\n",
      "  df = df.append(pd.Series(predicted_values_actual[0][0], index=df.columns), ignore_index=True)\n",
      "C:\\Users\\riyab\\AppData\\Local\\Temp\\ipykernel_6436\\392193166.py:36: FutureWarning: The frame.append method is deprecated and will be removed from pandas in a future version. Use pandas.concat instead.\n",
      "  df = df.append(pd.Series(predicted_values_actual[0][0], index=df.columns), ignore_index=True)\n"
     ]
    },
    {
     "name": "stdout",
     "output_type": "stream",
     "text": [
      "1/1 [==============================] - 0s 16ms/step\n",
      "1/1 [==============================] - 0s 41ms/step\n",
      "1/1 [==============================] - ETA: 0s"
     ]
    },
    {
     "name": "stderr",
     "output_type": "stream",
     "text": [
      "C:\\Users\\riyab\\AppData\\Local\\Temp\\ipykernel_6436\\392193166.py:36: FutureWarning: The frame.append method is deprecated and will be removed from pandas in a future version. Use pandas.concat instead.\n",
      "  df = df.append(pd.Series(predicted_values_actual[0][0], index=df.columns), ignore_index=True)\n",
      "C:\\Users\\riyab\\AppData\\Local\\Temp\\ipykernel_6436\\392193166.py:36: FutureWarning: The frame.append method is deprecated and will be removed from pandas in a future version. Use pandas.concat instead.\n",
      "  df = df.append(pd.Series(predicted_values_actual[0][0], index=df.columns), ignore_index=True)\n"
     ]
    },
    {
     "name": "stdout",
     "output_type": "stream",
     "text": [
      "1/1 [==============================] - 0s 34ms/step\n",
      "1/1 [==============================] - 0s 40ms/step\n"
     ]
    },
    {
     "name": "stderr",
     "output_type": "stream",
     "text": [
      "C:\\Users\\riyab\\AppData\\Local\\Temp\\ipykernel_6436\\392193166.py:36: FutureWarning: The frame.append method is deprecated and will be removed from pandas in a future version. Use pandas.concat instead.\n",
      "  df = df.append(pd.Series(predicted_values_actual[0][0], index=df.columns), ignore_index=True)\n",
      "C:\\Users\\riyab\\AppData\\Local\\Temp\\ipykernel_6436\\392193166.py:36: FutureWarning: The frame.append method is deprecated and will be removed from pandas in a future version. Use pandas.concat instead.\n",
      "  df = df.append(pd.Series(predicted_values_actual[0][0], index=df.columns), ignore_index=True)\n"
     ]
    },
    {
     "name": "stdout",
     "output_type": "stream",
     "text": [
      "1/1 [==============================] - 0s 43ms/step\n",
      "1/1 [==============================] - 0s 33ms/step\n",
      "1/1 [==============================] - ETA: 0s"
     ]
    },
    {
     "name": "stderr",
     "output_type": "stream",
     "text": [
      "C:\\Users\\riyab\\AppData\\Local\\Temp\\ipykernel_6436\\392193166.py:36: FutureWarning: The frame.append method is deprecated and will be removed from pandas in a future version. Use pandas.concat instead.\n",
      "  df = df.append(pd.Series(predicted_values_actual[0][0], index=df.columns), ignore_index=True)\n",
      "C:\\Users\\riyab\\AppData\\Local\\Temp\\ipykernel_6436\\392193166.py:36: FutureWarning: The frame.append method is deprecated and will be removed from pandas in a future version. Use pandas.concat instead.\n",
      "  df = df.append(pd.Series(predicted_values_actual[0][0], index=df.columns), ignore_index=True)\n"
     ]
    },
    {
     "name": "stdout",
     "output_type": "stream",
     "text": [
      "1/1 [==============================] - 0s 41ms/step\n",
      "1/1 [==============================] - 0s 27ms/step\n",
      "1/1 [==============================] - 0s 16ms/step\n"
     ]
    },
    {
     "name": "stderr",
     "output_type": "stream",
     "text": [
      "C:\\Users\\riyab\\AppData\\Local\\Temp\\ipykernel_6436\\392193166.py:36: FutureWarning: The frame.append method is deprecated and will be removed from pandas in a future version. Use pandas.concat instead.\n",
      "  df = df.append(pd.Series(predicted_values_actual[0][0], index=df.columns), ignore_index=True)\n",
      "C:\\Users\\riyab\\AppData\\Local\\Temp\\ipykernel_6436\\392193166.py:36: FutureWarning: The frame.append method is deprecated and will be removed from pandas in a future version. Use pandas.concat instead.\n",
      "  df = df.append(pd.Series(predicted_values_actual[0][0], index=df.columns), ignore_index=True)\n"
     ]
    },
    {
     "name": "stdout",
     "output_type": "stream",
     "text": [
      "1/1 [==============================] - 0s 33ms/step\n"
     ]
    },
    {
     "name": "stderr",
     "output_type": "stream",
     "text": [
      "C:\\Users\\riyab\\AppData\\Local\\Temp\\ipykernel_6436\\392193166.py:36: FutureWarning: The frame.append method is deprecated and will be removed from pandas in a future version. Use pandas.concat instead.\n",
      "  df = df.append(pd.Series(predicted_values_actual[0][0], index=df.columns), ignore_index=True)\n",
      "C:\\Users\\riyab\\AppData\\Local\\Temp\\ipykernel_6436\\392193166.py:36: FutureWarning: The frame.append method is deprecated and will be removed from pandas in a future version. Use pandas.concat instead.\n",
      "  df = df.append(pd.Series(predicted_values_actual[0][0], index=df.columns), ignore_index=True)\n"
     ]
    },
    {
     "name": "stdout",
     "output_type": "stream",
     "text": [
      "1/1 [==============================] - 0s 18ms/step\n",
      "1/1 [==============================] - 0s 17ms/step\n",
      "Predicted values for the next 48 time periods:\n",
      "[0.17419197, 0.16882858, 0.16282052, 0.15720488, 0.15272169, 0.14989854, 0.14888217, 0.14962296, 0.15111174, 0.15334445, 0.15562865, 0.15760289, 0.15891376, 0.15943964, 0.15914854, 0.15812992, 0.1565698, 0.15471967, 0.15284906, 0.15119748, 0.14993161, 0.14913982, 0.14881206, 0.14887081, 0.14919308, 0.14964187, 0.15008856, 0.1504307, 0.15060128, 0.15057155, 0.15034805, 0.14996593, 0.1494791, 0.14894935, 0.14843535, 0.14798436, 0.14762647, 0.14737321, 0.14721888, 0.14714488, 0.147125, 0.14713076, 0.14713623, 0.14712127, 0.14707339, 0.14698814, 0.14686805, 0.14672108]\n"
     ]
    },
    {
     "name": "stderr",
     "output_type": "stream",
     "text": [
      "C:\\Users\\riyab\\AppData\\Local\\Temp\\ipykernel_6436\\392193166.py:36: FutureWarning: The frame.append method is deprecated and will be removed from pandas in a future version. Use pandas.concat instead.\n",
      "  df = df.append(pd.Series(predicted_values_actual[0][0], index=df.columns), ignore_index=True)\n",
      "C:\\Users\\riyab\\AppData\\Local\\Temp\\ipykernel_6436\\392193166.py:36: FutureWarning: The frame.append method is deprecated and will be removed from pandas in a future version. Use pandas.concat instead.\n",
      "  df = df.append(pd.Series(predicted_values_actual[0][0], index=df.columns), ignore_index=True)\n"
     ]
    }
   ],
   "source": [
    "# Assuming you have already trained your LSTM model and defined 'model' variable\n",
    "\n",
    "import warnings\n",
    "warnings.filterwarnings(\"ignore\", message=\"X does not have valid feature names, but MinMaxScaler was fitted with feature names\")\n",
    "\n",
    "# Define the number of future time periods to predict\n",
    "num_periods = 48  # Adjust this according to your requirement\n",
    "\n",
    "# Initialize a list to store the predicted values for each future time period\n",
    "predicted_values_all = []\n",
    "\n",
    "# Loop over the number of future time periods to predict\n",
    "for _ in range(num_periods):\n",
    "    # Prepare the features for the next time period\n",
    "    X_next_period = df[target_column].values[-time_steps:].reshape(1, -1)\n",
    "    \n",
    "    # Reshape the features for scaling\n",
    "    X_next_period_reshaped = X_next_period.reshape(-1, 1)\n",
    "    \n",
    "    # Scale the features for the next time period\n",
    "    X_next_period_scaled = scaler.transform(X_next_period_reshaped)\n",
    "    \n",
    "    # Reshape the scaled features for LSTM input\n",
    "    X_next_period_scaled_reshaped = X_next_period_scaled.reshape(1, time_steps, 1)\n",
    "    \n",
    "    # Use the trained LSTM model to predict the target variable for the next time period\n",
    "    predicted_values = model.predict(X_next_period_scaled_reshaped)\n",
    "    \n",
    "    # Inverse transform the predicted values to get the actual values\n",
    "    predicted_values_actual = scaler.inverse_transform(predicted_values)\n",
    "    \n",
    "    # Append the predicted value to the list\n",
    "    predicted_values_all.append(predicted_values_actual[0][0])\n",
    "    \n",
    "    # Update the input data for the next iteration (shift the time steps by 1)\n",
    "    df = df.append(pd.Series(predicted_values_actual[0][0], index=df.columns), ignore_index=True)\n",
    "\n",
    "print(\"Predicted values for the next\", num_periods, \"time periods:\")\n",
    "print(predicted_values_all)\n",
    "\n",
    "\n",
    "\n"
   ]
  },
  {
   "cell_type": "code",
   "execution_count": 53,
   "id": "fc54b349-5e42-45d9-bd22-f597e3527ef2",
   "metadata": {},
   "outputs": [
    {
     "data": {
      "image/png": "[encoded data removed]",
      "text/plain": [
       "<Figure size 864x432 with 1 Axes>"
      ]
     },
     "metadata": {
      "needs_background": "light"
     },
     "output_type": "display_data"
    }
   ],
   "source": [
    "import matplotlib.pyplot as plt\n",
    "\n",
    "# Extracting the historical data and dates\n",
    "historical_dates = df.index.tolist()\n",
    "historical_values = df[target_column].values.tolist()\n",
    "\n",
    "# Plotting the historical and predicted values\n",
    "plt.figure(figsize=(12, 6))\n",
    "plt.plot(historical_dates, historical_values, label='Historical', color='blue')\n",
    "plt.plot(historical_dates[-len(predicted_values_all):], predicted_values_all, label='Predicted', color='red', linestyle='--', marker='o')\n",
    "plt.title('Historical vs Predicted Values')\n",
    "plt.xlabel('Date')\n",
    "plt.ylabel(target_column)\n",
    "plt.legend()\n",
    "plt.grid(True)\n",
    "plt.show()\n"
   ]
  }
 ],
 "metadata": {
  "kernelspec": {
   "display_name": "Python 3 (ipykernel)",
   "language": "python",
   "name": "python3"
  },
  "language_info": {
   "codemirror_mode": {
    "name": "ipython",
    "version": 3
   },
   "file_extension": ".py",
   "mimetype": "text/x-python",
   "name": "python",
   "nbconvert_exporter": "python",
   "pygments_lexer": "ipython3",
   "version": "3.9.12"
  }
 },
 "nbformat": 4,
 "nbformat_minor": 5
}
