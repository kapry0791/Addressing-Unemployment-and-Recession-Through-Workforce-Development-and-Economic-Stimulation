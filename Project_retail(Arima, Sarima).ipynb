{
 "cells": [
  {
   "cell_type": "code",
   "execution_count": 128,
   "id": "fa105de0-ec1b-4c98-8828-9fb97d1a0fc3",
   "metadata": {},
   "outputs": [],
   "source": [
    "import pandas as pd\n",
    "import numpy as np\n",
    "import matplotlib.pyplot as plt\n",
    "from statsmodels.tsa.arima.model import ARIMA\n",
    "from sklearn.metrics import mean_squared_error, mean_absolute_error\n",
    "from io import StringIO\n"
   ]
  },
  {
   "cell_type": "code",
   "execution_count": 129,
   "id": "0ecf5f7b-3427-4cf4-9c8a-e2c771238c70",
   "metadata": {},
   "outputs": [
    {
     "data": {
      "text/plain": [
       "'C:\\\\Users\\\\KARTHICK RAJA\\\\Desktop\\\\DAB24W\\\\Capstone project'"
      ]
     },
     "execution_count": 129,
     "metadata": {},
     "output_type": "execute_result"
    }
   ],
   "source": [
    "pwd"
   ]
  },
  {
   "cell_type": "code",
   "execution_count": null,
   "id": "b51fc729-6d9f-4a4c-bcdc-3f8fd90c5159",
   "metadata": {},
   "outputs": [],
   "source": []
  },
  {
   "cell_type": "code",
   "execution_count": 130,
   "id": "fecd8cea-7d5c-499d-9912-91896bc2210f",
   "metadata": {},
   "outputs": [],
   "source": [
    "df_retail = pd.read_excel(\"Retail_data.xlsx\")"
   ]
  },
  {
   "cell_type": "code",
   "execution_count": 131,
   "id": "afad8d5a-05ae-45f0-a147-e69f5185bd56",
   "metadata": {},
   "outputs": [
    {
     "data": {
      "text/html": [
       "<div>\n",
       "<style scoped>\n",
       "    .dataframe tbody tr th:only-of-type {\n",
       "        vertical-align: middle;\n",
       "    }\n",
       "\n",
       "    .dataframe tbody tr th {\n",
       "        vertical-align: top;\n",
       "    }\n",
       "\n",
       "    .dataframe thead th {\n",
       "        text-align: right;\n",
       "    }\n",
       "</style>\n",
       "<table border=\"1\" class=\"dataframe\">\n",
       "  <thead>\n",
       "    <tr style=\"text-align: right;\">\n",
       "      <th></th>\n",
       "      <th>Date</th>\n",
       "      <th>utility_Michigan</th>\n",
       "      <th>Utility_Texas</th>\n",
       "      <th>Gasoloine_Michigan</th>\n",
       "      <th>Gasoline_Texas</th>\n",
       "      <th>Electricity_michigan</th>\n",
       "      <th>Electricity_texas</th>\n",
       "    </tr>\n",
       "  </thead>\n",
       "  <tbody>\n",
       "    <tr>\n",
       "      <th>0</th>\n",
       "      <td>2000-01-01</td>\n",
       "      <td>0.520</td>\n",
       "      <td>0.571</td>\n",
       "      <td>1.374</td>\n",
       "      <td>1.296</td>\n",
       "      <td>0.097</td>\n",
       "      <td>0.071</td>\n",
       "    </tr>\n",
       "    <tr>\n",
       "      <th>1</th>\n",
       "      <td>2000-02-01</td>\n",
       "      <td>0.520</td>\n",
       "      <td>0.571</td>\n",
       "      <td>1.453</td>\n",
       "      <td>1.363</td>\n",
       "      <td>0.097</td>\n",
       "      <td>0.071</td>\n",
       "    </tr>\n",
       "    <tr>\n",
       "      <th>2</th>\n",
       "      <td>2000-03-01</td>\n",
       "      <td>0.521</td>\n",
       "      <td>0.604</td>\n",
       "      <td>1.592</td>\n",
       "      <td>1.524</td>\n",
       "      <td>0.097</td>\n",
       "      <td>0.071</td>\n",
       "    </tr>\n",
       "    <tr>\n",
       "      <th>3</th>\n",
       "      <td>2000-04-01</td>\n",
       "      <td>0.521</td>\n",
       "      <td>0.604</td>\n",
       "      <td>1.429</td>\n",
       "      <td>1.507</td>\n",
       "      <td>0.097</td>\n",
       "      <td>0.071</td>\n",
       "    </tr>\n",
       "    <tr>\n",
       "      <th>4</th>\n",
       "      <td>2000-05-01</td>\n",
       "      <td>0.520</td>\n",
       "      <td>0.604</td>\n",
       "      <td>1.492</td>\n",
       "      <td>1.488</td>\n",
       "      <td>0.097</td>\n",
       "      <td>0.087</td>\n",
       "    </tr>\n",
       "    <tr>\n",
       "      <th>...</th>\n",
       "      <td>...</td>\n",
       "      <td>...</td>\n",
       "      <td>...</td>\n",
       "      <td>...</td>\n",
       "      <td>...</td>\n",
       "      <td>...</td>\n",
       "      <td>...</td>\n",
       "    </tr>\n",
       "    <tr>\n",
       "      <th>283</th>\n",
       "      <td>2023-08-01</td>\n",
       "      <td>1.121</td>\n",
       "      <td>1.060</td>\n",
       "      <td>3.869</td>\n",
       "      <td>3.477</td>\n",
       "      <td>0.204</td>\n",
       "      <td>0.182</td>\n",
       "    </tr>\n",
       "    <tr>\n",
       "      <th>284</th>\n",
       "      <td>2023-09-01</td>\n",
       "      <td>1.144</td>\n",
       "      <td>1.060</td>\n",
       "      <td>3.804</td>\n",
       "      <td>3.396</td>\n",
       "      <td>0.202</td>\n",
       "      <td>0.177</td>\n",
       "    </tr>\n",
       "    <tr>\n",
       "      <th>285</th>\n",
       "      <td>2023-10-01</td>\n",
       "      <td>1.159</td>\n",
       "      <td>1.060</td>\n",
       "      <td>3.563</td>\n",
       "      <td>3.170</td>\n",
       "      <td>0.195</td>\n",
       "      <td>0.179</td>\n",
       "    </tr>\n",
       "    <tr>\n",
       "      <th>286</th>\n",
       "      <td>2023-11-01</td>\n",
       "      <td>1.169</td>\n",
       "      <td>1.060</td>\n",
       "      <td>3.403</td>\n",
       "      <td>2.888</td>\n",
       "      <td>0.143</td>\n",
       "      <td>0.178</td>\n",
       "    </tr>\n",
       "    <tr>\n",
       "      <th>287</th>\n",
       "      <td>2023-12-01</td>\n",
       "      <td>1.166</td>\n",
       "      <td>1.060</td>\n",
       "      <td>3.131</td>\n",
       "      <td>2.708</td>\n",
       "      <td>0.143</td>\n",
       "      <td>0.178</td>\n",
       "    </tr>\n",
       "  </tbody>\n",
       "</table>\n",
       "<p>288 rows × 7 columns</p>\n",
       "</div>"
      ],
      "text/plain": [
       "          Date  utility_Michigan  Utility_Texas  Gasoloine_Michigan  \\\n",
       "0   2000-01-01             0.520          0.571               1.374   \n",
       "1   2000-02-01             0.520          0.571               1.453   \n",
       "2   2000-03-01             0.521          0.604               1.592   \n",
       "3   2000-04-01             0.521          0.604               1.429   \n",
       "4   2000-05-01             0.520          0.604               1.492   \n",
       "..         ...               ...            ...                 ...   \n",
       "283 2023-08-01             1.121          1.060               3.869   \n",
       "284 2023-09-01             1.144          1.060               3.804   \n",
       "285 2023-10-01             1.159          1.060               3.563   \n",
       "286 2023-11-01             1.169          1.060               3.403   \n",
       "287 2023-12-01             1.166          1.060               3.131   \n",
       "\n",
       "     Gasoline_Texas  Electricity_michigan  Electricity_texas  \n",
       "0             1.296                 0.097              0.071  \n",
       "1             1.363                 0.097              0.071  \n",
       "2             1.524                 0.097              0.071  \n",
       "3             1.507                 0.097              0.071  \n",
       "4             1.488                 0.097              0.087  \n",
       "..              ...                   ...                ...  \n",
       "283           3.477                 0.204              0.182  \n",
       "284           3.396                 0.202              0.177  \n",
       "285           3.170                 0.195              0.179  \n",
       "286           2.888                 0.143              0.178  \n",
       "287           2.708                 0.143              0.178  \n",
       "\n",
       "[288 rows x 7 columns]"
      ]
     },
     "execution_count": 131,
     "metadata": {},
     "output_type": "execute_result"
    }
   ],
   "source": [
    "df_retail"
   ]
  },
  {
   "cell_type": "code",
   "execution_count": 132,
   "id": "be024d37-c82f-4f93-9fcc-c6fb9b8b855c",
   "metadata": {},
   "outputs": [
    {
     "name": "stdout",
     "output_type": "stream",
     "text": [
      "<class 'pandas.core.frame.DataFrame'>\n",
      "RangeIndex: 288 entries, 0 to 287\n",
      "Data columns (total 7 columns):\n",
      " #   Column                Non-Null Count  Dtype         \n",
      "---  ------                --------------  -----         \n",
      " 0   Date                  288 non-null    datetime64[ns]\n",
      " 1   utility_Michigan      288 non-null    float64       \n",
      " 2   Utility_Texas         288 non-null    float64       \n",
      " 3   Gasoloine_Michigan    288 non-null    float64       \n",
      " 4   Gasoline_Texas        288 non-null    float64       \n",
      " 5   Electricity_michigan  288 non-null    float64       \n",
      " 6   Electricity_texas     288 non-null    float64       \n",
      "dtypes: datetime64[ns](1), float64(6)\n",
      "memory usage: 15.9 KB\n"
     ]
    }
   ],
   "source": [
    "df_retail.info()"
   ]
  },
  {
   "cell_type": "code",
   "execution_count": 133,
   "id": "a7f651a4",
   "metadata": {},
   "outputs": [
    {
     "data": {
      "text/html": [
       "<div>\n",
       "<style scoped>\n",
       "    .dataframe tbody tr th:only-of-type {\n",
       "        vertical-align: middle;\n",
       "    }\n",
       "\n",
       "    .dataframe tbody tr th {\n",
       "        vertical-align: top;\n",
       "    }\n",
       "\n",
       "    .dataframe thead th {\n",
       "        text-align: right;\n",
       "    }\n",
       "</style>\n",
       "<table border=\"1\" class=\"dataframe\">\n",
       "  <thead>\n",
       "    <tr style=\"text-align: right;\">\n",
       "      <th></th>\n",
       "      <th>Date</th>\n",
       "      <th>utility_Michigan</th>\n",
       "      <th>Utility_Texas</th>\n",
       "      <th>Gasoloine_Michigan</th>\n",
       "      <th>Gasoline_Texas</th>\n",
       "      <th>Electricity_michigan</th>\n",
       "      <th>Electricity_texas</th>\n",
       "    </tr>\n",
       "  </thead>\n",
       "  <tbody>\n",
       "    <tr>\n",
       "      <th>0</th>\n",
       "      <td>2000-01-01</td>\n",
       "      <td>0.520</td>\n",
       "      <td>0.571</td>\n",
       "      <td>1.374</td>\n",
       "      <td>1.296</td>\n",
       "      <td>0.097</td>\n",
       "      <td>0.071</td>\n",
       "    </tr>\n",
       "    <tr>\n",
       "      <th>1</th>\n",
       "      <td>2000-02-01</td>\n",
       "      <td>0.520</td>\n",
       "      <td>0.571</td>\n",
       "      <td>1.453</td>\n",
       "      <td>1.363</td>\n",
       "      <td>0.097</td>\n",
       "      <td>0.071</td>\n",
       "    </tr>\n",
       "    <tr>\n",
       "      <th>2</th>\n",
       "      <td>2000-03-01</td>\n",
       "      <td>0.521</td>\n",
       "      <td>0.604</td>\n",
       "      <td>1.592</td>\n",
       "      <td>1.524</td>\n",
       "      <td>0.097</td>\n",
       "      <td>0.071</td>\n",
       "    </tr>\n",
       "    <tr>\n",
       "      <th>3</th>\n",
       "      <td>2000-04-01</td>\n",
       "      <td>0.521</td>\n",
       "      <td>0.604</td>\n",
       "      <td>1.429</td>\n",
       "      <td>1.507</td>\n",
       "      <td>0.097</td>\n",
       "      <td>0.071</td>\n",
       "    </tr>\n",
       "    <tr>\n",
       "      <th>4</th>\n",
       "      <td>2000-05-01</td>\n",
       "      <td>0.520</td>\n",
       "      <td>0.604</td>\n",
       "      <td>1.492</td>\n",
       "      <td>1.488</td>\n",
       "      <td>0.097</td>\n",
       "      <td>0.087</td>\n",
       "    </tr>\n",
       "  </tbody>\n",
       "</table>\n",
       "</div>"
      ],
      "text/plain": [
       "        Date  utility_Michigan  Utility_Texas  Gasoloine_Michigan  \\\n",
       "0 2000-01-01             0.520          0.571               1.374   \n",
       "1 2000-02-01             0.520          0.571               1.453   \n",
       "2 2000-03-01             0.521          0.604               1.592   \n",
       "3 2000-04-01             0.521          0.604               1.429   \n",
       "4 2000-05-01             0.520          0.604               1.492   \n",
       "\n",
       "   Gasoline_Texas  Electricity_michigan  Electricity_texas  \n",
       "0           1.296                 0.097              0.071  \n",
       "1           1.363                 0.097              0.071  \n",
       "2           1.524                 0.097              0.071  \n",
       "3           1.507                 0.097              0.071  \n",
       "4           1.488                 0.097              0.087  "
      ]
     },
     "execution_count": 133,
     "metadata": {},
     "output_type": "execute_result"
    }
   ],
   "source": [
    "df_retail.head()"
   ]
  },
  {
   "cell_type": "code",
   "execution_count": 134,
   "id": "2d8d49b5",
   "metadata": {},
   "outputs": [
    {
     "data": {
      "text/html": [
       "<div>\n",
       "<style scoped>\n",
       "    .dataframe tbody tr th:only-of-type {\n",
       "        vertical-align: middle;\n",
       "    }\n",
       "\n",
       "    .dataframe tbody tr th {\n",
       "        vertical-align: top;\n",
       "    }\n",
       "\n",
       "    .dataframe thead th {\n",
       "        text-align: right;\n",
       "    }\n",
       "</style>\n",
       "<table border=\"1\" class=\"dataframe\">\n",
       "  <thead>\n",
       "    <tr style=\"text-align: right;\">\n",
       "      <th></th>\n",
       "      <th>Date</th>\n",
       "      <th>utility_Michigan</th>\n",
       "      <th>Utility_Texas</th>\n",
       "      <th>Gasoloine_Michigan</th>\n",
       "      <th>Gasoline_Texas</th>\n",
       "      <th>Electricity_michigan</th>\n",
       "      <th>Electricity_texas</th>\n",
       "    </tr>\n",
       "  </thead>\n",
       "  <tbody>\n",
       "    <tr>\n",
       "      <th>283</th>\n",
       "      <td>2023-08-01</td>\n",
       "      <td>1.121</td>\n",
       "      <td>1.06</td>\n",
       "      <td>3.869</td>\n",
       "      <td>3.477</td>\n",
       "      <td>0.204</td>\n",
       "      <td>0.182</td>\n",
       "    </tr>\n",
       "    <tr>\n",
       "      <th>284</th>\n",
       "      <td>2023-09-01</td>\n",
       "      <td>1.144</td>\n",
       "      <td>1.06</td>\n",
       "      <td>3.804</td>\n",
       "      <td>3.396</td>\n",
       "      <td>0.202</td>\n",
       "      <td>0.177</td>\n",
       "    </tr>\n",
       "    <tr>\n",
       "      <th>285</th>\n",
       "      <td>2023-10-01</td>\n",
       "      <td>1.159</td>\n",
       "      <td>1.06</td>\n",
       "      <td>3.563</td>\n",
       "      <td>3.170</td>\n",
       "      <td>0.195</td>\n",
       "      <td>0.179</td>\n",
       "    </tr>\n",
       "    <tr>\n",
       "      <th>286</th>\n",
       "      <td>2023-11-01</td>\n",
       "      <td>1.169</td>\n",
       "      <td>1.06</td>\n",
       "      <td>3.403</td>\n",
       "      <td>2.888</td>\n",
       "      <td>0.143</td>\n",
       "      <td>0.178</td>\n",
       "    </tr>\n",
       "    <tr>\n",
       "      <th>287</th>\n",
       "      <td>2023-12-01</td>\n",
       "      <td>1.166</td>\n",
       "      <td>1.06</td>\n",
       "      <td>3.131</td>\n",
       "      <td>2.708</td>\n",
       "      <td>0.143</td>\n",
       "      <td>0.178</td>\n",
       "    </tr>\n",
       "  </tbody>\n",
       "</table>\n",
       "</div>"
      ],
      "text/plain": [
       "          Date  utility_Michigan  Utility_Texas  Gasoloine_Michigan  \\\n",
       "283 2023-08-01             1.121           1.06               3.869   \n",
       "284 2023-09-01             1.144           1.06               3.804   \n",
       "285 2023-10-01             1.159           1.06               3.563   \n",
       "286 2023-11-01             1.169           1.06               3.403   \n",
       "287 2023-12-01             1.166           1.06               3.131   \n",
       "\n",
       "     Gasoline_Texas  Electricity_michigan  Electricity_texas  \n",
       "283           3.477                 0.204              0.182  \n",
       "284           3.396                 0.202              0.177  \n",
       "285           3.170                 0.195              0.179  \n",
       "286           2.888                 0.143              0.178  \n",
       "287           2.708                 0.143              0.178  "
      ]
     },
     "execution_count": 134,
     "metadata": {},
     "output_type": "execute_result"
    }
   ],
   "source": [
    "df_retail.tail()"
   ]
  },
  {
   "cell_type": "code",
   "execution_count": 135,
   "id": "e26fc12e",
   "metadata": {},
   "outputs": [
    {
     "name": "stdout",
     "output_type": "stream",
     "text": [
      "<class 'pandas.core.frame.DataFrame'>\n",
      "RangeIndex: 288 entries, 0 to 287\n",
      "Data columns (total 7 columns):\n",
      " #   Column                Non-Null Count  Dtype         \n",
      "---  ------                --------------  -----         \n",
      " 0   Date                  288 non-null    datetime64[ns]\n",
      " 1   utility_Michigan      288 non-null    float64       \n",
      " 2   Utility_Texas         288 non-null    float64       \n",
      " 3   Gasoloine_Michigan    288 non-null    float64       \n",
      " 4   Gasoline_Texas        288 non-null    float64       \n",
      " 5   Electricity_michigan  288 non-null    float64       \n",
      " 6   Electricity_texas     288 non-null    float64       \n",
      "dtypes: datetime64[ns](1), float64(6)\n",
      "memory usage: 15.9 KB\n"
     ]
    }
   ],
   "source": [
    "df_retail.info()"
   ]
  },
  {
   "cell_type": "code",
   "execution_count": 136,
   "id": "55cf2474",
   "metadata": {},
   "outputs": [
    {
     "name": "stdout",
     "output_type": "stream",
     "text": [
      "          Date  Utility_Texas\n",
      "0   2000-01-01          0.571\n",
      "1   2000-02-01          0.571\n",
      "2   2000-03-01          0.604\n",
      "3   2000-04-01          0.604\n",
      "4   2000-05-01          0.604\n",
      "..         ...            ...\n",
      "283 2023-08-01          1.060\n",
      "284 2023-09-01          1.060\n",
      "285 2023-10-01          1.060\n",
      "286 2023-11-01          1.060\n",
      "287 2023-12-01          1.060\n",
      "\n",
      "[288 rows x 2 columns]\n"
     ]
    }
   ],
   "source": [
    "rt = df_retail[['Date', 'Utility_Texas']]\n",
    "print(rt)"
   ]
  },
  {
   "cell_type": "code",
   "execution_count": 137,
   "id": "d4404cc8",
   "metadata": {},
   "outputs": [
    {
     "data": {
      "text/html": [
       "<div>\n",
       "<style scoped>\n",
       "    .dataframe tbody tr th:only-of-type {\n",
       "        vertical-align: middle;\n",
       "    }\n",
       "\n",
       "    .dataframe tbody tr th {\n",
       "        vertical-align: top;\n",
       "    }\n",
       "\n",
       "    .dataframe thead th {\n",
       "        text-align: right;\n",
       "    }\n",
       "</style>\n",
       "<table border=\"1\" class=\"dataframe\">\n",
       "  <thead>\n",
       "    <tr style=\"text-align: right;\">\n",
       "      <th></th>\n",
       "      <th>Utility_Texas</th>\n",
       "    </tr>\n",
       "    <tr>\n",
       "      <th>Date</th>\n",
       "      <th></th>\n",
       "    </tr>\n",
       "  </thead>\n",
       "  <tbody>\n",
       "    <tr>\n",
       "      <th>2000-01-01</th>\n",
       "      <td>0.571</td>\n",
       "    </tr>\n",
       "    <tr>\n",
       "      <th>2000-02-01</th>\n",
       "      <td>0.571</td>\n",
       "    </tr>\n",
       "    <tr>\n",
       "      <th>2000-03-01</th>\n",
       "      <td>0.604</td>\n",
       "    </tr>\n",
       "    <tr>\n",
       "      <th>2000-04-01</th>\n",
       "      <td>0.604</td>\n",
       "    </tr>\n",
       "    <tr>\n",
       "      <th>2000-05-01</th>\n",
       "      <td>0.604</td>\n",
       "    </tr>\n",
       "  </tbody>\n",
       "</table>\n",
       "</div>"
      ],
      "text/plain": [
       "            Utility_Texas\n",
       "Date                     \n",
       "2000-01-01          0.571\n",
       "2000-02-01          0.571\n",
       "2000-03-01          0.604\n",
       "2000-04-01          0.604\n",
       "2000-05-01          0.604"
      ]
     },
     "execution_count": 137,
     "metadata": {},
     "output_type": "execute_result"
    }
   ],
   "source": [
    "rt.set_index('Date',inplace=True)\n",
    "rt.head()"
   ]
  },
  {
   "cell_type": "code",
   "execution_count": 138,
   "id": "216c92c9",
   "metadata": {},
   "outputs": [
    {
     "data": {
      "text/plain": [
       "<AxesSubplot: xlabel='Date'>"
      ]
     },
     "execution_count": 138,
     "metadata": {},
     "output_type": "execute_result"
    },
    {
     "data": {
      "image/png": "[encoded data removed]",
      "text/plain": [
       "<Figure size 640x480 with 1 Axes>"
      ]
     },
     "metadata": {},
     "output_type": "display_data"
    }
   ],
   "source": [
    "rt.plot()"
   ]
  },
  {
   "cell_type": "markdown",
   "id": "c1370327",
   "metadata": {},
   "source": [
    "# Dicky-Fuller-Test"
   ]
  },
  {
   "cell_type": "code",
   "execution_count": 139,
   "id": "9a4bdff3",
   "metadata": {},
   "outputs": [],
   "source": [
    "from statsmodels.tsa.stattools import adfuller"
   ]
  },
  {
   "cell_type": "code",
   "execution_count": 140,
   "id": "ff4c360b",
   "metadata": {},
   "outputs": [],
   "source": [
    "def adf_test(series):\n",
    "    result = adfuller(series)\n",
    "    print('ADF Statistics: {}'.format(result[0]))\n",
    "    print('p-value: {}'.format(result[1]))\n",
    "    if result[1] <= 0.05:\n",
    "        print(\"strong evidence against the null hypothesis, reject the null hypothesis. Data has no unit root and is stationary\")\n",
    "    else:\n",
    "        print(\"weak evidence against null hypothesis, time series has a unit root, indicating it is non-stationary\")\n"
   ]
  },
  {
   "cell_type": "code",
   "execution_count": 141,
   "id": "0d43596a",
   "metadata": {},
   "outputs": [
    {
     "name": "stdout",
     "output_type": "stream",
     "text": [
      "ADF Statistics: -3.6845600682563346\n",
      "p-value: 0.00433564724788383\n",
      "strong evidence against the null hypothesis, reject the null hypothesis. Data has no unit root and is stationary\n"
     ]
    }
   ],
   "source": [
    "adf_test(rt['Utility_Texas'])"
   ]
  },
  {
   "cell_type": "code",
   "execution_count": null,
   "id": "3a92a84e",
   "metadata": {},
   "outputs": [],
   "source": []
  },
  {
   "cell_type": "code",
   "execution_count": 142,
   "id": "518a278c",
   "metadata": {},
   "outputs": [],
   "source": [
    "from statsmodels.graphics.tsaplots import plot_acf,plot_pacf"
   ]
  },
  {
   "cell_type": "code",
   "execution_count": 143,
   "id": "77148e23",
   "metadata": {},
   "outputs": [
    {
     "data": {
      "image/png": "[encoded data removed]",
      "text/plain": [
       "<Figure size 640x480 with 1 Axes>"
      ]
     },
     "metadata": {},
     "output_type": "display_data"
    }
   ],
   "source": [
    "acf = plot_acf(rt[\"Utility_Texas\"].dropna())"
   ]
  },
  {
   "cell_type": "code",
   "execution_count": 144,
   "id": "7c0c491c",
   "metadata": {},
   "outputs": [
    {
     "name": "stderr",
     "output_type": "stream",
     "text": [
      "C:\\Users\\KARTHICK RAJA\\anaconda3\\envs\\DAB200\\lib\\site-packages\\statsmodels\\graphics\\tsaplots.py:348: FutureWarning: The default method 'yw' can produce PACF values outside of the [-1,1] interval. After 0.13, the default will change tounadjusted Yule-Walker ('ywm'). You can use this method now by setting method='ywm'.\n",
      "  warnings.warn(\n"
     ]
    },
    {
     "data": {
      "image/png": "[encoded data removed]",
      "text/plain": [
       "<Figure size 640x480 with 1 Axes>"
      ]
     },
     "metadata": {},
     "output_type": "display_data"
    }
   ],
   "source": [
    "acf = plot_pacf(rt[\"Utility_Texas\"].dropna())"
   ]
  },
  {
   "cell_type": "code",
   "execution_count": 145,
   "id": "3c18c15f",
   "metadata": {},
   "outputs": [
    {
     "data": {
      "text/html": [
       "<div>\n",
       "<style scoped>\n",
       "    .dataframe tbody tr th:only-of-type {\n",
       "        vertical-align: middle;\n",
       "    }\n",
       "\n",
       "    .dataframe tbody tr th {\n",
       "        vertical-align: top;\n",
       "    }\n",
       "\n",
       "    .dataframe thead th {\n",
       "        text-align: right;\n",
       "    }\n",
       "</style>\n",
       "<table border=\"1\" class=\"dataframe\">\n",
       "  <thead>\n",
       "    <tr style=\"text-align: right;\">\n",
       "      <th></th>\n",
       "      <th>utility_Michigan</th>\n",
       "      <th>Utility_Texas</th>\n",
       "      <th>Gasoloine_Michigan</th>\n",
       "      <th>Gasoline_Texas</th>\n",
       "      <th>Electricity_michigan</th>\n",
       "      <th>Electricity_texas</th>\n",
       "    </tr>\n",
       "    <tr>\n",
       "      <th>Date</th>\n",
       "      <th></th>\n",
       "      <th></th>\n",
       "      <th></th>\n",
       "      <th></th>\n",
       "      <th></th>\n",
       "      <th></th>\n",
       "    </tr>\n",
       "  </thead>\n",
       "  <tbody>\n",
       "    <tr>\n",
       "      <th>2000-01-01</th>\n",
       "      <td>0.520</td>\n",
       "      <td>0.571</td>\n",
       "      <td>1.374</td>\n",
       "      <td>1.296</td>\n",
       "      <td>0.097</td>\n",
       "      <td>0.071</td>\n",
       "    </tr>\n",
       "    <tr>\n",
       "      <th>2000-02-01</th>\n",
       "      <td>0.520</td>\n",
       "      <td>0.571</td>\n",
       "      <td>1.453</td>\n",
       "      <td>1.363</td>\n",
       "      <td>0.097</td>\n",
       "      <td>0.071</td>\n",
       "    </tr>\n",
       "    <tr>\n",
       "      <th>2000-03-01</th>\n",
       "      <td>0.521</td>\n",
       "      <td>0.604</td>\n",
       "      <td>1.592</td>\n",
       "      <td>1.524</td>\n",
       "      <td>0.097</td>\n",
       "      <td>0.071</td>\n",
       "    </tr>\n",
       "    <tr>\n",
       "      <th>2000-04-01</th>\n",
       "      <td>0.521</td>\n",
       "      <td>0.604</td>\n",
       "      <td>1.429</td>\n",
       "      <td>1.507</td>\n",
       "      <td>0.097</td>\n",
       "      <td>0.071</td>\n",
       "    </tr>\n",
       "    <tr>\n",
       "      <th>2000-05-01</th>\n",
       "      <td>0.520</td>\n",
       "      <td>0.604</td>\n",
       "      <td>1.492</td>\n",
       "      <td>1.488</td>\n",
       "      <td>0.097</td>\n",
       "      <td>0.087</td>\n",
       "    </tr>\n",
       "  </tbody>\n",
       "</table>\n",
       "</div>"
      ],
      "text/plain": [
       "            utility_Michigan  Utility_Texas  Gasoloine_Michigan  \\\n",
       "Date                                                              \n",
       "2000-01-01             0.520          0.571               1.374   \n",
       "2000-02-01             0.520          0.571               1.453   \n",
       "2000-03-01             0.521          0.604               1.592   \n",
       "2000-04-01             0.521          0.604               1.429   \n",
       "2000-05-01             0.520          0.604               1.492   \n",
       "\n",
       "            Gasoline_Texas  Electricity_michigan  Electricity_texas  \n",
       "Date                                                                 \n",
       "2000-01-01           1.296                 0.097              0.071  \n",
       "2000-02-01           1.363                 0.097              0.071  \n",
       "2000-03-01           1.524                 0.097              0.071  \n",
       "2000-04-01           1.507                 0.097              0.071  \n",
       "2000-05-01           1.488                 0.097              0.087  "
      ]
     },
     "execution_count": 145,
     "metadata": {},
     "output_type": "execute_result"
    }
   ],
   "source": [
    "df_retail.set_index('Date',inplace=True)\n",
    "df_retail.head()"
   ]
  },
  {
   "cell_type": "code",
   "execution_count": 146,
   "id": "8c0026da",
   "metadata": {},
   "outputs": [
    {
     "data": {
      "text/html": [
       "<div>\n",
       "<style scoped>\n",
       "    .dataframe tbody tr th:only-of-type {\n",
       "        vertical-align: middle;\n",
       "    }\n",
       "\n",
       "    .dataframe tbody tr th {\n",
       "        vertical-align: top;\n",
       "    }\n",
       "\n",
       "    .dataframe thead th {\n",
       "        text-align: right;\n",
       "    }\n",
       "</style>\n",
       "<table border=\"1\" class=\"dataframe\">\n",
       "  <thead>\n",
       "    <tr style=\"text-align: right;\">\n",
       "      <th></th>\n",
       "      <th>utility_Michigan</th>\n",
       "      <th>Utility_Texas</th>\n",
       "      <th>Gasoloine_Michigan</th>\n",
       "      <th>Gasoline_Texas</th>\n",
       "      <th>Electricity_michigan</th>\n",
       "      <th>Electricity_texas</th>\n",
       "    </tr>\n",
       "    <tr>\n",
       "      <th>Date</th>\n",
       "      <th></th>\n",
       "      <th></th>\n",
       "      <th></th>\n",
       "      <th></th>\n",
       "      <th></th>\n",
       "      <th></th>\n",
       "    </tr>\n",
       "  </thead>\n",
       "  <tbody>\n",
       "    <tr>\n",
       "      <th>2000-01-01</th>\n",
       "      <td>0.520</td>\n",
       "      <td>0.571</td>\n",
       "      <td>1.374</td>\n",
       "      <td>1.296</td>\n",
       "      <td>0.097</td>\n",
       "      <td>0.071</td>\n",
       "    </tr>\n",
       "    <tr>\n",
       "      <th>2000-02-01</th>\n",
       "      <td>0.520</td>\n",
       "      <td>0.571</td>\n",
       "      <td>1.453</td>\n",
       "      <td>1.363</td>\n",
       "      <td>0.097</td>\n",
       "      <td>0.071</td>\n",
       "    </tr>\n",
       "    <tr>\n",
       "      <th>2000-03-01</th>\n",
       "      <td>0.521</td>\n",
       "      <td>0.604</td>\n",
       "      <td>1.592</td>\n",
       "      <td>1.524</td>\n",
       "      <td>0.097</td>\n",
       "      <td>0.071</td>\n",
       "    </tr>\n",
       "    <tr>\n",
       "      <th>2000-04-01</th>\n",
       "      <td>0.521</td>\n",
       "      <td>0.604</td>\n",
       "      <td>1.429</td>\n",
       "      <td>1.507</td>\n",
       "      <td>0.097</td>\n",
       "      <td>0.071</td>\n",
       "    </tr>\n",
       "    <tr>\n",
       "      <th>2000-05-01</th>\n",
       "      <td>0.520</td>\n",
       "      <td>0.604</td>\n",
       "      <td>1.492</td>\n",
       "      <td>1.488</td>\n",
       "      <td>0.097</td>\n",
       "      <td>0.087</td>\n",
       "    </tr>\n",
       "    <tr>\n",
       "      <th>...</th>\n",
       "      <td>...</td>\n",
       "      <td>...</td>\n",
       "      <td>...</td>\n",
       "      <td>...</td>\n",
       "      <td>...</td>\n",
       "      <td>...</td>\n",
       "    </tr>\n",
       "    <tr>\n",
       "      <th>2023-08-01</th>\n",
       "      <td>1.121</td>\n",
       "      <td>1.060</td>\n",
       "      <td>3.869</td>\n",
       "      <td>3.477</td>\n",
       "      <td>0.204</td>\n",
       "      <td>0.182</td>\n",
       "    </tr>\n",
       "    <tr>\n",
       "      <th>2023-09-01</th>\n",
       "      <td>1.144</td>\n",
       "      <td>1.060</td>\n",
       "      <td>3.804</td>\n",
       "      <td>3.396</td>\n",
       "      <td>0.202</td>\n",
       "      <td>0.177</td>\n",
       "    </tr>\n",
       "    <tr>\n",
       "      <th>2023-10-01</th>\n",
       "      <td>1.159</td>\n",
       "      <td>1.060</td>\n",
       "      <td>3.563</td>\n",
       "      <td>3.170</td>\n",
       "      <td>0.195</td>\n",
       "      <td>0.179</td>\n",
       "    </tr>\n",
       "    <tr>\n",
       "      <th>2023-11-01</th>\n",
       "      <td>1.169</td>\n",
       "      <td>1.060</td>\n",
       "      <td>3.403</td>\n",
       "      <td>2.888</td>\n",
       "      <td>0.143</td>\n",
       "      <td>0.178</td>\n",
       "    </tr>\n",
       "    <tr>\n",
       "      <th>2023-12-01</th>\n",
       "      <td>1.166</td>\n",
       "      <td>1.060</td>\n",
       "      <td>3.131</td>\n",
       "      <td>2.708</td>\n",
       "      <td>0.143</td>\n",
       "      <td>0.178</td>\n",
       "    </tr>\n",
       "  </tbody>\n",
       "</table>\n",
       "<p>288 rows × 6 columns</p>\n",
       "</div>"
      ],
      "text/plain": [
       "            utility_Michigan  Utility_Texas  Gasoloine_Michigan  \\\n",
       "Date                                                              \n",
       "2000-01-01             0.520          0.571               1.374   \n",
       "2000-02-01             0.520          0.571               1.453   \n",
       "2000-03-01             0.521          0.604               1.592   \n",
       "2000-04-01             0.521          0.604               1.429   \n",
       "2000-05-01             0.520          0.604               1.492   \n",
       "...                      ...            ...                 ...   \n",
       "2023-08-01             1.121          1.060               3.869   \n",
       "2023-09-01             1.144          1.060               3.804   \n",
       "2023-10-01             1.159          1.060               3.563   \n",
       "2023-11-01             1.169          1.060               3.403   \n",
       "2023-12-01             1.166          1.060               3.131   \n",
       "\n",
       "            Gasoline_Texas  Electricity_michigan  Electricity_texas  \n",
       "Date                                                                 \n",
       "2000-01-01           1.296                 0.097              0.071  \n",
       "2000-02-01           1.363                 0.097              0.071  \n",
       "2000-03-01           1.524                 0.097              0.071  \n",
       "2000-04-01           1.507                 0.097              0.071  \n",
       "2000-05-01           1.488                 0.097              0.087  \n",
       "...                    ...                   ...                ...  \n",
       "2023-08-01           3.477                 0.204              0.182  \n",
       "2023-09-01           3.396                 0.202              0.177  \n",
       "2023-10-01           3.170                 0.195              0.179  \n",
       "2023-11-01           2.888                 0.143              0.178  \n",
       "2023-12-01           2.708                 0.143              0.178  \n",
       "\n",
       "[288 rows x 6 columns]"
      ]
     },
     "execution_count": 146,
     "metadata": {},
     "output_type": "execute_result"
    }
   ],
   "source": [
    "### split train and test data\n",
    "df_retail"
   ]
  },
  {
   "cell_type": "code",
   "execution_count": 147,
   "id": "e83faca9",
   "metadata": {},
   "outputs": [],
   "source": [
    "from datetime import datetime,timedelta\n",
    "train_dataset_end=datetime(2008,1,1)\n",
    "test_dataset_end=datetime(2023,1,1)"
   ]
  },
  {
   "cell_type": "code",
   "execution_count": 148,
   "id": "e3817e9c",
   "metadata": {},
   "outputs": [],
   "source": [
    "train_data=df_retail[:train_dataset_end]\n",
    "test_data=df_retail[train_dataset_end+timedelta(days=1):test_dataset_end]"
   ]
  },
  {
   "cell_type": "code",
   "execution_count": 149,
   "id": "7d76be4e",
   "metadata": {},
   "outputs": [],
   "source": [
    "##prediction\n",
    "pred_start_date=test_data.index[0]\n",
    "pred_end_date=test_data.index[-1]"
   ]
  },
  {
   "cell_type": "code",
   "execution_count": 150,
   "id": "0b24f53e",
   "metadata": {},
   "outputs": [
    {
     "data": {
      "text/html": [
       "<div>\n",
       "<style scoped>\n",
       "    .dataframe tbody tr th:only-of-type {\n",
       "        vertical-align: middle;\n",
       "    }\n",
       "\n",
       "    .dataframe tbody tr th {\n",
       "        vertical-align: top;\n",
       "    }\n",
       "\n",
       "    .dataframe thead th {\n",
       "        text-align: right;\n",
       "    }\n",
       "</style>\n",
       "<table border=\"1\" class=\"dataframe\">\n",
       "  <thead>\n",
       "    <tr style=\"text-align: right;\">\n",
       "      <th></th>\n",
       "      <th>utility_Michigan</th>\n",
       "      <th>Utility_Texas</th>\n",
       "      <th>Gasoloine_Michigan</th>\n",
       "      <th>Gasoline_Texas</th>\n",
       "      <th>Electricity_michigan</th>\n",
       "      <th>Electricity_texas</th>\n",
       "    </tr>\n",
       "    <tr>\n",
       "      <th>Date</th>\n",
       "      <th></th>\n",
       "      <th></th>\n",
       "      <th></th>\n",
       "      <th></th>\n",
       "      <th></th>\n",
       "      <th></th>\n",
       "    </tr>\n",
       "  </thead>\n",
       "  <tbody>\n",
       "    <tr>\n",
       "      <th>2008-02-01</th>\n",
       "      <td>1.026</td>\n",
       "      <td>1.478</td>\n",
       "      <td>3.125</td>\n",
       "      <td>2.983</td>\n",
       "      <td>0.111</td>\n",
       "      <td>0.133</td>\n",
       "    </tr>\n",
       "    <tr>\n",
       "      <th>2008-03-01</th>\n",
       "      <td>1.111</td>\n",
       "      <td>1.478</td>\n",
       "      <td>3.336</td>\n",
       "      <td>3.206</td>\n",
       "      <td>0.111</td>\n",
       "      <td>0.133</td>\n",
       "    </tr>\n",
       "    <tr>\n",
       "      <th>2008-04-01</th>\n",
       "      <td>1.260</td>\n",
       "      <td>1.478</td>\n",
       "      <td>3.582</td>\n",
       "      <td>3.406</td>\n",
       "      <td>0.112</td>\n",
       "      <td>0.135</td>\n",
       "    </tr>\n",
       "    <tr>\n",
       "      <th>2008-05-01</th>\n",
       "      <td>1.261</td>\n",
       "      <td>1.478</td>\n",
       "      <td>4.005</td>\n",
       "      <td>3.689</td>\n",
       "      <td>0.105</td>\n",
       "      <td>0.136</td>\n",
       "    </tr>\n",
       "    <tr>\n",
       "      <th>2008-06-01</th>\n",
       "      <td>1.272</td>\n",
       "      <td>1.339</td>\n",
       "      <td>4.112</td>\n",
       "      <td>3.951</td>\n",
       "      <td>0.115</td>\n",
       "      <td>0.161</td>\n",
       "    </tr>\n",
       "    <tr>\n",
       "      <th>...</th>\n",
       "      <td>...</td>\n",
       "      <td>...</td>\n",
       "      <td>...</td>\n",
       "      <td>...</td>\n",
       "      <td>...</td>\n",
       "      <td>...</td>\n",
       "    </tr>\n",
       "    <tr>\n",
       "      <th>2022-09-01</th>\n",
       "      <td>1.439</td>\n",
       "      <td>1.405</td>\n",
       "      <td>4.035</td>\n",
       "      <td>3.169</td>\n",
       "      <td>0.188</td>\n",
       "      <td>0.241</td>\n",
       "    </tr>\n",
       "    <tr>\n",
       "      <th>2022-10-01</th>\n",
       "      <td>1.460</td>\n",
       "      <td>1.405</td>\n",
       "      <td>4.147</td>\n",
       "      <td>3.222</td>\n",
       "      <td>0.180</td>\n",
       "      <td>0.207</td>\n",
       "    </tr>\n",
       "    <tr>\n",
       "      <th>2022-11-01</th>\n",
       "      <td>1.352</td>\n",
       "      <td>1.478</td>\n",
       "      <td>3.865</td>\n",
       "      <td>3.104</td>\n",
       "      <td>0.180</td>\n",
       "      <td>0.182</td>\n",
       "    </tr>\n",
       "    <tr>\n",
       "      <th>2022-12-01</th>\n",
       "      <td>0.886</td>\n",
       "      <td>1.433</td>\n",
       "      <td>3.180</td>\n",
       "      <td>2.753</td>\n",
       "      <td>0.182</td>\n",
       "      <td>0.190</td>\n",
       "    </tr>\n",
       "    <tr>\n",
       "      <th>2023-01-01</th>\n",
       "      <td>1.334</td>\n",
       "      <td>1.433</td>\n",
       "      <td>3.429</td>\n",
       "      <td>2.987</td>\n",
       "      <td>0.182</td>\n",
       "      <td>0.181</td>\n",
       "    </tr>\n",
       "  </tbody>\n",
       "</table>\n",
       "<p>180 rows × 6 columns</p>\n",
       "</div>"
      ],
      "text/plain": [
       "            utility_Michigan  Utility_Texas  Gasoloine_Michigan  \\\n",
       "Date                                                              \n",
       "2008-02-01             1.026          1.478               3.125   \n",
       "2008-03-01             1.111          1.478               3.336   \n",
       "2008-04-01             1.260          1.478               3.582   \n",
       "2008-05-01             1.261          1.478               4.005   \n",
       "2008-06-01             1.272          1.339               4.112   \n",
       "...                      ...            ...                 ...   \n",
       "2022-09-01             1.439          1.405               4.035   \n",
       "2022-10-01             1.460          1.405               4.147   \n",
       "2022-11-01             1.352          1.478               3.865   \n",
       "2022-12-01             0.886          1.433               3.180   \n",
       "2023-01-01             1.334          1.433               3.429   \n",
       "\n",
       "            Gasoline_Texas  Electricity_michigan  Electricity_texas  \n",
       "Date                                                                 \n",
       "2008-02-01           2.983                 0.111              0.133  \n",
       "2008-03-01           3.206                 0.111              0.133  \n",
       "2008-04-01           3.406                 0.112              0.135  \n",
       "2008-05-01           3.689                 0.105              0.136  \n",
       "2008-06-01           3.951                 0.115              0.161  \n",
       "...                    ...                   ...                ...  \n",
       "2022-09-01           3.169                 0.188              0.241  \n",
       "2022-10-01           3.222                 0.180              0.207  \n",
       "2022-11-01           3.104                 0.180              0.182  \n",
       "2022-12-01           2.753                 0.182              0.190  \n",
       "2023-01-01           2.987                 0.182              0.181  \n",
       "\n",
       "[180 rows x 6 columns]"
      ]
     },
     "execution_count": 150,
     "metadata": {},
     "output_type": "execute_result"
    }
   ],
   "source": [
    "test_data"
   ]
  },
  {
   "cell_type": "code",
   "execution_count": 151,
   "id": "0b6fa6e5",
   "metadata": {},
   "outputs": [],
   "source": [
    "## create a ARIMA model\n",
    "from statsmodels.tsa.arima_model import ARIMA"
   ]
  },
  {
   "cell_type": "code",
   "execution_count": 152,
   "id": "55659216",
   "metadata": {},
   "outputs": [
    {
     "data": {
      "text/html": [
       "<div>\n",
       "<style scoped>\n",
       "    .dataframe tbody tr th:only-of-type {\n",
       "        vertical-align: middle;\n",
       "    }\n",
       "\n",
       "    .dataframe tbody tr th {\n",
       "        vertical-align: top;\n",
       "    }\n",
       "\n",
       "    .dataframe thead th {\n",
       "        text-align: right;\n",
       "    }\n",
       "</style>\n",
       "<table border=\"1\" class=\"dataframe\">\n",
       "  <thead>\n",
       "    <tr style=\"text-align: right;\">\n",
       "      <th></th>\n",
       "      <th>utility_Michigan</th>\n",
       "      <th>Utility_Texas</th>\n",
       "      <th>Gasoloine_Michigan</th>\n",
       "      <th>Gasoline_Texas</th>\n",
       "      <th>Electricity_michigan</th>\n",
       "      <th>Electricity_texas</th>\n",
       "    </tr>\n",
       "    <tr>\n",
       "      <th>Date</th>\n",
       "      <th></th>\n",
       "      <th></th>\n",
       "      <th></th>\n",
       "      <th></th>\n",
       "      <th></th>\n",
       "      <th></th>\n",
       "    </tr>\n",
       "  </thead>\n",
       "  <tbody>\n",
       "    <tr>\n",
       "      <th>2000-01-01</th>\n",
       "      <td>0.520</td>\n",
       "      <td>0.571</td>\n",
       "      <td>1.374</td>\n",
       "      <td>1.296</td>\n",
       "      <td>0.097</td>\n",
       "      <td>0.071</td>\n",
       "    </tr>\n",
       "    <tr>\n",
       "      <th>2000-02-01</th>\n",
       "      <td>0.520</td>\n",
       "      <td>0.571</td>\n",
       "      <td>1.453</td>\n",
       "      <td>1.363</td>\n",
       "      <td>0.097</td>\n",
       "      <td>0.071</td>\n",
       "    </tr>\n",
       "    <tr>\n",
       "      <th>2000-03-01</th>\n",
       "      <td>0.521</td>\n",
       "      <td>0.604</td>\n",
       "      <td>1.592</td>\n",
       "      <td>1.524</td>\n",
       "      <td>0.097</td>\n",
       "      <td>0.071</td>\n",
       "    </tr>\n",
       "    <tr>\n",
       "      <th>2000-04-01</th>\n",
       "      <td>0.521</td>\n",
       "      <td>0.604</td>\n",
       "      <td>1.429</td>\n",
       "      <td>1.507</td>\n",
       "      <td>0.097</td>\n",
       "      <td>0.071</td>\n",
       "    </tr>\n",
       "    <tr>\n",
       "      <th>2000-05-01</th>\n",
       "      <td>0.520</td>\n",
       "      <td>0.604</td>\n",
       "      <td>1.492</td>\n",
       "      <td>1.488</td>\n",
       "      <td>0.097</td>\n",
       "      <td>0.087</td>\n",
       "    </tr>\n",
       "    <tr>\n",
       "      <th>...</th>\n",
       "      <td>...</td>\n",
       "      <td>...</td>\n",
       "      <td>...</td>\n",
       "      <td>...</td>\n",
       "      <td>...</td>\n",
       "      <td>...</td>\n",
       "    </tr>\n",
       "    <tr>\n",
       "      <th>2007-09-01</th>\n",
       "      <td>1.083</td>\n",
       "      <td>1.326</td>\n",
       "      <td>3.050</td>\n",
       "      <td>2.662</td>\n",
       "      <td>0.111</td>\n",
       "      <td>0.149</td>\n",
       "    </tr>\n",
       "    <tr>\n",
       "      <th>2007-10-01</th>\n",
       "      <td>1.051</td>\n",
       "      <td>1.661</td>\n",
       "      <td>2.955</td>\n",
       "      <td>2.665</td>\n",
       "      <td>0.111</td>\n",
       "      <td>0.149</td>\n",
       "    </tr>\n",
       "    <tr>\n",
       "      <th>2007-11-01</th>\n",
       "      <td>1.054</td>\n",
       "      <td>1.662</td>\n",
       "      <td>3.207</td>\n",
       "      <td>2.937</td>\n",
       "      <td>0.111</td>\n",
       "      <td>0.134</td>\n",
       "    </tr>\n",
       "    <tr>\n",
       "      <th>2007-12-01</th>\n",
       "      <td>1.055</td>\n",
       "      <td>1.641</td>\n",
       "      <td>3.048</td>\n",
       "      <td>2.935</td>\n",
       "      <td>0.110</td>\n",
       "      <td>0.134</td>\n",
       "    </tr>\n",
       "    <tr>\n",
       "      <th>2008-01-01</th>\n",
       "      <td>1.024</td>\n",
       "      <td>1.478</td>\n",
       "      <td>3.062</td>\n",
       "      <td>2.988</td>\n",
       "      <td>0.111</td>\n",
       "      <td>0.134</td>\n",
       "    </tr>\n",
       "  </tbody>\n",
       "</table>\n",
       "<p>97 rows × 6 columns</p>\n",
       "</div>"
      ],
      "text/plain": [
       "            utility_Michigan  Utility_Texas  Gasoloine_Michigan  \\\n",
       "Date                                                              \n",
       "2000-01-01             0.520          0.571               1.374   \n",
       "2000-02-01             0.520          0.571               1.453   \n",
       "2000-03-01             0.521          0.604               1.592   \n",
       "2000-04-01             0.521          0.604               1.429   \n",
       "2000-05-01             0.520          0.604               1.492   \n",
       "...                      ...            ...                 ...   \n",
       "2007-09-01             1.083          1.326               3.050   \n",
       "2007-10-01             1.051          1.661               2.955   \n",
       "2007-11-01             1.054          1.662               3.207   \n",
       "2007-12-01             1.055          1.641               3.048   \n",
       "2008-01-01             1.024          1.478               3.062   \n",
       "\n",
       "            Gasoline_Texas  Electricity_michigan  Electricity_texas  \n",
       "Date                                                                 \n",
       "2000-01-01           1.296                 0.097              0.071  \n",
       "2000-02-01           1.363                 0.097              0.071  \n",
       "2000-03-01           1.524                 0.097              0.071  \n",
       "2000-04-01           1.507                 0.097              0.071  \n",
       "2000-05-01           1.488                 0.097              0.087  \n",
       "...                    ...                   ...                ...  \n",
       "2007-09-01           2.662                 0.111              0.149  \n",
       "2007-10-01           2.665                 0.111              0.149  \n",
       "2007-11-01           2.937                 0.111              0.134  \n",
       "2007-12-01           2.935                 0.110              0.134  \n",
       "2008-01-01           2.988                 0.111              0.134  \n",
       "\n",
       "[97 rows x 6 columns]"
      ]
     },
     "execution_count": 152,
     "metadata": {},
     "output_type": "execute_result"
    }
   ],
   "source": [
    "train_data"
   ]
  },
  {
   "cell_type": "code",
   "execution_count": 153,
   "id": "cba0faf2",
   "metadata": {},
   "outputs": [],
   "source": [
    "from statsmodels.tsa.arima.model import ARIMA\n"
   ]
  },
  {
   "cell_type": "code",
   "execution_count": 154,
   "id": "12afd189",
   "metadata": {},
   "outputs": [
    {
     "name": "stderr",
     "output_type": "stream",
     "text": [
      "C:\\Users\\KARTHICK RAJA\\anaconda3\\envs\\DAB200\\lib\\site-packages\\statsmodels\\tsa\\base\\tsa_model.py:471: ValueWarning: No frequency information was provided, so inferred frequency MS will be used.\n",
      "  self._init_dates(dates, freq)\n",
      "C:\\Users\\KARTHICK RAJA\\anaconda3\\envs\\DAB200\\lib\\site-packages\\statsmodels\\tsa\\base\\tsa_model.py:471: ValueWarning: No frequency information was provided, so inferred frequency MS will be used.\n",
      "  self._init_dates(dates, freq)\n",
      "C:\\Users\\KARTHICK RAJA\\anaconda3\\envs\\DAB200\\lib\\site-packages\\statsmodels\\tsa\\base\\tsa_model.py:471: ValueWarning: No frequency information was provided, so inferred frequency MS will be used.\n",
      "  self._init_dates(dates, freq)\n"
     ]
    }
   ],
   "source": [
    "model_ARIMA=ARIMA(train_data['Utility_Texas'],order=(0,2,0))"
   ]
  },
  {
   "cell_type": "code",
   "execution_count": 155,
   "id": "146a1d00",
   "metadata": {},
   "outputs": [],
   "source": [
    "model_Arima_fit=model_ARIMA.fit()"
   ]
  },
  {
   "cell_type": "code",
   "execution_count": 156,
   "id": "a512f0fc",
   "metadata": {},
   "outputs": [
    {
     "data": {
      "text/html": [
       "<table class=\"simpletable\">\n",
       "<caption>SARIMAX Results</caption>\n",
       "<tr>\n",
       "  <th>Dep. Variable:</th>     <td>Utility_Texas</td>  <th>  No. Observations:  </th>    <td>97</td>   \n",
       "</tr>\n",
       "<tr>\n",
       "  <th>Model:</th>            <td>ARIMA(0, 2, 0)</td>  <th>  Log Likelihood     </th>  <td>61.787</td> \n",
       "</tr>\n",
       "<tr>\n",
       "  <th>Date:</th>            <td>Wed, 17 Apr 2024</td> <th>  AIC                </th> <td>-121.573</td>\n",
       "</tr>\n",
       "<tr>\n",
       "  <th>Time:</th>                <td>17:28:05</td>     <th>  BIC                </th> <td>-119.019</td>\n",
       "</tr>\n",
       "<tr>\n",
       "  <th>Sample:</th>             <td>01-01-2000</td>    <th>  HQIC               </th> <td>-120.541</td>\n",
       "</tr>\n",
       "<tr>\n",
       "  <th></th>                   <td>- 01-01-2008</td>   <th>                     </th>     <td> </td>   \n",
       "</tr>\n",
       "<tr>\n",
       "  <th>Covariance Type:</th>        <td>opg</td>       <th>                     </th>     <td> </td>   \n",
       "</tr>\n",
       "</table>\n",
       "<table class=\"simpletable\">\n",
       "<tr>\n",
       "     <td></td>       <th>coef</th>     <th>std err</th>      <th>z</th>      <th>P>|z|</th>  <th>[0.025</th>    <th>0.975]</th>  \n",
       "</tr>\n",
       "<tr>\n",
       "  <th>sigma2</th> <td>    0.0159</td> <td>    0.002</td> <td>   10.117</td> <td> 0.000</td> <td>    0.013</td> <td>    0.019</td>\n",
       "</tr>\n",
       "</table>\n",
       "<table class=\"simpletable\">\n",
       "<tr>\n",
       "  <th>Ljung-Box (L1) (Q):</th>     <td>19.18</td> <th>  Jarque-Bera (JB):  </th> <td>21.66</td>\n",
       "</tr>\n",
       "<tr>\n",
       "  <th>Prob(Q):</th>                <td>0.00</td>  <th>  Prob(JB):          </th> <td>0.00</td> \n",
       "</tr>\n",
       "<tr>\n",
       "  <th>Heteroskedasticity (H):</th> <td>1.36</td>  <th>  Skew:              </th> <td>0.16</td> \n",
       "</tr>\n",
       "<tr>\n",
       "  <th>Prob(H) (two-sided):</th>    <td>0.39</td>  <th>  Kurtosis:          </th> <td>5.32</td> \n",
       "</tr>\n",
       "</table><br/><br/>Warnings:<br/>[1] Covariance matrix calculated using the outer product of gradients (complex-step)."
      ],
      "text/plain": [
       "<class 'statsmodels.iolib.summary.Summary'>\n",
       "\"\"\"\n",
       "                               SARIMAX Results                                \n",
       "==============================================================================\n",
       "Dep. Variable:          Utility_Texas   No. Observations:                   97\n",
       "Model:                 ARIMA(0, 2, 0)   Log Likelihood                  61.787\n",
       "Date:                Wed, 17 Apr 2024   AIC                           -121.573\n",
       "Time:                        17:28:05   BIC                           -119.019\n",
       "Sample:                    01-01-2000   HQIC                          -120.541\n",
       "                         - 01-01-2008                                         \n",
       "Covariance Type:                  opg                                         \n",
       "==============================================================================\n",
       "                 coef    std err          z      P>|z|      [0.025      0.975]\n",
       "------------------------------------------------------------------------------\n",
       "sigma2         0.0159      0.002     10.117      0.000       0.013       0.019\n",
       "===================================================================================\n",
       "Ljung-Box (L1) (Q):                  19.18   Jarque-Bera (JB):                21.66\n",
       "Prob(Q):                              0.00   Prob(JB):                         0.00\n",
       "Heteroskedasticity (H):               1.36   Skew:                             0.16\n",
       "Prob(H) (two-sided):                  0.39   Kurtosis:                         5.32\n",
       "===================================================================================\n",
       "\n",
       "Warnings:\n",
       "[1] Covariance matrix calculated using the outer product of gradients (complex-step).\n",
       "\"\"\""
      ]
     },
     "execution_count": 156,
     "metadata": {},
     "output_type": "execute_result"
    }
   ],
   "source": [
    "model_Arima_fit.summary()"
   ]
  },
  {
   "cell_type": "code",
   "execution_count": 157,
   "id": "d4d5cb5b",
   "metadata": {},
   "outputs": [
    {
     "data": {
      "text/html": [
       "<div>\n",
       "<style scoped>\n",
       "    .dataframe tbody tr th:only-of-type {\n",
       "        vertical-align: middle;\n",
       "    }\n",
       "\n",
       "    .dataframe tbody tr th {\n",
       "        vertical-align: top;\n",
       "    }\n",
       "\n",
       "    .dataframe thead th {\n",
       "        text-align: right;\n",
       "    }\n",
       "</style>\n",
       "<table border=\"1\" class=\"dataframe\">\n",
       "  <thead>\n",
       "    <tr style=\"text-align: right;\">\n",
       "      <th></th>\n",
       "      <th>utility_Michigan</th>\n",
       "      <th>Utility_Texas</th>\n",
       "      <th>Gasoloine_Michigan</th>\n",
       "      <th>Gasoline_Texas</th>\n",
       "      <th>Electricity_michigan</th>\n",
       "      <th>Electricity_texas</th>\n",
       "    </tr>\n",
       "    <tr>\n",
       "      <th>Date</th>\n",
       "      <th></th>\n",
       "      <th></th>\n",
       "      <th></th>\n",
       "      <th></th>\n",
       "      <th></th>\n",
       "      <th></th>\n",
       "    </tr>\n",
       "  </thead>\n",
       "  <tbody>\n",
       "    <tr>\n",
       "      <th>2008-02-01</th>\n",
       "      <td>1.026</td>\n",
       "      <td>1.478</td>\n",
       "      <td>3.125</td>\n",
       "      <td>2.983</td>\n",
       "      <td>0.111</td>\n",
       "      <td>0.133</td>\n",
       "    </tr>\n",
       "    <tr>\n",
       "      <th>2008-03-01</th>\n",
       "      <td>1.111</td>\n",
       "      <td>1.478</td>\n",
       "      <td>3.336</td>\n",
       "      <td>3.206</td>\n",
       "      <td>0.111</td>\n",
       "      <td>0.133</td>\n",
       "    </tr>\n",
       "    <tr>\n",
       "      <th>2008-04-01</th>\n",
       "      <td>1.260</td>\n",
       "      <td>1.478</td>\n",
       "      <td>3.582</td>\n",
       "      <td>3.406</td>\n",
       "      <td>0.112</td>\n",
       "      <td>0.135</td>\n",
       "    </tr>\n",
       "    <tr>\n",
       "      <th>2008-05-01</th>\n",
       "      <td>1.261</td>\n",
       "      <td>1.478</td>\n",
       "      <td>4.005</td>\n",
       "      <td>3.689</td>\n",
       "      <td>0.105</td>\n",
       "      <td>0.136</td>\n",
       "    </tr>\n",
       "    <tr>\n",
       "      <th>2008-06-01</th>\n",
       "      <td>1.272</td>\n",
       "      <td>1.339</td>\n",
       "      <td>4.112</td>\n",
       "      <td>3.951</td>\n",
       "      <td>0.115</td>\n",
       "      <td>0.161</td>\n",
       "    </tr>\n",
       "    <tr>\n",
       "      <th>...</th>\n",
       "      <td>...</td>\n",
       "      <td>...</td>\n",
       "      <td>...</td>\n",
       "      <td>...</td>\n",
       "      <td>...</td>\n",
       "      <td>...</td>\n",
       "    </tr>\n",
       "    <tr>\n",
       "      <th>2022-09-01</th>\n",
       "      <td>1.439</td>\n",
       "      <td>1.405</td>\n",
       "      <td>4.035</td>\n",
       "      <td>3.169</td>\n",
       "      <td>0.188</td>\n",
       "      <td>0.241</td>\n",
       "    </tr>\n",
       "    <tr>\n",
       "      <th>2022-10-01</th>\n",
       "      <td>1.460</td>\n",
       "      <td>1.405</td>\n",
       "      <td>4.147</td>\n",
       "      <td>3.222</td>\n",
       "      <td>0.180</td>\n",
       "      <td>0.207</td>\n",
       "    </tr>\n",
       "    <tr>\n",
       "      <th>2022-11-01</th>\n",
       "      <td>1.352</td>\n",
       "      <td>1.478</td>\n",
       "      <td>3.865</td>\n",
       "      <td>3.104</td>\n",
       "      <td>0.180</td>\n",
       "      <td>0.182</td>\n",
       "    </tr>\n",
       "    <tr>\n",
       "      <th>2022-12-01</th>\n",
       "      <td>0.886</td>\n",
       "      <td>1.433</td>\n",
       "      <td>3.180</td>\n",
       "      <td>2.753</td>\n",
       "      <td>0.182</td>\n",
       "      <td>0.190</td>\n",
       "    </tr>\n",
       "    <tr>\n",
       "      <th>2023-01-01</th>\n",
       "      <td>1.334</td>\n",
       "      <td>1.433</td>\n",
       "      <td>3.429</td>\n",
       "      <td>2.987</td>\n",
       "      <td>0.182</td>\n",
       "      <td>0.181</td>\n",
       "    </tr>\n",
       "  </tbody>\n",
       "</table>\n",
       "<p>180 rows × 6 columns</p>\n",
       "</div>"
      ],
      "text/plain": [
       "            utility_Michigan  Utility_Texas  Gasoloine_Michigan  \\\n",
       "Date                                                              \n",
       "2008-02-01             1.026          1.478               3.125   \n",
       "2008-03-01             1.111          1.478               3.336   \n",
       "2008-04-01             1.260          1.478               3.582   \n",
       "2008-05-01             1.261          1.478               4.005   \n",
       "2008-06-01             1.272          1.339               4.112   \n",
       "...                      ...            ...                 ...   \n",
       "2022-09-01             1.439          1.405               4.035   \n",
       "2022-10-01             1.460          1.405               4.147   \n",
       "2022-11-01             1.352          1.478               3.865   \n",
       "2022-12-01             0.886          1.433               3.180   \n",
       "2023-01-01             1.334          1.433               3.429   \n",
       "\n",
       "            Gasoline_Texas  Electricity_michigan  Electricity_texas  \n",
       "Date                                                                 \n",
       "2008-02-01           2.983                 0.111              0.133  \n",
       "2008-03-01           3.206                 0.111              0.133  \n",
       "2008-04-01           3.406                 0.112              0.135  \n",
       "2008-05-01           3.689                 0.105              0.136  \n",
       "2008-06-01           3.951                 0.115              0.161  \n",
       "...                    ...                   ...                ...  \n",
       "2022-09-01           3.169                 0.188              0.241  \n",
       "2022-10-01           3.222                 0.180              0.207  \n",
       "2022-11-01           3.104                 0.180              0.182  \n",
       "2022-12-01           2.753                 0.182              0.190  \n",
       "2023-01-01           2.987                 0.182              0.181  \n",
       "\n",
       "[180 rows x 6 columns]"
      ]
     },
     "execution_count": 157,
     "metadata": {},
     "output_type": "execute_result"
    }
   ],
   "source": [
    "test_data"
   ]
  },
  {
   "cell_type": "code",
   "execution_count": 158,
   "id": "d8f52918",
   "metadata": {},
   "outputs": [
    {
     "name": "stdout",
     "output_type": "stream",
     "text": [
      "2008-02-01 00:00:00\n",
      "2023-01-01 00:00:00\n"
     ]
    }
   ],
   "source": [
    "##prediction\n",
    "pred_start_date=test_data.index[0]\n",
    "pred_end_date=test_data.index[-1]\n",
    "print(pred_start_date)\n",
    "print(pred_end_date)"
   ]
  },
  {
   "cell_type": "code",
   "execution_count": 159,
   "id": "2c3f4ac0",
   "metadata": {},
   "outputs": [],
   "source": [
    "pred=model_Arima_fit.predict(start=pred_start_date,end=pred_end_date)\n",
    "residuals=test_data['Utility_Texas']-pred"
   ]
  },
  {
   "cell_type": "code",
   "execution_count": 160,
   "id": "0e606d93",
   "metadata": {},
   "outputs": [
    {
     "data": {
      "text/plain": [
       "2008-02-01     1.315\n",
       "2008-03-01     1.152\n",
       "2008-04-01     0.989\n",
       "2008-05-01     0.826\n",
       "2008-06-01     0.663\n",
       "               ...  \n",
       "2022-09-01   -27.210\n",
       "2022-10-01   -27.373\n",
       "2022-11-01   -27.536\n",
       "2022-12-01   -27.699\n",
       "2023-01-01   -27.862\n",
       "Freq: MS, Name: predicted_mean, Length: 180, dtype: float64"
      ]
     },
     "execution_count": 160,
     "metadata": {},
     "output_type": "execute_result"
    }
   ],
   "source": [
    "pred"
   ]
  },
  {
   "cell_type": "code",
   "execution_count": 161,
   "id": "1b81065f",
   "metadata": {},
   "outputs": [
    {
     "data": {
      "text/plain": [
       "Date\n",
       "2008-02-01     0.163\n",
       "2008-03-01     0.326\n",
       "2008-04-01     0.489\n",
       "2008-05-01     0.652\n",
       "2008-06-01     0.676\n",
       "               ...  \n",
       "2022-09-01    28.615\n",
       "2022-10-01    28.778\n",
       "2022-11-01    29.014\n",
       "2022-12-01    29.132\n",
       "2023-01-01    29.295\n",
       "Length: 180, dtype: float64"
      ]
     },
     "execution_count": 161,
     "metadata": {},
     "output_type": "execute_result"
    }
   ],
   "source": [
    "residuals"
   ]
  },
  {
   "cell_type": "code",
   "execution_count": 162,
   "id": "369f6d45",
   "metadata": {},
   "outputs": [
    {
     "data": {
      "text/plain": [
       "<AxesSubplot: ylabel='Density'>"
      ]
     },
     "execution_count": 162,
     "metadata": {},
     "output_type": "execute_result"
    },
    {
     "data": {
      "image/png": "[encoded data removed]",
      "text/plain": [
       "<Figure size 640x480 with 1 Axes>"
      ]
     },
     "metadata": {},
     "output_type": "display_data"
    }
   ],
   "source": [
    "model_Arima_fit.resid.plot(kind='kde')"
   ]
  },
  {
   "cell_type": "code",
   "execution_count": 163,
   "id": "8c3dd813",
   "metadata": {},
   "outputs": [
    {
     "name": "stderr",
     "output_type": "stream",
     "text": [
      "C:\\Users\\KARTHICK RAJA\\AppData\\Local\\Temp\\ipykernel_27840\\95659616.py:1: SettingWithCopyWarning: \n",
      "A value is trying to be set on a copy of a slice from a DataFrame.\n",
      "Try using .loc[row_indexer,col_indexer] = value instead\n",
      "\n",
      "See the caveats in the documentation: https://pandas.pydata.org/pandas-docs/stable/user_guide/indexing.html#returning-a-view-versus-a-copy\n",
      "  test_data['Predicted_ARIMA']=pred\n"
     ]
    }
   ],
   "source": [
    "test_data['Predicted_ARIMA']=pred"
   ]
  },
  {
   "cell_type": "code",
   "execution_count": 164,
   "id": "2288d98a",
   "metadata": {},
   "outputs": [
    {
     "data": {
      "text/plain": [
       "<AxesSubplot: xlabel='Date'>"
      ]
     },
     "execution_count": 164,
     "metadata": {},
     "output_type": "execute_result"
    },
    {
     "data": {
      "image/png": "[encoded data removed]",
      "text/plain": [
       "<Figure size 640x480 with 1 Axes>"
      ]
     },
     "metadata": {},
     "output_type": "display_data"
    }
   ],
   "source": [
    "test_data[['Utility_Texas','Predicted_ARIMA']].plot()"
   ]
  },
  {
   "cell_type": "code",
   "execution_count": 165,
   "id": "43285e4e",
   "metadata": {},
   "outputs": [
    {
     "name": "stderr",
     "output_type": "stream",
     "text": [
      "C:\\Users\\KARTHICK RAJA\\anaconda3\\envs\\DAB200\\lib\\site-packages\\statsmodels\\graphics\\tsaplots.py:348: FutureWarning: The default method 'yw' can produce PACF values outside of the [-1,1] interval. After 0.13, the default will change tounadjusted Yule-Walker ('ywm'). You can use this method now by setting method='ywm'.\n",
      "  warnings.warn(\n"
     ]
    },
    {
     "data": {
      "image/png": "[encoded data removed]",
      "text/plain": [
       "<Figure size 640x480 with 1 Axes>"
      ]
     },
     "metadata": {},
     "output_type": "display_data"
    },
    {
     "data": {
      "image/png": "[encoded data removed]",
      "text/plain": [
       "<Figure size 640x480 with 1 Axes>"
      ]
     },
     "metadata": {},
     "output_type": "display_data"
    }
   ],
   "source": [
    "acf12 = plot_acf(df_retail[\"Utility_Texas\"].dropna())\n",
    "pacf12 = plot_pacf(df_retail[\"Utility_Texas\"].dropna())"
   ]
  },
  {
   "cell_type": "code",
   "execution_count": 166,
   "id": "c597e6b3",
   "metadata": {},
   "outputs": [],
   "source": [
    "## create a SARIMA model\n",
    "from statsmodels.tsa.statespace.sarimax import SARIMAX"
   ]
  },
  {
   "cell_type": "code",
   "execution_count": 167,
   "id": "101367c2",
   "metadata": {},
   "outputs": [
    {
     "name": "stderr",
     "output_type": "stream",
     "text": [
      "C:\\Users\\KARTHICK RAJA\\anaconda3\\envs\\DAB200\\lib\\site-packages\\statsmodels\\tsa\\base\\tsa_model.py:471: ValueWarning: No frequency information was provided, so inferred frequency MS will be used.\n",
      "  self._init_dates(dates, freq)\n",
      "C:\\Users\\KARTHICK RAJA\\anaconda3\\envs\\DAB200\\lib\\site-packages\\statsmodels\\tsa\\base\\tsa_model.py:471: ValueWarning: No frequency information was provided, so inferred frequency MS will be used.\n",
      "  self._init_dates(dates, freq)\n"
     ]
    }
   ],
   "source": [
    "model_SARIMA=SARIMAX(train_data['Utility_Texas'],order=(2,0,15),seasonal_order=(0,1,0,12))"
   ]
  },
  {
   "cell_type": "code",
   "execution_count": 168,
   "id": "6d1d4b25",
   "metadata": {},
   "outputs": [
    {
     "name": "stderr",
     "output_type": "stream",
     "text": [
      "C:\\Users\\KARTHICK RAJA\\anaconda3\\envs\\DAB200\\lib\\site-packages\\statsmodels\\tsa\\statespace\\sarimax.py:978: UserWarning: Non-invertible starting MA parameters found. Using zeros as starting parameters.\n",
      "  warn('Non-invertible starting MA parameters found.'\n",
      "C:\\Users\\KARTHICK RAJA\\anaconda3\\envs\\DAB200\\lib\\site-packages\\statsmodels\\base\\model.py:604: ConvergenceWarning: Maximum Likelihood optimization failed to converge. Check mle_retvals\n",
      "  warnings.warn(\"Maximum Likelihood optimization failed to \"\n"
     ]
    }
   ],
   "source": [
    "model_SARIMA_fit=model_SARIMA.fit()"
   ]
  },
  {
   "cell_type": "code",
   "execution_count": 169,
   "id": "e0bde356",
   "metadata": {},
   "outputs": [
    {
     "data": {
      "text/html": [
       "<table class=\"simpletable\">\n",
       "<caption>SARIMAX Results</caption>\n",
       "<tr>\n",
       "  <th>Dep. Variable:</th>             <td>Utility_Texas</td>          <th>  No. Observations:  </th>    <td>97</td>   \n",
       "</tr>\n",
       "<tr>\n",
       "  <th>Model:</th>           <td>SARIMAX(2, 0, 15)x(0, 1, [], 12)</td> <th>  Log Likelihood     </th>  <td>71.629</td> \n",
       "</tr>\n",
       "<tr>\n",
       "  <th>Date:</th>                    <td>Wed, 17 Apr 2024</td>         <th>  AIC                </th> <td>-107.259</td>\n",
       "</tr>\n",
       "<tr>\n",
       "  <th>Time:</th>                        <td>17:28:07</td>             <th>  BIC                </th>  <td>-63.291</td>\n",
       "</tr>\n",
       "<tr>\n",
       "  <th>Sample:</th>                     <td>01-01-2000</td>            <th>  HQIC               </th>  <td>-89.574</td>\n",
       "</tr>\n",
       "<tr>\n",
       "  <th></th>                           <td>- 01-01-2008</td>           <th>                     </th>     <td> </td>   \n",
       "</tr>\n",
       "<tr>\n",
       "  <th>Covariance Type:</th>                <td>opg</td>               <th>                     </th>     <td> </td>   \n",
       "</tr>\n",
       "</table>\n",
       "<table class=\"simpletable\">\n",
       "<tr>\n",
       "     <td></td>       <th>coef</th>     <th>std err</th>      <th>z</th>      <th>P>|z|</th>  <th>[0.025</th>    <th>0.975]</th>  \n",
       "</tr>\n",
       "<tr>\n",
       "  <th>ar.L1</th>  <td>    0.7276</td> <td>    1.704</td> <td>    0.427</td> <td> 0.669</td> <td>   -2.612</td> <td>    4.068</td>\n",
       "</tr>\n",
       "<tr>\n",
       "  <th>ar.L2</th>  <td>    0.0497</td> <td>    1.614</td> <td>    0.031</td> <td> 0.975</td> <td>   -3.114</td> <td>    3.213</td>\n",
       "</tr>\n",
       "<tr>\n",
       "  <th>ma.L1</th>  <td>    0.2784</td> <td>    5.561</td> <td>    0.050</td> <td> 0.960</td> <td>  -10.620</td> <td>   11.177</td>\n",
       "</tr>\n",
       "<tr>\n",
       "  <th>ma.L2</th>  <td>    0.1024</td> <td>    3.968</td> <td>    0.026</td> <td> 0.979</td> <td>   -7.674</td> <td>    7.879</td>\n",
       "</tr>\n",
       "<tr>\n",
       "  <th>ma.L3</th>  <td>    0.0638</td> <td>    2.113</td> <td>    0.030</td> <td> 0.976</td> <td>   -4.079</td> <td>    4.206</td>\n",
       "</tr>\n",
       "<tr>\n",
       "  <th>ma.L4</th>  <td>    0.2043</td> <td>    4.437</td> <td>    0.046</td> <td> 0.963</td> <td>   -8.492</td> <td>    8.900</td>\n",
       "</tr>\n",
       "<tr>\n",
       "  <th>ma.L5</th>  <td>    0.0707</td> <td>    3.735</td> <td>    0.019</td> <td> 0.985</td> <td>   -7.250</td> <td>    7.391</td>\n",
       "</tr>\n",
       "<tr>\n",
       "  <th>ma.L6</th>  <td>    0.2078</td> <td>    7.429</td> <td>    0.028</td> <td> 0.978</td> <td>  -14.353</td> <td>   14.769</td>\n",
       "</tr>\n",
       "<tr>\n",
       "  <th>ma.L7</th>  <td>   -0.0384</td> <td>    4.529</td> <td>   -0.008</td> <td> 0.993</td> <td>   -8.916</td> <td>    8.839</td>\n",
       "</tr>\n",
       "<tr>\n",
       "  <th>ma.L8</th>  <td>    0.1436</td> <td>    4.898</td> <td>    0.029</td> <td> 0.977</td> <td>   -9.456</td> <td>    9.744</td>\n",
       "</tr>\n",
       "<tr>\n",
       "  <th>ma.L9</th>  <td>    0.1286</td> <td>    2.494</td> <td>    0.052</td> <td> 0.959</td> <td>   -4.759</td> <td>    5.016</td>\n",
       "</tr>\n",
       "<tr>\n",
       "  <th>ma.L10</th> <td>    0.2103</td> <td>    3.513</td> <td>    0.060</td> <td> 0.952</td> <td>   -6.676</td> <td>    7.096</td>\n",
       "</tr>\n",
       "<tr>\n",
       "  <th>ma.L11</th> <td>    0.0260</td> <td>    3.842</td> <td>    0.007</td> <td> 0.995</td> <td>   -7.504</td> <td>    7.556</td>\n",
       "</tr>\n",
       "<tr>\n",
       "  <th>ma.L12</th> <td>   -0.7191</td> <td>    4.438</td> <td>   -0.162</td> <td> 0.871</td> <td>   -9.417</td> <td>    7.979</td>\n",
       "</tr>\n",
       "<tr>\n",
       "  <th>ma.L13</th> <td>   -0.3354</td> <td>    2.736</td> <td>   -0.123</td> <td> 0.902</td> <td>   -5.699</td> <td>    5.028</td>\n",
       "</tr>\n",
       "<tr>\n",
       "  <th>ma.L14</th> <td>    0.1389</td> <td>    1.415</td> <td>    0.098</td> <td> 0.922</td> <td>   -2.634</td> <td>    2.912</td>\n",
       "</tr>\n",
       "<tr>\n",
       "  <th>ma.L15</th> <td>   -0.1777</td> <td>    1.248</td> <td>   -0.142</td> <td> 0.887</td> <td>   -2.624</td> <td>    2.269</td>\n",
       "</tr>\n",
       "<tr>\n",
       "  <th>sigma2</th> <td>    0.0085</td> <td>    0.051</td> <td>    0.166</td> <td> 0.868</td> <td>   -0.092</td> <td>    0.109</td>\n",
       "</tr>\n",
       "</table>\n",
       "<table class=\"simpletable\">\n",
       "<tr>\n",
       "  <th>Ljung-Box (L1) (Q):</th>     <td>0.05</td> <th>  Jarque-Bera (JB):  </th> <td>17.23</td>\n",
       "</tr>\n",
       "<tr>\n",
       "  <th>Prob(Q):</th>                <td>0.83</td> <th>  Prob(JB):          </th> <td>0.00</td> \n",
       "</tr>\n",
       "<tr>\n",
       "  <th>Heteroskedasticity (H):</th> <td>1.02</td> <th>  Skew:              </th> <td>0.72</td> \n",
       "</tr>\n",
       "<tr>\n",
       "  <th>Prob(H) (two-sided):</th>    <td>0.95</td> <th>  Kurtosis:          </th> <td>4.67</td> \n",
       "</tr>\n",
       "</table><br/><br/>Warnings:<br/>[1] Covariance matrix calculated using the outer product of gradients (complex-step)."
      ],
      "text/plain": [
       "<class 'statsmodels.iolib.summary.Summary'>\n",
       "\"\"\"\n",
       "                                      SARIMAX Results                                       \n",
       "============================================================================================\n",
       "Dep. Variable:                        Utility_Texas   No. Observations:                   97\n",
       "Model:             SARIMAX(2, 0, 15)x(0, 1, [], 12)   Log Likelihood                  71.629\n",
       "Date:                              Wed, 17 Apr 2024   AIC                           -107.259\n",
       "Time:                                      17:28:07   BIC                            -63.291\n",
       "Sample:                                  01-01-2000   HQIC                           -89.574\n",
       "                                       - 01-01-2008                                         \n",
       "Covariance Type:                                opg                                         \n",
       "==============================================================================\n",
       "                 coef    std err          z      P>|z|      [0.025      0.975]\n",
       "------------------------------------------------------------------------------\n",
       "ar.L1          0.7276      1.704      0.427      0.669      -2.612       4.068\n",
       "ar.L2          0.0497      1.614      0.031      0.975      -3.114       3.213\n",
       "ma.L1          0.2784      5.561      0.050      0.960     -10.620      11.177\n",
       "ma.L2          0.1024      3.968      0.026      0.979      -7.674       7.879\n",
       "ma.L3          0.0638      2.113      0.030      0.976      -4.079       4.206\n",
       "ma.L4          0.2043      4.437      0.046      0.963      -8.492       8.900\n",
       "ma.L5          0.0707      3.735      0.019      0.985      -7.250       7.391\n",
       "ma.L6          0.2078      7.429      0.028      0.978     -14.353      14.769\n",
       "ma.L7         -0.0384      4.529     -0.008      0.993      -8.916       8.839\n",
       "ma.L8          0.1436      4.898      0.029      0.977      -9.456       9.744\n",
       "ma.L9          0.1286      2.494      0.052      0.959      -4.759       5.016\n",
       "ma.L10         0.2103      3.513      0.060      0.952      -6.676       7.096\n",
       "ma.L11         0.0260      3.842      0.007      0.995      -7.504       7.556\n",
       "ma.L12        -0.7191      4.438     -0.162      0.871      -9.417       7.979\n",
       "ma.L13        -0.3354      2.736     -0.123      0.902      -5.699       5.028\n",
       "ma.L14         0.1389      1.415      0.098      0.922      -2.634       2.912\n",
       "ma.L15        -0.1777      1.248     -0.142      0.887      -2.624       2.269\n",
       "sigma2         0.0085      0.051      0.166      0.868      -0.092       0.109\n",
       "===================================================================================\n",
       "Ljung-Box (L1) (Q):                   0.05   Jarque-Bera (JB):                17.23\n",
       "Prob(Q):                              0.83   Prob(JB):                         0.00\n",
       "Heteroskedasticity (H):               1.02   Skew:                             0.72\n",
       "Prob(H) (two-sided):                  0.95   Kurtosis:                         4.67\n",
       "===================================================================================\n",
       "\n",
       "Warnings:\n",
       "[1] Covariance matrix calculated using the outer product of gradients (complex-step).\n",
       "\"\"\""
      ]
     },
     "execution_count": 169,
     "metadata": {},
     "output_type": "execute_result"
    }
   ],
   "source": [
    "model_SARIMA_fit.summary()"
   ]
  },
  {
   "cell_type": "code",
   "execution_count": 170,
   "id": "c9e0a448",
   "metadata": {},
   "outputs": [
    {
     "data": {
      "text/html": [
       "<div>\n",
       "<style scoped>\n",
       "    .dataframe tbody tr th:only-of-type {\n",
       "        vertical-align: middle;\n",
       "    }\n",
       "\n",
       "    .dataframe tbody tr th {\n",
       "        vertical-align: top;\n",
       "    }\n",
       "\n",
       "    .dataframe thead th {\n",
       "        text-align: right;\n",
       "    }\n",
       "</style>\n",
       "<table border=\"1\" class=\"dataframe\">\n",
       "  <thead>\n",
       "    <tr style=\"text-align: right;\">\n",
       "      <th></th>\n",
       "      <th>utility_Michigan</th>\n",
       "      <th>Utility_Texas</th>\n",
       "      <th>Gasoloine_Michigan</th>\n",
       "      <th>Gasoline_Texas</th>\n",
       "      <th>Electricity_michigan</th>\n",
       "      <th>Electricity_texas</th>\n",
       "      <th>Predicted_ARIMA</th>\n",
       "    </tr>\n",
       "    <tr>\n",
       "      <th>Date</th>\n",
       "      <th></th>\n",
       "      <th></th>\n",
       "      <th></th>\n",
       "      <th></th>\n",
       "      <th></th>\n",
       "      <th></th>\n",
       "      <th></th>\n",
       "    </tr>\n",
       "  </thead>\n",
       "  <tbody>\n",
       "    <tr>\n",
       "      <th>2022-09-01</th>\n",
       "      <td>1.439</td>\n",
       "      <td>1.405</td>\n",
       "      <td>4.035</td>\n",
       "      <td>3.169</td>\n",
       "      <td>0.188</td>\n",
       "      <td>0.241</td>\n",
       "      <td>-27.210</td>\n",
       "    </tr>\n",
       "    <tr>\n",
       "      <th>2022-10-01</th>\n",
       "      <td>1.460</td>\n",
       "      <td>1.405</td>\n",
       "      <td>4.147</td>\n",
       "      <td>3.222</td>\n",
       "      <td>0.180</td>\n",
       "      <td>0.207</td>\n",
       "      <td>-27.373</td>\n",
       "    </tr>\n",
       "    <tr>\n",
       "      <th>2022-11-01</th>\n",
       "      <td>1.352</td>\n",
       "      <td>1.478</td>\n",
       "      <td>3.865</td>\n",
       "      <td>3.104</td>\n",
       "      <td>0.180</td>\n",
       "      <td>0.182</td>\n",
       "      <td>-27.536</td>\n",
       "    </tr>\n",
       "    <tr>\n",
       "      <th>2022-12-01</th>\n",
       "      <td>0.886</td>\n",
       "      <td>1.433</td>\n",
       "      <td>3.180</td>\n",
       "      <td>2.753</td>\n",
       "      <td>0.182</td>\n",
       "      <td>0.190</td>\n",
       "      <td>-27.699</td>\n",
       "    </tr>\n",
       "    <tr>\n",
       "      <th>2023-01-01</th>\n",
       "      <td>1.334</td>\n",
       "      <td>1.433</td>\n",
       "      <td>3.429</td>\n",
       "      <td>2.987</td>\n",
       "      <td>0.182</td>\n",
       "      <td>0.181</td>\n",
       "      <td>-27.862</td>\n",
       "    </tr>\n",
       "  </tbody>\n",
       "</table>\n",
       "</div>"
      ],
      "text/plain": [
       "            utility_Michigan  Utility_Texas  Gasoloine_Michigan  \\\n",
       "Date                                                              \n",
       "2022-09-01             1.439          1.405               4.035   \n",
       "2022-10-01             1.460          1.405               4.147   \n",
       "2022-11-01             1.352          1.478               3.865   \n",
       "2022-12-01             0.886          1.433               3.180   \n",
       "2023-01-01             1.334          1.433               3.429   \n",
       "\n",
       "            Gasoline_Texas  Electricity_michigan  Electricity_texas  \\\n",
       "Date                                                                  \n",
       "2022-09-01           3.169                 0.188              0.241   \n",
       "2022-10-01           3.222                 0.180              0.207   \n",
       "2022-11-01           3.104                 0.180              0.182   \n",
       "2022-12-01           2.753                 0.182              0.190   \n",
       "2023-01-01           2.987                 0.182              0.181   \n",
       "\n",
       "            Predicted_ARIMA  \n",
       "Date                         \n",
       "2022-09-01          -27.210  \n",
       "2022-10-01          -27.373  \n",
       "2022-11-01          -27.536  \n",
       "2022-12-01          -27.699  \n",
       "2023-01-01          -27.862  "
      ]
     },
     "execution_count": 170,
     "metadata": {},
     "output_type": "execute_result"
    }
   ],
   "source": [
    "test_data.tail()"
   ]
  },
  {
   "cell_type": "code",
   "execution_count": 171,
   "id": "f1767db9",
   "metadata": {},
   "outputs": [
    {
     "name": "stdout",
     "output_type": "stream",
     "text": [
      "2008-02-01 00:00:00\n",
      "2023-01-01 00:00:00\n"
     ]
    }
   ],
   "source": [
    "##prediction\n",
    "pred_start_date=test_data.index[0]\n",
    "pred_end_date=test_data.index[-1]\n",
    "print(pred_start_date)\n",
    "print(pred_end_date)"
   ]
  },
  {
   "cell_type": "code",
   "execution_count": 172,
   "id": "f8cf3d44",
   "metadata": {},
   "outputs": [],
   "source": [
    "pred_Sarima=model_SARIMA_fit.predict(start=datetime(2008,6,6),end=datetime(2023,12,1))\n",
    "residuals=test_data['Utility_Texas']-pred_Sarima"
   ]
  },
  {
   "cell_type": "code",
   "execution_count": 173,
   "id": "84970436",
   "metadata": {},
   "outputs": [
    {
     "data": {
      "text/plain": [
       "<AxesSubplot: xlabel='Date'>"
      ]
     },
     "execution_count": 173,
     "metadata": {},
     "output_type": "execute_result"
    },
    {
     "data": {
      "image/png": "[encoded data removed]",
      "text/plain": [
       "<Figure size 640x480 with 1 Axes>"
      ]
     },
     "metadata": {},
     "output_type": "display_data"
    }
   ],
   "source": [
    "model_SARIMA_fit.resid.plot()"
   ]
  },
  {
   "cell_type": "code",
   "execution_count": 174,
   "id": "dba0d6d5",
   "metadata": {},
   "outputs": [
    {
     "data": {
      "text/plain": [
       "<AxesSubplot: ylabel='Density'>"
      ]
     },
     "execution_count": 174,
     "metadata": {},
     "output_type": "execute_result"
    },
    {
     "data": {
      "image/png": "[encoded data removed]",
      "text/plain": [
       "<Figure size 640x480 with 1 Axes>"
      ]
     },
     "metadata": {},
     "output_type": "display_data"
    }
   ],
   "source": [
    "model_SARIMA_fit.resid.plot(kind='kde')"
   ]
  },
  {
   "cell_type": "code",
   "execution_count": 175,
   "id": "2bfd7e57",
   "metadata": {},
   "outputs": [
    {
     "name": "stderr",
     "output_type": "stream",
     "text": [
      "C:\\Users\\KARTHICK RAJA\\AppData\\Local\\Temp\\ipykernel_27840\\1367177785.py:1: SettingWithCopyWarning: \n",
      "A value is trying to be set on a copy of a slice from a DataFrame.\n",
      "Try using .loc[row_indexer,col_indexer] = value instead\n",
      "\n",
      "See the caveats in the documentation: https://pandas.pydata.org/pandas-docs/stable/user_guide/indexing.html#returning-a-view-versus-a-copy\n",
      "  test_data['Predicted_SARIMA']=pred_Sarima\n"
     ]
    }
   ],
   "source": [
    "test_data['Predicted_SARIMA']=pred_Sarima"
   ]
  },
  {
   "cell_type": "code",
   "execution_count": 176,
   "id": "b4d696f3",
   "metadata": {},
   "outputs": [
    {
     "data": {
      "text/html": [
       "<div>\n",
       "<style scoped>\n",
       "    .dataframe tbody tr th:only-of-type {\n",
       "        vertical-align: middle;\n",
       "    }\n",
       "\n",
       "    .dataframe tbody tr th {\n",
       "        vertical-align: top;\n",
       "    }\n",
       "\n",
       "    .dataframe thead th {\n",
       "        text-align: right;\n",
       "    }\n",
       "</style>\n",
       "<table border=\"1\" class=\"dataframe\">\n",
       "  <thead>\n",
       "    <tr style=\"text-align: right;\">\n",
       "      <th></th>\n",
       "      <th>utility_Michigan</th>\n",
       "      <th>Utility_Texas</th>\n",
       "      <th>Gasoloine_Michigan</th>\n",
       "      <th>Gasoline_Texas</th>\n",
       "      <th>Electricity_michigan</th>\n",
       "      <th>Electricity_texas</th>\n",
       "      <th>Predicted_ARIMA</th>\n",
       "      <th>Predicted_SARIMA</th>\n",
       "    </tr>\n",
       "    <tr>\n",
       "      <th>Date</th>\n",
       "      <th></th>\n",
       "      <th></th>\n",
       "      <th></th>\n",
       "      <th></th>\n",
       "      <th></th>\n",
       "      <th></th>\n",
       "      <th></th>\n",
       "      <th></th>\n",
       "    </tr>\n",
       "  </thead>\n",
       "  <tbody>\n",
       "    <tr>\n",
       "      <th>2008-02-01</th>\n",
       "      <td>1.026</td>\n",
       "      <td>1.478</td>\n",
       "      <td>3.125</td>\n",
       "      <td>2.983</td>\n",
       "      <td>0.111</td>\n",
       "      <td>0.133</td>\n",
       "      <td>1.315</td>\n",
       "      <td>NaN</td>\n",
       "    </tr>\n",
       "    <tr>\n",
       "      <th>2008-03-01</th>\n",
       "      <td>1.111</td>\n",
       "      <td>1.478</td>\n",
       "      <td>3.336</td>\n",
       "      <td>3.206</td>\n",
       "      <td>0.111</td>\n",
       "      <td>0.133</td>\n",
       "      <td>1.152</td>\n",
       "      <td>NaN</td>\n",
       "    </tr>\n",
       "    <tr>\n",
       "      <th>2008-04-01</th>\n",
       "      <td>1.260</td>\n",
       "      <td>1.478</td>\n",
       "      <td>3.582</td>\n",
       "      <td>3.406</td>\n",
       "      <td>0.112</td>\n",
       "      <td>0.135</td>\n",
       "      <td>0.989</td>\n",
       "      <td>NaN</td>\n",
       "    </tr>\n",
       "    <tr>\n",
       "      <th>2008-05-01</th>\n",
       "      <td>1.261</td>\n",
       "      <td>1.478</td>\n",
       "      <td>4.005</td>\n",
       "      <td>3.689</td>\n",
       "      <td>0.105</td>\n",
       "      <td>0.136</td>\n",
       "      <td>0.826</td>\n",
       "      <td>NaN</td>\n",
       "    </tr>\n",
       "    <tr>\n",
       "      <th>2008-06-01</th>\n",
       "      <td>1.272</td>\n",
       "      <td>1.339</td>\n",
       "      <td>4.112</td>\n",
       "      <td>3.951</td>\n",
       "      <td>0.115</td>\n",
       "      <td>0.161</td>\n",
       "      <td>0.663</td>\n",
       "      <td>NaN</td>\n",
       "    </tr>\n",
       "    <tr>\n",
       "      <th>...</th>\n",
       "      <td>...</td>\n",
       "      <td>...</td>\n",
       "      <td>...</td>\n",
       "      <td>...</td>\n",
       "      <td>...</td>\n",
       "      <td>...</td>\n",
       "      <td>...</td>\n",
       "      <td>...</td>\n",
       "    </tr>\n",
       "    <tr>\n",
       "      <th>2022-09-01</th>\n",
       "      <td>1.439</td>\n",
       "      <td>1.405</td>\n",
       "      <td>4.035</td>\n",
       "      <td>3.169</td>\n",
       "      <td>0.188</td>\n",
       "      <td>0.241</td>\n",
       "      <td>-27.210</td>\n",
       "      <td>1.303998</td>\n",
       "    </tr>\n",
       "    <tr>\n",
       "      <th>2022-10-01</th>\n",
       "      <td>1.460</td>\n",
       "      <td>1.405</td>\n",
       "      <td>4.147</td>\n",
       "      <td>3.222</td>\n",
       "      <td>0.180</td>\n",
       "      <td>0.207</td>\n",
       "      <td>-27.373</td>\n",
       "      <td>1.420728</td>\n",
       "    </tr>\n",
       "    <tr>\n",
       "      <th>2022-11-01</th>\n",
       "      <td>1.352</td>\n",
       "      <td>1.478</td>\n",
       "      <td>3.865</td>\n",
       "      <td>3.104</td>\n",
       "      <td>0.180</td>\n",
       "      <td>0.182</td>\n",
       "      <td>-27.536</td>\n",
       "      <td>1.310168</td>\n",
       "    </tr>\n",
       "    <tr>\n",
       "      <th>2022-12-01</th>\n",
       "      <td>0.886</td>\n",
       "      <td>1.433</td>\n",
       "      <td>3.180</td>\n",
       "      <td>2.753</td>\n",
       "      <td>0.182</td>\n",
       "      <td>0.190</td>\n",
       "      <td>-27.699</td>\n",
       "      <td>1.384156</td>\n",
       "    </tr>\n",
       "    <tr>\n",
       "      <th>2023-01-01</th>\n",
       "      <td>1.334</td>\n",
       "      <td>1.433</td>\n",
       "      <td>3.429</td>\n",
       "      <td>2.987</td>\n",
       "      <td>0.182</td>\n",
       "      <td>0.181</td>\n",
       "      <td>-27.862</td>\n",
       "      <td>1.354688</td>\n",
       "    </tr>\n",
       "  </tbody>\n",
       "</table>\n",
       "<p>180 rows × 8 columns</p>\n",
       "</div>"
      ],
      "text/plain": [
       "            utility_Michigan  Utility_Texas  Gasoloine_Michigan  \\\n",
       "Date                                                              \n",
       "2008-02-01             1.026          1.478               3.125   \n",
       "2008-03-01             1.111          1.478               3.336   \n",
       "2008-04-01             1.260          1.478               3.582   \n",
       "2008-05-01             1.261          1.478               4.005   \n",
       "2008-06-01             1.272          1.339               4.112   \n",
       "...                      ...            ...                 ...   \n",
       "2022-09-01             1.439          1.405               4.035   \n",
       "2022-10-01             1.460          1.405               4.147   \n",
       "2022-11-01             1.352          1.478               3.865   \n",
       "2022-12-01             0.886          1.433               3.180   \n",
       "2023-01-01             1.334          1.433               3.429   \n",
       "\n",
       "            Gasoline_Texas  Electricity_michigan  Electricity_texas  \\\n",
       "Date                                                                  \n",
       "2008-02-01           2.983                 0.111              0.133   \n",
       "2008-03-01           3.206                 0.111              0.133   \n",
       "2008-04-01           3.406                 0.112              0.135   \n",
       "2008-05-01           3.689                 0.105              0.136   \n",
       "2008-06-01           3.951                 0.115              0.161   \n",
       "...                    ...                   ...                ...   \n",
       "2022-09-01           3.169                 0.188              0.241   \n",
       "2022-10-01           3.222                 0.180              0.207   \n",
       "2022-11-01           3.104                 0.180              0.182   \n",
       "2022-12-01           2.753                 0.182              0.190   \n",
       "2023-01-01           2.987                 0.182              0.181   \n",
       "\n",
       "            Predicted_ARIMA  Predicted_SARIMA  \n",
       "Date                                           \n",
       "2008-02-01            1.315               NaN  \n",
       "2008-03-01            1.152               NaN  \n",
       "2008-04-01            0.989               NaN  \n",
       "2008-05-01            0.826               NaN  \n",
       "2008-06-01            0.663               NaN  \n",
       "...                     ...               ...  \n",
       "2022-09-01          -27.210          1.303998  \n",
       "2022-10-01          -27.373          1.420728  \n",
       "2022-11-01          -27.536          1.310168  \n",
       "2022-12-01          -27.699          1.384156  \n",
       "2023-01-01          -27.862          1.354688  \n",
       "\n",
       "[180 rows x 8 columns]"
      ]
     },
     "execution_count": 176,
     "metadata": {},
     "output_type": "execute_result"
    }
   ],
   "source": [
    "test_data"
   ]
  },
  {
   "cell_type": "code",
   "execution_count": 177,
   "id": "768f8428",
   "metadata": {},
   "outputs": [
    {
     "data": {
      "text/plain": [
       "<AxesSubplot: xlabel='Date'>"
      ]
     },
     "execution_count": 177,
     "metadata": {},
     "output_type": "execute_result"
    },
    {
     "data": {
      "image/png": "[encoded data removed]",
      "text/plain": [
       "<Figure size 640x480 with 1 Axes>"
      ]
     },
     "metadata": {},
     "output_type": "display_data"
    }
   ],
   "source": [
    "test_data[['Utility_Texas','Predicted_SARIMA','Predicted_ARIMA']].plot()"
   ]
  },
  {
   "cell_type": "markdown",
   "id": "6875a039",
   "metadata": {},
   "source": [
    "# Utility Michigan"
   ]
  },
  {
   "cell_type": "code",
   "execution_count": 185,
   "id": "d4437bd5",
   "metadata": {},
   "outputs": [
    {
     "name": "stdout",
     "output_type": "stream",
     "text": [
      "          Date  utility_Michigan  Utility_Texas  Gasoloine_Michigan  \\\n",
      "0   2000-01-01             0.520          0.571               1.374   \n",
      "1   2000-02-01             0.520          0.571               1.453   \n",
      "2   2000-03-01             0.521          0.604               1.592   \n",
      "3   2000-04-01             0.521          0.604               1.429   \n",
      "4   2000-05-01             0.520          0.604               1.492   \n",
      "..         ...               ...            ...                 ...   \n",
      "283 2023-08-01             1.121          1.060               3.869   \n",
      "284 2023-09-01             1.144          1.060               3.804   \n",
      "285 2023-10-01             1.159          1.060               3.563   \n",
      "286 2023-11-01             1.169          1.060               3.403   \n",
      "287 2023-12-01             1.166          1.060               3.131   \n",
      "\n",
      "     Gasoline_Texas  Electricity_michigan  Electricity_texas  \n",
      "0             1.296                 0.097              0.071  \n",
      "1             1.363                 0.097              0.071  \n",
      "2             1.524                 0.097              0.071  \n",
      "3             1.507                 0.097              0.071  \n",
      "4             1.488                 0.097              0.087  \n",
      "..              ...                   ...                ...  \n",
      "283           3.477                 0.204              0.182  \n",
      "284           3.396                 0.202              0.177  \n",
      "285           3.170                 0.195              0.179  \n",
      "286           2.888                 0.143              0.178  \n",
      "287           2.708                 0.143              0.178  \n",
      "\n",
      "[288 rows x 7 columns]\n"
     ]
    }
   ],
   "source": [
    "df_retail = pd.read_excel(\"Retail_data.xlsx\")\n",
    "print(df_retail)"
   ]
  },
  {
   "cell_type": "code",
   "execution_count": 186,
   "id": "59b2ff1b",
   "metadata": {},
   "outputs": [
    {
     "name": "stdout",
     "output_type": "stream",
     "text": [
      "          Date  utility_Michigan\n",
      "0   2000-01-01             0.520\n",
      "1   2000-02-01             0.520\n",
      "2   2000-03-01             0.521\n",
      "3   2000-04-01             0.521\n",
      "4   2000-05-01             0.520\n",
      "..         ...               ...\n",
      "283 2023-08-01             1.121\n",
      "284 2023-09-01             1.144\n",
      "285 2023-10-01             1.159\n",
      "286 2023-11-01             1.169\n",
      "287 2023-12-01             1.166\n",
      "\n",
      "[288 rows x 2 columns]\n"
     ]
    }
   ],
   "source": [
    "rt = df_retail[['Date', 'utility_Michigan']]\n",
    "print(rt)"
   ]
  },
  {
   "cell_type": "code",
   "execution_count": 187,
   "id": "c29e5376",
   "metadata": {},
   "outputs": [
    {
     "data": {
      "text/html": [
       "<div>\n",
       "<style scoped>\n",
       "    .dataframe tbody tr th:only-of-type {\n",
       "        vertical-align: middle;\n",
       "    }\n",
       "\n",
       "    .dataframe tbody tr th {\n",
       "        vertical-align: top;\n",
       "    }\n",
       "\n",
       "    .dataframe thead th {\n",
       "        text-align: right;\n",
       "    }\n",
       "</style>\n",
       "<table border=\"1\" class=\"dataframe\">\n",
       "  <thead>\n",
       "    <tr style=\"text-align: right;\">\n",
       "      <th></th>\n",
       "      <th>utility_Michigan</th>\n",
       "    </tr>\n",
       "    <tr>\n",
       "      <th>Date</th>\n",
       "      <th></th>\n",
       "    </tr>\n",
       "  </thead>\n",
       "  <tbody>\n",
       "    <tr>\n",
       "      <th>2000-01-01</th>\n",
       "      <td>0.520</td>\n",
       "    </tr>\n",
       "    <tr>\n",
       "      <th>2000-02-01</th>\n",
       "      <td>0.520</td>\n",
       "    </tr>\n",
       "    <tr>\n",
       "      <th>2000-03-01</th>\n",
       "      <td>0.521</td>\n",
       "    </tr>\n",
       "    <tr>\n",
       "      <th>2000-04-01</th>\n",
       "      <td>0.521</td>\n",
       "    </tr>\n",
       "    <tr>\n",
       "      <th>2000-05-01</th>\n",
       "      <td>0.520</td>\n",
       "    </tr>\n",
       "  </tbody>\n",
       "</table>\n",
       "</div>"
      ],
      "text/plain": [
       "            utility_Michigan\n",
       "Date                        \n",
       "2000-01-01             0.520\n",
       "2000-02-01             0.520\n",
       "2000-03-01             0.521\n",
       "2000-04-01             0.521\n",
       "2000-05-01             0.520"
      ]
     },
     "execution_count": 187,
     "metadata": {},
     "output_type": "execute_result"
    }
   ],
   "source": [
    "rt.set_index('Date',inplace=True)\n",
    "rt.head()"
   ]
  },
  {
   "cell_type": "code",
   "execution_count": 188,
   "id": "d3f257b2",
   "metadata": {},
   "outputs": [
    {
     "data": {
      "text/plain": [
       "<AxesSubplot: xlabel='Date'>"
      ]
     },
     "execution_count": 188,
     "metadata": {},
     "output_type": "execute_result"
    },
    {
     "data": {
      "image/png": "[encoded data removed]",
      "text/plain": [
       "<Figure size 640x480 with 1 Axes>"
      ]
     },
     "metadata": {},
     "output_type": "display_data"
    }
   ],
   "source": [
    "rt.plot()"
   ]
  },
  {
   "cell_type": "code",
   "execution_count": 189,
   "id": "e827f16e",
   "metadata": {},
   "outputs": [],
   "source": [
    "from statsmodels.tsa.stattools import adfuller\n",
    "def adf_test(series):\n",
    "    result = adfuller(series)\n",
    "    print('ADF Statistics: {}'.format(result[0]))\n",
    "    print('p-value: {}'.format(result[1]))\n",
    "    if result[1] <= 0.05:\n",
    "        print(\"strong evidence against the null hypothesis, reject the null hypothesis. Data has no unit root and is stationary\")\n",
    "    else:\n",
    "        print(\"weak evidence against null hypothesis, time series has a unit root, indicating it is non-stationary\")\n"
   ]
  },
  {
   "cell_type": "code",
   "execution_count": 190,
   "id": "dd6d241c",
   "metadata": {},
   "outputs": [
    {
     "name": "stdout",
     "output_type": "stream",
     "text": [
      "ADF Statistics: -1.8770691816332556\n",
      "p-value: 0.34292417775133593\n",
      "weak evidence against null hypothesis, time series has a unit root, indicating it is non-stationary\n"
     ]
    }
   ],
   "source": [
    "adf_test(rt['utility_Michigan'])"
   ]
  },
  {
   "cell_type": "code",
   "execution_count": 193,
   "id": "de41f58a",
   "metadata": {},
   "outputs": [
    {
     "name": "stderr",
     "output_type": "stream",
     "text": [
      "C:\\Users\\KARTHICK RAJA\\AppData\\Local\\Temp\\ipykernel_27840\\2798450749.py:2: SettingWithCopyWarning: \n",
      "A value is trying to be set on a copy of a slice from a DataFrame.\n",
      "Try using .loc[row_indexer,col_indexer] = value instead\n",
      "\n",
      "See the caveats in the documentation: https://pandas.pydata.org/pandas-docs/stable/user_guide/indexing.html#returning-a-view-versus-a-copy\n",
      "  rt['utility Michigan First Difference']=rt['utility_Michigan']-rt['utility_Michigan'].shift(1)\n"
     ]
    }
   ],
   "source": [
    "## Use Techniques Differencing\n",
    "rt['utility Michigan First Difference']=rt['utility_Michigan']-rt['utility_Michigan'].shift(1)"
   ]
  },
  {
   "cell_type": "code",
   "execution_count": 194,
   "id": "1eb8e85c",
   "metadata": {},
   "outputs": [
    {
     "data": {
      "text/html": [
       "<div>\n",
       "<style scoped>\n",
       "    .dataframe tbody tr th:only-of-type {\n",
       "        vertical-align: middle;\n",
       "    }\n",
       "\n",
       "    .dataframe tbody tr th {\n",
       "        vertical-align: top;\n",
       "    }\n",
       "\n",
       "    .dataframe thead th {\n",
       "        text-align: right;\n",
       "    }\n",
       "</style>\n",
       "<table border=\"1\" class=\"dataframe\">\n",
       "  <thead>\n",
       "    <tr style=\"text-align: right;\">\n",
       "      <th></th>\n",
       "      <th>utility_Michigan</th>\n",
       "      <th>utility Michigan First Difference</th>\n",
       "    </tr>\n",
       "    <tr>\n",
       "      <th>Date</th>\n",
       "      <th></th>\n",
       "      <th></th>\n",
       "    </tr>\n",
       "  </thead>\n",
       "  <tbody>\n",
       "    <tr>\n",
       "      <th>2000-01-01</th>\n",
       "      <td>0.520</td>\n",
       "      <td>NaN</td>\n",
       "    </tr>\n",
       "    <tr>\n",
       "      <th>2000-02-01</th>\n",
       "      <td>0.520</td>\n",
       "      <td>0.000</td>\n",
       "    </tr>\n",
       "    <tr>\n",
       "      <th>2000-03-01</th>\n",
       "      <td>0.521</td>\n",
       "      <td>0.001</td>\n",
       "    </tr>\n",
       "    <tr>\n",
       "      <th>2000-04-01</th>\n",
       "      <td>0.521</td>\n",
       "      <td>0.000</td>\n",
       "    </tr>\n",
       "    <tr>\n",
       "      <th>2000-05-01</th>\n",
       "      <td>0.520</td>\n",
       "      <td>-0.001</td>\n",
       "    </tr>\n",
       "  </tbody>\n",
       "</table>\n",
       "</div>"
      ],
      "text/plain": [
       "            utility_Michigan  utility Michigan First Difference\n",
       "Date                                                           \n",
       "2000-01-01             0.520                                NaN\n",
       "2000-02-01             0.520                              0.000\n",
       "2000-03-01             0.521                              0.001\n",
       "2000-04-01             0.521                              0.000\n",
       "2000-05-01             0.520                             -0.001"
      ]
     },
     "execution_count": 194,
     "metadata": {},
     "output_type": "execute_result"
    }
   ],
   "source": [
    "rt.head()"
   ]
  },
  {
   "cell_type": "code",
   "execution_count": 195,
   "id": "49b08b5e",
   "metadata": {},
   "outputs": [
    {
     "name": "stdout",
     "output_type": "stream",
     "text": [
      "ADF Statistics: -4.4480282635394675\n",
      "p-value: 0.0002438269861372585\n",
      "strong evidence against the null hypothesis, reject the null hypothesis. Data has no unit root and is stationary\n"
     ]
    }
   ],
   "source": [
    "adf_test(rt['utility Michigan First Difference'].dropna())"
   ]
  },
  {
   "cell_type": "code",
   "execution_count": 196,
   "id": "b3894922",
   "metadata": {},
   "outputs": [
    {
     "name": "stderr",
     "output_type": "stream",
     "text": [
      "C:\\Users\\KARTHICK RAJA\\AppData\\Local\\Temp\\ipykernel_27840\\2895132161.py:2: SettingWithCopyWarning: \n",
      "A value is trying to be set on a copy of a slice from a DataFrame.\n",
      "Try using .loc[row_indexer,col_indexer] = value instead\n",
      "\n",
      "See the caveats in the documentation: https://pandas.pydata.org/pandas-docs/stable/user_guide/indexing.html#returning-a-view-versus-a-copy\n",
      "  rt['utility Michigan 12 Difference']=rt['utility_Michigan']-rt['utility_Michigan'].shift(12)\n"
     ]
    }
   ],
   "source": [
    "## Use Techniques Differencing\n",
    "rt['utility Michigan 12 Difference']=rt['utility_Michigan']-rt['utility_Michigan'].shift(12)"
   ]
  },
  {
   "cell_type": "code",
   "execution_count": 197,
   "id": "611af87d",
   "metadata": {},
   "outputs": [
    {
     "name": "stdout",
     "output_type": "stream",
     "text": [
      "ADF Statistics: -3.213022452652461\n",
      "p-value: 0.01924315512894116\n",
      "strong evidence against the null hypothesis, reject the null hypothesis. Data has no unit root and is stationary\n"
     ]
    }
   ],
   "source": [
    "adf_test(rt['utility Michigan 12 Difference'].dropna())"
   ]
  },
  {
   "cell_type": "code",
   "execution_count": null,
   "id": "d6c4fbff",
   "metadata": {},
   "outputs": [],
   "source": [
    "from statsmodels.graphics.tsaplots import plot_acf,plot_pacf"
   ]
  },
  {
   "cell_type": "code",
   "execution_count": 198,
   "id": "255fdbc1",
   "metadata": {},
   "outputs": [
    {
     "data": {
      "image/png": "[encoded data removed]",
      "text/plain": [
       "<Figure size 640x480 with 1 Axes>"
      ]
     },
     "metadata": {},
     "output_type": "display_data"
    }
   ],
   "source": [
    "acf = plot_acf(rt[\"utility Michigan 12 Difference\"].dropna())"
   ]
  },
  {
   "cell_type": "code",
   "execution_count": 199,
   "id": "1206f4af",
   "metadata": {},
   "outputs": [
    {
     "name": "stderr",
     "output_type": "stream",
     "text": [
      "C:\\Users\\KARTHICK RAJA\\anaconda3\\envs\\DAB200\\lib\\site-packages\\statsmodels\\graphics\\tsaplots.py:348: FutureWarning: The default method 'yw' can produce PACF values outside of the [-1,1] interval. After 0.13, the default will change tounadjusted Yule-Walker ('ywm'). You can use this method now by setting method='ywm'.\n",
      "  warnings.warn(\n"
     ]
    },
    {
     "data": {
      "image/png": "[encoded data removed]",
      "text/plain": [
       "<Figure size 640x480 with 1 Axes>"
      ]
     },
     "metadata": {},
     "output_type": "display_data"
    }
   ],
   "source": [
    "acf = plot_pacf(rt[\"utility Michigan 12 Difference\"].dropna())"
   ]
  },
  {
   "cell_type": "code",
   "execution_count": 201,
   "id": "6e71096d",
   "metadata": {},
   "outputs": [
    {
     "data": {
      "text/html": [
       "<div>\n",
       "<style scoped>\n",
       "    .dataframe tbody tr th:only-of-type {\n",
       "        vertical-align: middle;\n",
       "    }\n",
       "\n",
       "    .dataframe tbody tr th {\n",
       "        vertical-align: top;\n",
       "    }\n",
       "\n",
       "    .dataframe thead th {\n",
       "        text-align: right;\n",
       "    }\n",
       "</style>\n",
       "<table border=\"1\" class=\"dataframe\">\n",
       "  <thead>\n",
       "    <tr style=\"text-align: right;\">\n",
       "      <th></th>\n",
       "      <th>utility_Michigan</th>\n",
       "      <th>Utility_Texas</th>\n",
       "      <th>Gasoloine_Michigan</th>\n",
       "      <th>Gasoline_Texas</th>\n",
       "      <th>Electricity_michigan</th>\n",
       "      <th>Electricity_texas</th>\n",
       "      <th>utility Michigan First Difference</th>\n",
       "    </tr>\n",
       "    <tr>\n",
       "      <th>Date</th>\n",
       "      <th></th>\n",
       "      <th></th>\n",
       "      <th></th>\n",
       "      <th></th>\n",
       "      <th></th>\n",
       "      <th></th>\n",
       "      <th></th>\n",
       "    </tr>\n",
       "  </thead>\n",
       "  <tbody>\n",
       "    <tr>\n",
       "      <th>2000-01-01</th>\n",
       "      <td>0.520</td>\n",
       "      <td>0.571</td>\n",
       "      <td>1.374</td>\n",
       "      <td>1.296</td>\n",
       "      <td>0.097</td>\n",
       "      <td>0.071</td>\n",
       "      <td>NaN</td>\n",
       "    </tr>\n",
       "    <tr>\n",
       "      <th>2000-02-01</th>\n",
       "      <td>0.520</td>\n",
       "      <td>0.571</td>\n",
       "      <td>1.453</td>\n",
       "      <td>1.363</td>\n",
       "      <td>0.097</td>\n",
       "      <td>0.071</td>\n",
       "      <td>0.000</td>\n",
       "    </tr>\n",
       "    <tr>\n",
       "      <th>2000-03-01</th>\n",
       "      <td>0.521</td>\n",
       "      <td>0.604</td>\n",
       "      <td>1.592</td>\n",
       "      <td>1.524</td>\n",
       "      <td>0.097</td>\n",
       "      <td>0.071</td>\n",
       "      <td>0.001</td>\n",
       "    </tr>\n",
       "    <tr>\n",
       "      <th>2000-04-01</th>\n",
       "      <td>0.521</td>\n",
       "      <td>0.604</td>\n",
       "      <td>1.429</td>\n",
       "      <td>1.507</td>\n",
       "      <td>0.097</td>\n",
       "      <td>0.071</td>\n",
       "      <td>0.000</td>\n",
       "    </tr>\n",
       "    <tr>\n",
       "      <th>2000-05-01</th>\n",
       "      <td>0.520</td>\n",
       "      <td>0.604</td>\n",
       "      <td>1.492</td>\n",
       "      <td>1.488</td>\n",
       "      <td>0.097</td>\n",
       "      <td>0.087</td>\n",
       "      <td>-0.001</td>\n",
       "    </tr>\n",
       "  </tbody>\n",
       "</table>\n",
       "</div>"
      ],
      "text/plain": [
       "            utility_Michigan  Utility_Texas  Gasoloine_Michigan  \\\n",
       "Date                                                              \n",
       "2000-01-01             0.520          0.571               1.374   \n",
       "2000-02-01             0.520          0.571               1.453   \n",
       "2000-03-01             0.521          0.604               1.592   \n",
       "2000-04-01             0.521          0.604               1.429   \n",
       "2000-05-01             0.520          0.604               1.492   \n",
       "\n",
       "            Gasoline_Texas  Electricity_michigan  Electricity_texas  \\\n",
       "Date                                                                  \n",
       "2000-01-01           1.296                 0.097              0.071   \n",
       "2000-02-01           1.363                 0.097              0.071   \n",
       "2000-03-01           1.524                 0.097              0.071   \n",
       "2000-04-01           1.507                 0.097              0.071   \n",
       "2000-05-01           1.488                 0.097              0.087   \n",
       "\n",
       "            utility Michigan First Difference  \n",
       "Date                                           \n",
       "2000-01-01                                NaN  \n",
       "2000-02-01                              0.000  \n",
       "2000-03-01                              0.001  \n",
       "2000-04-01                              0.000  \n",
       "2000-05-01                             -0.001  "
      ]
     },
     "execution_count": 201,
     "metadata": {},
     "output_type": "execute_result"
    }
   ],
   "source": [
    "df_retail.set_index('Date',inplace=True)\n",
    "df_retail.head()"
   ]
  },
  {
   "cell_type": "code",
   "execution_count": 202,
   "id": "e93a3a6b",
   "metadata": {},
   "outputs": [
    {
     "data": {
      "text/html": [
       "<div>\n",
       "<style scoped>\n",
       "    .dataframe tbody tr th:only-of-type {\n",
       "        vertical-align: middle;\n",
       "    }\n",
       "\n",
       "    .dataframe tbody tr th {\n",
       "        vertical-align: top;\n",
       "    }\n",
       "\n",
       "    .dataframe thead th {\n",
       "        text-align: right;\n",
       "    }\n",
       "</style>\n",
       "<table border=\"1\" class=\"dataframe\">\n",
       "  <thead>\n",
       "    <tr style=\"text-align: right;\">\n",
       "      <th></th>\n",
       "      <th>utility_Michigan</th>\n",
       "      <th>Utility_Texas</th>\n",
       "      <th>Gasoloine_Michigan</th>\n",
       "      <th>Gasoline_Texas</th>\n",
       "      <th>Electricity_michigan</th>\n",
       "      <th>Electricity_texas</th>\n",
       "      <th>utility Michigan First Difference</th>\n",
       "    </tr>\n",
       "    <tr>\n",
       "      <th>Date</th>\n",
       "      <th></th>\n",
       "      <th></th>\n",
       "      <th></th>\n",
       "      <th></th>\n",
       "      <th></th>\n",
       "      <th></th>\n",
       "      <th></th>\n",
       "    </tr>\n",
       "  </thead>\n",
       "  <tbody>\n",
       "    <tr>\n",
       "      <th>2000-01-01</th>\n",
       "      <td>0.520</td>\n",
       "      <td>0.571</td>\n",
       "      <td>1.374</td>\n",
       "      <td>1.296</td>\n",
       "      <td>0.097</td>\n",
       "      <td>0.071</td>\n",
       "      <td>NaN</td>\n",
       "    </tr>\n",
       "    <tr>\n",
       "      <th>2000-02-01</th>\n",
       "      <td>0.520</td>\n",
       "      <td>0.571</td>\n",
       "      <td>1.453</td>\n",
       "      <td>1.363</td>\n",
       "      <td>0.097</td>\n",
       "      <td>0.071</td>\n",
       "      <td>0.000</td>\n",
       "    </tr>\n",
       "    <tr>\n",
       "      <th>2000-03-01</th>\n",
       "      <td>0.521</td>\n",
       "      <td>0.604</td>\n",
       "      <td>1.592</td>\n",
       "      <td>1.524</td>\n",
       "      <td>0.097</td>\n",
       "      <td>0.071</td>\n",
       "      <td>0.001</td>\n",
       "    </tr>\n",
       "    <tr>\n",
       "      <th>2000-04-01</th>\n",
       "      <td>0.521</td>\n",
       "      <td>0.604</td>\n",
       "      <td>1.429</td>\n",
       "      <td>1.507</td>\n",
       "      <td>0.097</td>\n",
       "      <td>0.071</td>\n",
       "      <td>0.000</td>\n",
       "    </tr>\n",
       "    <tr>\n",
       "      <th>2000-05-01</th>\n",
       "      <td>0.520</td>\n",
       "      <td>0.604</td>\n",
       "      <td>1.492</td>\n",
       "      <td>1.488</td>\n",
       "      <td>0.097</td>\n",
       "      <td>0.087</td>\n",
       "      <td>-0.001</td>\n",
       "    </tr>\n",
       "    <tr>\n",
       "      <th>...</th>\n",
       "      <td>...</td>\n",
       "      <td>...</td>\n",
       "      <td>...</td>\n",
       "      <td>...</td>\n",
       "      <td>...</td>\n",
       "      <td>...</td>\n",
       "      <td>...</td>\n",
       "    </tr>\n",
       "    <tr>\n",
       "      <th>2023-08-01</th>\n",
       "      <td>1.121</td>\n",
       "      <td>1.060</td>\n",
       "      <td>3.869</td>\n",
       "      <td>3.477</td>\n",
       "      <td>0.204</td>\n",
       "      <td>0.182</td>\n",
       "      <td>-0.016</td>\n",
       "    </tr>\n",
       "    <tr>\n",
       "      <th>2023-09-01</th>\n",
       "      <td>1.144</td>\n",
       "      <td>1.060</td>\n",
       "      <td>3.804</td>\n",
       "      <td>3.396</td>\n",
       "      <td>0.202</td>\n",
       "      <td>0.177</td>\n",
       "      <td>0.023</td>\n",
       "    </tr>\n",
       "    <tr>\n",
       "      <th>2023-10-01</th>\n",
       "      <td>1.159</td>\n",
       "      <td>1.060</td>\n",
       "      <td>3.563</td>\n",
       "      <td>3.170</td>\n",
       "      <td>0.195</td>\n",
       "      <td>0.179</td>\n",
       "      <td>0.015</td>\n",
       "    </tr>\n",
       "    <tr>\n",
       "      <th>2023-11-01</th>\n",
       "      <td>1.169</td>\n",
       "      <td>1.060</td>\n",
       "      <td>3.403</td>\n",
       "      <td>2.888</td>\n",
       "      <td>0.143</td>\n",
       "      <td>0.178</td>\n",
       "      <td>0.010</td>\n",
       "    </tr>\n",
       "    <tr>\n",
       "      <th>2023-12-01</th>\n",
       "      <td>1.166</td>\n",
       "      <td>1.060</td>\n",
       "      <td>3.131</td>\n",
       "      <td>2.708</td>\n",
       "      <td>0.143</td>\n",
       "      <td>0.178</td>\n",
       "      <td>-0.003</td>\n",
       "    </tr>\n",
       "  </tbody>\n",
       "</table>\n",
       "<p>288 rows × 7 columns</p>\n",
       "</div>"
      ],
      "text/plain": [
       "            utility_Michigan  Utility_Texas  Gasoloine_Michigan  \\\n",
       "Date                                                              \n",
       "2000-01-01             0.520          0.571               1.374   \n",
       "2000-02-01             0.520          0.571               1.453   \n",
       "2000-03-01             0.521          0.604               1.592   \n",
       "2000-04-01             0.521          0.604               1.429   \n",
       "2000-05-01             0.520          0.604               1.492   \n",
       "...                      ...            ...                 ...   \n",
       "2023-08-01             1.121          1.060               3.869   \n",
       "2023-09-01             1.144          1.060               3.804   \n",
       "2023-10-01             1.159          1.060               3.563   \n",
       "2023-11-01             1.169          1.060               3.403   \n",
       "2023-12-01             1.166          1.060               3.131   \n",
       "\n",
       "            Gasoline_Texas  Electricity_michigan  Electricity_texas  \\\n",
       "Date                                                                  \n",
       "2000-01-01           1.296                 0.097              0.071   \n",
       "2000-02-01           1.363                 0.097              0.071   \n",
       "2000-03-01           1.524                 0.097              0.071   \n",
       "2000-04-01           1.507                 0.097              0.071   \n",
       "2000-05-01           1.488                 0.097              0.087   \n",
       "...                    ...                   ...                ...   \n",
       "2023-08-01           3.477                 0.204              0.182   \n",
       "2023-09-01           3.396                 0.202              0.177   \n",
       "2023-10-01           3.170                 0.195              0.179   \n",
       "2023-11-01           2.888                 0.143              0.178   \n",
       "2023-12-01           2.708                 0.143              0.178   \n",
       "\n",
       "            utility Michigan First Difference  \n",
       "Date                                           \n",
       "2000-01-01                                NaN  \n",
       "2000-02-01                              0.000  \n",
       "2000-03-01                              0.001  \n",
       "2000-04-01                              0.000  \n",
       "2000-05-01                             -0.001  \n",
       "...                                       ...  \n",
       "2023-08-01                             -0.016  \n",
       "2023-09-01                              0.023  \n",
       "2023-10-01                              0.015  \n",
       "2023-11-01                              0.010  \n",
       "2023-12-01                             -0.003  \n",
       "\n",
       "[288 rows x 7 columns]"
      ]
     },
     "execution_count": 202,
     "metadata": {},
     "output_type": "execute_result"
    }
   ],
   "source": [
    "### split train and test data\n",
    "df_retail"
   ]
  },
  {
   "cell_type": "code",
   "execution_count": 203,
   "id": "6a6be3f4",
   "metadata": {},
   "outputs": [],
   "source": [
    "from datetime import datetime,timedelta\n",
    "train_dataset_end=datetime(2008,1,1)\n",
    "test_dataset_end=datetime(2023,1,1)"
   ]
  },
  {
   "cell_type": "code",
   "execution_count": 204,
   "id": "5e99ced5",
   "metadata": {},
   "outputs": [],
   "source": [
    "train_data=df_retail[:train_dataset_end]\n",
    "test_data=df_retail[train_dataset_end+timedelta(days=1):test_dataset_end]"
   ]
  },
  {
   "cell_type": "code",
   "execution_count": 205,
   "id": "f5cc5bab",
   "metadata": {},
   "outputs": [],
   "source": [
    "##prediction\n",
    "pred_start_date=test_data.index[0]\n",
    "pred_end_date=test_data.index[-1]"
   ]
  },
  {
   "cell_type": "code",
   "execution_count": 206,
   "id": "07c24df7",
   "metadata": {},
   "outputs": [
    {
     "data": {
      "text/html": [
       "<div>\n",
       "<style scoped>\n",
       "    .dataframe tbody tr th:only-of-type {\n",
       "        vertical-align: middle;\n",
       "    }\n",
       "\n",
       "    .dataframe tbody tr th {\n",
       "        vertical-align: top;\n",
       "    }\n",
       "\n",
       "    .dataframe thead th {\n",
       "        text-align: right;\n",
       "    }\n",
       "</style>\n",
       "<table border=\"1\" class=\"dataframe\">\n",
       "  <thead>\n",
       "    <tr style=\"text-align: right;\">\n",
       "      <th></th>\n",
       "      <th>utility_Michigan</th>\n",
       "      <th>Utility_Texas</th>\n",
       "      <th>Gasoloine_Michigan</th>\n",
       "      <th>Gasoline_Texas</th>\n",
       "      <th>Electricity_michigan</th>\n",
       "      <th>Electricity_texas</th>\n",
       "      <th>utility Michigan First Difference</th>\n",
       "    </tr>\n",
       "    <tr>\n",
       "      <th>Date</th>\n",
       "      <th></th>\n",
       "      <th></th>\n",
       "      <th></th>\n",
       "      <th></th>\n",
       "      <th></th>\n",
       "      <th></th>\n",
       "      <th></th>\n",
       "    </tr>\n",
       "  </thead>\n",
       "  <tbody>\n",
       "    <tr>\n",
       "      <th>2008-02-01</th>\n",
       "      <td>1.026</td>\n",
       "      <td>1.478</td>\n",
       "      <td>3.125</td>\n",
       "      <td>2.983</td>\n",
       "      <td>0.111</td>\n",
       "      <td>0.133</td>\n",
       "      <td>0.002</td>\n",
       "    </tr>\n",
       "    <tr>\n",
       "      <th>2008-03-01</th>\n",
       "      <td>1.111</td>\n",
       "      <td>1.478</td>\n",
       "      <td>3.336</td>\n",
       "      <td>3.206</td>\n",
       "      <td>0.111</td>\n",
       "      <td>0.133</td>\n",
       "      <td>0.085</td>\n",
       "    </tr>\n",
       "    <tr>\n",
       "      <th>2008-04-01</th>\n",
       "      <td>1.260</td>\n",
       "      <td>1.478</td>\n",
       "      <td>3.582</td>\n",
       "      <td>3.406</td>\n",
       "      <td>0.112</td>\n",
       "      <td>0.135</td>\n",
       "      <td>0.149</td>\n",
       "    </tr>\n",
       "    <tr>\n",
       "      <th>2008-05-01</th>\n",
       "      <td>1.261</td>\n",
       "      <td>1.478</td>\n",
       "      <td>4.005</td>\n",
       "      <td>3.689</td>\n",
       "      <td>0.105</td>\n",
       "      <td>0.136</td>\n",
       "      <td>0.001</td>\n",
       "    </tr>\n",
       "    <tr>\n",
       "      <th>2008-06-01</th>\n",
       "      <td>1.272</td>\n",
       "      <td>1.339</td>\n",
       "      <td>4.112</td>\n",
       "      <td>3.951</td>\n",
       "      <td>0.115</td>\n",
       "      <td>0.161</td>\n",
       "      <td>0.011</td>\n",
       "    </tr>\n",
       "    <tr>\n",
       "      <th>...</th>\n",
       "      <td>...</td>\n",
       "      <td>...</td>\n",
       "      <td>...</td>\n",
       "      <td>...</td>\n",
       "      <td>...</td>\n",
       "      <td>...</td>\n",
       "      <td>...</td>\n",
       "    </tr>\n",
       "    <tr>\n",
       "      <th>2022-09-01</th>\n",
       "      <td>1.439</td>\n",
       "      <td>1.405</td>\n",
       "      <td>4.035</td>\n",
       "      <td>3.169</td>\n",
       "      <td>0.188</td>\n",
       "      <td>0.241</td>\n",
       "      <td>0.094</td>\n",
       "    </tr>\n",
       "    <tr>\n",
       "      <th>2022-10-01</th>\n",
       "      <td>1.460</td>\n",
       "      <td>1.405</td>\n",
       "      <td>4.147</td>\n",
       "      <td>3.222</td>\n",
       "      <td>0.180</td>\n",
       "      <td>0.207</td>\n",
       "      <td>0.021</td>\n",
       "    </tr>\n",
       "    <tr>\n",
       "      <th>2022-11-01</th>\n",
       "      <td>1.352</td>\n",
       "      <td>1.478</td>\n",
       "      <td>3.865</td>\n",
       "      <td>3.104</td>\n",
       "      <td>0.180</td>\n",
       "      <td>0.182</td>\n",
       "      <td>-0.108</td>\n",
       "    </tr>\n",
       "    <tr>\n",
       "      <th>2022-12-01</th>\n",
       "      <td>0.886</td>\n",
       "      <td>1.433</td>\n",
       "      <td>3.180</td>\n",
       "      <td>2.753</td>\n",
       "      <td>0.182</td>\n",
       "      <td>0.190</td>\n",
       "      <td>-0.466</td>\n",
       "    </tr>\n",
       "    <tr>\n",
       "      <th>2023-01-01</th>\n",
       "      <td>1.334</td>\n",
       "      <td>1.433</td>\n",
       "      <td>3.429</td>\n",
       "      <td>2.987</td>\n",
       "      <td>0.182</td>\n",
       "      <td>0.181</td>\n",
       "      <td>0.448</td>\n",
       "    </tr>\n",
       "  </tbody>\n",
       "</table>\n",
       "<p>180 rows × 7 columns</p>\n",
       "</div>"
      ],
      "text/plain": [
       "            utility_Michigan  Utility_Texas  Gasoloine_Michigan  \\\n",
       "Date                                                              \n",
       "2008-02-01             1.026          1.478               3.125   \n",
       "2008-03-01             1.111          1.478               3.336   \n",
       "2008-04-01             1.260          1.478               3.582   \n",
       "2008-05-01             1.261          1.478               4.005   \n",
       "2008-06-01             1.272          1.339               4.112   \n",
       "...                      ...            ...                 ...   \n",
       "2022-09-01             1.439          1.405               4.035   \n",
       "2022-10-01             1.460          1.405               4.147   \n",
       "2022-11-01             1.352          1.478               3.865   \n",
       "2022-12-01             0.886          1.433               3.180   \n",
       "2023-01-01             1.334          1.433               3.429   \n",
       "\n",
       "            Gasoline_Texas  Electricity_michigan  Electricity_texas  \\\n",
       "Date                                                                  \n",
       "2008-02-01           2.983                 0.111              0.133   \n",
       "2008-03-01           3.206                 0.111              0.133   \n",
       "2008-04-01           3.406                 0.112              0.135   \n",
       "2008-05-01           3.689                 0.105              0.136   \n",
       "2008-06-01           3.951                 0.115              0.161   \n",
       "...                    ...                   ...                ...   \n",
       "2022-09-01           3.169                 0.188              0.241   \n",
       "2022-10-01           3.222                 0.180              0.207   \n",
       "2022-11-01           3.104                 0.180              0.182   \n",
       "2022-12-01           2.753                 0.182              0.190   \n",
       "2023-01-01           2.987                 0.182              0.181   \n",
       "\n",
       "            utility Michigan First Difference  \n",
       "Date                                           \n",
       "2008-02-01                              0.002  \n",
       "2008-03-01                              0.085  \n",
       "2008-04-01                              0.149  \n",
       "2008-05-01                              0.001  \n",
       "2008-06-01                              0.011  \n",
       "...                                       ...  \n",
       "2022-09-01                              0.094  \n",
       "2022-10-01                              0.021  \n",
       "2022-11-01                             -0.108  \n",
       "2022-12-01                             -0.466  \n",
       "2023-01-01                              0.448  \n",
       "\n",
       "[180 rows x 7 columns]"
      ]
     },
     "execution_count": 206,
     "metadata": {},
     "output_type": "execute_result"
    }
   ],
   "source": [
    "test_data"
   ]
  },
  {
   "cell_type": "code",
   "execution_count": 208,
   "id": "cbb06288",
   "metadata": {},
   "outputs": [],
   "source": [
    "## create a ARIMA model\n",
    "from statsmodels.tsa.arima_model import ARIMA"
   ]
  },
  {
   "cell_type": "code",
   "execution_count": 207,
   "id": "db9888c4",
   "metadata": {},
   "outputs": [
    {
     "data": {
      "text/html": [
       "<div>\n",
       "<style scoped>\n",
       "    .dataframe tbody tr th:only-of-type {\n",
       "        vertical-align: middle;\n",
       "    }\n",
       "\n",
       "    .dataframe tbody tr th {\n",
       "        vertical-align: top;\n",
       "    }\n",
       "\n",
       "    .dataframe thead th {\n",
       "        text-align: right;\n",
       "    }\n",
       "</style>\n",
       "<table border=\"1\" class=\"dataframe\">\n",
       "  <thead>\n",
       "    <tr style=\"text-align: right;\">\n",
       "      <th></th>\n",
       "      <th>utility_Michigan</th>\n",
       "      <th>Utility_Texas</th>\n",
       "      <th>Gasoloine_Michigan</th>\n",
       "      <th>Gasoline_Texas</th>\n",
       "      <th>Electricity_michigan</th>\n",
       "      <th>Electricity_texas</th>\n",
       "      <th>utility Michigan First Difference</th>\n",
       "    </tr>\n",
       "    <tr>\n",
       "      <th>Date</th>\n",
       "      <th></th>\n",
       "      <th></th>\n",
       "      <th></th>\n",
       "      <th></th>\n",
       "      <th></th>\n",
       "      <th></th>\n",
       "      <th></th>\n",
       "    </tr>\n",
       "  </thead>\n",
       "  <tbody>\n",
       "    <tr>\n",
       "      <th>2000-01-01</th>\n",
       "      <td>0.520</td>\n",
       "      <td>0.571</td>\n",
       "      <td>1.374</td>\n",
       "      <td>1.296</td>\n",
       "      <td>0.097</td>\n",
       "      <td>0.071</td>\n",
       "      <td>NaN</td>\n",
       "    </tr>\n",
       "    <tr>\n",
       "      <th>2000-02-01</th>\n",
       "      <td>0.520</td>\n",
       "      <td>0.571</td>\n",
       "      <td>1.453</td>\n",
       "      <td>1.363</td>\n",
       "      <td>0.097</td>\n",
       "      <td>0.071</td>\n",
       "      <td>0.000</td>\n",
       "    </tr>\n",
       "    <tr>\n",
       "      <th>2000-03-01</th>\n",
       "      <td>0.521</td>\n",
       "      <td>0.604</td>\n",
       "      <td>1.592</td>\n",
       "      <td>1.524</td>\n",
       "      <td>0.097</td>\n",
       "      <td>0.071</td>\n",
       "      <td>0.001</td>\n",
       "    </tr>\n",
       "    <tr>\n",
       "      <th>2000-04-01</th>\n",
       "      <td>0.521</td>\n",
       "      <td>0.604</td>\n",
       "      <td>1.429</td>\n",
       "      <td>1.507</td>\n",
       "      <td>0.097</td>\n",
       "      <td>0.071</td>\n",
       "      <td>0.000</td>\n",
       "    </tr>\n",
       "    <tr>\n",
       "      <th>2000-05-01</th>\n",
       "      <td>0.520</td>\n",
       "      <td>0.604</td>\n",
       "      <td>1.492</td>\n",
       "      <td>1.488</td>\n",
       "      <td>0.097</td>\n",
       "      <td>0.087</td>\n",
       "      <td>-0.001</td>\n",
       "    </tr>\n",
       "    <tr>\n",
       "      <th>...</th>\n",
       "      <td>...</td>\n",
       "      <td>...</td>\n",
       "      <td>...</td>\n",
       "      <td>...</td>\n",
       "      <td>...</td>\n",
       "      <td>...</td>\n",
       "      <td>...</td>\n",
       "    </tr>\n",
       "    <tr>\n",
       "      <th>2007-09-01</th>\n",
       "      <td>1.083</td>\n",
       "      <td>1.326</td>\n",
       "      <td>3.050</td>\n",
       "      <td>2.662</td>\n",
       "      <td>0.111</td>\n",
       "      <td>0.149</td>\n",
       "      <td>0.001</td>\n",
       "    </tr>\n",
       "    <tr>\n",
       "      <th>2007-10-01</th>\n",
       "      <td>1.051</td>\n",
       "      <td>1.661</td>\n",
       "      <td>2.955</td>\n",
       "      <td>2.665</td>\n",
       "      <td>0.111</td>\n",
       "      <td>0.149</td>\n",
       "      <td>-0.032</td>\n",
       "    </tr>\n",
       "    <tr>\n",
       "      <th>2007-11-01</th>\n",
       "      <td>1.054</td>\n",
       "      <td>1.662</td>\n",
       "      <td>3.207</td>\n",
       "      <td>2.937</td>\n",
       "      <td>0.111</td>\n",
       "      <td>0.134</td>\n",
       "      <td>0.003</td>\n",
       "    </tr>\n",
       "    <tr>\n",
       "      <th>2007-12-01</th>\n",
       "      <td>1.055</td>\n",
       "      <td>1.641</td>\n",
       "      <td>3.048</td>\n",
       "      <td>2.935</td>\n",
       "      <td>0.110</td>\n",
       "      <td>0.134</td>\n",
       "      <td>0.001</td>\n",
       "    </tr>\n",
       "    <tr>\n",
       "      <th>2008-01-01</th>\n",
       "      <td>1.024</td>\n",
       "      <td>1.478</td>\n",
       "      <td>3.062</td>\n",
       "      <td>2.988</td>\n",
       "      <td>0.111</td>\n",
       "      <td>0.134</td>\n",
       "      <td>-0.031</td>\n",
       "    </tr>\n",
       "  </tbody>\n",
       "</table>\n",
       "<p>97 rows × 7 columns</p>\n",
       "</div>"
      ],
      "text/plain": [
       "            utility_Michigan  Utility_Texas  Gasoloine_Michigan  \\\n",
       "Date                                                              \n",
       "2000-01-01             0.520          0.571               1.374   \n",
       "2000-02-01             0.520          0.571               1.453   \n",
       "2000-03-01             0.521          0.604               1.592   \n",
       "2000-04-01             0.521          0.604               1.429   \n",
       "2000-05-01             0.520          0.604               1.492   \n",
       "...                      ...            ...                 ...   \n",
       "2007-09-01             1.083          1.326               3.050   \n",
       "2007-10-01             1.051          1.661               2.955   \n",
       "2007-11-01             1.054          1.662               3.207   \n",
       "2007-12-01             1.055          1.641               3.048   \n",
       "2008-01-01             1.024          1.478               3.062   \n",
       "\n",
       "            Gasoline_Texas  Electricity_michigan  Electricity_texas  \\\n",
       "Date                                                                  \n",
       "2000-01-01           1.296                 0.097              0.071   \n",
       "2000-02-01           1.363                 0.097              0.071   \n",
       "2000-03-01           1.524                 0.097              0.071   \n",
       "2000-04-01           1.507                 0.097              0.071   \n",
       "2000-05-01           1.488                 0.097              0.087   \n",
       "...                    ...                   ...                ...   \n",
       "2007-09-01           2.662                 0.111              0.149   \n",
       "2007-10-01           2.665                 0.111              0.149   \n",
       "2007-11-01           2.937                 0.111              0.134   \n",
       "2007-12-01           2.935                 0.110              0.134   \n",
       "2008-01-01           2.988                 0.111              0.134   \n",
       "\n",
       "            utility Michigan First Difference  \n",
       "Date                                           \n",
       "2000-01-01                                NaN  \n",
       "2000-02-01                              0.000  \n",
       "2000-03-01                              0.001  \n",
       "2000-04-01                              0.000  \n",
       "2000-05-01                             -0.001  \n",
       "...                                       ...  \n",
       "2007-09-01                              0.001  \n",
       "2007-10-01                             -0.032  \n",
       "2007-11-01                              0.003  \n",
       "2007-12-01                              0.001  \n",
       "2008-01-01                             -0.031  \n",
       "\n",
       "[97 rows x 7 columns]"
      ]
     },
     "execution_count": 207,
     "metadata": {},
     "output_type": "execute_result"
    }
   ],
   "source": [
    "train_data"
   ]
  },
  {
   "cell_type": "code",
   "execution_count": 209,
   "id": "b80c3245",
   "metadata": {},
   "outputs": [],
   "source": [
    "from statsmodels.tsa.arima.model import ARIMA"
   ]
  },
  {
   "cell_type": "code",
   "execution_count": 210,
   "id": "23aa09a4",
   "metadata": {},
   "outputs": [
    {
     "name": "stderr",
     "output_type": "stream",
     "text": [
      "C:\\Users\\KARTHICK RAJA\\anaconda3\\envs\\DAB200\\lib\\site-packages\\statsmodels\\tsa\\base\\tsa_model.py:471: ValueWarning: No frequency information was provided, so inferred frequency MS will be used.\n",
      "  self._init_dates(dates, freq)\n",
      "C:\\Users\\KARTHICK RAJA\\anaconda3\\envs\\DAB200\\lib\\site-packages\\statsmodels\\tsa\\base\\tsa_model.py:471: ValueWarning: No frequency information was provided, so inferred frequency MS will be used.\n",
      "  self._init_dates(dates, freq)\n",
      "C:\\Users\\KARTHICK RAJA\\anaconda3\\envs\\DAB200\\lib\\site-packages\\statsmodels\\tsa\\base\\tsa_model.py:471: ValueWarning: No frequency information was provided, so inferred frequency MS will be used.\n",
      "  self._init_dates(dates, freq)\n"
     ]
    }
   ],
   "source": [
    "model_ARIMA=ARIMA(train_data['utility_Michigan'],order=(0,2,0))"
   ]
  },
  {
   "cell_type": "code",
   "execution_count": 211,
   "id": "b1a9152b",
   "metadata": {},
   "outputs": [],
   "source": [
    "model_Arima_fit=model_ARIMA.fit()"
   ]
  },
  {
   "cell_type": "code",
   "execution_count": 212,
   "id": "ad07f216",
   "metadata": {},
   "outputs": [
    {
     "data": {
      "text/html": [
       "<table class=\"simpletable\">\n",
       "<caption>SARIMAX Results</caption>\n",
       "<tr>\n",
       "  <th>Dep. Variable:</th>   <td>utility_Michigan</td> <th>  No. Observations:  </th>    <td>97</td>   \n",
       "</tr>\n",
       "<tr>\n",
       "  <th>Model:</th>            <td>ARIMA(0, 2, 0)</td>  <th>  Log Likelihood     </th>  <td>167.094</td>\n",
       "</tr>\n",
       "<tr>\n",
       "  <th>Date:</th>            <td>Wed, 17 Apr 2024</td> <th>  AIC                </th> <td>-332.188</td>\n",
       "</tr>\n",
       "<tr>\n",
       "  <th>Time:</th>                <td>17:41:17</td>     <th>  BIC                </th> <td>-329.634</td>\n",
       "</tr>\n",
       "<tr>\n",
       "  <th>Sample:</th>             <td>01-01-2000</td>    <th>  HQIC               </th> <td>-331.156</td>\n",
       "</tr>\n",
       "<tr>\n",
       "  <th></th>                   <td>- 01-01-2008</td>   <th>                     </th>     <td> </td>   \n",
       "</tr>\n",
       "<tr>\n",
       "  <th>Covariance Type:</th>        <td>opg</td>       <th>                     </th>     <td> </td>   \n",
       "</tr>\n",
       "</table>\n",
       "<table class=\"simpletable\">\n",
       "<tr>\n",
       "     <td></td>       <th>coef</th>     <th>std err</th>      <th>z</th>      <th>P>|z|</th>  <th>[0.025</th>    <th>0.975]</th>  \n",
       "</tr>\n",
       "<tr>\n",
       "  <th>sigma2</th> <td>    0.0017</td> <td>    0.000</td> <td>    9.549</td> <td> 0.000</td> <td>    0.001</td> <td>    0.002</td>\n",
       "</tr>\n",
       "</table>\n",
       "<table class=\"simpletable\">\n",
       "<tr>\n",
       "  <th>Ljung-Box (L1) (Q):</th>     <td>15.60</td> <th>  Jarque-Bera (JB):  </th> <td>14.23</td>\n",
       "</tr>\n",
       "<tr>\n",
       "  <th>Prob(Q):</th>                <td>0.00</td>  <th>  Prob(JB):          </th> <td>0.00</td> \n",
       "</tr>\n",
       "<tr>\n",
       "  <th>Heteroskedasticity (H):</th> <td>2.05</td>  <th>  Skew:              </th> <td>0.22</td> \n",
       "</tr>\n",
       "<tr>\n",
       "  <th>Prob(H) (two-sided):</th>    <td>0.05</td>  <th>  Kurtosis:          </th> <td>4.85</td> \n",
       "</tr>\n",
       "</table><br/><br/>Warnings:<br/>[1] Covariance matrix calculated using the outer product of gradients (complex-step)."
      ],
      "text/plain": [
       "<class 'statsmodels.iolib.summary.Summary'>\n",
       "\"\"\"\n",
       "                               SARIMAX Results                                \n",
       "==============================================================================\n",
       "Dep. Variable:       utility_Michigan   No. Observations:                   97\n",
       "Model:                 ARIMA(0, 2, 0)   Log Likelihood                 167.094\n",
       "Date:                Wed, 17 Apr 2024   AIC                           -332.188\n",
       "Time:                        17:41:17   BIC                           -329.634\n",
       "Sample:                    01-01-2000   HQIC                          -331.156\n",
       "                         - 01-01-2008                                         \n",
       "Covariance Type:                  opg                                         \n",
       "==============================================================================\n",
       "                 coef    std err          z      P>|z|      [0.025      0.975]\n",
       "------------------------------------------------------------------------------\n",
       "sigma2         0.0017      0.000      9.549      0.000       0.001       0.002\n",
       "===================================================================================\n",
       "Ljung-Box (L1) (Q):                  15.60   Jarque-Bera (JB):                14.23\n",
       "Prob(Q):                              0.00   Prob(JB):                         0.00\n",
       "Heteroskedasticity (H):               2.05   Skew:                             0.22\n",
       "Prob(H) (two-sided):                  0.05   Kurtosis:                         4.85\n",
       "===================================================================================\n",
       "\n",
       "Warnings:\n",
       "[1] Covariance matrix calculated using the outer product of gradients (complex-step).\n",
       "\"\"\""
      ]
     },
     "execution_count": 212,
     "metadata": {},
     "output_type": "execute_result"
    }
   ],
   "source": [
    "model_Arima_fit.summary()"
   ]
  },
  {
   "cell_type": "code",
   "execution_count": 213,
   "id": "36763d03",
   "metadata": {},
   "outputs": [
    {
     "data": {
      "text/html": [
       "<div>\n",
       "<style scoped>\n",
       "    .dataframe tbody tr th:only-of-type {\n",
       "        vertical-align: middle;\n",
       "    }\n",
       "\n",
       "    .dataframe tbody tr th {\n",
       "        vertical-align: top;\n",
       "    }\n",
       "\n",
       "    .dataframe thead th {\n",
       "        text-align: right;\n",
       "    }\n",
       "</style>\n",
       "<table border=\"1\" class=\"dataframe\">\n",
       "  <thead>\n",
       "    <tr style=\"text-align: right;\">\n",
       "      <th></th>\n",
       "      <th>utility_Michigan</th>\n",
       "      <th>Utility_Texas</th>\n",
       "      <th>Gasoloine_Michigan</th>\n",
       "      <th>Gasoline_Texas</th>\n",
       "      <th>Electricity_michigan</th>\n",
       "      <th>Electricity_texas</th>\n",
       "      <th>utility Michigan First Difference</th>\n",
       "    </tr>\n",
       "    <tr>\n",
       "      <th>Date</th>\n",
       "      <th></th>\n",
       "      <th></th>\n",
       "      <th></th>\n",
       "      <th></th>\n",
       "      <th></th>\n",
       "      <th></th>\n",
       "      <th></th>\n",
       "    </tr>\n",
       "  </thead>\n",
       "  <tbody>\n",
       "    <tr>\n",
       "      <th>2008-02-01</th>\n",
       "      <td>1.026</td>\n",
       "      <td>1.478</td>\n",
       "      <td>3.125</td>\n",
       "      <td>2.983</td>\n",
       "      <td>0.111</td>\n",
       "      <td>0.133</td>\n",
       "      <td>0.002</td>\n",
       "    </tr>\n",
       "    <tr>\n",
       "      <th>2008-03-01</th>\n",
       "      <td>1.111</td>\n",
       "      <td>1.478</td>\n",
       "      <td>3.336</td>\n",
       "      <td>3.206</td>\n",
       "      <td>0.111</td>\n",
       "      <td>0.133</td>\n",
       "      <td>0.085</td>\n",
       "    </tr>\n",
       "    <tr>\n",
       "      <th>2008-04-01</th>\n",
       "      <td>1.260</td>\n",
       "      <td>1.478</td>\n",
       "      <td>3.582</td>\n",
       "      <td>3.406</td>\n",
       "      <td>0.112</td>\n",
       "      <td>0.135</td>\n",
       "      <td>0.149</td>\n",
       "    </tr>\n",
       "    <tr>\n",
       "      <th>2008-05-01</th>\n",
       "      <td>1.261</td>\n",
       "      <td>1.478</td>\n",
       "      <td>4.005</td>\n",
       "      <td>3.689</td>\n",
       "      <td>0.105</td>\n",
       "      <td>0.136</td>\n",
       "      <td>0.001</td>\n",
       "    </tr>\n",
       "    <tr>\n",
       "      <th>2008-06-01</th>\n",
       "      <td>1.272</td>\n",
       "      <td>1.339</td>\n",
       "      <td>4.112</td>\n",
       "      <td>3.951</td>\n",
       "      <td>0.115</td>\n",
       "      <td>0.161</td>\n",
       "      <td>0.011</td>\n",
       "    </tr>\n",
       "    <tr>\n",
       "      <th>...</th>\n",
       "      <td>...</td>\n",
       "      <td>...</td>\n",
       "      <td>...</td>\n",
       "      <td>...</td>\n",
       "      <td>...</td>\n",
       "      <td>...</td>\n",
       "      <td>...</td>\n",
       "    </tr>\n",
       "    <tr>\n",
       "      <th>2022-09-01</th>\n",
       "      <td>1.439</td>\n",
       "      <td>1.405</td>\n",
       "      <td>4.035</td>\n",
       "      <td>3.169</td>\n",
       "      <td>0.188</td>\n",
       "      <td>0.241</td>\n",
       "      <td>0.094</td>\n",
       "    </tr>\n",
       "    <tr>\n",
       "      <th>2022-10-01</th>\n",
       "      <td>1.460</td>\n",
       "      <td>1.405</td>\n",
       "      <td>4.147</td>\n",
       "      <td>3.222</td>\n",
       "      <td>0.180</td>\n",
       "      <td>0.207</td>\n",
       "      <td>0.021</td>\n",
       "    </tr>\n",
       "    <tr>\n",
       "      <th>2022-11-01</th>\n",
       "      <td>1.352</td>\n",
       "      <td>1.478</td>\n",
       "      <td>3.865</td>\n",
       "      <td>3.104</td>\n",
       "      <td>0.180</td>\n",
       "      <td>0.182</td>\n",
       "      <td>-0.108</td>\n",
       "    </tr>\n",
       "    <tr>\n",
       "      <th>2022-12-01</th>\n",
       "      <td>0.886</td>\n",
       "      <td>1.433</td>\n",
       "      <td>3.180</td>\n",
       "      <td>2.753</td>\n",
       "      <td>0.182</td>\n",
       "      <td>0.190</td>\n",
       "      <td>-0.466</td>\n",
       "    </tr>\n",
       "    <tr>\n",
       "      <th>2023-01-01</th>\n",
       "      <td>1.334</td>\n",
       "      <td>1.433</td>\n",
       "      <td>3.429</td>\n",
       "      <td>2.987</td>\n",
       "      <td>0.182</td>\n",
       "      <td>0.181</td>\n",
       "      <td>0.448</td>\n",
       "    </tr>\n",
       "  </tbody>\n",
       "</table>\n",
       "<p>180 rows × 7 columns</p>\n",
       "</div>"
      ],
      "text/plain": [
       "            utility_Michigan  Utility_Texas  Gasoloine_Michigan  \\\n",
       "Date                                                              \n",
       "2008-02-01             1.026          1.478               3.125   \n",
       "2008-03-01             1.111          1.478               3.336   \n",
       "2008-04-01             1.260          1.478               3.582   \n",
       "2008-05-01             1.261          1.478               4.005   \n",
       "2008-06-01             1.272          1.339               4.112   \n",
       "...                      ...            ...                 ...   \n",
       "2022-09-01             1.439          1.405               4.035   \n",
       "2022-10-01             1.460          1.405               4.147   \n",
       "2022-11-01             1.352          1.478               3.865   \n",
       "2022-12-01             0.886          1.433               3.180   \n",
       "2023-01-01             1.334          1.433               3.429   \n",
       "\n",
       "            Gasoline_Texas  Electricity_michigan  Electricity_texas  \\\n",
       "Date                                                                  \n",
       "2008-02-01           2.983                 0.111              0.133   \n",
       "2008-03-01           3.206                 0.111              0.133   \n",
       "2008-04-01           3.406                 0.112              0.135   \n",
       "2008-05-01           3.689                 0.105              0.136   \n",
       "2008-06-01           3.951                 0.115              0.161   \n",
       "...                    ...                   ...                ...   \n",
       "2022-09-01           3.169                 0.188              0.241   \n",
       "2022-10-01           3.222                 0.180              0.207   \n",
       "2022-11-01           3.104                 0.180              0.182   \n",
       "2022-12-01           2.753                 0.182              0.190   \n",
       "2023-01-01           2.987                 0.182              0.181   \n",
       "\n",
       "            utility Michigan First Difference  \n",
       "Date                                           \n",
       "2008-02-01                              0.002  \n",
       "2008-03-01                              0.085  \n",
       "2008-04-01                              0.149  \n",
       "2008-05-01                              0.001  \n",
       "2008-06-01                              0.011  \n",
       "...                                       ...  \n",
       "2022-09-01                              0.094  \n",
       "2022-10-01                              0.021  \n",
       "2022-11-01                             -0.108  \n",
       "2022-12-01                             -0.466  \n",
       "2023-01-01                              0.448  \n",
       "\n",
       "[180 rows x 7 columns]"
      ]
     },
     "execution_count": 213,
     "metadata": {},
     "output_type": "execute_result"
    }
   ],
   "source": [
    "test_data"
   ]
  },
  {
   "cell_type": "code",
   "execution_count": 214,
   "id": "a631572a-ed21-4b44-bc63-fb94703c74c3",
   "metadata": {},
   "outputs": [
    {
     "name": "stdout",
     "output_type": "stream",
     "text": [
      "2008-02-01 00:00:00\n",
      "2023-01-01 00:00:00\n"
     ]
    }
   ],
   "source": [
    "##prediction\n",
    "pred_start_date=test_data.index[0]\n",
    "pred_end_date=test_data.index[-1]\n",
    "print(pred_start_date)\n",
    "print(pred_end_date)"
   ]
  },
  {
   "cell_type": "code",
   "execution_count": 215,
   "id": "3b61c825",
   "metadata": {},
   "outputs": [],
   "source": [
    "pred=model_Arima_fit.predict(start=pred_start_date,end=pred_end_date)\n",
    "residuals=test_data['utility_Michigan']-pred"
   ]
  },
  {
   "cell_type": "code",
   "execution_count": 216,
   "id": "3d94c1c6",
   "metadata": {},
   "outputs": [
    {
     "data": {
      "text/plain": [
       "2008-02-01    0.993\n",
       "2008-03-01    0.962\n",
       "2008-04-01    0.931\n",
       "2008-05-01    0.900\n",
       "2008-06-01    0.869\n",
       "              ...  \n",
       "2022-09-01   -4.432\n",
       "2022-10-01   -4.463\n",
       "2022-11-01   -4.494\n",
       "2022-12-01   -4.525\n",
       "2023-01-01   -4.556\n",
       "Freq: MS, Name: predicted_mean, Length: 180, dtype: float64"
      ]
     },
     "execution_count": 216,
     "metadata": {},
     "output_type": "execute_result"
    }
   ],
   "source": [
    "pred"
   ]
  },
  {
   "cell_type": "code",
   "execution_count": 217,
   "id": "6bf20497",
   "metadata": {},
   "outputs": [
    {
     "data": {
      "text/plain": [
       "Date\n",
       "2008-02-01    0.033\n",
       "2008-03-01    0.149\n",
       "2008-04-01    0.329\n",
       "2008-05-01    0.361\n",
       "2008-06-01    0.403\n",
       "              ...  \n",
       "2022-09-01    5.871\n",
       "2022-10-01    5.923\n",
       "2022-11-01    5.846\n",
       "2022-12-01    5.411\n",
       "2023-01-01    5.890\n",
       "Length: 180, dtype: float64"
      ]
     },
     "execution_count": 217,
     "metadata": {},
     "output_type": "execute_result"
    }
   ],
   "source": [
    "residuals"
   ]
  },
  {
   "cell_type": "code",
   "execution_count": 218,
   "id": "7e3eee57",
   "metadata": {},
   "outputs": [
    {
     "data": {
      "text/plain": [
       "<AxesSubplot: ylabel='Density'>"
      ]
     },
     "execution_count": 218,
     "metadata": {},
     "output_type": "execute_result"
    },
    {
     "data": {
      "image/png": "[encoded data removed]",
      "text/plain": [
       "<Figure size 640x480 with 1 Axes>"
      ]
     },
     "metadata": {},
     "output_type": "display_data"
    }
   ],
   "source": [
    "model_Arima_fit.resid.plot(kind='kde')"
   ]
  },
  {
   "cell_type": "code",
   "execution_count": 219,
   "id": "bd2bf326",
   "metadata": {},
   "outputs": [
    {
     "name": "stderr",
     "output_type": "stream",
     "text": [
      "C:\\Users\\KARTHICK RAJA\\AppData\\Local\\Temp\\ipykernel_27840\\95659616.py:1: SettingWithCopyWarning: \n",
      "A value is trying to be set on a copy of a slice from a DataFrame.\n",
      "Try using .loc[row_indexer,col_indexer] = value instead\n",
      "\n",
      "See the caveats in the documentation: https://pandas.pydata.org/pandas-docs/stable/user_guide/indexing.html#returning-a-view-versus-a-copy\n",
      "  test_data['Predicted_ARIMA']=pred\n"
     ]
    }
   ],
   "source": [
    "test_data['Predicted_ARIMA']=pred"
   ]
  },
  {
   "cell_type": "code",
   "execution_count": 220,
   "id": "dfaacd28",
   "metadata": {},
   "outputs": [
    {
     "data": {
      "text/plain": [
       "<AxesSubplot: xlabel='Date'>"
      ]
     },
     "execution_count": 220,
     "metadata": {},
     "output_type": "execute_result"
    },
    {
     "data": {
      "image/png": "[encoded data removed]",
      "text/plain": [
       "<Figure size 640x480 with 1 Axes>"
      ]
     },
     "metadata": {},
     "output_type": "display_data"
    }
   ],
   "source": [
    "test_data[['utility_Michigan','Predicted_ARIMA']].plot()"
   ]
  },
  {
   "cell_type": "code",
   "execution_count": 222,
   "id": "303cb02f",
   "metadata": {},
   "outputs": [
    {
     "name": "stderr",
     "output_type": "stream",
     "text": [
      "C:\\Users\\KARTHICK RAJA\\anaconda3\\envs\\DAB200\\lib\\site-packages\\statsmodels\\graphics\\tsaplots.py:348: FutureWarning: The default method 'yw' can produce PACF values outside of the [-1,1] interval. After 0.13, the default will change tounadjusted Yule-Walker ('ywm'). You can use this method now by setting method='ywm'.\n",
      "  warnings.warn(\n"
     ]
    },
    {
     "data": {
      "image/png": "[encoded data removed]",
      "text/plain": [
       "<Figure size 640x480 with 1 Axes>"
      ]
     },
     "metadata": {},
     "output_type": "display_data"
    },
    {
     "data": {
      "image/png": "[encoded data removed]",
      "text/plain": [
       "<Figure size 640x480 with 1 Axes>"
      ]
     },
     "metadata": {},
     "output_type": "display_data"
    }
   ],
   "source": [
    "acf = plot_acf(rt[\"utility Michigan 12 Difference\"].dropna())\n",
    "pacf = plot_pacf(rt[\"utility Michigan 12 Difference\"].dropna())"
   ]
  },
  {
   "cell_type": "code",
   "execution_count": 223,
   "id": "8c699042",
   "metadata": {},
   "outputs": [],
   "source": [
    "## create a SARIMA model\n",
    "from statsmodels.tsa.statespace.sarimax import SARIMAX"
   ]
  },
  {
   "cell_type": "code",
   "execution_count": 224,
   "id": "24963f2a",
   "metadata": {},
   "outputs": [
    {
     "name": "stderr",
     "output_type": "stream",
     "text": [
      "C:\\Users\\KARTHICK RAJA\\anaconda3\\envs\\DAB200\\lib\\site-packages\\statsmodels\\tsa\\base\\tsa_model.py:471: ValueWarning: No frequency information was provided, so inferred frequency MS will be used.\n",
      "  self._init_dates(dates, freq)\n",
      "C:\\Users\\KARTHICK RAJA\\anaconda3\\envs\\DAB200\\lib\\site-packages\\statsmodels\\tsa\\base\\tsa_model.py:471: ValueWarning: No frequency information was provided, so inferred frequency MS will be used.\n",
      "  self._init_dates(dates, freq)\n"
     ]
    }
   ],
   "source": [
    "model_SARIMA=SARIMAX(train_data['utility_Michigan'],order=(12,0,8),seasonal_order=(0,1,0,12))"
   ]
  },
  {
   "cell_type": "code",
   "execution_count": 225,
   "id": "baeb37d2",
   "metadata": {},
   "outputs": [
    {
     "name": "stderr",
     "output_type": "stream",
     "text": [
      "C:\\Users\\KARTHICK RAJA\\anaconda3\\envs\\DAB200\\lib\\site-packages\\statsmodels\\tsa\\statespace\\sarimax.py:978: UserWarning: Non-invertible starting MA parameters found. Using zeros as starting parameters.\n",
      "  warn('Non-invertible starting MA parameters found.'\n",
      "C:\\Users\\KARTHICK RAJA\\anaconda3\\envs\\DAB200\\lib\\site-packages\\statsmodels\\base\\model.py:604: ConvergenceWarning: Maximum Likelihood optimization failed to converge. Check mle_retvals\n",
      "  warnings.warn(\"Maximum Likelihood optimization failed to \"\n"
     ]
    }
   ],
   "source": [
    "model_SARIMA_fit=model_SARIMA.fit()"
   ]
  },
  {
   "cell_type": "code",
   "execution_count": 226,
   "id": "fb17c397",
   "metadata": {},
   "outputs": [
    {
     "data": {
      "text/html": [
       "<table class=\"simpletable\">\n",
       "<caption>SARIMAX Results</caption>\n",
       "<tr>\n",
       "  <th>Dep. Variable:</th>           <td>utility_Michigan</td>         <th>  No. Observations:  </th>    <td>97</td>   \n",
       "</tr>\n",
       "<tr>\n",
       "  <th>Model:</th>           <td>SARIMAX(12, 0, 8)x(0, 1, [], 12)</td> <th>  Log Likelihood     </th>  <td>159.997</td>\n",
       "</tr>\n",
       "<tr>\n",
       "  <th>Date:</th>                    <td>Wed, 17 Apr 2024</td>         <th>  AIC                </th> <td>-277.994</td>\n",
       "</tr>\n",
       "<tr>\n",
       "  <th>Time:</th>                        <td>17:49:23</td>             <th>  BIC                </th> <td>-226.698</td>\n",
       "</tr>\n",
       "<tr>\n",
       "  <th>Sample:</th>                     <td>01-01-2000</td>            <th>  HQIC               </th> <td>-257.361</td>\n",
       "</tr>\n",
       "<tr>\n",
       "  <th></th>                           <td>- 01-01-2008</td>           <th>                     </th>     <td> </td>   \n",
       "</tr>\n",
       "<tr>\n",
       "  <th>Covariance Type:</th>                <td>opg</td>               <th>                     </th>     <td> </td>   \n",
       "</tr>\n",
       "</table>\n",
       "<table class=\"simpletable\">\n",
       "<tr>\n",
       "     <td></td>       <th>coef</th>     <th>std err</th>      <th>z</th>      <th>P>|z|</th>  <th>[0.025</th>    <th>0.975]</th>  \n",
       "</tr>\n",
       "<tr>\n",
       "  <th>ar.L1</th>  <td>    1.7948</td> <td>    0.565</td> <td>    3.179</td> <td> 0.001</td> <td>    0.688</td> <td>    2.901</td>\n",
       "</tr>\n",
       "<tr>\n",
       "  <th>ar.L2</th>  <td>   -1.1467</td> <td>    1.315</td> <td>   -0.872</td> <td> 0.383</td> <td>   -3.724</td> <td>    1.431</td>\n",
       "</tr>\n",
       "<tr>\n",
       "  <th>ar.L3</th>  <td>   -0.2842</td> <td>    1.464</td> <td>   -0.194</td> <td> 0.846</td> <td>   -3.153</td> <td>    2.585</td>\n",
       "</tr>\n",
       "<tr>\n",
       "  <th>ar.L4</th>  <td>    1.2386</td> <td>    1.062</td> <td>    1.166</td> <td> 0.244</td> <td>   -0.844</td> <td>    3.321</td>\n",
       "</tr>\n",
       "<tr>\n",
       "  <th>ar.L5</th>  <td>   -1.1875</td> <td>    0.916</td> <td>   -1.296</td> <td> 0.195</td> <td>   -2.983</td> <td>    0.608</td>\n",
       "</tr>\n",
       "<tr>\n",
       "  <th>ar.L6</th>  <td>    0.4537</td> <td>    0.928</td> <td>    0.489</td> <td> 0.625</td> <td>   -1.366</td> <td>    2.273</td>\n",
       "</tr>\n",
       "<tr>\n",
       "  <th>ar.L7</th>  <td>    0.5462</td> <td>    0.858</td> <td>    0.636</td> <td> 0.524</td> <td>   -1.136</td> <td>    2.228</td>\n",
       "</tr>\n",
       "<tr>\n",
       "  <th>ar.L8</th>  <td>   -1.2829</td> <td>    0.611</td> <td>   -2.099</td> <td> 0.036</td> <td>   -2.481</td> <td>   -0.085</td>\n",
       "</tr>\n",
       "<tr>\n",
       "  <th>ar.L9</th>  <td>    1.2986</td> <td>    0.447</td> <td>    2.906</td> <td> 0.004</td> <td>    0.423</td> <td>    2.174</td>\n",
       "</tr>\n",
       "<tr>\n",
       "  <th>ar.L10</th> <td>   -0.6073</td> <td>    0.917</td> <td>   -0.662</td> <td> 0.508</td> <td>   -2.404</td> <td>    1.190</td>\n",
       "</tr>\n",
       "<tr>\n",
       "  <th>ar.L11</th> <td>   -0.1621</td> <td>    0.917</td> <td>   -0.177</td> <td> 0.860</td> <td>   -1.960</td> <td>    1.636</td>\n",
       "</tr>\n",
       "<tr>\n",
       "  <th>ar.L12</th> <td>    0.2378</td> <td>    0.387</td> <td>    0.615</td> <td> 0.538</td> <td>   -0.520</td> <td>    0.995</td>\n",
       "</tr>\n",
       "<tr>\n",
       "  <th>ma.L1</th>  <td>   -0.6483</td> <td>    0.560</td> <td>   -1.158</td> <td> 0.247</td> <td>   -1.746</td> <td>    0.449</td>\n",
       "</tr>\n",
       "<tr>\n",
       "  <th>ma.L2</th>  <td>    0.2149</td> <td>    0.779</td> <td>    0.276</td> <td> 0.783</td> <td>   -1.312</td> <td>    1.742</td>\n",
       "</tr>\n",
       "<tr>\n",
       "  <th>ma.L3</th>  <td>    0.7354</td> <td>    0.633</td> <td>    1.161</td> <td> 0.245</td> <td>   -0.506</td> <td>    1.976</td>\n",
       "</tr>\n",
       "<tr>\n",
       "  <th>ma.L4</th>  <td>   -0.4397</td> <td>    0.570</td> <td>   -0.771</td> <td> 0.441</td> <td>   -1.558</td> <td>    0.678</td>\n",
       "</tr>\n",
       "<tr>\n",
       "  <th>ma.L5</th>  <td>    0.2228</td> <td>    0.478</td> <td>    0.466</td> <td> 0.641</td> <td>   -0.714</td> <td>    1.160</td>\n",
       "</tr>\n",
       "<tr>\n",
       "  <th>ma.L6</th>  <td>    0.5942</td> <td>    0.341</td> <td>    1.743</td> <td> 0.081</td> <td>   -0.074</td> <td>    1.262</td>\n",
       "</tr>\n",
       "<tr>\n",
       "  <th>ma.L7</th>  <td>   -0.4456</td> <td>    0.417</td> <td>   -1.068</td> <td> 0.286</td> <td>   -1.263</td> <td>    0.372</td>\n",
       "</tr>\n",
       "<tr>\n",
       "  <th>ma.L8</th>  <td>    0.4995</td> <td>    0.347</td> <td>    1.438</td> <td> 0.150</td> <td>   -0.181</td> <td>    1.180</td>\n",
       "</tr>\n",
       "<tr>\n",
       "  <th>sigma2</th> <td>    0.0012</td> <td>    0.000</td> <td>    4.472</td> <td> 0.000</td> <td>    0.001</td> <td>    0.002</td>\n",
       "</tr>\n",
       "</table>\n",
       "<table class=\"simpletable\">\n",
       "<tr>\n",
       "  <th>Ljung-Box (L1) (Q):</th>     <td>0.01</td> <th>  Jarque-Bera (JB):  </th> <td>3.22</td>\n",
       "</tr>\n",
       "<tr>\n",
       "  <th>Prob(Q):</th>                <td>0.92</td> <th>  Prob(JB):          </th> <td>0.20</td>\n",
       "</tr>\n",
       "<tr>\n",
       "  <th>Heteroskedasticity (H):</th> <td>2.04</td> <th>  Skew:              </th> <td>0.03</td>\n",
       "</tr>\n",
       "<tr>\n",
       "  <th>Prob(H) (two-sided):</th>    <td>0.06</td> <th>  Kurtosis:          </th> <td>3.95</td>\n",
       "</tr>\n",
       "</table><br/><br/>Warnings:<br/>[1] Covariance matrix calculated using the outer product of gradients (complex-step)."
      ],
      "text/plain": [
       "<class 'statsmodels.iolib.summary.Summary'>\n",
       "\"\"\"\n",
       "                                      SARIMAX Results                                       \n",
       "============================================================================================\n",
       "Dep. Variable:                     utility_Michigan   No. Observations:                   97\n",
       "Model:             SARIMAX(12, 0, 8)x(0, 1, [], 12)   Log Likelihood                 159.997\n",
       "Date:                              Wed, 17 Apr 2024   AIC                           -277.994\n",
       "Time:                                      17:49:23   BIC                           -226.698\n",
       "Sample:                                  01-01-2000   HQIC                          -257.361\n",
       "                                       - 01-01-2008                                         \n",
       "Covariance Type:                                opg                                         \n",
       "==============================================================================\n",
       "                 coef    std err          z      P>|z|      [0.025      0.975]\n",
       "------------------------------------------------------------------------------\n",
       "ar.L1          1.7948      0.565      3.179      0.001       0.688       2.901\n",
       "ar.L2         -1.1467      1.315     -0.872      0.383      -3.724       1.431\n",
       "ar.L3         -0.2842      1.464     -0.194      0.846      -3.153       2.585\n",
       "ar.L4          1.2386      1.062      1.166      0.244      -0.844       3.321\n",
       "ar.L5         -1.1875      0.916     -1.296      0.195      -2.983       0.608\n",
       "ar.L6          0.4537      0.928      0.489      0.625      -1.366       2.273\n",
       "ar.L7          0.5462      0.858      0.636      0.524      -1.136       2.228\n",
       "ar.L8         -1.2829      0.611     -2.099      0.036      -2.481      -0.085\n",
       "ar.L9          1.2986      0.447      2.906      0.004       0.423       2.174\n",
       "ar.L10        -0.6073      0.917     -0.662      0.508      -2.404       1.190\n",
       "ar.L11        -0.1621      0.917     -0.177      0.860      -1.960       1.636\n",
       "ar.L12         0.2378      0.387      0.615      0.538      -0.520       0.995\n",
       "ma.L1         -0.6483      0.560     -1.158      0.247      -1.746       0.449\n",
       "ma.L2          0.2149      0.779      0.276      0.783      -1.312       1.742\n",
       "ma.L3          0.7354      0.633      1.161      0.245      -0.506       1.976\n",
       "ma.L4         -0.4397      0.570     -0.771      0.441      -1.558       0.678\n",
       "ma.L5          0.2228      0.478      0.466      0.641      -0.714       1.160\n",
       "ma.L6          0.5942      0.341      1.743      0.081      -0.074       1.262\n",
       "ma.L7         -0.4456      0.417     -1.068      0.286      -1.263       0.372\n",
       "ma.L8          0.4995      0.347      1.438      0.150      -0.181       1.180\n",
       "sigma2         0.0012      0.000      4.472      0.000       0.001       0.002\n",
       "===================================================================================\n",
       "Ljung-Box (L1) (Q):                   0.01   Jarque-Bera (JB):                 3.22\n",
       "Prob(Q):                              0.92   Prob(JB):                         0.20\n",
       "Heteroskedasticity (H):               2.04   Skew:                             0.03\n",
       "Prob(H) (two-sided):                  0.06   Kurtosis:                         3.95\n",
       "===================================================================================\n",
       "\n",
       "Warnings:\n",
       "[1] Covariance matrix calculated using the outer product of gradients (complex-step).\n",
       "\"\"\""
      ]
     },
     "execution_count": 226,
     "metadata": {},
     "output_type": "execute_result"
    }
   ],
   "source": [
    "model_SARIMA_fit.summary()"
   ]
  },
  {
   "cell_type": "code",
   "execution_count": 227,
   "id": "c54cb39f",
   "metadata": {},
   "outputs": [
    {
     "data": {
      "text/html": [
       "<div>\n",
       "<style scoped>\n",
       "    .dataframe tbody tr th:only-of-type {\n",
       "        vertical-align: middle;\n",
       "    }\n",
       "\n",
       "    .dataframe tbody tr th {\n",
       "        vertical-align: top;\n",
       "    }\n",
       "\n",
       "    .dataframe thead th {\n",
       "        text-align: right;\n",
       "    }\n",
       "</style>\n",
       "<table border=\"1\" class=\"dataframe\">\n",
       "  <thead>\n",
       "    <tr style=\"text-align: right;\">\n",
       "      <th></th>\n",
       "      <th>utility_Michigan</th>\n",
       "      <th>Utility_Texas</th>\n",
       "      <th>Gasoloine_Michigan</th>\n",
       "      <th>Gasoline_Texas</th>\n",
       "      <th>Electricity_michigan</th>\n",
       "      <th>Electricity_texas</th>\n",
       "      <th>utility Michigan First Difference</th>\n",
       "      <th>Predicted_ARIMA</th>\n",
       "    </tr>\n",
       "    <tr>\n",
       "      <th>Date</th>\n",
       "      <th></th>\n",
       "      <th></th>\n",
       "      <th></th>\n",
       "      <th></th>\n",
       "      <th></th>\n",
       "      <th></th>\n",
       "      <th></th>\n",
       "      <th></th>\n",
       "    </tr>\n",
       "  </thead>\n",
       "  <tbody>\n",
       "    <tr>\n",
       "      <th>2022-09-01</th>\n",
       "      <td>1.439</td>\n",
       "      <td>1.405</td>\n",
       "      <td>4.035</td>\n",
       "      <td>3.169</td>\n",
       "      <td>0.188</td>\n",
       "      <td>0.241</td>\n",
       "      <td>0.094</td>\n",
       "      <td>-4.432</td>\n",
       "    </tr>\n",
       "    <tr>\n",
       "      <th>2022-10-01</th>\n",
       "      <td>1.460</td>\n",
       "      <td>1.405</td>\n",
       "      <td>4.147</td>\n",
       "      <td>3.222</td>\n",
       "      <td>0.180</td>\n",
       "      <td>0.207</td>\n",
       "      <td>0.021</td>\n",
       "      <td>-4.463</td>\n",
       "    </tr>\n",
       "    <tr>\n",
       "      <th>2022-11-01</th>\n",
       "      <td>1.352</td>\n",
       "      <td>1.478</td>\n",
       "      <td>3.865</td>\n",
       "      <td>3.104</td>\n",
       "      <td>0.180</td>\n",
       "      <td>0.182</td>\n",
       "      <td>-0.108</td>\n",
       "      <td>-4.494</td>\n",
       "    </tr>\n",
       "    <tr>\n",
       "      <th>2022-12-01</th>\n",
       "      <td>0.886</td>\n",
       "      <td>1.433</td>\n",
       "      <td>3.180</td>\n",
       "      <td>2.753</td>\n",
       "      <td>0.182</td>\n",
       "      <td>0.190</td>\n",
       "      <td>-0.466</td>\n",
       "      <td>-4.525</td>\n",
       "    </tr>\n",
       "    <tr>\n",
       "      <th>2023-01-01</th>\n",
       "      <td>1.334</td>\n",
       "      <td>1.433</td>\n",
       "      <td>3.429</td>\n",
       "      <td>2.987</td>\n",
       "      <td>0.182</td>\n",
       "      <td>0.181</td>\n",
       "      <td>0.448</td>\n",
       "      <td>-4.556</td>\n",
       "    </tr>\n",
       "  </tbody>\n",
       "</table>\n",
       "</div>"
      ],
      "text/plain": [
       "            utility_Michigan  Utility_Texas  Gasoloine_Michigan  \\\n",
       "Date                                                              \n",
       "2022-09-01             1.439          1.405               4.035   \n",
       "2022-10-01             1.460          1.405               4.147   \n",
       "2022-11-01             1.352          1.478               3.865   \n",
       "2022-12-01             0.886          1.433               3.180   \n",
       "2023-01-01             1.334          1.433               3.429   \n",
       "\n",
       "            Gasoline_Texas  Electricity_michigan  Electricity_texas  \\\n",
       "Date                                                                  \n",
       "2022-09-01           3.169                 0.188              0.241   \n",
       "2022-10-01           3.222                 0.180              0.207   \n",
       "2022-11-01           3.104                 0.180              0.182   \n",
       "2022-12-01           2.753                 0.182              0.190   \n",
       "2023-01-01           2.987                 0.182              0.181   \n",
       "\n",
       "            utility Michigan First Difference  Predicted_ARIMA  \n",
       "Date                                                            \n",
       "2022-09-01                              0.094           -4.432  \n",
       "2022-10-01                              0.021           -4.463  \n",
       "2022-11-01                             -0.108           -4.494  \n",
       "2022-12-01                             -0.466           -4.525  \n",
       "2023-01-01                              0.448           -4.556  "
      ]
     },
     "execution_count": 227,
     "metadata": {},
     "output_type": "execute_result"
    }
   ],
   "source": [
    "test_data.tail()"
   ]
  },
  {
   "cell_type": "code",
   "execution_count": 228,
   "id": "969d5125",
   "metadata": {},
   "outputs": [
    {
     "name": "stdout",
     "output_type": "stream",
     "text": [
      "2008-02-01 00:00:00\n",
      "2023-01-01 00:00:00\n"
     ]
    }
   ],
   "source": [
    "##prediction\n",
    "pred_start_date=test_data.index[0]\n",
    "pred_end_date=test_data.index[-1]\n",
    "print(pred_start_date)\n",
    "print(pred_end_date)"
   ]
  },
  {
   "cell_type": "code",
   "execution_count": 229,
   "id": "e878db2b",
   "metadata": {},
   "outputs": [],
   "source": [
    "pred_Sarima=model_SARIMA_fit.predict(start=datetime(2008,6,6),end=datetime(2023,12,1))\n",
    "residuals=test_data['utility_Michigan']-pred_Sarima"
   ]
  },
  {
   "cell_type": "code",
   "execution_count": 230,
   "id": "78331576",
   "metadata": {},
   "outputs": [
    {
     "data": {
      "text/plain": [
       "<AxesSubplot: xlabel='Date'>"
      ]
     },
     "execution_count": 230,
     "metadata": {},
     "output_type": "execute_result"
    },
    {
     "data": {
      "image/png": "[encoded data removed]",
      "text/plain": [
       "<Figure size 640x480 with 1 Axes>"
      ]
     },
     "metadata": {},
     "output_type": "display_data"
    }
   ],
   "source": [
    "model_SARIMA_fit.resid.plot()"
   ]
  },
  {
   "cell_type": "code",
   "execution_count": 231,
   "id": "f76d1c48",
   "metadata": {},
   "outputs": [
    {
     "data": {
      "text/plain": [
       "<AxesSubplot: ylabel='Density'>"
      ]
     },
     "execution_count": 231,
     "metadata": {},
     "output_type": "execute_result"
    },
    {
     "data": {
      "image/png": "[encoded data removed]",
      "text/plain": [
       "<Figure size 640x480 with 1 Axes>"
      ]
     },
     "metadata": {},
     "output_type": "display_data"
    }
   ],
   "source": [
    "model_SARIMA_fit.resid.plot(kind='kde')"
   ]
  },
  {
   "cell_type": "code",
   "execution_count": 232,
   "id": "6259d212",
   "metadata": {},
   "outputs": [
    {
     "name": "stderr",
     "output_type": "stream",
     "text": [
      "C:\\Users\\KARTHICK RAJA\\AppData\\Local\\Temp\\ipykernel_27840\\1367177785.py:1: SettingWithCopyWarning: \n",
      "A value is trying to be set on a copy of a slice from a DataFrame.\n",
      "Try using .loc[row_indexer,col_indexer] = value instead\n",
      "\n",
      "See the caveats in the documentation: https://pandas.pydata.org/pandas-docs/stable/user_guide/indexing.html#returning-a-view-versus-a-copy\n",
      "  test_data['Predicted_SARIMA']=pred_Sarima\n"
     ]
    }
   ],
   "source": [
    "test_data['Predicted_SARIMA']=pred_Sarima"
   ]
  },
  {
   "cell_type": "code",
   "execution_count": 233,
   "id": "ce03a685",
   "metadata": {},
   "outputs": [
    {
     "data": {
      "text/html": [
       "<div>\n",
       "<style scoped>\n",
       "    .dataframe tbody tr th:only-of-type {\n",
       "        vertical-align: middle;\n",
       "    }\n",
       "\n",
       "    .dataframe tbody tr th {\n",
       "        vertical-align: top;\n",
       "    }\n",
       "\n",
       "    .dataframe thead th {\n",
       "        text-align: right;\n",
       "    }\n",
       "</style>\n",
       "<table border=\"1\" class=\"dataframe\">\n",
       "  <thead>\n",
       "    <tr style=\"text-align: right;\">\n",
       "      <th></th>\n",
       "      <th>utility_Michigan</th>\n",
       "      <th>Utility_Texas</th>\n",
       "      <th>Gasoloine_Michigan</th>\n",
       "      <th>Gasoline_Texas</th>\n",
       "      <th>Electricity_michigan</th>\n",
       "      <th>Electricity_texas</th>\n",
       "      <th>utility Michigan First Difference</th>\n",
       "      <th>Predicted_ARIMA</th>\n",
       "      <th>Predicted_SARIMA</th>\n",
       "    </tr>\n",
       "    <tr>\n",
       "      <th>Date</th>\n",
       "      <th></th>\n",
       "      <th></th>\n",
       "      <th></th>\n",
       "      <th></th>\n",
       "      <th></th>\n",
       "      <th></th>\n",
       "      <th></th>\n",
       "      <th></th>\n",
       "      <th></th>\n",
       "    </tr>\n",
       "  </thead>\n",
       "  <tbody>\n",
       "    <tr>\n",
       "      <th>2008-02-01</th>\n",
       "      <td>1.026</td>\n",
       "      <td>1.478</td>\n",
       "      <td>3.125</td>\n",
       "      <td>2.983</td>\n",
       "      <td>0.111</td>\n",
       "      <td>0.133</td>\n",
       "      <td>0.002</td>\n",
       "      <td>0.993</td>\n",
       "      <td>NaN</td>\n",
       "    </tr>\n",
       "    <tr>\n",
       "      <th>2008-03-01</th>\n",
       "      <td>1.111</td>\n",
       "      <td>1.478</td>\n",
       "      <td>3.336</td>\n",
       "      <td>3.206</td>\n",
       "      <td>0.111</td>\n",
       "      <td>0.133</td>\n",
       "      <td>0.085</td>\n",
       "      <td>0.962</td>\n",
       "      <td>NaN</td>\n",
       "    </tr>\n",
       "    <tr>\n",
       "      <th>2008-04-01</th>\n",
       "      <td>1.260</td>\n",
       "      <td>1.478</td>\n",
       "      <td>3.582</td>\n",
       "      <td>3.406</td>\n",
       "      <td>0.112</td>\n",
       "      <td>0.135</td>\n",
       "      <td>0.149</td>\n",
       "      <td>0.931</td>\n",
       "      <td>NaN</td>\n",
       "    </tr>\n",
       "    <tr>\n",
       "      <th>2008-05-01</th>\n",
       "      <td>1.261</td>\n",
       "      <td>1.478</td>\n",
       "      <td>4.005</td>\n",
       "      <td>3.689</td>\n",
       "      <td>0.105</td>\n",
       "      <td>0.136</td>\n",
       "      <td>0.001</td>\n",
       "      <td>0.900</td>\n",
       "      <td>NaN</td>\n",
       "    </tr>\n",
       "    <tr>\n",
       "      <th>2008-06-01</th>\n",
       "      <td>1.272</td>\n",
       "      <td>1.339</td>\n",
       "      <td>4.112</td>\n",
       "      <td>3.951</td>\n",
       "      <td>0.115</td>\n",
       "      <td>0.161</td>\n",
       "      <td>0.011</td>\n",
       "      <td>0.869</td>\n",
       "      <td>NaN</td>\n",
       "    </tr>\n",
       "    <tr>\n",
       "      <th>...</th>\n",
       "      <td>...</td>\n",
       "      <td>...</td>\n",
       "      <td>...</td>\n",
       "      <td>...</td>\n",
       "      <td>...</td>\n",
       "      <td>...</td>\n",
       "      <td>...</td>\n",
       "      <td>...</td>\n",
       "      <td>...</td>\n",
       "    </tr>\n",
       "    <tr>\n",
       "      <th>2022-09-01</th>\n",
       "      <td>1.439</td>\n",
       "      <td>1.405</td>\n",
       "      <td>4.035</td>\n",
       "      <td>3.169</td>\n",
       "      <td>0.188</td>\n",
       "      <td>0.241</td>\n",
       "      <td>0.094</td>\n",
       "      <td>-4.432</td>\n",
       "      <td>0.957879</td>\n",
       "    </tr>\n",
       "    <tr>\n",
       "      <th>2022-10-01</th>\n",
       "      <td>1.460</td>\n",
       "      <td>1.405</td>\n",
       "      <td>4.147</td>\n",
       "      <td>3.222</td>\n",
       "      <td>0.180</td>\n",
       "      <td>0.207</td>\n",
       "      <td>0.021</td>\n",
       "      <td>-4.463</td>\n",
       "      <td>0.943156</td>\n",
       "    </tr>\n",
       "    <tr>\n",
       "      <th>2022-11-01</th>\n",
       "      <td>1.352</td>\n",
       "      <td>1.478</td>\n",
       "      <td>3.865</td>\n",
       "      <td>3.104</td>\n",
       "      <td>0.180</td>\n",
       "      <td>0.182</td>\n",
       "      <td>-0.108</td>\n",
       "      <td>-4.494</td>\n",
       "      <td>0.948097</td>\n",
       "    </tr>\n",
       "    <tr>\n",
       "      <th>2022-12-01</th>\n",
       "      <td>0.886</td>\n",
       "      <td>1.433</td>\n",
       "      <td>3.180</td>\n",
       "      <td>2.753</td>\n",
       "      <td>0.182</td>\n",
       "      <td>0.190</td>\n",
       "      <td>-0.466</td>\n",
       "      <td>-4.525</td>\n",
       "      <td>0.968448</td>\n",
       "    </tr>\n",
       "    <tr>\n",
       "      <th>2023-01-01</th>\n",
       "      <td>1.334</td>\n",
       "      <td>1.433</td>\n",
       "      <td>3.429</td>\n",
       "      <td>2.987</td>\n",
       "      <td>0.182</td>\n",
       "      <td>0.181</td>\n",
       "      <td>0.448</td>\n",
       "      <td>-4.556</td>\n",
       "      <td>0.957428</td>\n",
       "    </tr>\n",
       "  </tbody>\n",
       "</table>\n",
       "<p>180 rows × 9 columns</p>\n",
       "</div>"
      ],
      "text/plain": [
       "            utility_Michigan  Utility_Texas  Gasoloine_Michigan  \\\n",
       "Date                                                              \n",
       "2008-02-01             1.026          1.478               3.125   \n",
       "2008-03-01             1.111          1.478               3.336   \n",
       "2008-04-01             1.260          1.478               3.582   \n",
       "2008-05-01             1.261          1.478               4.005   \n",
       "2008-06-01             1.272          1.339               4.112   \n",
       "...                      ...            ...                 ...   \n",
       "2022-09-01             1.439          1.405               4.035   \n",
       "2022-10-01             1.460          1.405               4.147   \n",
       "2022-11-01             1.352          1.478               3.865   \n",
       "2022-12-01             0.886          1.433               3.180   \n",
       "2023-01-01             1.334          1.433               3.429   \n",
       "\n",
       "            Gasoline_Texas  Electricity_michigan  Electricity_texas  \\\n",
       "Date                                                                  \n",
       "2008-02-01           2.983                 0.111              0.133   \n",
       "2008-03-01           3.206                 0.111              0.133   \n",
       "2008-04-01           3.406                 0.112              0.135   \n",
       "2008-05-01           3.689                 0.105              0.136   \n",
       "2008-06-01           3.951                 0.115              0.161   \n",
       "...                    ...                   ...                ...   \n",
       "2022-09-01           3.169                 0.188              0.241   \n",
       "2022-10-01           3.222                 0.180              0.207   \n",
       "2022-11-01           3.104                 0.180              0.182   \n",
       "2022-12-01           2.753                 0.182              0.190   \n",
       "2023-01-01           2.987                 0.182              0.181   \n",
       "\n",
       "            utility Michigan First Difference  Predicted_ARIMA  \\\n",
       "Date                                                             \n",
       "2008-02-01                              0.002            0.993   \n",
       "2008-03-01                              0.085            0.962   \n",
       "2008-04-01                              0.149            0.931   \n",
       "2008-05-01                              0.001            0.900   \n",
       "2008-06-01                              0.011            0.869   \n",
       "...                                       ...              ...   \n",
       "2022-09-01                              0.094           -4.432   \n",
       "2022-10-01                              0.021           -4.463   \n",
       "2022-11-01                             -0.108           -4.494   \n",
       "2022-12-01                             -0.466           -4.525   \n",
       "2023-01-01                              0.448           -4.556   \n",
       "\n",
       "            Predicted_SARIMA  \n",
       "Date                          \n",
       "2008-02-01               NaN  \n",
       "2008-03-01               NaN  \n",
       "2008-04-01               NaN  \n",
       "2008-05-01               NaN  \n",
       "2008-06-01               NaN  \n",
       "...                      ...  \n",
       "2022-09-01          0.957879  \n",
       "2022-10-01          0.943156  \n",
       "2022-11-01          0.948097  \n",
       "2022-12-01          0.968448  \n",
       "2023-01-01          0.957428  \n",
       "\n",
       "[180 rows x 9 columns]"
      ]
     },
     "execution_count": 233,
     "metadata": {},
     "output_type": "execute_result"
    }
   ],
   "source": [
    "test_data"
   ]
  },
  {
   "cell_type": "code",
   "execution_count": 234,
   "id": "5878168b",
   "metadata": {},
   "outputs": [
    {
     "data": {
      "text/plain": [
       "<AxesSubplot: xlabel='Date'>"
      ]
     },
     "execution_count": 234,
     "metadata": {},
     "output_type": "execute_result"
    },
    {
     "data": {
      "image/png": "[encoded data removed]",
      "text/plain": [
       "<Figure size 640x480 with 1 Axes>"
      ]
     },
     "metadata": {},
     "output_type": "display_data"
    }
   ],
   "source": [
    "test_data[['utility_Michigan','Predicted_SARIMA','Predicted_ARIMA']].plot()"
   ]
  },
  {
   "cell_type": "code",
   "execution_count": null,
   "id": "8fc9a7f1",
   "metadata": {},
   "outputs": [],
   "source": []
  },
  {
   "cell_type": "code",
   "execution_count": null,
   "id": "c290e1c4",
   "metadata": {},
   "outputs": [],
   "source": []
  },
  {
   "cell_type": "code",
   "execution_count": null,
   "id": "57143555",
   "metadata": {},
   "outputs": [],
   "source": []
  },
  {
   "cell_type": "code",
   "execution_count": null,
   "id": "6fd8b405",
   "metadata": {},
   "outputs": [],
   "source": []
  },
  {
   "cell_type": "code",
   "execution_count": null,
   "id": "1a6fc1dc",
   "metadata": {},
   "outputs": [],
   "source": []
  },
  {
   "cell_type": "code",
   "execution_count": null,
   "id": "dabc24ff",
   "metadata": {},
   "outputs": [],
   "source": []
  },
  {
   "cell_type": "code",
   "execution_count": null,
   "id": "d54b97f1",
   "metadata": {},
   "outputs": [],
   "source": []
  },
  {
   "cell_type": "code",
   "execution_count": null,
   "id": "8beccf73",
   "metadata": {},
   "outputs": [],
   "source": []
  },
  {
   "cell_type": "code",
   "execution_count": null,
   "id": "a14d5a29",
   "metadata": {},
   "outputs": [],
   "source": []
  },
  {
   "cell_type": "code",
   "execution_count": null,
   "id": "1ab6ae57",
   "metadata": {},
   "outputs": [],
   "source": []
  },
  {
   "cell_type": "code",
   "execution_count": null,
   "id": "6a3a5b6d",
   "metadata": {},
   "outputs": [],
   "source": []
  },
  {
   "cell_type": "code",
   "execution_count": null,
   "id": "bfbfe965",
   "metadata": {},
   "outputs": [],
   "source": []
  },
  {
   "cell_type": "code",
   "execution_count": null,
   "id": "d74a1cd3",
   "metadata": {},
   "outputs": [],
   "source": []
  },
  {
   "cell_type": "code",
   "execution_count": null,
   "id": "8b21d863",
   "metadata": {},
   "outputs": [],
   "source": []
  },
  {
   "cell_type": "code",
   "execution_count": null,
   "id": "d8b6719b",
   "metadata": {},
   "outputs": [],
   "source": []
  },
  {
   "cell_type": "code",
   "execution_count": null,
   "id": "cb530c49",
   "metadata": {},
   "outputs": [],
   "source": []
  },
  {
   "cell_type": "code",
   "execution_count": null,
   "id": "16e4c1d1",
   "metadata": {},
   "outputs": [],
   "source": []
  },
  {
   "cell_type": "code",
   "execution_count": null,
   "id": "fdadf2bb",
   "metadata": {},
   "outputs": [],
   "source": []
  },
  {
   "cell_type": "code",
   "execution_count": null,
   "id": "c1816706",
   "metadata": {},
   "outputs": [],
   "source": []
  },
  {
   "cell_type": "code",
   "execution_count": null,
   "id": "fc50b88d",
   "metadata": {},
   "outputs": [],
   "source": []
  },
  {
   "cell_type": "code",
   "execution_count": null,
   "id": "3ff80c28",
   "metadata": {},
   "outputs": [],
   "source": []
  },
  {
   "cell_type": "code",
   "execution_count": null,
   "id": "e17db39b",
   "metadata": {},
   "outputs": [],
   "source": []
  },
  {
   "cell_type": "code",
   "execution_count": null,
   "id": "de5e9342",
   "metadata": {},
   "outputs": [],
   "source": []
  },
  {
   "cell_type": "code",
   "execution_count": null,
   "id": "510b5feb",
   "metadata": {},
   "outputs": [],
   "source": []
  },
  {
   "cell_type": "code",
   "execution_count": null,
   "id": "f8e7b291",
   "metadata": {},
   "outputs": [],
   "source": []
  },
  {
   "cell_type": "code",
   "execution_count": null,
   "id": "9891a68d",
   "metadata": {},
   "outputs": [],
   "source": []
  },
  {
   "cell_type": "code",
   "execution_count": null,
   "id": "d4a3bd2f",
   "metadata": {},
   "outputs": [],
   "source": []
  },
  {
   "cell_type": "code",
   "execution_count": null,
   "id": "dfa588e4",
   "metadata": {},
   "outputs": [],
   "source": []
  },
  {
   "cell_type": "code",
   "execution_count": null,
   "id": "7a8b5680",
   "metadata": {},
   "outputs": [],
   "source": []
  },
  {
   "cell_type": "code",
   "execution_count": null,
   "id": "55e6251b",
   "metadata": {},
   "outputs": [],
   "source": []
  },
  {
   "cell_type": "code",
   "execution_count": null,
   "id": "094c21d2",
   "metadata": {},
   "outputs": [],
   "source": []
  },
  {
   "cell_type": "code",
   "execution_count": null,
   "id": "b593e157-0b6c-43eb-8916-ef87e6d0b40e",
   "metadata": {},
   "outputs": [],
   "source": []
  }
 ],
 "metadata": {
  "kernelspec": {
   "display_name": "Python 3 (ipykernel)",
   "language": "python",
   "name": "python3"
  },
  "language_info": {
   "codemirror_mode": {
    "name": "ipython",
    "version": 3
   },
   "file_extension": ".py",
   "mimetype": "text/x-python",
   "name": "python",
   "nbconvert_exporter": "python",
   "pygments_lexer": "ipython3",
   "version": "3.10.8"
  }
 },
 "nbformat": 4,
 "nbformat_minor": 5
}
